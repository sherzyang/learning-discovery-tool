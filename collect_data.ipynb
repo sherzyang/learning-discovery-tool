{
 "cells": [
  {
   "cell_type": "code",
   "execution_count": null,
   "metadata": {},
   "outputs": [],
   "source": [
    "%load_ext autoreload\n",
    "%autoreload 2"
   ]
  },
  {
   "cell_type": "code",
   "execution_count": null,
   "metadata": {},
   "outputs": [],
   "source": [
    "import wikipedia\n",
    "import wikipediaapi\n",
    "\n",
    "from scrape_to_mongodb import (fetch_article, collect_articles)"
   ]
  },
  {
   "cell_type": "code",
   "execution_count": null,
   "metadata": {},
   "outputs": [],
   "source": [
    "drink_list = wikipedia.search(\"drink\", results=1000)\n",
    "food_list = wikipedia.search(\"food\", results=1000)\n",
    "ancient_list = wikipedia.search(\"ancient\", results=1000)\n",
    "transportation_list = wikipedia.search(\"transportation\", results=1000)\n",
    "shows_list = wikipedia.search(\"shows\", results=1000)\n",
    "music_list = wikipedia.search(\"music\", results=1000)\n",
    "actors_list = wikipedia.search(\"actors\", results=1000)\n",
    "movies_list = wikipedia.search(\"movies\", results=1000)\n",
    "finance_list = wikipedia.search(\"finance\", results=1000)\n",
    "#\n",
    "language_list = wikipedia.search(\"language\", results=1000)\n",
    "nature_list = wikipedia.search(\"nature\", results=1000)\n",
    "environment_list = wikipedia.search(\"environment\", results=1000)\n",
    "history_list = wikipedia.search(\"history\", results=1000)\n",
    "econ_list = wikipedia.search(\"economics\", results=1000)\n",
    "nature_list = wikipedia.search(\"nature\", results=1000)\n",
    "lit_list = wikipedia.search(\"literature\", results=1000)\n",
    "psych_list = wikipedia.search(\"psychology\", results=1000)\n",
    "behavioral = wikipedia.search(\"behavioral\", results=1000)\n",
    "global_list = wikipedia.search(\"global\", results=1000)\n",
    "cities_list = wikipedia.search(\"cities\", results=1000)\n",
    "anthropology = wikipedia.search(\"anthropology\", results=1000)\n",
    "#\n",
    "art_culture = wikipedia.search(\"art culture\", results=1000)\n",
    "geo_places = wikipedia.search(\"geography places\", results=1000)\n",
    "health_fit = wikipedia.search(\"health fitness\", results=1000)\n",
    "history_events = wikipedia.search(\"history events\", results=1000)\n",
    "math = wikipedia.search(\"mathematics abstractions\", results=1000)\n",
    "natural_science = wikipedia.search(\"natural sciences nature\", results=1000)\n",
    "people_self = wikipedia.search(\"people self\", results=1000)\n",
    "philosophy = wikipedia.search(\"philosophy thinking\", results=1000)\n",
    "religion = wikipedia.search(\"religion spirituality\", results=1000)\n",
    "social_society = wikipedia.search(\"social sciences society\", results=1000)\n",
    "tech = wikipedia.search(\"technology applied sciences\", results=1000)"
   ]
  },
  {
   "cell_type": "code",
   "execution_count": null,
   "metadata": {},
   "outputs": [],
   "source": [
    "all_articles = (art_culture + geo_places + health_fit + history_events + \n",
    "                math + natural_science + people_self + philosophy + religion\n",
    "                + social_society + tech + anthropology + cities_list + global_list\n",
    "                + behavioral + psych_list + lit_list + nature_list + econ_list \n",
    "                + history_list + environment_list + nature_list + language_list\n",
    "                + finance_list + movies_list + actors_list + music_list + shows_list\n",
    "                + transportation_list + ancient_list + food_list + drink_list)"
   ]
  },
  {
   "cell_type": "code",
   "execution_count": null,
   "metadata": {},
   "outputs": [],
   "source": [
    "all_articles_unique = list(set(all_articles))"
   ]
  },
  {
   "cell_type": "code",
   "execution_count": null,
   "metadata": {},
   "outputs": [],
   "source": [
    "# import pickle\n",
    "# with open('data/unique_articles.pkl', 'wb') as f:\n",
    "#     pickle.dump(all_articles_unique, f)"
   ]
  },
  {
   "cell_type": "code",
   "execution_count": null,
   "metadata": {},
   "outputs": [],
   "source": [
    "# ! python scrape_to_mongodb.py"
   ]
  },
  {
   "cell_type": "markdown",
   "metadata": {},
   "source": [
    "## Clean_df creation"
   ]
  },
  {
   "cell_type": "code",
   "execution_count": 1,
   "metadata": {},
   "outputs": [],
   "source": [
    "import pickle\n",
    "import os\n",
    "import requests\n",
    "from flask import Flask, request, render_template, jsonify\n",
    "\n",
    "import numpy as np\n",
    "import pandas as pd\n",
    "import textstat\n",
    "from sklearn.feature_extraction.text import TfidfVectorizer\n",
    "from scipy.spatial.distance import cosine, cdist\n",
    "\n",
    "import gensim\n",
    "import operator\n",
    "from operator import itemgetter"
   ]
  },
  {
   "cell_type": "code",
   "execution_count": 2,
   "metadata": {},
   "outputs": [],
   "source": [
    "import pymongo\n",
    "from pymongo import MongoClient\n",
    "\n",
    "mc = pymongo.MongoClient()\n",
    "db = mc['wikicache']\n",
    "articles = db['articles']"
   ]
  },
  {
   "cell_type": "code",
   "execution_count": 3,
   "metadata": {},
   "outputs": [],
   "source": [
    "data = list(articles.find())\n",
    "clean_df = pd.DataFrame(data)\n"
   ]
  },
  {
   "cell_type": "code",
   "execution_count": 4,
   "metadata": {
    "scrolled": true
   },
   "outputs": [
    {
     "data": {
      "text/html": [
       "<div>\n",
       "<style scoped>\n",
       "    .dataframe tbody tr th:only-of-type {\n",
       "        vertical-align: middle;\n",
       "    }\n",
       "\n",
       "    .dataframe tbody tr th {\n",
       "        vertical-align: top;\n",
       "    }\n",
       "\n",
       "    .dataframe thead th {\n",
       "        text-align: right;\n",
       "    }\n",
       "</style>\n",
       "<table border=\"1\" class=\"dataframe\">\n",
       "  <thead>\n",
       "    <tr style=\"text-align: right;\">\n",
       "      <th></th>\n",
       "      <th>_id</th>\n",
       "      <th>summary</th>\n",
       "      <th>text</th>\n",
       "      <th>title</th>\n",
       "      <th>url</th>\n",
       "    </tr>\n",
       "  </thead>\n",
       "  <tbody>\n",
       "    <tr>\n",
       "      <th>0</th>\n",
       "      <td>5d1fc2f4258b4b335c5b2093</td>\n",
       "      <td>Avans University of Applied Sciences (Dutch: A...</td>\n",
       "      <td>Avans University of Applied Sciences (Dutch: A...</td>\n",
       "      <td>Avans University of Applied Sciences</td>\n",
       "      <td>https://en.wikipedia.org/wiki/Avans_University...</td>\n",
       "    </tr>\n",
       "    <tr>\n",
       "      <th>1</th>\n",
       "      <td>5d1fc2f5258b4b335c5b2094</td>\n",
       "      <td>Guy de Lussigny (30 August 1929 in Cambrai, no...</td>\n",
       "      <td>Guy de Lussigny (30 August 1929 in Cambrai, no...</td>\n",
       "      <td>Guy de Lussigny</td>\n",
       "      <td>https://en.wikipedia.org/wiki/Guy_de_Lussigny</td>\n",
       "    </tr>\n",
       "    <tr>\n",
       "      <th>2</th>\n",
       "      <td>5d1fc2f6258b4b335c5b2095</td>\n",
       "      <td>In literature, a trope is a common plot conven...</td>\n",
       "      <td>In literature, a trope is a common plot conven...</td>\n",
       "      <td>Trope (literature)</td>\n",
       "      <td>https://en.wikipedia.org/wiki/Trope_(literature)</td>\n",
       "    </tr>\n",
       "    <tr>\n",
       "      <th>3</th>\n",
       "      <td>5d1fc2f6258b4b335c5b2096</td>\n",
       "      <td>The Global Television Network (more commonly c...</td>\n",
       "      <td>The Global Television Network (more commonly c...</td>\n",
       "      <td>Global Television Network</td>\n",
       "      <td>https://en.wikipedia.org/wiki/Global_Televisio...</td>\n",
       "    </tr>\n",
       "    <tr>\n",
       "      <th>4</th>\n",
       "      <td>5d1fc2f7258b4b335c5b2097</td>\n",
       "      <td>Nickelodeon Guts (stylized as Nickelodeon GUTS...</td>\n",
       "      <td>Nickelodeon Guts (stylized as Nickelodeon GUTS...</td>\n",
       "      <td>Nickelodeon Guts</td>\n",
       "      <td>https://en.wikipedia.org/wiki/Nickelodeon_Guts</td>\n",
       "    </tr>\n",
       "  </tbody>\n",
       "</table>\n",
       "</div>"
      ],
      "text/plain": [
       "                        _id  \\\n",
       "0  5d1fc2f4258b4b335c5b2093   \n",
       "1  5d1fc2f5258b4b335c5b2094   \n",
       "2  5d1fc2f6258b4b335c5b2095   \n",
       "3  5d1fc2f6258b4b335c5b2096   \n",
       "4  5d1fc2f7258b4b335c5b2097   \n",
       "\n",
       "                                             summary  \\\n",
       "0  Avans University of Applied Sciences (Dutch: A...   \n",
       "1  Guy de Lussigny (30 August 1929 in Cambrai, no...   \n",
       "2  In literature, a trope is a common plot conven...   \n",
       "3  The Global Television Network (more commonly c...   \n",
       "4  Nickelodeon Guts (stylized as Nickelodeon GUTS...   \n",
       "\n",
       "                                                text  \\\n",
       "0  Avans University of Applied Sciences (Dutch: A...   \n",
       "1  Guy de Lussigny (30 August 1929 in Cambrai, no...   \n",
       "2  In literature, a trope is a common plot conven...   \n",
       "3  The Global Television Network (more commonly c...   \n",
       "4  Nickelodeon Guts (stylized as Nickelodeon GUTS...   \n",
       "\n",
       "                                  title  \\\n",
       "0  Avans University of Applied Sciences   \n",
       "1                       Guy de Lussigny   \n",
       "2                    Trope (literature)   \n",
       "3             Global Television Network   \n",
       "4                      Nickelodeon Guts   \n",
       "\n",
       "                                                 url  \n",
       "0  https://en.wikipedia.org/wiki/Avans_University...  \n",
       "1      https://en.wikipedia.org/wiki/Guy_de_Lussigny  \n",
       "2   https://en.wikipedia.org/wiki/Trope_(literature)  \n",
       "3  https://en.wikipedia.org/wiki/Global_Televisio...  \n",
       "4     https://en.wikipedia.org/wiki/Nickelodeon_Guts  "
      ]
     },
     "execution_count": 4,
     "metadata": {},
     "output_type": "execute_result"
    }
   ],
   "source": [
    "clean_df.head()"
   ]
  },
  {
   "cell_type": "code",
   "execution_count": 13,
   "metadata": {},
   "outputs": [
    {
     "data": {
      "text/plain": [
       "0                     Avans University of Applied Sciences\n",
       "1                                          Guy de Lussigny\n",
       "2                                       Trope (literature)\n",
       "3                                Global Television Network\n",
       "4                                         Nickelodeon Guts\n",
       "5                                Theatre of ancient Greece\n",
       "6                                       Bliss point (food)\n",
       "7                      Transportation theory (mathematics)\n",
       "8        Department of Planning and Environment (New So...\n",
       "9               Capital University of Science & Technology\n",
       "10                                       Itasca State Park\n",
       "11       University of International Business and Econo...\n",
       "12                                         Global Tel Link\n",
       "13                                          Caucasian race\n",
       "14                                          Actors Theater\n",
       "15                               Indian Actors Association\n",
       "16                                             Star Movies\n",
       "17                                 Sioux City (soft drink)\n",
       "18                                               Heuristic\n",
       "19                                          Counterculture\n",
       "20                         List of cities in Guinea-Bissau\n",
       "21             Infrastructure Leasing & Financial Services\n",
       "22                                  Libra (cryptocurrency)\n",
       "23       Journal of Occupational and Organizational Psy...\n",
       "24                                    Malayalam literature\n",
       "25                                      Nature documentary\n",
       "26                                         Classical music\n",
       "27         Kawasaki Heavy Industries Rolling Stock Company\n",
       "28                                       Political science\n",
       "29                                        Social structure\n",
       "                               ...                        \n",
       "11948                                            World Fit\n",
       "11949    List of U.S. cities with large Vietnamese-Amer...\n",
       "11950                                         Prain Global\n",
       "11951                              Bouchard Transportation\n",
       "11952                                    Aging and society\n",
       "11953                                            Ectotherm\n",
       "11954                                    Giant Food Stores\n",
       "11955                                               Egoism\n",
       "11956                                           Steve Kamb\n",
       "11957                                        Hilbert space\n",
       "11958                               Avanti (Ancient India)\n",
       "11959                                            Raj Arjun\n",
       "11960                                    Almost everywhere\n",
       "11961                                       Food challenge\n",
       "11962                                            Hot toddy\n",
       "11963                                     Health education\n",
       "11964                    List of films featuring dinosaurs\n",
       "11965                          The Late Late Tribute Shows\n",
       "11966                    Virginia Museum of Transportation\n",
       "11967                                       Goodhart's law\n",
       "11968                                      Milonga (music)\n",
       "11969                                      Force of nature\n",
       "11970                      Adobe Photoshop version history\n",
       "11971                                           Nominalism\n",
       "11972                                       Bolt (company)\n",
       "11973                         Index of branches of science\n",
       "11974                               Anthropology in Action\n",
       "11975                                      Social equality\n",
       "11976                                Feminist anthropology\n",
       "11977                                    Mood (psychology)\n",
       "Name: title, Length: 11978, dtype: object"
      ]
     },
     "execution_count": 13,
     "metadata": {},
     "output_type": "execute_result"
    }
   ],
   "source": [
    "clean_df['title']"
   ]
  },
  {
   "cell_type": "code",
   "execution_count": 5,
   "metadata": {},
   "outputs": [
    {
     "data": {
      "text/plain": [
       "11978"
      ]
     },
     "execution_count": 5,
     "metadata": {},
     "output_type": "execute_result"
    }
   ],
   "source": [
    "len(clean_df['text'])"
   ]
  },
  {
   "cell_type": "code",
   "execution_count": 33,
   "metadata": {},
   "outputs": [],
   "source": [
    "clean_text = clean_df['text'].tolist()"
   ]
  },
  {
   "cell_type": "code",
   "execution_count": 38,
   "metadata": {},
   "outputs": [
    {
     "data": {
      "text/plain": [
       "11978"
      ]
     },
     "execution_count": 38,
     "metadata": {},
     "output_type": "execute_result"
    }
   ],
   "source": [
    "len(clean_text)"
   ]
  },
  {
   "cell_type": "code",
   "execution_count": 40,
   "metadata": {},
   "outputs": [],
   "source": [
    "complexity = [textstat.flesch_kincaid_grade(doc) for doc in clean_text]"
   ]
  },
  {
   "cell_type": "code",
   "execution_count": 42,
   "metadata": {},
   "outputs": [],
   "source": [
    "clean_df['score'] = pd.Series(complexity)"
   ]
  },
  {
   "cell_type": "code",
   "execution_count": 43,
   "metadata": {},
   "outputs": [
    {
     "data": {
      "text/html": [
       "<div>\n",
       "<style scoped>\n",
       "    .dataframe tbody tr th:only-of-type {\n",
       "        vertical-align: middle;\n",
       "    }\n",
       "\n",
       "    .dataframe tbody tr th {\n",
       "        vertical-align: top;\n",
       "    }\n",
       "\n",
       "    .dataframe thead th {\n",
       "        text-align: right;\n",
       "    }\n",
       "</style>\n",
       "<table border=\"1\" class=\"dataframe\">\n",
       "  <thead>\n",
       "    <tr style=\"text-align: right;\">\n",
       "      <th></th>\n",
       "      <th>_id</th>\n",
       "      <th>summary</th>\n",
       "      <th>text</th>\n",
       "      <th>title</th>\n",
       "      <th>url</th>\n",
       "      <th>score</th>\n",
       "    </tr>\n",
       "  </thead>\n",
       "  <tbody>\n",
       "    <tr>\n",
       "      <th>0</th>\n",
       "      <td>5d1fc2f4258b4b335c5b2093</td>\n",
       "      <td>Avans University of Applied Sciences (Dutch: A...</td>\n",
       "      <td>Avans University of Applied Sciences (Dutch: A...</td>\n",
       "      <td>Avans University of Applied Sciences</td>\n",
       "      <td>https://en.wikipedia.org/wiki/Avans_University...</td>\n",
       "      <td>18.0</td>\n",
       "    </tr>\n",
       "    <tr>\n",
       "      <th>1</th>\n",
       "      <td>5d1fc2f5258b4b335c5b2094</td>\n",
       "      <td>Guy de Lussigny (30 August 1929 in Cambrai, no...</td>\n",
       "      <td>Guy de Lussigny (30 August 1929 in Cambrai, no...</td>\n",
       "      <td>Guy de Lussigny</td>\n",
       "      <td>https://en.wikipedia.org/wiki/Guy_de_Lussigny</td>\n",
       "      <td>25.1</td>\n",
       "    </tr>\n",
       "    <tr>\n",
       "      <th>2</th>\n",
       "      <td>5d1fc2f6258b4b335c5b2095</td>\n",
       "      <td>In literature, a trope is a common plot conven...</td>\n",
       "      <td>In literature, a trope is a common plot conven...</td>\n",
       "      <td>Trope (literature)</td>\n",
       "      <td>https://en.wikipedia.org/wiki/Trope_(literature)</td>\n",
       "      <td>16.6</td>\n",
       "    </tr>\n",
       "    <tr>\n",
       "      <th>3</th>\n",
       "      <td>5d1fc2f6258b4b335c5b2096</td>\n",
       "      <td>The Global Television Network (more commonly c...</td>\n",
       "      <td>The Global Television Network (more commonly c...</td>\n",
       "      <td>Global Television Network</td>\n",
       "      <td>https://en.wikipedia.org/wiki/Global_Televisio...</td>\n",
       "      <td>15.0</td>\n",
       "    </tr>\n",
       "    <tr>\n",
       "      <th>4</th>\n",
       "      <td>5d1fc2f7258b4b335c5b2097</td>\n",
       "      <td>Nickelodeon Guts (stylized as Nickelodeon GUTS...</td>\n",
       "      <td>Nickelodeon Guts (stylized as Nickelodeon GUTS...</td>\n",
       "      <td>Nickelodeon Guts</td>\n",
       "      <td>https://en.wikipedia.org/wiki/Nickelodeon_Guts</td>\n",
       "      <td>14.4</td>\n",
       "    </tr>\n",
       "  </tbody>\n",
       "</table>\n",
       "</div>"
      ],
      "text/plain": [
       "                        _id  \\\n",
       "0  5d1fc2f4258b4b335c5b2093   \n",
       "1  5d1fc2f5258b4b335c5b2094   \n",
       "2  5d1fc2f6258b4b335c5b2095   \n",
       "3  5d1fc2f6258b4b335c5b2096   \n",
       "4  5d1fc2f7258b4b335c5b2097   \n",
       "\n",
       "                                             summary  \\\n",
       "0  Avans University of Applied Sciences (Dutch: A...   \n",
       "1  Guy de Lussigny (30 August 1929 in Cambrai, no...   \n",
       "2  In literature, a trope is a common plot conven...   \n",
       "3  The Global Television Network (more commonly c...   \n",
       "4  Nickelodeon Guts (stylized as Nickelodeon GUTS...   \n",
       "\n",
       "                                                text  \\\n",
       "0  Avans University of Applied Sciences (Dutch: A...   \n",
       "1  Guy de Lussigny (30 August 1929 in Cambrai, no...   \n",
       "2  In literature, a trope is a common plot conven...   \n",
       "3  The Global Television Network (more commonly c...   \n",
       "4  Nickelodeon Guts (stylized as Nickelodeon GUTS...   \n",
       "\n",
       "                                  title  \\\n",
       "0  Avans University of Applied Sciences   \n",
       "1                       Guy de Lussigny   \n",
       "2                    Trope (literature)   \n",
       "3             Global Television Network   \n",
       "4                      Nickelodeon Guts   \n",
       "\n",
       "                                                 url  score  \n",
       "0  https://en.wikipedia.org/wiki/Avans_University...   18.0  \n",
       "1      https://en.wikipedia.org/wiki/Guy_de_Lussigny   25.1  \n",
       "2   https://en.wikipedia.org/wiki/Trope_(literature)   16.6  \n",
       "3  https://en.wikipedia.org/wiki/Global_Televisio...   15.0  \n",
       "4     https://en.wikipedia.org/wiki/Nickelodeon_Guts   14.4  "
      ]
     },
     "execution_count": 43,
     "metadata": {},
     "output_type": "execute_result"
    }
   ],
   "source": [
    "clean_df.head()"
   ]
  },
  {
   "cell_type": "code",
   "execution_count": 44,
   "metadata": {},
   "outputs": [],
   "source": [
    "# with open('data/clean_df.pkl', 'wb') as f:\n",
    "#     pickle.dump(clean_df, f)"
   ]
  },
  {
   "cell_type": "code",
   "execution_count": null,
   "metadata": {},
   "outputs": [],
   "source": []
  }
 ],
 "metadata": {
  "kernelspec": {
   "display_name": "Python 3",
   "language": "python",
   "name": "python3"
  },
  "language_info": {
   "codemirror_mode": {
    "name": "ipython",
    "version": 3
   },
   "file_extension": ".py",
   "mimetype": "text/x-python",
   "name": "python",
   "nbconvert_exporter": "python",
   "pygments_lexer": "ipython3",
   "version": "3.6.8"
  }
 },
 "nbformat": 4,
 "nbformat_minor": 2
}
