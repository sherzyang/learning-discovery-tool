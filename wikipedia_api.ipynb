{
 "cells": [
  {
   "cell_type": "code",
   "execution_count": 43,
   "metadata": {},
   "outputs": [],
   "source": [
    "import wikipedia\n",
    "import pandas as pd \n",
    "import numpy as np"
   ]
  },
  {
   "cell_type": "code",
   "execution_count": 44,
   "metadata": {},
   "outputs": [],
   "source": [
    "wikipedia.set_lang(\"en\")\n",
    "statistics = wikipedia.search(\"statistics\")"
   ]
  },
  {
   "cell_type": "code",
   "execution_count": 45,
   "metadata": {},
   "outputs": [
    {
     "data": {
      "text/plain": [
       "['Statistics',\n",
       " 'Rape statistics',\n",
       " 'Vital statistics',\n",
       " 'Normalization (statistics)',\n",
       " 'Business statistics',\n",
       " 'Cricket statistics',\n",
       " 'Nonparametric statistics',\n",
       " 'Bootstrapping (statistics)',\n",
       " 'Rafael Nadal career statistics',\n",
       " 'Cohort (statistics)']"
      ]
     },
     "execution_count": 45,
     "metadata": {},
     "output_type": "execute_result"
    }
   ],
   "source": [
    "statistics"
   ]
  },
  {
   "cell_type": "code",
   "execution_count": 46,
   "metadata": {},
   "outputs": [
    {
     "name": "stdout",
     "output_type": "stream",
     "text": [
      "Statistics is a branch of mathematics working with data collection, organization, analysis, interpretation and presentation. In applying statistics to a scientific, industrial, or social problem, it is conventional to begin with a statistical population or a statistical model to be studied. Populations can be diverse groups of people or objects such as \"all people living in a country\" or \"every atom composing a crystal\". Statistics deals with every aspect of data, including the planning of data collection in terms of the design of surveys and experiments.\n",
      "See glossary of probability and statistics.\n",
      "When census data cannot be collected, statisticians collect data by developing specific experiment designs and survey samples. Representative sampling assures that inferences and conclusions can reasonably extend from the sample to the population as a whole. An experimental study involves taking measurements of the system under study, manipulating the system, and then taking additional measurements using the same procedure to determine if the manipulation has modified the values of the measurements. In contrast, an observational study does not involve experimental manipulation.\n",
      "Two main statistical methods are used in data analysis: descriptive statistics, which summarize data from a sample using indexes such as the mean or standard deviation, and inferential statistics, which draw conclusions from data that are subject to random variation (e.g., observational errors, sampling variation). Descriptive statistics are most often concerned with two sets of properties of a distribution (sample or population): central tendency (or location) seeks to characterize the distribution's central or typical value, while dispersion (or variability) characterizes the extent to which members of the distribution depart from its center and each other. Inferences on mathematical statistics are made under the framework of probability theory, which deals with the analysis of random phenomena.\n",
      "A standard statistical procedure involves the test of the relationship between two statistical data sets, or a data set and synthetic data drawn from an idealized model. A hypothesis is proposed for the statistical relationship between the two data sets, and this is compared as an alternative to an idealized null hypothesis of no relationship between two data sets. Rejecting or disproving the null hypothesis is done using statistical tests that quantify the sense in which the null can be proven false, given the data that are used in the test. Working from a null hypothesis, two basic forms of error are recognized: Type I errors (null hypothesis is falsely rejected giving a \"false positive\") and Type II errors (null hypothesis fails to be rejected and an actual difference between populations is missed giving a \"false negative\"). Multiple problems have come to be associated with this framework: ranging from obtaining a sufficient sample size to specifying an adequate null hypothesis.Measurement processes that generate statistical data are also subject to error. Many of these errors are classified as random (noise) or systematic (bias), but other types of errors (e.g., blunder, such as when an analyst reports incorrect units) can also occur. The presence of missing data or censoring may result in biased estimates and specific techniques have been developed to address these problems.\n",
      "Statistics can be said to have begun in ancient civilization, going back at least to the 5th century BC, but it was not until the 18th century that it started to draw more heavily from calculus and probability theory. In more recent years statistics has relied more on statistical software to produce tests such as descriptive analysis.\n",
      "\n",
      "\n",
      "== Introduction ==\n",
      "\n",
      "Some definitions are:\n",
      "\n",
      "Merriam-Webster dictionary defines statistics as \"a branch of mathematics dealing with the collection, analysis, interpretation, and presentation of masses of numerical data.\"\n",
      "Statistician Arthur Lyon Bowley defines statistics as \"Numerical statements of facts in any department of inquiry placed in relation to each other.\"Statistics is a mathematical body of science that pertains to the collection, analysis, interpretation or explanation, and presentation of data, or as a branch of mathematics. Some consider statistics to be a distinct mathematical science rather than a branch of mathematics. While many scientific investigations make use of data, statistics is concerned with the use of data in the context of uncertainty and decision making in the face of uncertainty.In applying statistics to a problem, it is common practice to start with a population or process to be studied. Populations can be diverse topics such as \"all people living in a country\" or \"every atom composing a crystal\".\n",
      "Ideally, statisticians compile data about the entire population (an operation called census). This may be organized by governmental statistical institutes. Descriptive statistics can be used to summarize the population data. Numerical descriptors include mean and standard deviation for continuous data types (like income), while frequency and percentage are more useful in terms of describing categorical data (like education).\n",
      "When a census is not feasible, a chosen subset of the population called a sample is studied. Once a sample that is representative of the population is determined, data is collected for the sample members in an observational or experimental setting. Again, descriptive statistics can be used to summarize the sample data. However, the drawing of the sample has been subject to an element of randomness, hence the established numerical descriptors from the sample are also due to uncertainty. To still draw meaningful conclusions about the entire population, inferential statistics is needed. It uses patterns in the sample data to draw inferences about the population represented, accounting for randomness. These inferences may take the form of: answering yes/no questions about the data (hypothesis testing), estimating numerical characteristics of the data (estimation), describing associations within the data (correlation) and modeling relationships within the data (for example, using regression analysis).  Inference can extend to forecasting, prediction and estimation of unobserved values either in or associated with the population being studied; it can include extrapolation and interpolation of time series or spatial data, and can also include data mining.\n",
      "\n",
      "\n",
      "=== Mathematical statistics ===\n",
      "\n",
      "Mathematical statistics is the application of mathematics to statistics. Mathematical techniques used for this include mathematical analysis, linear algebra, stochastic analysis, differential equations, and measure-theoretic probability theory.\n",
      "\n",
      "\n",
      "== History ==\n",
      "\n",
      "The earliest writing on statistics was found in a 9th-century book entitled Manuscript on Deciphering Cryptographic Messages, written by Arab scholar Al-Kindi (801–873). In his book, Al-Kindi gave a detailed description of how to use statistics and frequency analysis to decipher encrypted messages. This text laid the foundations for statistics and cryptanalysis. Al-Kindi also made the earliest known use of statistical inference, while he and other Arab cryptologists developed the early statistical methods for decoding encrypted messages. Arab mathematicians including Al-Kindi, Al-Khalil (717–786) and Ibn Adlan (1187–1268) used forms of probability and statistics, with one of Ibn Adlan's most important contributions being on sample size for use of frequency analysis.The earliest European writing on statistics dates back to 1663, with the publication of Natural and Political Observations upon the Bills of Mortality by John Graunt. Early applications of statistical thinking revolved around the needs of states to base policy on demographic and economic data, hence its stat- etymology. The scope of the discipline of statistics broadened in the early 19th century to include the collection and analysis of data in general. Today, statistics is widely employed in government, business, and natural and social sciences.\n",
      "The mathematical foundations of modern statistics were laid in the 17th century with the development of the probability theory by Gerolamo Cardano, Blaise Pascal and Pierre de Fermat. Mathematical probability theory arose from the study of games of chance, although the concept of probability was already examined in medieval law and by philosophers such as Juan Caramuel. The method of least squares was first described by  Adrien-Marie Legendre in 1805.\n",
      "\n",
      "The modern field of statistics emerged in the late 19th and early 20th century in three stages. The first wave, at the turn of the century, was led by the work of Francis Galton and Karl Pearson, who transformed statistics into a rigorous mathematical discipline used for analysis, not just in science, but in industry and politics as well. Galton's contributions included introducing the concepts of standard deviation, correlation, regression analysis and the application of these methods to the study of the variety of human characteristics—height, weight, eyelash length among others. Pearson developed the Pearson product-moment correlation coefficient, defined as a product-moment, the method of moments for the fitting of distributions to samples and the Pearson distribution, among many other things. Galton and Pearson founded Biometrika as the first journal of mathematical statistics and biostatistics (then called biometry), and the latter founded the world's first university statistics department at University College London.Ronald Fisher coined the term null hypothesis during the Lady tasting tea experiment, which \"is never proved or established, but is possibly disproved, in the course of experimentation\".The second wave of the 1910s and 20s was initiated by William Sealy Gosset, and reached its culmination in the insights of Ronald Fisher, who wrote the textbooks that were to define the academic discipline in universities around the world. Fisher's most important publications were his 1918 seminal paper The Correlation between Relatives on the Supposition of Mendelian Inheritance, which was the first to use the statistical term, variance, his classic 1925 work Statistical Methods for Research Workers and his 1935 The Design of Experiments, where he developed rigorous design of experiments models. He originated the concepts of sufficiency, ancillary statistics, Fisher's linear discriminator and Fisher information. In his 1930 book The Genetical Theory of Natural Selection he applied statistics to various biological concepts such as Fisher's principle). Nevertheless, A.W.F. Edwards has remarked that it is \"probably the most celebrated argument in evolutionary biology\". (about the sex ratio), the Fisherian runaway, a concept in sexual selection about a positive feedback runaway affect found in evolution.\n",
      "The final wave, which mainly saw the refinement and expansion of earlier developments, emerged from the collaborative work between Egon Pearson and Jerzy Neyman in the 1930s. They introduced the concepts of \"Type II\" error, power of a test and confidence intervals. Jerzy Neyman in 1934 showed that stratified random sampling was in general a better method of estimation than purposive (quota) sampling.Today, statistical methods are applied in all fields that involve decision making, for making accurate inferences from a collated body of data and for making decisions in the face of uncertainty based on statistical methodology. The use of modern computers has expedited large-scale statistical computations, and has also made possible new methods that are impractical to perform manually. Statistics continues to be an area of active research, for example on the problem of how to analyze Big data.\n",
      "\n",
      "\n",
      "== Statistical data ==\n",
      "\n",
      "\n",
      "=== Data collection ===\n",
      "\n",
      "\n",
      "==== Sampling ====\n",
      "When full census data cannot be collected, statisticians collect sample data by developing specific experiment designs and survey samples. Statistics itself also provides tools for prediction and forecasting through statistical models. The idea of making inferences based on sampled data began around the mid-1600s in connection with estimating populations and developing precursors of life insurance.To use a sample as a guide to an entire population, it is important that it truly represents the overall population. Representative sampling assures that inferences and conclusions can safely extend from the sample to the population as a whole. A major problem lies in determining the extent that the sample chosen is actually representative. Statistics offers methods to estimate and correct for any bias within the sample and data collection procedures. There are also methods of experimental design for experiments that can lessen these issues at the outset of a study, strengthening its capability to discern truths about the population.\n",
      "Sampling theory is part of the mathematical discipline of probability theory. Probability is used in mathematical statistics to study the sampling distributions of sample statistics and, more generally, the properties of statistical procedures. The use of any statistical method is valid when the system or population under consideration satisfies the assumptions of the method.\n",
      "The difference in point of view between classic probability theory and sampling theory is, roughly, that probability theory starts from the given parameters of a total population to deduce probabilities that pertain to samples. Statistical inference, however, moves in the opposite direction—inductively inferring from samples to the parameters of a larger or total population.\n",
      "\n",
      "\n",
      "==== Experimental and observational studies ====\n",
      "A common goal for a statistical research project is to investigate causality, and in particular to draw a conclusion on the effect of changes in the values of predictors or independent variables on dependent variables. There are two major types of causal statistical studies: experimental studies and observational studies. In both types of studies, the effect of differences of an independent variable (or variables) on the behavior of the dependent variable are observed. The difference between the two types lies in how the study is actually conducted. Each can be very effective.\n",
      "An experimental study involves taking measurements of the system under study, manipulating the system, and then taking additional measurements using the same procedure to determine if the manipulation has modified the values of the measurements. In contrast, an observational study does not involve experimental manipulation. Instead, data are gathered and correlations between predictors and response are investigated.\n",
      "While the tools of data analysis work best on data from randomized studies, they are also applied to other kinds of data—like natural experiments and observational studies—for which a statistician would use a modified, more structured estimation method (e.g., Difference in differences estimation and instrumental variables, among many others) that produce consistent estimators.\n",
      "\n",
      "\n",
      "===== Experiments =====\n",
      "The basic steps of a statistical experiment are:\n",
      "\n",
      "Planning the research, including finding the number of replicates of the study, using the following information:  preliminary estimates regarding the size of treatment effects, alternative hypotheses, and the estimated experimental variability. Consideration of the selection of experimental subjects and the ethics of research is necessary. Statisticians recommend that experiments compare (at least) one new treatment with a standard treatment or control, to allow an unbiased estimate of the difference in treatment effects.\n",
      "Design of experiments, using blocking to reduce the influence of confounding variables, and  randomized assignment of treatments to subjects to allow unbiased estimates of treatment effects and experimental error. At this stage, the experimenters and statisticians write the experimental protocol that will guide the performance of the experiment and which specifies the primary analysis of the experimental data.\n",
      "Performing the experiment following the experimental protocol and analyzing the data following the experimental protocol.\n",
      "Further examining the data set in secondary analyses, to suggest new hypotheses for future study.\n",
      "Documenting and presenting the results of the study.Experiments on human behavior have special concerns. The famous Hawthorne study examined changes to the working environment at the Hawthorne plant of the Western Electric Company. The researchers were interested in determining whether increased illumination would increase the productivity of the assembly line workers. The researchers first measured the productivity in the plant, then modified the illumination in an area of the plant and checked if the changes in illumination affected productivity. It turned out that productivity indeed improved (under the experimental conditions). However, the study is heavily criticized today for errors in experimental procedures, specifically for the lack of a control group and blindness. The Hawthorne effect refers to finding that an outcome (in this case, worker productivity) changed due to observation itself. Those in the Hawthorne study became more productive not because the lighting was changed but because they were being observed.\n",
      "\n",
      "\n",
      "===== Observational study =====\n",
      "An example of an observational study is one that explores the association between smoking and lung cancer. This type of study typically uses a survey to collect observations about the area of interest and then performs statistical analysis. In this case, the researchers would collect observations of both smokers and non-smokers, perhaps through a cohort study, and then look for the number of cases of lung cancer in each group. A case-control study is another type of observational study in which people with and without the outcome of interest (e.g. lung cancer) are invited to participate and their exposure histories are collected.\n",
      "\n",
      "\n",
      "=== Types of data ===\n",
      "\n",
      "Various attempts have been made to produce a taxonomy of levels of measurement. The psychophysicist Stanley Smith Stevens defined nominal, ordinal, interval, and ratio scales. Nominal measurements do not have meaningful rank order among values, and permit any one-to-one (injective) transformation. Ordinal measurements have imprecise differences between consecutive values, but have a meaningful order to those values, and permit any order-preserving transformation. Interval measurements have meaningful distances between measurements defined, but the zero value is arbitrary (as in the case with longitude and temperature measurements in Celsius or Fahrenheit), and permit any linear transformation. Ratio measurements have both a meaningful zero value and the distances between different measurements defined, and permit any rescaling transformation.\n",
      "Because variables conforming only to nominal or ordinal measurements cannot be reasonably measured numerically, sometimes they are grouped together as categorical variables, whereas ratio and interval measurements are grouped together as quantitative variables, which can be either discrete or continuous, due to their numerical nature. Such distinctions can often be loosely correlated with data type in computer science, in that dichotomous categorical variables may be represented with the Boolean data type, polytomous categorical variables with arbitrarily assigned integers in the integral data type, and continuous variables with the real data type involving floating point computation. But the mapping of computer science data types to statistical data types depends on which categorization of the latter is being implemented.\n",
      "Other categorizations have been proposed. For example, Mosteller and Tukey (1977) distinguished grades, ranks, counted fractions, counts, amounts, and balances. Nelder (1990) described continuous counts, continuous ratios, count ratios, and categorical modes of data. See also Chrisman (1998), van den Berg (1991).The issue of whether or not it is appropriate to apply different kinds of statistical methods to data obtained from different kinds of measurement procedures is complicated by issues concerning the transformation of variables and the precise interpretation of research questions. \"The relationship between the data and what they describe merely reflects the fact that certain kinds of statistical statements may have truth values which are not invariant under some transformations. Whether or not a transformation is sensible to contemplate depends on the question one is trying to answer\" (Hand, 2004, p. 82).\n",
      "\n",
      "\n",
      "== Statistical methods ==\n",
      "\n",
      "\n",
      "=== Descriptive statistics ===\n",
      "\n",
      "A descriptive statistic (in the count noun sense) is a summary statistic that quantitatively describes or summarizes features of a collection of information, while descriptive statistics in the mass noun sense is the process of using and analyzing those statistics. Descriptive statistics is distinguished from inferential statistics (or inductive statistics), in that descriptive statistics aims to summarize a sample, rather than use the data to learn about the population that the sample of data is thought to represent.\n",
      "\n",
      "\n",
      "=== Inferential statistics ===\n",
      "\n",
      "Statistical inference is the process of using data analysis to deduce properties of an underlying probability distribution. Inferential statistical analysis infers properties of a population, for example by testing hypotheses and deriving estimates.  It is assumed that the observed data set is sampled from a larger population. Inferential statistics can be contrasted with descriptive statistics. Descriptive statistics is solely concerned with properties of the observed data, and it does not rest on the assumption that the data come from a larger population.\n",
      "\n",
      "\n",
      "==== Terminology and theory of inferential statistics ====\n",
      "\n",
      "\n",
      "===== Statistics, estimators and pivotal quantities =====\n",
      "Consider independent identically distributed (IID) random variables with a given probability distribution: standard statistical inference and estimation theory defines a random sample as the random vector given by the column vector of these IID variables. The population being examined is described by a probability distribution that may have unknown parameters.\n",
      "A statistic is a random variable that is a function of the random sample, but not a function of unknown parameters. The probability distribution of the statistic, though, may have unknown parameters.\n",
      "Consider now a function of the unknown parameter: an estimator is a statistic used to estimate such function. Commonly used estimators include sample mean, unbiased sample variance and sample covariance.\n",
      "A random variable that is a function of the random sample and of the unknown parameter, but whose probability distribution does not depend on the unknown parameter is called a pivotal quantity or pivot. Widely used pivots include the z-score, the chi square statistic and Student's t-value.\n",
      "Between two estimators of a given parameter, the one with lower mean squared error is said to be more efficient. Furthermore, an estimator is said to be unbiased if its expected value is equal to the true value of the unknown parameter being estimated, and asymptotically unbiased if its expected value converges at the limit to the true value of such parameter.\n",
      "Other desirable properties for estimators include: UMVUE estimators that have the lowest variance for all possible values of the parameter to be estimated (this is usually an easier property to verify than efficiency) and consistent estimators which converges in probability to the true value of such parameter.\n",
      "This still leaves the question of how to obtain estimators in a given situation and carry the computation, several methods have been proposed: the method of moments, the maximum likelihood method, the least squares method and the more recent method of estimating equations.\n",
      "\n",
      "\n",
      "===== Null hypothesis and alternative hypothesis =====\n",
      "Interpretation of statistical information can often involve the development of a null hypothesis which is usually (but not necessarily) that no relationship exists among variables or that no change occurred over time.The best illustration for a novice is the predicament encountered by a criminal trial. The null hypothesis, H0, asserts that the defendant is innocent, whereas the alternative hypothesis, H1, asserts that the defendant is guilty. The indictment comes because of suspicion of the guilt. The H0 (status quo) stands in opposition to H1 and is maintained unless H1 is supported by evidence \"beyond a reasonable doubt\". However, \"failure to reject H0\" in this case does not imply innocence, but merely that the evidence was insufficient to convict. So the jury does not necessarily accept H0 but fails to reject H0. While one can not \"prove\" a null hypothesis, one can test how close it is to being true with a power test, which tests for type II errors.\n",
      "What statisticians call an alternative hypothesis is simply a hypothesis that contradicts the null hypothesis.\n",
      "\n",
      "\n",
      "===== Error =====\n",
      "Working from a null hypothesis, two basic forms of error are recognized:\n",
      "\n",
      "Type I errors where the null hypothesis is falsely rejected giving a \"false positive\".\n",
      "Type II errors where the null hypothesis fails to be rejected and an actual difference between populations is missed giving a \"false negative\".Standard deviation refers to the extent to which individual observations in a sample differ from a central value, such as the sample or population mean, while Standard error refers to an estimate of difference between sample mean and population mean.\n",
      "A statistical error is the amount by which an observation differs from its expected value, a residual is the amount an observation differs from the value the estimator of the expected value assumes on a given sample (also called prediction).\n",
      "Mean squared error is used for obtaining efficient estimators, a widely used class of estimators. Root mean square error is simply the square root of mean squared error.\n",
      "\n",
      "Many statistical methods seek to minimize the residual sum of squares, and these are called \"methods of least squares\" in contrast to Least absolute deviations. The latter gives equal weight to small and big errors, while the former gives more weight to large errors. Residual sum of squares is also differentiable, which provides a handy property for doing regression. Least squares applied to linear regression is called ordinary least squares method and least squares applied to nonlinear regression is called non-linear least squares. Also in a linear regression model the non deterministic part of the model is called error term, disturbance or more simply noise. Both linear regression and non-linear regression are addressed in polynomial least squares, which also describes the variance in a prediction of the dependent variable (y axis) as a function of the independent variable (x axis) and the deviations (errors, noise, disturbances) from the estimated (fitted) curve.\n",
      "Measurement processes that generate statistical data are also subject to error.  Many of these errors are classified as random (noise) or systematic (bias), but other types of errors (e.g., blunder, such as when an analyst reports incorrect units) can also be important. The presence of missing data or censoring may result in biased estimates and specific techniques have been developed to address these problems.\n",
      "\n",
      "\n",
      "===== Interval estimation =====\n",
      "\n",
      "Most studies only sample part of a population, so results don't fully represent the whole population. Any estimates obtained from the sample only approximate the population value. Confidence intervals allow statisticians to express how closely the sample estimate matches the true value in the whole population. Often they are expressed as 95% confidence intervals. Formally, a 95% confidence interval for a value is a range where, if the sampling and analysis were repeated under the same conditions (yielding a different dataset), the interval would include the true (population) value in 95% of all possible cases. This does not imply that the probability that the true value is in the confidence interval is 95%. From the frequentist perspective, such a claim does not even make sense, as the true value is not a random variable.  Either the true value is or is not within the given interval. However, it is true that, before any data are sampled and given a plan for how to construct the confidence interval, the probability is 95% that the yet-to-be-calculated interval will cover the true value: at this point, the limits of the interval are yet-to-be-observed random variables. One approach that does yield an interval that can be interpreted as having a given probability of containing the true value is to use a credible interval from Bayesian statistics: this approach depends on a different way of interpreting what is meant by \"probability\", that is as a Bayesian probability.\n",
      "In principle confidence intervals can be symmetrical or asymmetrical. An interval can be asymmetrical because it works as lower or upper bound for a parameter (left-sided interval or right sided interval), but it can also be asymmetrical because the two sided interval is built violating symmetry around the estimate. Sometimes the bounds for a confidence interval are reached asymptotically and these are used to approximate the true bounds.\n",
      "\n",
      "\n",
      "===== Significance =====\n",
      "\n",
      "Statistics rarely give a simple Yes/No type answer to the question under analysis. Interpretation often comes down to the level of statistical significance applied to the numbers and often refers to the probability of a value accurately rejecting the null hypothesis (sometimes referred to as the p-value).\n",
      "\n",
      "The standard approach is to test a null hypothesis against an alternative hypothesis. A critical region is the set of values of the estimator that leads to refuting the null hypothesis. The probability of type I error is therefore the probability that the estimator belongs to the critical region given that null hypothesis is true (statistical significance) and the probability of type II error is the probability that the estimator doesn't belong to the critical region given that the alternative hypothesis is true. The statistical power of a test is the probability that it correctly rejects the null hypothesis when the null hypothesis is false.\n",
      "Referring to statistical significance does not necessarily mean that the overall result is significant in real world terms. For example, in a large study of a drug it may be shown that the drug has a statistically significant but very small beneficial effect, such that the drug is unlikely to help the patient noticeably.\n",
      "Although in principle the acceptable level of statistical significance may be subject to debate, the p-value is the smallest significance level that allows the test to reject the null hypothesis. This test is logically equivalent to saying that the p-value is the probability, assuming the null hypothesis is true, of observing a result at least as extreme as the test statistic. Therefore, the smaller the p-value, the lower the probability of committing type I error.\n",
      "Some problems are usually associated with this framework (See criticism of hypothesis testing):\n",
      "\n",
      "A difference that is highly statistically significant can still be of no practical significance, but it is possible to properly formulate tests to account for this. One response involves going beyond reporting only the significance level to include the p-value when reporting whether a hypothesis is rejected or accepted. The p-value, however, does not indicate the size or importance of the observed effect and can also seem to exaggerate the importance of minor differences in large studies. A better and increasingly common approach is to report confidence intervals. Although these are produced from the same calculations as those of hypothesis tests or p-values, they describe both the size of the effect and the uncertainty surrounding it.\n",
      "Fallacy of the transposed conditional, aka prosecutor's fallacy: criticisms arise because the hypothesis testing approach forces one hypothesis (the null hypothesis) to be favored, since what is being evaluated is the probability of the observed result given the null hypothesis and not probability of the null hypothesis given the observed result. An alternative to this approach is offered by Bayesian inference, although it requires establishing a prior probability.\n",
      "Rejecting the null hypothesis does not automatically prove the alternative hypothesis.\n",
      "As everything in inferential statistics it relies on sample size, and therefore under fat tails p-values may be seriously mis-computed.\n",
      "\n",
      "\n",
      "===== Examples =====\n",
      "Some well-known statistical tests and procedures are:\n",
      "\n",
      "\n",
      "=== Exploratory data analysis ===\n",
      "\n",
      "Exploratory data analysis (EDA) is an approach to analyzing data sets to summarize their main characteristics, often with visual methods. A statistical model can be used or not, but primarily EDA is for seeing what the data can tell us beyond the formal modeling or hypothesis testing task.\n",
      "\n",
      "\n",
      "== Misuse ==\n",
      "\n",
      "Misuse of statistics can produce subtle, but serious errors in description and interpretation—subtle in the sense that even experienced professionals make such errors, and serious in the sense that they can lead to devastating decision errors. For instance, social policy, medical practice, and the reliability of structures like bridges all rely on the proper use of statistics.\n",
      "Even when statistical techniques are correctly applied, the results can be difficult to interpret for those lacking expertise. The statistical significance of a trend in the data—which measures the extent to which a trend could be caused by random variation in the sample—may or may not agree with an intuitive sense of its significance. The set of basic statistical skills (and skepticism) that people need to deal with information in their everyday lives properly is referred to as statistical literacy.\n",
      "There is a general perception that statistical knowledge is all-too-frequently intentionally misused by finding ways to interpret only the data that are favorable to the presenter. A  mistrust and misunderstanding of statistics is associated with the quotation, \"There are three kinds of lies: lies, damned lies, and statistics\". Misuse of statistics can be both inadvertent and intentional, and the book How to Lie with Statistics outlines a range of considerations. In an attempt to shed light on the use and misuse of statistics, reviews of statistical techniques used in particular fields are conducted (e.g. Warne, Lazo, Ramos, and Ritter (2012)).Ways to avoid misuse of statistics include using proper diagrams and avoiding bias. Misuse can occur when conclusions are overgeneralized and claimed to be representative of more than they really are, often by either deliberately or unconsciously overlooking sampling bias. Bar graphs are arguably the easiest diagrams to use and understand, and they can be made either by hand or with simple computer programs. Unfortunately, most people do not look for bias or errors, so they are not noticed. Thus, people may often believe that something is true even if it is not well represented. To make data gathered from statistics believable and accurate, the sample taken must be representative of the whole.  According to Huff, \"The dependability of a sample can be destroyed by [bias]... allow yourself some degree of skepticism.\"To assist in the understanding of statistics Huff proposed a series of questions to be asked in each case:\n",
      "Who says so? (Does he/she have an axe to grind?)\n",
      "How does he/she know? (Does he/she have the resources to know the facts?)\n",
      "What's missing? (Does he/she give us a complete picture?)\n",
      "Did someone change the subject? (Does he/she offer us the right answer to the wrong problem?)\n",
      "Does it make sense? (Is his/her conclusion logical and consistent with what  we already know?)\n",
      "\n",
      "\n",
      "=== Misinterpretation: correlation ===\n",
      "The concept of correlation is particularly noteworthy for the potential confusion it can cause. Statistical analysis of a data set often reveals that two variables (properties) of the population under consideration tend to vary together, as if they were connected. For example, a study of annual income that also looks at age of death might find that poor people tend to have shorter lives than affluent people. The two variables are said to be correlated; however, they may or may not be the cause of one another. The correlation phenomena could be caused by a third, previously unconsidered phenomenon, called a lurking variable or confounding variable. For this reason, there is no way to immediately infer the existence of a causal relationship between the two variables. (See Correlation does not imply causation.)\n",
      "\n",
      "\n",
      "== Applications ==\n",
      "\n",
      "\n",
      "=== Applied statistics, theoretical statistics and mathematical statistics ===\n",
      "Applied statistics comprises descriptive statistics and the application of inferential statistics. Theoretical statistics concerns the logical arguments underlying justification of approaches to statistical inference, as well as encompassing mathematical statistics. Mathematical statistics includes not only the manipulation of probability distributions necessary for deriving results related to methods of estimation and inference, but also various aspects of computational statistics and the design of experiments.\n",
      "\n",
      "\n",
      "=== Machine learning and data mining ===\n",
      "Machine Learning models are statistical and probabilistic models that captures patterns in the data through use of computational algorithms.\n",
      "\n",
      "\n",
      "=== Statistics in society ===\n",
      "Statistics is applicable to a wide variety of academic disciplines, including natural and social sciences, government, and business. Statistical consultants can help organizations and companies that don't have in-house expertise relevant to their particular questions.\n",
      "\n",
      "\n",
      "=== Statistical computing ===\n",
      "\n",
      "The rapid and sustained increases in computing power starting from the second half of the 20th century have had a substantial impact on the practice of statistical science. Early statistical models were almost always from the class of linear models, but powerful computers, coupled with suitable numerical algorithms, caused an increased interest in nonlinear models (such as neural networks) as well as the creation of new types, such as generalized linear models and multilevel models.\n",
      "Increased computing power has also led to the growing popularity of computationally intensive methods based on resampling, such as permutation tests and the bootstrap, while techniques such as Gibbs sampling have made use of Bayesian models more feasible. The computer revolution has implications for the future of statistics with new emphasis on \"experimental\" and \"empirical\" statistics. A large number of both general and special purpose statistical software are now available. Examples of available software capable of complex statistical computation include programs such as Mathematica,  SAS, SPSS, and  R.\n",
      "\n",
      "\n",
      "=== Statistics applied to mathematics or the arts ===\n",
      "Traditionally, statistics was concerned with drawing inferences using a semi-standardized methodology that was \"required learning\" in most sciences. This tradition has changed with use of statistics in non-inferential contexts. What was once considered a dry subject, taken in many fields as a degree-requirement, is now viewed enthusiastically. Initially derided by some mathematical purists, it is now considered essential methodology in certain areas.\n",
      "\n",
      "In number theory, scatter plots of data generated by a distribution function may be transformed with familiar tools used in statistics to reveal underlying patterns, which may then lead to hypotheses.\n",
      "Methods of statistics including predictive methods in forecasting are combined with chaos theory and fractal geometry to create video works that are considered to have great beauty.\n",
      "The process art of Jackson Pollock relied on artistic experiments whereby underlying distributions in nature were artistically revealed. With the advent of computers, statistical methods were applied to formalize such distribution-driven natural processes to make and analyze moving video art.\n",
      "Methods of statistics may be used predicatively in performance art, as in a card trick based on a Markov process that only works some of the time, the occasion of which can be predicted using statistical methodology.\n",
      "Statistics can be used to predicatively create art, as in the statistical or stochastic music invented by Iannis Xenakis, where the music is performance-specific. Though this type of artistry does not always come out as expected, it does behave in ways that are predictable and tunable using statistics.\n",
      "\n",
      "\n",
      "== Specialized disciplines ==\n",
      "\n",
      "Statistical techniques are used in a wide range of types of scientific and social research, including: biostatistics,  computational biology,  computational sociology,  network biology,  social science,  sociology and  social research. Some fields of inquiry use applied statistics so extensively that they have specialized terminology. These disciplines include:\n",
      "\n",
      "In addition, there are particular types of statistical analysis that have also developed their own specialised terminology and methodology:\n",
      "\n",
      "Statistics form a key basis tool in business and manufacturing as well. It is used to understand measurement systems variability, control processes (as in statistical process control or SPC), for summarizing data, and to make data-driven decisions. In these roles, it is a key tool, and perhaps the only reliable tool.\n",
      "\n",
      "\n",
      "== See also ==\n",
      "\n",
      "Foundations and major areas of statistics\n",
      "\n",
      "\n",
      "== References ==\n",
      "\n",
      "\n",
      "== Further reading ==\n",
      "Barbara Illowsky; Susan Dean (2014). Introductory Statistics. OpenStax CNX. ISBN 9781938168208.\n",
      "David W. Stockburger, Introductory Statistics: Concepts, Models, and Applications, 3rd Web Ed.  Missouri State University.\n",
      "OpenIntro Statistics, 3rd edition by Diez, Barr, and Cetinkaya-Rundel\n",
      "Stephen Jones, 2010. Statistics in Psychology: Explanations without Equations. Palgrave Macmillan. ISBN 9781137282392.\n",
      "Cohen, J. (1990). \"Things I have learned (so far)\". American Psychologist, 45, 1304–1312.\n",
      "Gigerenzer, G. (2004). \"Mindless statistics\". Journal of Socio-Economics, 33, 587–606. doi:10.1016/j.socec.2004.09.033\n",
      "Ioannidis, J.P.A. (2005). \"Why most published research findings are false\". PLoS Medicine, 2, 696–701. doi:10.1371/journal.pmed.0040168\n",
      "\n",
      "\n",
      "== External links ==\n",
      "\n",
      "(Electronic Version): StatSoft, Inc. (2013). Electronic Statistics Textbook. Tulsa, OK: StatSoft.\n",
      "Online Statistics Education: An Interactive Multimedia Course of Study. Developed by Rice University (Lead Developer), University of Houston Clear Lake, Tufts University, and National Science Foundation.\n",
      "UCLA Statistical Computing Resources\n",
      "Philosophy of Statistics from the Stanford Encyclopedia of Philosophy\n"
     ]
    }
   ],
   "source": [
    "statistics = wikipedia.page(\"Statistics\")\n",
    "#print(statistics.title)\n",
    "#print(statistics.url)\n",
    "print(statistics.content)\n",
    "#print(statistics.links[0])\n"
   ]
  },
  {
   "cell_type": "code",
   "execution_count": 47,
   "metadata": {},
   "outputs": [
    {
     "data": {
      "text/plain": [
       "'Statistics is a branch of mathematics working with data collection, organization, analysis, interpretation and presentation.'"
      ]
     },
     "execution_count": 47,
     "metadata": {},
     "output_type": "execute_result"
    }
   ],
   "source": [
    "wikipedia.summary(\"Statistics\", sentences=1)"
   ]
  },
  {
   "cell_type": "code",
   "execution_count": 50,
   "metadata": {},
   "outputs": [],
   "source": [
    "#! pip3 install wikipedia-api\n"
   ]
  },
  {
   "cell_type": "code",
   "execution_count": 51,
   "metadata": {},
   "outputs": [],
   "source": [
    "#! pip install wiki-dump-reader\n"
   ]
  },
  {
   "cell_type": "code",
   "execution_count": 52,
   "metadata": {},
   "outputs": [],
   "source": [
    "from wiki_dump_reader import Cleaner, iterate\n",
    "\n",
    "corpus = []\n",
    "cleaner = Cleaner()\n",
    "for title, text in iterate('data/enwiki-latest-pages-articles.xml'):\n",
    "    text = cleaner.clean_text(text)\n",
    "    cleaned_text, links = cleaner.build_links(text)\n",
    "    corpus.append(cleaned_text)\n"
   ]
  },
  {
   "cell_type": "code",
   "execution_count": 53,
   "metadata": {},
   "outputs": [
    {
     "data": {
      "text/plain": [
       "list"
      ]
     },
     "execution_count": 53,
     "metadata": {},
     "output_type": "execute_result"
    }
   ],
   "source": [
    "type(corpus)"
   ]
  },
  {
   "cell_type": "code",
   "execution_count": 54,
   "metadata": {},
   "outputs": [
    {
     "data": {
      "text/plain": [
       "29316"
      ]
     },
     "execution_count": 54,
     "metadata": {},
     "output_type": "execute_result"
    }
   ],
   "source": [
    "len(corpus)"
   ]
  },
  {
   "cell_type": "code",
   "execution_count": 59,
   "metadata": {},
   "outputs": [
    {
     "data": {
      "text/plain": [
       "5199"
      ]
     },
     "execution_count": 59,
     "metadata": {},
     "output_type": "execute_result"
    }
   ],
   "source": [
    "len(corpus[46])"
   ]
  },
  {
   "cell_type": "code",
   "execution_count": 66,
   "metadata": {},
   "outputs": [],
   "source": [
    "long_text = []\n",
    "for i in corpus:\n",
    "    if len(i) > 100:\n",
    "        long_text.append(i)\n",
    "    "
   ]
  },
  {
   "cell_type": "code",
   "execution_count": 69,
   "metadata": {},
   "outputs": [
    {
     "data": {
      "text/plain": [
       "10102"
      ]
     },
     "execution_count": 69,
     "metadata": {},
     "output_type": "execute_result"
    }
   ],
   "source": [
    "len(long_text)"
   ]
  },
  {
   "cell_type": "code",
   "execution_count": 79,
   "metadata": {},
   "outputs": [],
   "source": [
    "sample_text = long_text[0:10]"
   ]
  },
  {
   "cell_type": "code",
   "execution_count": 81,
   "metadata": {},
   "outputs": [
    {
     "name": "stdout",
     "output_type": "stream",
     "text": [
      "['000', '01', '02', '03', '04', '05', '06', '07', '08', '09', '10', '100', '150', '1520', '16th', '1820', '1831', '1850', '1854', '1856', '1861', '1869', '1880', '1892', '19', '1909', '1912', '1914', '1929', '1935', '1937', '1938', '1939', '1942', '1945', '1947', '1948', '1950', '1952', '1954', '1956', '1966', '1971', '1972', '1973', '1974', '1976', '1977', '1980', '1981', '1982', '1984', '1987', '1989', '1990', '1996', '1998', '1999', '19th', '20', '200', '2000', '2000s', '2001', '2002', '2003', '20036', '2004', '2005', '2006', '2007', '2008', '2009', '2010', '2011', '2013', '2014', '2016', '2019', '20th', '21', '21st', '26', '29', '296', '2nd', '300', '305', '341', '342', '370', '41', '50', '61', '65', '747', '75', '850', '902', '907', 'abolished', 'about', 'above', 'according', 'account', 'accurate', 'across', 'acting', 'activists', 'activities', 'actor', 'acts', 'adapted', 'additional', 'adeniji', 'adjust', 'adrian', 'adult', 'advancement', 'advocate', 'african', 'after', 'again', 'against', 'age', 'agency', 'agenda', 'agent', 'agents', 'aid', 'aide', 'alch', 'alcoholic', 'aldermen', 'alexander', 'alger', 'algorithm', 'algorithms', 'allen', 'allowed', 'almshouse', 'also', 'although', 'alumni', 'always', 'ambassador', 'america', 'american', 'among', 'amy', 'an', 'ancilla', 'and', 'anderson', 'anne', 'anthologies', 'anthony', 'any', 'appeared', 'applied', 'approximates', 'april', 'aptitude', 'archive', 'are', 'aren', 'armed', 'arms', 'armstrong', 'army', 'around', 'arranged', 'arranging', 'as', 'assassinations', 'assistance', 'associate', 'associated', 'association', 'associations', 'at', 'atomic', 'attack', 'attempts', 'attended', 'attorney', 'attribution', 'august', 'australian', 'author', 'authored', 'available', 'award', 'bachelor', 'back', 'background', 'bangui', 'banks', 'barcome', 'basic', 'be', 'became', 'because', 'bedell', 'been', 'before', 'bernard', 'between', 'bibliography', 'bigger', 'bilateral', 'bird', 'birth', 'births', 'black', 'blackboard', 'board', 'bob', 'bodies', 'book', 'books', 'boorman', 'border', 'born', 'borough', 'borrowed', 'both', 'box', 'brazil', 'break', 'brett', 'bridge', 'brien', 'british', 'bronx', 'brooklyn', 'brought', 'bureau', 'burman', 'burnaby', 'bush', 'but', 'by', 'byl', 'cabinet', 'cady', 'call', 'called', 'campaign', 'can', 'canadian', 'car', 'career', 'cariboo', 'carr', 'case', 'cash', 'cashmore', 'cast', 'castle', 'catholic', 'cause', 'cedric', 'celebrating', 'cemac', 'center', 'central', 'centre', 'century', 'certain', 'chailey', 'chair', 'chairman', 'chambers', 'change', 'characterized', 'checked', 'checks', 'childhood', 'children', 'chiltington', 'chris', 'christian', 'christine', 'christoph', 'church', 'cia', 'circa', 'circuit', 'circumstances', 'citations', 'city', 'civil', 'clarity', 'class', 'clay', 'clients', 'cliffs', 'co', 'college', 'collier', 'coloring', 'columbia', 'comes', 'committee', 'communist', 'communists', 'company', 'completed', 'complexities', 'complexity', 'composed', 'comprise', 'comprised', 'computational', 'computer', 'condition', 'conference', 'confirmed', 'conflicts', 'congestion', 'congo', 'congolese', 'congressional', 'connor', 'consequently', 'conservative', 'conservatives', 'constituents', 'continued', 'contract', 'contracting', 'contrast', 'contributed', 'control', 'convention', 'cooperated', 'cooperation', 'corpse', 'council', 'councillors', 'count', 'countries', 'country', 'county', 'coup', 'couple', 'courses', 'crawfordsville', 'credibility', 'crises', 'crossed', 'ctia', 'cultural', 'current', 'czech', 'daughter', 'daughters', 'davey', 'david', 'davis', 'dawn', 'day', 'dc', 'de', 'dealing', 'death', 'deaths', 'decade', 'december', 'decompose', 'decompositions', 'deep', 'degree', 'degrees', 'demand', 'demands', 'democrat', 'democratic', 'democrats', 'denis', 'department', 'depends', 'des', 'described', 'detailed', 'detective', 'did', 'died', 'diploma', 'director', 'discoveries', 'discuss', 'diseases', 'dismissed', 'distributed', 'district', 'ditchling', 'doctorate', 'doesn', 'done', 'down', 'dozen', 'dragonhunt', 'drc', 'dropped', 'due', 'duhigg', 'duncan', 'during', 'dutch', 'each', 'early', 'east', 'economics', 'ed', 'edgar', 'edge', 'edited', 'editor', 'education', 'edward', 'effects', 'efficiently', 'egoff', 'eigenvalues', 'eisler', 'eleazer', 'elect', 'elected', 'election', 'elections', 'elizabeth', 'embassy', 'emily', 'employed', 'employment', 'en', 'enabling', 'engage', 'engaged', 'england', 'english', 'entered', 'entitled', 'entry', 'epsilon', 'equal', 'error', 'especially', 'establish', 'estimation', 'even', 'evidence', 'evolution', 'expansion', 'expected', 'explicitly', 'exponentially', 'expressed', 'expression', 'external', 'fardc', 'father', 'fbi', 'february', 'federal', 'female', 'fensterwald', 'ferris', 'feynman', 'fiction', 'fifteen', 'fill', 'finalists', 'finally', 'financial', 'find', 'finding', 'first', 'five', 'following', 'follows', 'football', 'for', 'forces', 'formed', 'formulas', 'found', 'founder', 'four', 'frac', 'france', 'frances', 'frank', 'french', 'from', 'full', 'fund', 'fundação', 'fusion', 'gabriola', 'gained', 'games', 'gaspard', 'gate', 'gauntlett', 'gave', 'general', 'genie', 'geoff', 'geologists', 'george', 'georges', 'geosciences', 'geoscientist', 'geostatistical', 'geostatistician', 'geostatistics', 'gerald', 'gerhart', 'germain', 'getúlio', 'girls', 'given', 'go', 'goal', 'gold', 'governments', 'grace', 'graduate', 'graduated', 'graham', 'grammar', 'grandfather', 'great', 'greater', 'greatest', 'green', 'greens', 'griffiths', 'grow', 'gss', 'guard', 'guide', 'h_', 'h_j', 'had', 'hamiltonian', 'hamiltonians', 'hamiltonin', 'hamsey', 'hanácký', 'harold', 'has', 'have', 'he', 'health', 'heart', 'held', 'help', 'helped', 'helping', 'her', 'herbert', 'herma', 'him', 'hired', 'his', 'hiss', 'historic', 'hlasu', 'holds', 'holloway', 'hollywood', 'home', 'hoover', 'hougan', 'house', 'how', 'howard', 'huac', 'hug', 'husband', 'ian', 'iat', 'ibt', 'ict', 'ideal', 'identity', 'if', 'ih', 'iht', 'imogen', 'implement', 'implementations', 'implemented', 'important', 'in', 'inc', 'included', 'including', 'independent', 'independents', 'indiana', 'industrial', 'industry', 'infancy', 'influence', 'information', 'infty', 'instead', 'insurgency', 'interest', 'interested', 'international', 'into', 'investigate', 'investigation', 'investigations', 'investigative', 'investigator', 'is', 'isabelle', 'island', 'islands', 'it', 'its', 'jablonecka', 'jack', 'james', 'january', 'jim', 'jobs', 'joe', 'john', 'johnny', 'johnová', 'johnson', 'joined', 'jones', 'josephson', 'journal', 'journalism', 'journey', 'jr', 'juan', 'julian', 'julie', 'july', 'june', 'just', 'kalendář', 'kap', 'kdo', 'keefe', 'keira', 'kelly', 'kentucky', 'kim', 'king', 'kingston', 'kiss', 'km', 'knew', 'known', 'koral', 'kurthy', 'kyrat', 'labor', 'labour', 'land', 'large', 'largest', 'last', 'later', 'laurence', 'laye', 'leader', 'leads', 'leaks', 'least', 'legacy', 'legend', 'leon', 'leq', 'lewes', 'liberal', 'library', 'lidové', 'lidu', 'life', 'like', 'linear', 'linington', 'links', 'list', 'listen', 'literature', 'livermore', 'living', 'local', 'long', 'lord', 'lou', 'louis', 'love', 'lungs', 'lyceum', 'lyn', 'lynda', 'macleod', 'made', 'magazines', 'majorities', 'majority', 'makara', 'makepeace', 'maker', 'makers', 'makes', 'manager', 'manhattan', 'manley', 'many', 'margaret', 'marriage', 'married', 'mary', 'maskell', 'master', 'materials', 'mathematical', 'mathematics', 'matheron', 'mathop', 'matrix', 'matters', 'matthew', 'max', 'maximum', 'may', 'mayor', 'mccleary', 'mccord', 'mcdowell', 'me', 'medical', 'medicine', 'meeting', 'meetings', 'member', 'members', 'membership', 'memoir', 'mental', 'mentioned', 'merry', 'met', 'methods', 'metropolitan', 'meyer', 'military', 'miller', 'milly', 'mineral', 'mines', 'missing', 'mission', 'mitchell', 'montgomery', 'month', 'more', 'most', 'motel', 'mother', 'motion', 'moved', 'much', 'mugaruka', 'mugger', 'mysteries', 'named', 'napětí', 'national', 'nationals', 'native', 'nature', 'ndash', 'near', 'needed', 'neighbouring', 'neighbours', 'netherlands', 'never', 'new', 'newhaven', 'newick', 'newspapers', 'nicholson', 'nicola', 'nine', 'nixon', 'no', 'non', 'nonetheless', 'north', 'northern', 'not', 'noted', 'novel', 'novelists', 'novels', 'novelty', 'november', 'noviny', 'number', 'nw', 'obtain', 'obtained', 'occur', 'occurred', 'odd', 'of', 'office', 'officers', 'offices', 'often', 'old', 'on', 'one', 'ongoing', 'opened', 'operation', 'opposition', 'optimal', 'or', 'oracle', 'org', 'organic', 'organized', 'organizing', 'originally', 'orphan', 'orphans', 'other', 'others', 'ouse', 'out', 'over', 'overall', 'owing', 'oxford', 'papanicolaou', 'paper', 'papers', 'paris', 'paristech', 'part', 'party', 'paternal', 'patient', 'pattern', 'paupers', 'peacehaven', 'peacekeepers', 'peacekeeping', 'pennsylvania', 'people', 'periodicals', 'personal', 'peterson', 'pharmaceuticals', 'phase', 'phil', 'philadelphia', 'philanthropist', 'philanthropists', 'physician', 'physicians', 'picture', 'pioneer', 'place', 'played', 'plays', 'plumpton', 'plurigaussian', 'pneumonia', 'poems', 'poetic', 'poets', 'police', 'popularity', 'possible', 'pp', 'practical', 'practice', 'practitioner', 'prague', 'prepare', 'president', 'press', 'previously', 'priory', 'private', 'prize', 'problem', 'processing', 'product', 'professor', 'project', 'projecting', 'proportional', 'proposed', 'prose', 'prostějov', 'proved', 'provide', 'psychologist', 'published', 'quadra', 'quantum', 'qubit', 'qubits', 'queens', 'queensland', 'queries', 'query', 'radio', 'recalled', 'received', 'recognition', 'recounted', 'references', 'referred', 'refers', 'refugees', 'refused', 'regarding', 'regularly', 'rehired', 'related', 'relations', 'relationship', 'remainder', 'remained', 'repetitions', 'replace', 'report', 'representation', 'representative', 'representatives', 'represented', 'republic', 'republican', 'research', 'resistance', 'resources', 'respect', 'response', 'restrained', 'results', 'return', 'returned', 'returning', 'richard', 'richmond', 'rigden', 'rights', 'ringmer', 'rings', 'robert', 'robinson', 'rodger', 'ron', 'ross', 'rotations', 'round', 'roy', 'runaway', 'rush', 'russell', 'ruth', 'rutland', 'saint', 'saltdean', 'sam', 'same', 'san', 'sandra', 'sandy', 'saunders', 'savings', 'says', 'school', 'science', 'scientists', 'seaford', 'sean', 'second', 'secret', 'secretary', 'secrets', 'security', 'see', 'seem', 'seemed', 'self', 'send', 'senior', 'separately', 'sergeant', 'series', 'served', 'service', 'services', 'seven', 'seventeen', 'several', 'sewing', 'sex', 'share', 'sharon', 'she', 'sheila', 'short', 'shows', 'sides', 'signal', 'significantly', 'simulate', 'simulated', 'simulating', 'simulation', 'simulations', 'since', 'single', 'six', 'size', 'sleep', 'slice', 'slowed', 'small', 'smith', 'so', 'sold', 'soldiers', 'solution', 'some', 'son', 'sons', 'south', 'soviet', 'sparse', 'speakers', 'special', 'spectrum', 'springer', 'spy', 'st', 'stanton', 'started', 'state', 'statement', 'states', 'statisticians', 'stephen', 'steps', 'steve', 'still', 'stories', 'story', 'streat', 'street', 'strike', 'stripling', 'studied', 'studies', 'study', 'subject', 'subjects', 'subscriptions', 'subsequently', 'success', 'successor', 'such', 'suffrage', 'suffragists', 'sullivan', 'sum', 'sum_', 'sung', 'supporting', 'survived', 'susan', 'suspect', 'sussex', 'suzuki', 'svozilová', 'sylvia', 'system', 'systems', 'szanto', 'table', 'tailor', 'take', 'tavenner', 'taylor', 'teacher', 'teaching', 'team', 'techniques', 'teenager', 'telscome', 'ten', 'term', 'terms', 'territory', 'testified', 'testify', 'testimony', 'textbook', 'than', 'that', 'the', 'their', 'them', 'then', 'there', 'thesis', 'this', 'threads', 'three', 'throat', 'time', 'times', 'to', 'tobacco', 'told', 'tom', 'took', 'toothpaste', 'town', 'transducing', 'transforming', 'treatment', 'trivially', 'troops', 'trotter', 'truncated', 'try', 'turning', 'twice', 'two', 'un', 'unable', 'unceasing', 'uncover', 'under', 'undermine', 'unhappy', 'union', 'unitary', 'united', 'university', 'unnecessary', 'until', 'use', 'used', 'valley', 'vancouver', 'vargas', 'various', 'velde', 'verse', 'via', 'vice', 'villages', 'villain', 'virginia', 'von', 'votes', 'vysoké', 'wales', 'walk', 'walker', 'walter', 'war', 'ward', 'was', 'washington', 'water', 'watergate', 'ways', 'we', 'welfare', 'well', 'went', 'were', 'west', 'westmeston', 'westminster', 'what', 'when', 'where', 'which', 'whidbey', 'whisky', 'white', 'whittaker', 'who', 'whose', 'wilcox', 'wilhite', 'william', 'winner', 'wishing', 'with', 'without', 'wixon', 'woman', 'womanizer', 'women', 'woodlands', 'work', 'worked', 'working', 'works', 'would', 'writer', 'writers', 'writing', 'wrote', 'year', 'years', 'york', 'young', 'zoe', 'école', 'état']\n",
      "(10, 1240)\n"
     ]
    }
   ],
   "source": [
    "from sklearn.feature_extraction.text import TfidfVectorizer\n",
    "corpus = sample_text\n",
    "vectorizer = TfidfVectorizer()\n",
    "X = vectorizer.fit_transform(corpus)\n",
    "print(vectorizer.get_feature_names())\n",
    "print(X.shape)"
   ]
  },
  {
   "cell_type": "code",
   "execution_count": 82,
   "metadata": {},
   "outputs": [],
   "source": [
    "import pandas as pd\n",
    " \n",
    "from sklearn.feature_extraction.text import TfidfTransformer\n",
    "from sklearn.feature_extraction.text import CountVectorizer"
   ]
  },
  {
   "cell_type": "code",
   "execution_count": 83,
   "metadata": {},
   "outputs": [],
   "source": [
    "docs = sample_text"
   ]
  },
  {
   "cell_type": "code",
   "execution_count": 84,
   "metadata": {},
   "outputs": [],
   "source": [
    "#instantiate CountVectorizer()\n",
    "cv=CountVectorizer()\n",
    " \n",
    "# this steps generates word counts for the words in your docs\n",
    "word_count_vector=cv.fit_transform(docs)"
   ]
  },
  {
   "cell_type": "code",
   "execution_count": 85,
   "metadata": {},
   "outputs": [
    {
     "data": {
      "text/plain": [
       "(10, 1240)"
      ]
     },
     "execution_count": 85,
     "metadata": {},
     "output_type": "execute_result"
    }
   ],
   "source": [
    "word_count_vector.shape\n"
   ]
  },
  {
   "cell_type": "code",
   "execution_count": 87,
   "metadata": {},
   "outputs": [
    {
     "data": {
      "text/plain": [
       "TfidfTransformer(norm='l2', smooth_idf=True, sublinear_tf=False, use_idf=True)"
      ]
     },
     "execution_count": 87,
     "metadata": {},
     "output_type": "execute_result"
    }
   ],
   "source": [
    "tfidf_transformer=TfidfTransformer(smooth_idf=True,use_idf=True)\n",
    "tfidf_transformer.fit(word_count_vector)"
   ]
  },
  {
   "cell_type": "code",
   "execution_count": 107,
   "metadata": {},
   "outputs": [],
   "source": [
    "# print idf values\n",
    "df_idf = pd.DataFrame(tfidf_transformer.idf_, index=cv.get_feature_names(),columns=[\"tf_idf_weights\"])"
   ]
  },
  {
   "cell_type": "code",
   "execution_count": 110,
   "metadata": {},
   "outputs": [],
   "source": [
    "# sort ascending\n",
    "df_idf_sorted = df_idf.sort_values(by=['tf_idf_weights'], ascending=False)\n",
    " "
   ]
  },
  {
   "cell_type": "code",
   "execution_count": 112,
   "metadata": {},
   "outputs": [],
   "source": [
    "words_difficulty = df_idf_sorted.to_dict()"
   ]
  },
  {
   "cell_type": "code",
   "execution_count": 116,
   "metadata": {},
   "outputs": [
    {
     "data": {
      "text/plain": [
       "dict_values([{'investigative': 2.7047480922384253, 'napětí': 2.7047480922384253, 'neighbours': 2.7047480922384253, 'neighbouring': 2.7047480922384253, 'near': 2.7047480922384253, 'ndash': 2.7047480922384253, 'native': 2.7047480922384253, 'nationals': 2.7047480922384253, 'named': 2.7047480922384253, 'never': 2.7047480922384253, 'mysteries': 2.7047480922384253, 'mugger': 2.7047480922384253, 'mugaruka': 2.7047480922384253, 'much': 2.7047480922384253, 'moved': 2.7047480922384253, 'motion': 2.7047480922384253, 'netherlands': 2.7047480922384253, 'newhaven': 2.7047480922384253, 'obtain': 2.7047480922384253, 'northern': 2.7047480922384253, 'number': 2.7047480922384253, 'noviny': 2.7047480922384253, 'november': 2.7047480922384253, 'novelty': 2.7047480922384253, 'novel': 2.7047480922384253, 'noted': 2.7047480922384253, 'north': 2.7047480922384253, 'newick': 2.7047480922384253, 'nonetheless': 2.7047480922384253, 'no': 2.7047480922384253, 'nixon': 2.7047480922384253, 'nicola': 2.7047480922384253, 'nicholson': 2.7047480922384253, 'newspapers': 2.7047480922384253, 'mother': 2.7047480922384253, 'motel': 2.7047480922384253, 'most': 2.7047480922384253, 'medical': 2.7047480922384253, 'memoir': 2.7047480922384253, 'membership': 2.7047480922384253, 'member': 2.7047480922384253, 'meetings': 2.7047480922384253, 'meeting': 2.7047480922384253, 'medicine': 2.7047480922384253, 'me': 2.7047480922384253, 'more': 2.7047480922384253, 'mcdowell': 2.7047480922384253, 'mccord': 2.7047480922384253, 'mccleary': 2.7047480922384253, 'mayor': 2.7047480922384253, 'may': 2.7047480922384253, 'maximum': 2.7047480922384253, 'mental': 2.7047480922384253, 'mentioned': 2.7047480922384253, 'merry': 2.7047480922384253, 'met': 2.7047480922384253, 'methods': 2.7047480922384253, 'metropolitan': 2.7047480922384253, 'meyer': 2.7047480922384253, 'military': 2.7047480922384253, 'miller': 2.7047480922384253, 'milly': 2.7047480922384253, 'mineral': 2.7047480922384253, 'mines': 2.7047480922384253, 'missing': 2.7047480922384253, 'mission': 2.7047480922384253, 'mitchell': 2.7047480922384253, 'montgomery': 2.7047480922384253, 'month': 2.7047480922384253, 'nw': 2.7047480922384253, 'obtained': 2.7047480922384253, 'matthew': 2.7047480922384253, 'phase': 2.7047480922384253, 'physicians': 2.7047480922384253, 'physician': 2.7047480922384253, 'philanthropists': 2.7047480922384253, 'philanthropist': 2.7047480922384253, 'philadelphia': 2.7047480922384253, 'phil': 2.7047480922384253, 'pharmaceuticals': 2.7047480922384253, 'pioneer': 2.7047480922384253, 'peterson': 2.7047480922384253, 'periodicals': 2.7047480922384253, 'pennsylvania': 2.7047480922384253, 'peacekeeping': 2.7047480922384253, 'peacekeepers': 2.7047480922384253, 'peacehaven': 2.7047480922384253, 'picture': 2.7047480922384253, 'place': 2.7047480922384253, 'occur': 2.7047480922384253, 'popularity': 2.7047480922384253, 'prague': 2.7047480922384253, 'practitioner': 2.7047480922384253, 'practice': 2.7047480922384253, 'practical': 2.7047480922384253, 'pp': 2.7047480922384253, 'possible': 2.7047480922384253, 'police': 2.7047480922384253, 'played': 2.7047480922384253, 'poets': 2.7047480922384253, 'poetic': 2.7047480922384253, 'pneumonia': 2.7047480922384253, 'plurigaussian': 2.7047480922384253, 'plumpton': 2.7047480922384253, 'plays': 2.7047480922384253, 'paupers': 2.7047480922384253, 'pattern': 2.7047480922384253, 'patient': 2.7047480922384253, 'opened': 2.7047480922384253, 'organic': 2.7047480922384253, 'org': 2.7047480922384253, 'oracle': 2.7047480922384253, 'optimal': 2.7047480922384253, 'opposition': 2.7047480922384253, 'operation': 2.7047480922384253, 'ongoing': 2.7047480922384253, 'paternal': 2.7047480922384253, 'old': 2.7047480922384253, 'often': 2.7047480922384253, 'offices': 2.7047480922384253, 'officers': 2.7047480922384253, 'odd': 2.7047480922384253, 'occurred': 2.7047480922384253, 'organized': 2.7047480922384253, 'organizing': 2.7047480922384253, 'originally': 2.7047480922384253, 'orphan': 2.7047480922384253, 'orphans': 2.7047480922384253, 'others': 2.7047480922384253, 'ouse': 2.7047480922384253, 'out': 2.7047480922384253, 'overall': 2.7047480922384253, 'owing': 2.7047480922384253, 'oxford': 2.7047480922384253, 'papanicolaou': 2.7047480922384253, 'paper': 2.7047480922384253, 'papers': 2.7047480922384253, 'paris': 2.7047480922384253, 'paristech': 2.7047480922384253, 'part': 2.7047480922384253, 'max': 2.7047480922384253, 'matters': 2.7047480922384253, 'president': 2.7047480922384253, '01': 2.7047480922384253, 'jack': 2.7047480922384253, 'jablonecka': 2.7047480922384253, 'islands': 2.7047480922384253, 'island': 2.7047480922384253, 'isabelle': 2.7047480922384253, 'investigator': 2.7047480922384253, 'investigations': 2.7047480922384253, 'joe': 2.7047480922384253, 'investigation': 2.7047480922384253, 'investigate': 2.7047480922384253, 'interested': 2.7047480922384253, 'interest': 2.7047480922384253, 'insurgency': 2.7047480922384253, 'instead': 2.7047480922384253, 'jobs': 2.7047480922384253, 'johnny': 2.7047480922384253, 'kap': 2.7047480922384253, 'jr': 2.7047480922384253, 'just': 2.7047480922384253, 'june': 2.7047480922384253, 'july': 2.7047480922384253, 'julie': 2.7047480922384253, 'julian': 2.7047480922384253, 'juan': 2.7047480922384253, 'journey': 2.7047480922384253, 'johnová': 2.7047480922384253, 'journalism': 2.7047480922384253, 'journal': 2.7047480922384253, 'josephson': 2.7047480922384253, 'jones': 2.7047480922384253, 'joined': 2.7047480922384253, 'johnson': 2.7047480922384253, 'infty': 2.7047480922384253, 'influence': 2.7047480922384253, 'infancy': 2.7047480922384253, 'how': 2.7047480922384253, 'iat': 2.7047480922384253, 'ian': 2.7047480922384253, 'husband': 2.7047480922384253, 'hug': 2.7047480922384253, 'huac': 2.7047480922384253, 'howard': 2.7047480922384253, 'hougan': 2.7047480922384253, 'industry': 2.7047480922384253, 'hoover': 2.7047480922384253, 'hollywood': 2.7047480922384253, 'holloway': 2.7047480922384253, 'holds': 2.7047480922384253, 'hlasu': 2.7047480922384253, 'historic': 2.7047480922384253, 'ibt': 2.7047480922384253, 'ict': 2.7047480922384253, 'ideal': 2.7047480922384253, 'identity': 2.7047480922384253, 'if': 2.7047480922384253, 'ih': 2.7047480922384253, 'iht': 2.7047480922384253, 'imogen': 2.7047480922384253, 'implement': 2.7047480922384253, 'implementations': 2.7047480922384253, 'implemented': 2.7047480922384253, 'inc': 2.7047480922384253, 'included': 2.7047480922384253, 'independent': 2.7047480922384253, 'independents': 2.7047480922384253, 'indiana': 2.7047480922384253, 'industrial': 2.7047480922384253, 'kalendář': 2.7047480922384253, 'kdo': 2.7047480922384253, 'matrix': 2.7047480922384253, 'love': 2.7047480922384253, 'made': 2.7047480922384253, 'macleod': 2.7047480922384253, 'lynda': 2.7047480922384253, 'lyn': 2.7047480922384253, 'lyceum': 2.7047480922384253, 'lungs': 2.7047480922384253, 'louis': 2.7047480922384253, 'majorities': 2.7047480922384253, 'lou': 2.7047480922384253, 'long': 2.7047480922384253, 'livermore': 2.7047480922384253, 'literature': 2.7047480922384253, 'listen': 2.7047480922384253, 'list': 2.7047480922384253, 'magazines': 2.7047480922384253, 'makara': 2.7047480922384253, 'keefe': 2.7047480922384253, 'mary': 2.7047480922384253, 'mathop': 2.7047480922384253, 'matheron': 2.7047480922384253, 'mathematics': 2.7047480922384253, 'mathematical': 2.7047480922384253, 'materials': 2.7047480922384253, 'maskell': 2.7047480922384253, 'married': 2.7047480922384253, 'makepeace': 2.7047480922384253, 'marriage': 2.7047480922384253, 'manley': 2.7047480922384253, 'manager': 2.7047480922384253, 'makes': 2.7047480922384253, 'makers': 2.7047480922384253, 'maker': 2.7047480922384253, 'linington': 2.7047480922384253, 'linear': 2.7047480922384253, 'like': 2.7047480922384253, 'km': 2.7047480922384253, 'labor': 2.7047480922384253, 'kyrat': 2.7047480922384253, 'kurthy': 2.7047480922384253, 'koral': 2.7047480922384253, 'known': 2.7047480922384253, 'knew': 2.7047480922384253, 'kiss': 2.7047480922384253, 'lidu': 2.7047480922384253, 'kingston': 2.7047480922384253, 'king': 2.7047480922384253, 'kim': 2.7047480922384253, 'kentucky': 2.7047480922384253, 'kelly': 2.7047480922384253, 'keira': 2.7047480922384253, 'labour': 2.7047480922384253, 'land': 2.7047480922384253, 'last': 2.7047480922384253, 'later': 2.7047480922384253, 'laurence': 2.7047480922384253, 'laye': 2.7047480922384253, 'leads': 2.7047480922384253, 'leaks': 2.7047480922384253, 'least': 2.7047480922384253, 'legacy': 2.7047480922384253, 'legend': 2.7047480922384253, 'leon': 2.7047480922384253, 'leq': 2.7047480922384253, 'lewes': 2.7047480922384253, 'liberal': 2.7047480922384253, 'library': 2.7047480922384253, 'lidové': 2.7047480922384253, 'prepare': 2.7047480922384253, 'press': 2.7047480922384253, 'his': 2.7047480922384253, 'teacher': 2.7047480922384253, 'term': 2.7047480922384253, 'ten': 2.7047480922384253, 'telscome': 2.7047480922384253, 'teenager': 2.7047480922384253, 'techniques': 2.7047480922384253, 'team': 2.7047480922384253, 'taylor': 2.7047480922384253, 'testified': 2.7047480922384253, 'tavenner': 2.7047480922384253, 'take': 2.7047480922384253, 'tailor': 2.7047480922384253, 'table': 2.7047480922384253, 'szanto': 2.7047480922384253, 'systems': 2.7047480922384253, 'territory': 2.7047480922384253, 'testify': 2.7047480922384253, 'treatment': 2.7047480922384253, 'tobacco': 2.7047480922384253, 'transducing': 2.7047480922384253, 'town': 2.7047480922384253, 'toothpaste': 2.7047480922384253, 'took': 2.7047480922384253, 'tom': 2.7047480922384253, 'told': 2.7047480922384253, 'times': 2.7047480922384253, 'testimony': 2.7047480922384253, 'throat': 2.7047480922384253, 'threads': 2.7047480922384253, 'thesis': 2.7047480922384253, 'them': 2.7047480922384253, 'their': 2.7047480922384253, 'textbook': 2.7047480922384253, 'system': 2.7047480922384253, 'sylvia': 2.7047480922384253, 'svozilová': 2.7047480922384253, 'stories': 2.7047480922384253, 'subject': 2.7047480922384253, 'stripling': 2.7047480922384253, 'strike': 2.7047480922384253, 'street': 2.7047480922384253, 'streat': 2.7047480922384253, 'story': 2.7047480922384253, 'still': 2.7047480922384253, 'suzuki': 2.7047480922384253, 'steve': 2.7047480922384253, 'steps': 2.7047480922384253, 'stephen': 2.7047480922384253, 'statisticians': 2.7047480922384253, 'states': 2.7047480922384253, 'started': 2.7047480922384253, 'subjects': 2.7047480922384253, 'subscriptions': 2.7047480922384253, 'subsequently': 2.7047480922384253, 'success': 2.7047480922384253, 'successor': 2.7047480922384253, 'such': 2.7047480922384253, 'suffrage': 2.7047480922384253, 'suffragists': 2.7047480922384253, 'sullivan': 2.7047480922384253, 'sum': 2.7047480922384253, 'sum_': 2.7047480922384253, 'sung': 2.7047480922384253, 'supporting': 2.7047480922384253, 'survived': 2.7047480922384253, 'susan': 2.7047480922384253, 'suspect': 2.7047480922384253, 'sussex': 2.7047480922384253, 'transforming': 2.7047480922384253, 'trivially': 2.7047480922384253, 'st': 2.7047480922384253, 'went': 2.7047480922384253, 'whisky': 2.7047480922384253, 'whidbey': 2.7047480922384253, 'where': 2.7047480922384253, 'westminster': 2.7047480922384253, 'westmeston': 2.7047480922384253, 'west': 2.7047480922384253, 'well': 2.7047480922384253, 'whittaker': 2.7047480922384253, 'welfare': 2.7047480922384253, 'we': 2.7047480922384253, 'ways': 2.7047480922384253, 'watergate': 2.7047480922384253, 'water': 2.7047480922384253, 'ward': 2.7047480922384253, 'white': 2.7047480922384253, 'wilcox': 2.7047480922384253, 'troops': 2.7047480922384253, 'work': 2.7047480922384253, 'école': 2.7047480922384253, 'zoe': 2.7047480922384253, 'young': 2.7047480922384253, 'york': 2.7047480922384253, 'year': 2.7047480922384253, 'writing': 2.7047480922384253, 'woodlands': 2.7047480922384253, 'wilhite': 2.7047480922384253, 'womanizer': 2.7047480922384253, 'woman': 2.7047480922384253, 'wixon': 2.7047480922384253, 'without': 2.7047480922384253, 'wishing': 2.7047480922384253, 'winner': 2.7047480922384253, 'war': 2.7047480922384253, 'walter': 2.7047480922384253, 'walker': 2.7047480922384253, 'unceasing': 2.7047480922384253, 'united': 2.7047480922384253, 'unitary': 2.7047480922384253, 'union': 2.7047480922384253, 'unhappy': 2.7047480922384253, 'undermine': 2.7047480922384253, 'uncover': 2.7047480922384253, 'unable': 2.7047480922384253, 'walk': 2.7047480922384253, 'un': 2.7047480922384253, 'twice': 2.7047480922384253, 'turning': 2.7047480922384253, 'try': 2.7047480922384253, 'truncated': 2.7047480922384253, 'trotter': 2.7047480922384253, 'unnecessary': 2.7047480922384253, 'until': 2.7047480922384253, 'use': 2.7047480922384253, 'used': 2.7047480922384253, 'valley': 2.7047480922384253, 'vancouver': 2.7047480922384253, 'vargas': 2.7047480922384253, 'velde': 2.7047480922384253, 'verse': 2.7047480922384253, 'via': 2.7047480922384253, 'villages': 2.7047480922384253, 'villain': 2.7047480922384253, 'virginia': 2.7047480922384253, 'von': 2.7047480922384253, 'votes': 2.7047480922384253, 'vysoké': 2.7047480922384253, 'wales': 2.7047480922384253, 'stanton': 2.7047480922384253, 'spy': 2.7047480922384253, 'previously': 2.7047480922384253, 'replace': 2.7047480922384253, 'republic': 2.7047480922384253, 'represented': 2.7047480922384253, 'representatives': 2.7047480922384253, 'representative': 2.7047480922384253, 'representation': 2.7047480922384253, 'report': 2.7047480922384253, 'repetitions': 2.7047480922384253, 'resistance': 2.7047480922384253, 'remainder': 2.7047480922384253, 'relationship': 2.7047480922384253, 'relations': 2.7047480922384253, 'related': 2.7047480922384253, 'rehired': 2.7047480922384253, 'regularly': 2.7047480922384253, 'research': 2.7047480922384253, 'resources': 2.7047480922384253, 'runaway': 2.7047480922384253, 'ringmer': 2.7047480922384253, 'round': 2.7047480922384253, 'rotations': 2.7047480922384253, 'ross': 2.7047480922384253, 'ron': 2.7047480922384253, 'rodger': 2.7047480922384253, 'rings': 2.7047480922384253, 'rights': 2.7047480922384253, 'respect': 2.7047480922384253, 'rigden': 2.7047480922384253, 'richmond': 2.7047480922384253, 'returning': 2.7047480922384253, 'return': 2.7047480922384253, 'restrained': 2.7047480922384253, 'response': 2.7047480922384253, 'regarding': 2.7047480922384253, 'refused': 2.7047480922384253, 'refugees': 2.7047480922384253, 'project': 2.7047480922384253, 'proved': 2.7047480922384253, 'prostějov': 2.7047480922384253, 'prose': 2.7047480922384253, 'proposed': 2.7047480922384253, 'proportional': 2.7047480922384253, 'projecting': 2.7047480922384253, 'professor': 2.7047480922384253, 'refers': 2.7047480922384253, 'product': 2.7047480922384253, 'processing': 2.7047480922384253, 'problem': 2.7047480922384253, 'prize': 2.7047480922384253, 'private': 2.7047480922384253, 'priory': 2.7047480922384253, 'provide': 2.7047480922384253, 'psychologist': 2.7047480922384253, 'published': 2.7047480922384253, 'quadra': 2.7047480922384253, 'quantum': 2.7047480922384253, 'qubit': 2.7047480922384253, 'qubits': 2.7047480922384253, 'queens': 2.7047480922384253, 'queensland': 2.7047480922384253, 'queries': 2.7047480922384253, 'query': 2.7047480922384253, 'radio': 2.7047480922384253, 'recalled': 2.7047480922384253, 'received': 2.7047480922384253, 'recognition': 2.7047480922384253, 'recounted': 2.7047480922384253, 'referred': 2.7047480922384253, 'roy': 2.7047480922384253, 'rush': 2.7047480922384253, 'springer': 2.7047480922384253, 'significantly': 2.7047480922384253, 'single': 2.7047480922384253, 'simulations': 2.7047480922384253, 'simulation': 2.7047480922384253, 'simulating': 2.7047480922384253, 'simulated': 2.7047480922384253, 'simulate': 2.7047480922384253, 'signal': 2.7047480922384253, 'sleep': 2.7047480922384253, 'sides': 2.7047480922384253, 'shows': 2.7047480922384253, 'sheila': 2.7047480922384253, 'sharon': 2.7047480922384253, 'share': 2.7047480922384253, 'sex': 2.7047480922384253, 'size': 2.7047480922384253, 'slice': 2.7047480922384253, 'russell': 2.7047480922384253, 'sons': 2.7047480922384253, 'spectrum': 2.7047480922384253, 'special': 2.7047480922384253, 'speakers': 2.7047480922384253, 'sparse': 2.7047480922384253, 'soviet': 2.7047480922384253, 'south': 2.7047480922384253, 'son': 2.7047480922384253, 'slowed': 2.7047480922384253, 'some': 2.7047480922384253, 'solution': 2.7047480922384253, 'soldiers': 2.7047480922384253, 'sold': 2.7047480922384253, 'smith': 2.7047480922384253, 'small': 2.7047480922384253, 'sewing': 2.7047480922384253, 'several': 2.7047480922384253, 'seventeen': 2.7047480922384253, 'sandra': 2.7047480922384253, 'scientists': 2.7047480922384253, 'science': 2.7047480922384253, 'says': 2.7047480922384253, 'savings': 2.7047480922384253, 'saunders': 2.7047480922384253, 'sandy': 2.7047480922384253, 'san': 2.7047480922384253, 'seven': 2.7047480922384253, 'same': 2.7047480922384253, 'sam': 2.7047480922384253, 'saltdean': 2.7047480922384253, 'saint': 2.7047480922384253, 'rutland': 2.7047480922384253, 'ruth': 2.7047480922384253, 'seaford': 2.7047480922384253, 'sean': 2.7047480922384253, 'second': 2.7047480922384253, 'secret': 2.7047480922384253, 'secretary': 2.7047480922384253, 'secrets': 2.7047480922384253, 'security': 2.7047480922384253, 'seem': 2.7047480922384253, 'seemed': 2.7047480922384253, 'self': 2.7047480922384253, 'send': 2.7047480922384253, 'senior': 2.7047480922384253, 'separately': 2.7047480922384253, 'sergeant': 2.7047480922384253, 'series': 2.7047480922384253, 'service': 2.7047480922384253, 'services': 2.7047480922384253, 'hiss': 2.7047480922384253, 'état': 2.7047480922384253, 'hired': 2.7047480922384253, 'box': 2.7047480922384253, 'british': 2.7047480922384253, 'brien': 2.7047480922384253, 'bridge': 2.7047480922384253, 'brett': 2.7047480922384253, 'break': 2.7047480922384253, 'brazil': 2.7047480922384253, 'both': 2.7047480922384253, 'board': 2.7047480922384253, 'borrowed': 2.7047480922384253, 'borough': 2.7047480922384253, 'border': 2.7047480922384253, 'boorman': 2.7047480922384253, 'books': 2.7047480922384253, 'bodies': 2.7047480922384253, 'bronx': 2.7047480922384253, 'brooklyn': 2.7047480922384253, 'brought': 2.7047480922384253, 'bureau': 2.7047480922384253, 'burman': 2.7047480922384253, 'burnaby': 2.7047480922384253, 'bush': 2.7047480922384253, 'byl': 2.7047480922384253, 'cabinet': 2.7047480922384253, 'cady': 2.7047480922384253, 'call': 2.7047480922384253, 'called': 2.7047480922384253, 'campaign': 2.7047480922384253, 'can': 2.7047480922384253, 'canadian': 2.7047480922384253, 'car': 2.7047480922384253, 'cariboo': 2.7047480922384253, 'bob': 2.7047480922384253, 'blackboard': 2.7047480922384253, 'cash': 2.7047480922384253, 'atomic': 2.7047480922384253, 'australian': 2.7047480922384253, 'august': 2.7047480922384253, 'attribution': 2.7047480922384253, 'attended': 2.7047480922384253, 'attempts': 2.7047480922384253, 'attack': 2.7047480922384253, 'associations': 2.7047480922384253, 'black': 2.7047480922384253, 'associated': 2.7047480922384253, 'assistance': 2.7047480922384253, 'assassinations': 2.7047480922384253, 'arranging': 2.7047480922384253, 'arranged': 2.7047480922384253, 'around': 2.7047480922384253, 'authored': 2.7047480922384253, 'available': 2.7047480922384253, 'award': 2.7047480922384253, 'back': 2.7047480922384253, 'background': 2.7047480922384253, 'bangui': 2.7047480922384253, 'banks': 2.7047480922384253, 'barcome': 2.7047480922384253, 'basic': 2.7047480922384253, 'became': 2.7047480922384253, 'because': 2.7047480922384253, 'bedell': 2.7047480922384253, 'bernard': 2.7047480922384253, 'bigger': 2.7047480922384253, 'bilateral': 2.7047480922384253, 'bird': 2.7047480922384253, 'birth': 2.7047480922384253, 'carr': 2.7047480922384253, 'cashmore': 2.7047480922384253, 'contrast': 2.7047480922384253, 'communists': 2.7047480922384253, 'comprised': 2.7047480922384253, 'comprise': 2.7047480922384253, 'composed': 2.7047480922384253, 'complexities': 2.7047480922384253, 'completed': 2.7047480922384253, 'company': 2.7047480922384253, 'communist': 2.7047480922384253, 'clients': 2.7047480922384253, 'committee': 2.7047480922384253, 'comes': 2.7047480922384253, 'columbia': 2.7047480922384253, 'coloring': 2.7047480922384253, 'collier': 2.7047480922384253, 'college': 2.7047480922384253, 'computational': 2.7047480922384253, 'computer': 2.7047480922384253, 'condition': 2.7047480922384253, 'conference': 2.7047480922384253, 'confirmed': 2.7047480922384253, 'conflicts': 2.7047480922384253, 'congestion': 2.7047480922384253, 'congo': 2.7047480922384253, 'congolese': 2.7047480922384253, 'congressional': 2.7047480922384253, 'connor': 2.7047480922384253, 'consequently': 2.7047480922384253, 'conservative': 2.7047480922384253, 'conservatives': 2.7047480922384253, 'constituents': 2.7047480922384253, 'continued': 2.7047480922384253, 'contract': 2.7047480922384253, 'cliffs': 2.7047480922384253, 'clay': 2.7047480922384253, 'cast': 2.7047480922384253, 'centre': 2.7047480922384253, 'characterized': 2.7047480922384253, 'change': 2.7047480922384253, 'chambers': 2.7047480922384253, 'chair': 2.7047480922384253, 'chailey': 2.7047480922384253, 'certain': 2.7047480922384253, 'center': 2.7047480922384253, 'class': 2.7047480922384253, 'cemac': 2.7047480922384253, 'celebrating': 2.7047480922384253, 'cedric': 2.7047480922384253, 'cause': 2.7047480922384253, 'catholic': 2.7047480922384253, 'castle': 2.7047480922384253, 'checked': 2.7047480922384253, 'checks': 2.7047480922384253, 'childhood': 2.7047480922384253, 'him': 2.7047480922384253, 'chris': 2.7047480922384253, 'christian': 2.7047480922384253, 'christine': 2.7047480922384253, 'christoph': 2.7047480922384253, 'church': 2.7047480922384253, 'cia': 2.7047480922384253, 'circa': 2.7047480922384253, 'circuit': 2.7047480922384253, 'circumstances': 2.7047480922384253, 'citations': 2.7047480922384253, 'city': 2.7047480922384253, 'civil': 2.7047480922384253, 'clarity': 2.7047480922384253, 'army': 2.7047480922384253, 'armstrong': 2.7047480922384253, 'arms': 2.7047480922384253, '1984': 2.7047480922384253, '1999': 2.7047480922384253, '1998': 2.7047480922384253, '1996': 2.7047480922384253, '1990': 2.7047480922384253, '1989': 2.7047480922384253, '1987': 2.7047480922384253, '1981': 2.7047480922384253, '1952': 2.7047480922384253, '1980': 2.7047480922384253, '1976': 2.7047480922384253, '1974': 2.7047480922384253, '1971': 2.7047480922384253, '1966': 2.7047480922384253, '1956': 2.7047480922384253, '19th': 2.7047480922384253, '200': 2.7047480922384253, '2000': 2.7047480922384253, '2000s': 2.7047480922384253, '2001': 2.7047480922384253, '20036': 2.7047480922384253, '2006': 2.7047480922384253, '2007': 2.7047480922384253, '2008': 2.7047480922384253, '2010': 2.7047480922384253, '2013': 2.7047480922384253, '2014': 2.7047480922384253, '2016': 2.7047480922384253, '2019': 2.7047480922384253, '26': 2.7047480922384253, '29': 2.7047480922384253, '296': 2.7047480922384253, '1954': 2.7047480922384253, '1950': 2.7047480922384253, 'armed': 2.7047480922384253, '09': 2.7047480922384253, '1820': 2.7047480922384253, '16th': 2.7047480922384253, '1520': 2.7047480922384253, '150': 2.7047480922384253, '100': 2.7047480922384253, '10': 2.7047480922384253, '08': 2.7047480922384253, '1945': 2.7047480922384253, '07': 2.7047480922384253, '06': 2.7047480922384253, '05': 2.7047480922384253, '04': 2.7047480922384253, '03': 2.7047480922384253, '02': 2.7047480922384253, '1831': 2.7047480922384253, '1850': 2.7047480922384253, '1854': 2.7047480922384253, '1856': 2.7047480922384253, '1861': 2.7047480922384253, '1869': 2.7047480922384253, '1880': 2.7047480922384253, '1892': 2.7047480922384253, '19': 2.7047480922384253, '1909': 2.7047480922384253, '1912': 2.7047480922384253, '1914': 2.7047480922384253, '1929': 2.7047480922384253, '1935': 2.7047480922384253, '1938': 2.7047480922384253, '1939': 2.7047480922384253, '1942': 2.7047480922384253, '2nd': 2.7047480922384253, '300': 2.7047480922384253, '305': 2.7047480922384253, 'aldermen': 2.7047480922384253, 'almshouse': 2.7047480922384253, 'allen': 2.7047480922384253, 'algorithms': 2.7047480922384253, 'algorithm': 2.7047480922384253, 'alger': 2.7047480922384253, 'alexander': 2.7047480922384253, 'alcoholic': 2.7047480922384253, '341': 2.7047480922384253, 'alch': 2.7047480922384253, 'aide': 2.7047480922384253, 'aid': 2.7047480922384253, 'agents': 2.7047480922384253, 'agent': 2.7047480922384253, 'agenda': 2.7047480922384253, 'although': 2.7047480922384253, 'always': 2.7047480922384253, 'ambassador': 2.7047480922384253, 'america': 2.7047480922384253, 'among': 2.7047480922384253, 'amy': 2.7047480922384253, 'ancilla': 2.7047480922384253, 'anderson': 2.7047480922384253, 'anthologies': 2.7047480922384253, 'anthony': 2.7047480922384253, 'any': 2.7047480922384253, 'appeared': 2.7047480922384253, 'approximates': 2.7047480922384253, 'april': 2.7047480922384253, 'aptitude': 2.7047480922384253, 'archive': 2.7047480922384253, 'aren': 2.7047480922384253, 'agency': 2.7047480922384253, 'against': 2.7047480922384253, 'again': 2.7047480922384253, 'account': 2.7047480922384253, '342': 2.7047480922384253, '370': 2.7047480922384253, '41': 2.7047480922384253, '50': 2.7047480922384253, '61': 2.7047480922384253, '65': 2.7047480922384253, '747': 2.7047480922384253, '75': 2.7047480922384253, '850': 2.7047480922384253, '902': 2.7047480922384253, '907': 2.7047480922384253, 'abolished': 2.7047480922384253, 'above': 2.7047480922384253, 'according': 2.7047480922384253, 'accurate': 2.7047480922384253, 'african': 2.7047480922384253, 'across': 2.7047480922384253, 'acting': 2.7047480922384253, 'activists': 2.7047480922384253, 'activities': 2.7047480922384253, 'actor': 2.7047480922384253, 'acts': 2.7047480922384253, 'adapted': 2.7047480922384253, 'additional': 2.7047480922384253, 'adeniji': 2.7047480922384253, 'adjust': 2.7047480922384253, 'adrian': 2.7047480922384253, 'adult': 2.7047480922384253, 'advancement': 2.7047480922384253, 'advocate': 2.7047480922384253, 'contracting': 2.7047480922384253, 'chiltington': 2.7047480922384253, 'exponentially': 2.7047480922384253, 'english': 2.7047480922384253, 'employed': 2.7047480922384253, 'employment': 2.7047480922384253, 'given': 2.7047480922384253, 'en': 2.7047480922384253, 'girls': 2.7047480922384253, 'getúlio': 2.7047480922384253, 'germain': 2.7047480922384253, 'enabling': 2.7047480922384253, 'engage': 2.7047480922384253, 'engaged': 2.7047480922384253, 'england': 2.7047480922384253, 'gerhart': 2.7047480922384253, 'embassy': 2.7047480922384253, 'entered': 2.7047480922384253, 'gerald': 2.7047480922384253, 'entitled': 2.7047480922384253, 'entry': 2.7047480922384253, 'epsilon': 2.7047480922384253, 'geostatistics': 2.7047480922384253, 'equal': 2.7047480922384253, 'geostatistician': 2.7047480922384253, 'error': 2.7047480922384253, 'especially': 2.7047480922384253, 'establish': 2.7047480922384253, 'emily': 2.7047480922384253, 'go': 2.7047480922384253, 'early': 2.7047480922384253, 'edward': 2.7047480922384253, 'green': 2.7047480922384253, 'economics': 2.7047480922384253, 'greatest': 2.7047480922384253, 'ed': 2.7047480922384253, 'greater': 2.7047480922384253, 'edgar': 2.7047480922384253, 'edge': 2.7047480922384253, 'great': 2.7047480922384253, 'frac': 2.7047480922384253, 'grammar': 2.7047480922384253, 'editor': 2.7047480922384253, 'effects': 2.7047480922384253, 'goal': 2.7047480922384253, 'efficiently': 2.7047480922384253, 'graham': 2.7047480922384253, 'egoff': 2.7047480922384253, 'eigenvalues': 2.7047480922384253, 'eisler': 2.7047480922384253, 'eleazer': 2.7047480922384253, 'elect': 2.7047480922384253, 'elected': 2.7047480922384253, 'grace': 2.7047480922384253, 'governments': 2.7047480922384253, 'gold': 2.7047480922384253, 'estimation': 2.7047480922384253, 'even': 2.7047480922384253, 'evidence': 2.7047480922384253, 'french': 2.7047480922384253, 'fill': 2.7047480922384253, 'finalists': 2.7047480922384253, 'gained': 2.7047480922384253, 'finally': 2.7047480922384253, 'financial': 2.7047480922384253, 'gabriola': 2.7047480922384253, 'fusion': 2.7047480922384253, 'fundação': 2.7047480922384253, 'finding': 2.7047480922384253, 'fund': 2.7047480922384253, 'full': 2.7047480922384253, 'frank': 2.7047480922384253, 'evolution': 2.7047480922384253, 'frances': 2.7047480922384253, 'five': 2.7047480922384253, 'following': 2.7047480922384253, 'follows': 2.7047480922384253, 'football': 2.7047480922384253, 'france': 2.7047480922384253, 'forces': 2.7047480922384253, 'formed': 2.7047480922384253, 'formulas': 2.7047480922384253, 'found': 2.7047480922384253, 'founder': 2.7047480922384253, 'fifteen': 2.7047480922384253, 'feynman': 2.7047480922384253, 'ferris': 2.7047480922384253, 'fensterwald': 2.7047480922384253, 'expansion': 2.7047480922384253, 'geostatistical': 2.7047480922384253, 'geoscientist': 2.7047480922384253, 'expected': 2.7047480922384253, 'explicitly': 2.7047480922384253, 'geosciences': 2.7047480922384253, 'expressed': 2.7047480922384253, 'georges': 2.7047480922384253, 'geologists': 2.7047480922384253, 'expression': 2.7047480922384253, 'geoff': 2.7047480922384253, 'genie': 2.7047480922384253, 'fardc': 2.7047480922384253, 'father': 2.7047480922384253, 'fbi': 2.7047480922384253, 'gave': 2.7047480922384253, 'february': 2.7047480922384253, 'gauntlett': 2.7047480922384253, 'federal': 2.7047480922384253, 'gate': 2.7047480922384253, 'gaspard': 2.7047480922384253, 'games': 2.7047480922384253, 'female': 2.7047480922384253, 'east': 2.7047480922384253, 'grandfather': 2.7047480922384253, 'harold': 2.7047480922384253, 'have': 2.7047480922384253, 'davis': 2.7047480922384253, 'help': 2.7047480922384253, 'held': 2.7047480922384253, 'dawn': 2.7047480922384253, 'day': 2.7047480922384253, 'heart': 2.7047480922384253, 'dc': 2.7047480922384253, 'de': 2.7047480922384253, 'dealing': 2.7047480922384253, 'health': 2.7047480922384253, 'death': 2.7047480922384253, 'decade': 2.7047480922384253, 'davey': 2.7047480922384253, 'december': 2.7047480922384253, 'decompose': 2.7047480922384253, 'decompositions': 2.7047480922384253, 'deep': 2.7047480922384253, 'hanácký': 2.7047480922384253, 'degree': 2.7047480922384253, 'degrees': 2.7047480922384253, 'demand': 2.7047480922384253, 'demands': 2.7047480922384253, 'hamsey': 2.7047480922384253, 'democrat': 2.7047480922384253, 'david': 2.7047480922384253, 'daughters': 2.7047480922384253, 'hamiltonin': 2.7047480922384253, 'country': 2.7047480922384253, 'herma': 2.7047480922384253, 'control': 2.7047480922384253, 'convention': 2.7047480922384253, 'cooperated': 2.7047480922384253, 'cooperation': 2.7047480922384253, 'corpse': 2.7047480922384253, 'herbert': 2.7047480922384253, 'councillors': 2.7047480922384253, 'count': 2.7047480922384253, 'helping': 2.7047480922384253, 'countries': 2.7047480922384253, 'county': 2.7047480922384253, 'daughter': 2.7047480922384253, 'coup': 2.7047480922384253, 'couple': 2.7047480922384253, 'courses': 2.7047480922384253, 'crawfordsville': 2.7047480922384253, 'credibility': 2.7047480922384253, 'crises': 2.7047480922384253, 'crossed': 2.7047480922384253, 'ctia': 2.7047480922384253, 'cultural': 2.7047480922384253, 'current': 2.7047480922384253, 'czech': 2.7047480922384253, 'democratic': 2.7047480922384253, 'four': 2.7047480922384253, 'hamiltonians': 2.7047480922384253, 'gss': 2.7047480922384253, 'done': 2.7047480922384253, 'detective': 2.7047480922384253, 'h_': 2.7047480922384253, 'guide': 2.7047480922384253, 'diploma': 2.7047480922384253, 'griffiths': 2.7047480922384253, 'director': 2.7047480922384253, 'guard': 2.7047480922384253, 'discoveries': 2.7047480922384253, 'dozen': 2.7047480922384253, 'discuss': 2.7047480922384253, 'diseases': 2.7047480922384253, 'doesn': 2.7047480922384253, 'dismissed': 2.7047480922384253, 'distributed': 2.7047480922384253, 'grow': 2.7047480922384253, 'ditchling': 2.7047480922384253, 'doctorate': 2.7047480922384253, 'down': 2.7047480922384253, 'did': 2.7047480922384253, 'depends': 2.7047480922384253, 'due': 2.7047480922384253, 'duncan': 2.7047480922384253, 'duhigg': 2.7047480922384253, 'dragonhunt': 2.7047480922384253, 'greens': 2.7047480922384253, 'h_j': 2.7047480922384253, 'department': 2.7047480922384253, 'denis': 2.7047480922384253, 'des': 2.7047480922384253, 'described': 2.7047480922384253, 'dropped': 2.7047480922384253, 'drc': 2.7047480922384253, 'hamiltonian': 2.7047480922384253, 'detailed': 2.7047480922384253, 'dutch': 2.7047480922384253, 'important': 2.2992829841302607, '1948': 2.2992829841302607, 'would': 2.2992829841302607, 'washington': 2.2992829841302607, 'years': 2.2992829841302607, 'wrote': 2.2992829841302607, 'writers': 2.2992829841302607, '1937': 2.2992829841302607, 'home': 2.2992829841302607, 'vice': 2.2992829841302607, 'helped': 2.2992829841302607, 'about': 2.2992829841302607, 'works': 2.2992829841302607, '1973': 2.2992829841302607, 'teaching': 2.2992829841302607, 'graduate': 2.2992829841302607, 'working': 2.2992829841302607, 'information': 2.2992829841302607, '2005': 2.2992829841302607, 'what': 2.2992829841302607, 'its': 2.2992829841302607, 'whose': 2.2992829841302607, '2002': 2.2992829841302607, '2011': 2.2992829841302607, '1947': 2.2992829841302607, 'under': 2.2992829841302607, '20': 2.2992829841302607, 'james': 2.2992829841302607, 'january': 2.2992829841302607, 'jim': 2.2992829841302607, 'william': 2.2992829841302607, '20th': 2.2992829841302607, '21': 2.2992829841302607, 'than': 2.2992829841302607, 'george': 2.2992829841302607, 'house': 2.2992829841302607, '1982': 2.2992829841302607, 'terms': 2.2992829841302607, 'general': 2.2992829841302607, '2004': 2.2992829841302607, 'worked': 2.2992829841302607, 'various': 2.2992829841302607, '1977': 2.2992829841302607, 'including': 2.2992829841302607, 'contributed': 2.2992829841302607, 'elections': 2.2992829841302607, 'association': 2.2992829841302607, 'each': 2.2992829841302607, 'members': 2.2992829841302607, 'returned': 2.2992829841302607, 'richard': 2.2992829841302607, 'edited': 2.2992829841302607, 'robert': 2.2992829841302607, 'robinson': 2.2992829841302607, 'book': 2.2992829841302607, 'education': 2.2992829841302607, 'bibliography': 2.2992829841302607, 'between': 2.2992829841302607, 'election': 2.2992829841302607, 'elizabeth': 2.2992829841302607, 'master': 2.2992829841302607, 'bachelor': 2.2992829841302607, 'margaret': 2.2992829841302607, 'many': 2.2992829841302607, 'see': 2.2992829841302607, 'author': 2.2992829841302607, 'manhattan': 2.2992829841302607, 'attorney': 2.2992829841302607, 'republican': 2.2992829841302607, 'remained': 2.2992829841302607, 'but': 2.2992829841302607, 'novelists': 2.2992829841302607, 'over': 2.2992829841302607, 'council': 2.2992829841302607, 'or': 2.2992829841302607, 'party': 2.2992829841302607, 'one': 2.2992829841302607, 'personal': 2.2992829841302607, 'complexity': 2.2992829841302607, 'novels': 2.2992829841302607, 'poems': 2.2992829841302607, 'nine': 2.2992829841302607, 'district': 2.2992829841302607, 'children': 2.2992829841302607, 'new': 2.2992829841302607, 'needed': 2.2992829841302607, 'chairman': 2.2992829841302607, 'nature': 2.2992829841302607, 'democrats': 2.2992829841302607, 'central': 2.2992829841302607, 'died': 2.2992829841302607, 'career': 2.2992829841302607, 'majority': 2.2992829841302607, '000': 2.2992829841302607, 'links': 2.2992829841302607, 'six': 2.2992829841302607, 'external': 2.2992829841302607, 'life': 2.2992829841302607, 'allowed': 2.2992829841302607, 'state': 2.2992829841302607, 'statement': 2.2992829841302607, 'fiction': 2.2992829841302607, 'living': 2.2992829841302607, 'associate': 2.2992829841302607, 'leader': 2.2992829841302607, 'find': 2.2992829841302607, 'since': 2.2992829841302607, 'lord': 2.2992829841302607, 'are': 2.2992829841302607, 'studied': 2.2992829841302607, 'applied': 2.2992829841302607, 'anne': 2.2992829841302607, 'studies': 2.2992829841302607, 'so': 2.2992829841302607, 'study': 2.2992829841302607, 'largest': 2.2992829841302607, 'age': 2.2992829841302607, 'large': 2.2992829841302607, 'american': 2.01160091167848, 'case': 2.01160091167848, 'national': 2.01160091167848, 'he': 2.01160091167848, 'when': 2.01160091167848, 'had': 2.01160091167848, 'deaths': 2.01160091167848, 'other': 2.01160091167848, 'non': 2.01160091167848, 'co': 2.01160091167848, 'office': 2.01160091167848, 'writer': 2.01160091167848, 'results': 2.01160091167848, 'it': 2.01160091167848, 'john': 2.01160091167848, 'short': 2.01160091167848, 'local': 2.01160091167848, 'international': 2.01160091167848, 'university': 2.01160091167848, 'been': 2.01160091167848, 'graduated': 2.01160091167848, 'before': 2.01160091167848, '21st': 2.01160091167848, 'three': 2.01160091167848, 'births': 2.01160091167848, 'this': 2.01160091167848, 'born': 2.01160091167848, 'two': 2.01160091167848, '1972': 2.01160091167848, '2003': 2.01160091167848, 'there': 2.01160091167848, 'then': 2.01160091167848, '2009': 2.01160091167848, 'women': 1.7884573603642702, 'be': 1.7884573603642702, 'she': 1.7884573603642702, 'not': 1.7884573603642702, 'people': 1.7884573603642702, 'into': 1.7884573603642702, 'served': 1.7884573603642702, 'her': 1.7884573603642702, 'has': 1.7884573603642702, 'school': 1.7884573603642702, 'after': 1.7884573603642702, 'time': 1.7884573603642702, 'which': 1.7884573603642702, 'who': 1.7884573603642702, 'that': 1.7884573603642702, 'were': 1.7884573603642702, 'during': 1.7884573603642702, 'century': 1.7884573603642702, 'alumni': 1.7884573603642702, 'first': 1.6061358035703155, 'is': 1.6061358035703155, 'from': 1.6061358035703155, 'also': 1.4519851237430572, 'by': 1.4519851237430572, 'with': 1.3184537311185345, 'at': 1.3184537311185345, 'an': 1.3184537311185345, 'on': 1.2006706954621513, 'for': 1.2006706954621513, 'was': 1.2006706954621513, 'as': 1.095310179804325, 'to': 1.095310179804325, 'in': 1.0, 'of': 1.0, 'references': 1.0, 'the': 1.0, 'and': 1.0}])"
      ]
     },
     "execution_count": 116,
     "metadata": {},
     "output_type": "execute_result"
    }
   ],
   "source": [
    "words_difficulty.values()"
   ]
  },
  {
   "cell_type": "code",
   "execution_count": 113,
   "metadata": {},
   "outputs": [
    {
     "ename": "ValueError",
     "evalue": "too many values to unpack (expected 2)",
     "output_type": "error",
     "traceback": [
      "\u001b[0;31m---------------------------------------------------------------------------\u001b[0m",
      "\u001b[0;31mValueError\u001b[0m                                Traceback (most recent call last)",
      "\u001b[0;32m<ipython-input-113-d28c0cdc1c00>\u001b[0m in \u001b[0;36m<module>\u001b[0;34m\u001b[0m\n\u001b[1;32m      3\u001b[0m \u001b[0mtwo\u001b[0m \u001b[0;34m=\u001b[0m \u001b[0;34m[\u001b[0m\u001b[0;34m]\u001b[0m\u001b[0;34m\u001b[0m\u001b[0;34m\u001b[0m\u001b[0m\n\u001b[1;32m      4\u001b[0m \u001b[0mone\u001b[0m \u001b[0;34m=\u001b[0m \u001b[0;34m[\u001b[0m\u001b[0;34m]\u001b[0m\u001b[0;34m\u001b[0m\u001b[0;34m\u001b[0m\u001b[0m\n\u001b[0;32m----> 5\u001b[0;31m \u001b[0;32mfor\u001b[0m \u001b[0mkey\u001b[0m\u001b[0;34m,\u001b[0m \u001b[0mvalue\u001b[0m \u001b[0;32min\u001b[0m \u001b[0mwords_difficulty\u001b[0m\u001b[0;34m:\u001b[0m\u001b[0;34m\u001b[0m\u001b[0;34m\u001b[0m\u001b[0m\n\u001b[0m\u001b[1;32m      6\u001b[0m     \u001b[0;32mif\u001b[0m \u001b[0mvalue\u001b[0m \u001b[0;34m>\u001b[0m \u001b[0;36m2.704748\u001b[0m\u001b[0;34m:\u001b[0m\u001b[0;34m\u001b[0m\u001b[0;34m\u001b[0m\u001b[0m\n\u001b[1;32m      7\u001b[0m         \u001b[0mfour\u001b[0m\u001b[0;34m.\u001b[0m\u001b[0mappend\u001b[0m\u001b[0;34m(\u001b[0m\u001b[0mkey\u001b[0m\u001b[0;34m,\u001b[0m\u001b[0mvalue\u001b[0m\u001b[0;34m)\u001b[0m\u001b[0;34m\u001b[0m\u001b[0;34m\u001b[0m\u001b[0m\n",
      "\u001b[0;31mValueError\u001b[0m: too many values to unpack (expected 2)"
     ]
    }
   ],
   "source": [
    "four = []\n",
    "three = []\n",
    "two = []\n",
    "one = []\n",
    "for key, value in words_difficulty:\n",
    "    if value > 2.704748: \n",
    "        four.append(key,value)\n",
    "    elif 2.704748 >= value > 2.612536:\n",
    "        three.append(key,value)\n",
    "    elif 2.612536 >= value > 2:\n",
    "        two.append(key,value)\n",
    "    elif value <= 2:\n",
    "        one.append(key,value)\n",
    "        "
   ]
  },
  {
   "cell_type": "code",
   "execution_count": 92,
   "metadata": {},
   "outputs": [
    {
     "data": {
      "text/html": [
       "<div>\n",
       "<style scoped>\n",
       "    .dataframe tbody tr th:only-of-type {\n",
       "        vertical-align: middle;\n",
       "    }\n",
       "\n",
       "    .dataframe tbody tr th {\n",
       "        vertical-align: top;\n",
       "    }\n",
       "\n",
       "    .dataframe thead th {\n",
       "        text-align: right;\n",
       "    }\n",
       "</style>\n",
       "<table border=\"1\" class=\"dataframe\">\n",
       "  <thead>\n",
       "    <tr style=\"text-align: right;\">\n",
       "      <th></th>\n",
       "      <th>tf_idf_weights</th>\n",
       "    </tr>\n",
       "  </thead>\n",
       "  <tbody>\n",
       "    <tr>\n",
       "      <th>count</th>\n",
       "      <td>1240.000000</td>\n",
       "    </tr>\n",
       "    <tr>\n",
       "      <th>mean</th>\n",
       "      <td>2.612536</td>\n",
       "    </tr>\n",
       "    <tr>\n",
       "      <th>std</th>\n",
       "      <td>0.253604</td>\n",
       "    </tr>\n",
       "    <tr>\n",
       "      <th>min</th>\n",
       "      <td>1.000000</td>\n",
       "    </tr>\n",
       "    <tr>\n",
       "      <th>25%</th>\n",
       "      <td>2.704748</td>\n",
       "    </tr>\n",
       "    <tr>\n",
       "      <th>50%</th>\n",
       "      <td>2.704748</td>\n",
       "    </tr>\n",
       "    <tr>\n",
       "      <th>75%</th>\n",
       "      <td>2.704748</td>\n",
       "    </tr>\n",
       "    <tr>\n",
       "      <th>max</th>\n",
       "      <td>2.704748</td>\n",
       "    </tr>\n",
       "  </tbody>\n",
       "</table>\n",
       "</div>"
      ],
      "text/plain": [
       "       tf_idf_weights\n",
       "count     1240.000000\n",
       "mean         2.612536\n",
       "std          0.253604\n",
       "min          1.000000\n",
       "25%          2.704748\n",
       "50%          2.704748\n",
       "75%          2.704748\n",
       "max          2.704748"
      ]
     },
     "execution_count": 92,
     "metadata": {},
     "output_type": "execute_result"
    }
   ],
   "source": [
    "df_idf.describe()"
   ]
  },
  {
   "cell_type": "code",
   "execution_count": null,
   "metadata": {},
   "outputs": [],
   "source": [
    "def split_text(text):\n",
    "    \"\"\" \n",
    "    Takes in a corpus and counts how many words are part of a list of words in the 75th+ percentile of sample_text\n",
    "    , counts how many words are part of a list of words in the 50-75th+ percentile of sample_text\n",
    "    , counts how many words are part of a list of words in the 25-50th+ percentile of sample_text\n",
    "    , counts how many words are part of a list of words in the 0-25th percentile of sample_text\n",
    "    \"\"\"\n",
    "    for i in ___: \n",
    "        if "
   ]
  },
  {
   "cell_type": "code",
   "execution_count": null,
   "metadata": {},
   "outputs": [],
   "source": []
  },
  {
   "cell_type": "code",
   "execution_count": null,
   "metadata": {},
   "outputs": [],
   "source": []
  },
  {
   "cell_type": "code",
   "execution_count": null,
   "metadata": {},
   "outputs": [],
   "source": []
  },
  {
   "cell_type": "code",
   "execution_count": null,
   "metadata": {},
   "outputs": [],
   "source": []
  },
  {
   "cell_type": "code",
   "execution_count": null,
   "metadata": {},
   "outputs": [],
   "source": []
  },
  {
   "cell_type": "code",
   "execution_count": null,
   "metadata": {},
   "outputs": [],
   "source": []
  },
  {
   "cell_type": "code",
   "execution_count": 42,
   "metadata": {},
   "outputs": [
    {
     "name": "stderr",
     "output_type": "stream",
     "text": [
      "[nltk_data] Downloading package wordnet to\n",
      "[nltk_data]     /Users/sherzyang/nltk_data...\n",
      "[nltk_data]   Package wordnet is already up-to-date!\n"
     ]
    },
    {
     "data": {
      "text/plain": [
       "True"
      ]
     },
     "execution_count": 42,
     "metadata": {},
     "output_type": "execute_result"
    }
   ],
   "source": [
    "import gensim\n",
    "from gensim.utils import simple_preprocess\n",
    "from gensim.parsing.preprocessing import STOPWORDS\n",
    "from nltk.stem import WordNetLemmatizer, SnowballStemmer\n",
    "from nltk.stem.porter import *\n",
    "import numpy as np\n",
    "np.random.seed(2018)\n",
    "import nltk\n",
    "nltk.download('wordnet')"
   ]
  },
  {
   "cell_type": "code",
   "execution_count": null,
   "metadata": {},
   "outputs": [],
   "source": []
  },
  {
   "cell_type": "code",
   "execution_count": null,
   "metadata": {},
   "outputs": [],
   "source": []
  },
  {
   "cell_type": "code",
   "execution_count": null,
   "metadata": {},
   "outputs": [],
   "source": []
  },
  {
   "cell_type": "code",
   "execution_count": null,
   "metadata": {},
   "outputs": [],
   "source": []
  }
 ],
 "metadata": {
  "kernelspec": {
   "display_name": "Python 3",
   "language": "python",
   "name": "python3"
  },
  "language_info": {
   "codemirror_mode": {
    "name": "ipython",
    "version": 3
   },
   "file_extension": ".py",
   "mimetype": "text/x-python",
   "name": "python",
   "nbconvert_exporter": "python",
   "pygments_lexer": "ipython3",
   "version": "3.7.3"
  }
 },
 "nbformat": 4,
 "nbformat_minor": 2
}
