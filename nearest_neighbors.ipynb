{
 "cells": [
  {
   "cell_type": "markdown",
   "metadata": {},
   "source": [
    "## Load Files and Vectorize "
   ]
  },
  {
   "cell_type": "code",
   "execution_count": 26,
   "metadata": {},
   "outputs": [],
   "source": [
    "import os\n",
    "import numpy as np\n",
    "import pandas as pd\n",
    "import pickle\n",
    "from sklearn.feature_extraction.text import TfidfVectorizer\n",
    "from scipy.spatial.distance import cosine, cdist"
   ]
  },
  {
   "cell_type": "code",
   "execution_count": 27,
   "metadata": {},
   "outputs": [],
   "source": [
    "with open(r\"data/df_corpus2.pkl\", \"rb\") as input_file:\n",
    "    df_corpus2 = pickle.load(input_file)"
   ]
  },
  {
   "cell_type": "code",
   "execution_count": 28,
   "metadata": {},
   "outputs": [
    {
     "ename": "ValueError",
     "evalue": "could not convert string to float: 'Doubles is a common street food of Trinidadian origin. It is a common breakfast item and snack of locals made with two baras (flat fried dough) filled with curry channa (curried chickpeas). Doubles was first created in Fairfield, Princes Town by Emamool Deen (a.k.a. Mamudeen).\\n\\nSee also\\nCuisine of Trinidad and Tobago\\n\\nReferences\\nExternal links\\nThe Origin of Trinidad\\nDoubles Recipe'",
     "output_type": "error",
     "traceback": [
      "\u001b[0;31m---------------------------------------------------------------------------\u001b[0m",
      "\u001b[0;31mValueError\u001b[0m                                Traceback (most recent call last)",
      "\u001b[0;32m<ipython-input-28-20ff5d9bc96a>\u001b[0m in \u001b[0;36m<module>\u001b[0;34m\u001b[0m\n\u001b[1;32m      1\u001b[0m \u001b[0;32mfrom\u001b[0m \u001b[0msklearn\u001b[0m\u001b[0;34m.\u001b[0m\u001b[0mcluster\u001b[0m \u001b[0;32mimport\u001b[0m \u001b[0mKMeans\u001b[0m \u001b[0;31m# import from sklearn\u001b[0m\u001b[0;34m\u001b[0m\u001b[0;34m\u001b[0m\u001b[0m\n\u001b[1;32m      2\u001b[0m \u001b[0mk_means\u001b[0m \u001b[0;34m=\u001b[0m \u001b[0mKMeans\u001b[0m\u001b[0;34m(\u001b[0m\u001b[0mn_clusters\u001b[0m\u001b[0;34m=\u001b[0m\u001b[0;36m3\u001b[0m\u001b[0;34m)\u001b[0m \u001b[0;31m# Must set number of clusters at initialization time!\u001b[0m\u001b[0;34m\u001b[0m\u001b[0;34m\u001b[0m\u001b[0m\n\u001b[0;32m----> 3\u001b[0;31m \u001b[0mk_means\u001b[0m\u001b[0;34m.\u001b[0m\u001b[0mfit\u001b[0m\u001b[0;34m(\u001b[0m\u001b[0mdf_corpus2\u001b[0m\u001b[0;34m)\u001b[0m \u001b[0;31m# Run the clustering algorithm\u001b[0m\u001b[0;34m\u001b[0m\u001b[0;34m\u001b[0m\u001b[0m\n\u001b[0m\u001b[1;32m      4\u001b[0m \u001b[0mcluster_assignments\u001b[0m \u001b[0;34m=\u001b[0m \u001b[0mk_means\u001b[0m\u001b[0;34m.\u001b[0m\u001b[0mpredict\u001b[0m\u001b[0;34m(\u001b[0m\u001b[0mdf_corpus2\u001b[0m\u001b[0;34m)\u001b[0m\u001b[0;34m\u001b[0m\u001b[0;34m\u001b[0m\u001b[0m\n",
      "\u001b[0;32m~/anaconda3/lib/python3.6/site-packages/sklearn/cluster/k_means_.py\u001b[0m in \u001b[0;36mfit\u001b[0;34m(self, X, y, sample_weight)\u001b[0m\n\u001b[1;32m    967\u001b[0m                 \u001b[0mtol\u001b[0m\u001b[0;34m=\u001b[0m\u001b[0mself\u001b[0m\u001b[0;34m.\u001b[0m\u001b[0mtol\u001b[0m\u001b[0;34m,\u001b[0m \u001b[0mrandom_state\u001b[0m\u001b[0;34m=\u001b[0m\u001b[0mrandom_state\u001b[0m\u001b[0;34m,\u001b[0m \u001b[0mcopy_x\u001b[0m\u001b[0;34m=\u001b[0m\u001b[0mself\u001b[0m\u001b[0;34m.\u001b[0m\u001b[0mcopy_x\u001b[0m\u001b[0;34m,\u001b[0m\u001b[0;34m\u001b[0m\u001b[0;34m\u001b[0m\u001b[0m\n\u001b[1;32m    968\u001b[0m                 \u001b[0mn_jobs\u001b[0m\u001b[0;34m=\u001b[0m\u001b[0mself\u001b[0m\u001b[0;34m.\u001b[0m\u001b[0mn_jobs\u001b[0m\u001b[0;34m,\u001b[0m \u001b[0malgorithm\u001b[0m\u001b[0;34m=\u001b[0m\u001b[0mself\u001b[0m\u001b[0;34m.\u001b[0m\u001b[0malgorithm\u001b[0m\u001b[0;34m,\u001b[0m\u001b[0;34m\u001b[0m\u001b[0;34m\u001b[0m\u001b[0m\n\u001b[0;32m--> 969\u001b[0;31m                 return_n_iter=True)\n\u001b[0m\u001b[1;32m    970\u001b[0m         \u001b[0;32mreturn\u001b[0m \u001b[0mself\u001b[0m\u001b[0;34m\u001b[0m\u001b[0;34m\u001b[0m\u001b[0m\n\u001b[1;32m    971\u001b[0m \u001b[0;34m\u001b[0m\u001b[0m\n",
      "\u001b[0;32m~/anaconda3/lib/python3.6/site-packages/sklearn/cluster/k_means_.py\u001b[0m in \u001b[0;36mk_means\u001b[0;34m(X, n_clusters, sample_weight, init, precompute_distances, n_init, max_iter, verbose, tol, random_state, copy_x, n_jobs, algorithm, return_n_iter)\u001b[0m\n\u001b[1;32m    307\u001b[0m     \u001b[0morder\u001b[0m \u001b[0;34m=\u001b[0m \u001b[0;34m\"C\"\u001b[0m \u001b[0;32mif\u001b[0m \u001b[0mcopy_x\u001b[0m \u001b[0;32melse\u001b[0m \u001b[0;32mNone\u001b[0m\u001b[0;34m\u001b[0m\u001b[0;34m\u001b[0m\u001b[0m\n\u001b[1;32m    308\u001b[0m     X = check_array(X, accept_sparse='csr', dtype=[np.float64, np.float32],\n\u001b[0;32m--> 309\u001b[0;31m                     order=order, copy=copy_x)\n\u001b[0m\u001b[1;32m    310\u001b[0m     \u001b[0;31m# verify that the number of samples given is larger than k\u001b[0m\u001b[0;34m\u001b[0m\u001b[0;34m\u001b[0m\u001b[0;34m\u001b[0m\u001b[0m\n\u001b[1;32m    311\u001b[0m     \u001b[0;32mif\u001b[0m \u001b[0m_num_samples\u001b[0m\u001b[0;34m(\u001b[0m\u001b[0mX\u001b[0m\u001b[0;34m)\u001b[0m \u001b[0;34m<\u001b[0m \u001b[0mn_clusters\u001b[0m\u001b[0;34m:\u001b[0m\u001b[0;34m\u001b[0m\u001b[0;34m\u001b[0m\u001b[0m\n",
      "\u001b[0;32m~/anaconda3/lib/python3.6/site-packages/sklearn/utils/validation.py\u001b[0m in \u001b[0;36mcheck_array\u001b[0;34m(array, accept_sparse, accept_large_sparse, dtype, order, copy, force_all_finite, ensure_2d, allow_nd, ensure_min_samples, ensure_min_features, warn_on_dtype, estimator)\u001b[0m\n\u001b[1;32m    494\u001b[0m             \u001b[0;32mtry\u001b[0m\u001b[0;34m:\u001b[0m\u001b[0;34m\u001b[0m\u001b[0;34m\u001b[0m\u001b[0m\n\u001b[1;32m    495\u001b[0m                 \u001b[0mwarnings\u001b[0m\u001b[0;34m.\u001b[0m\u001b[0msimplefilter\u001b[0m\u001b[0;34m(\u001b[0m\u001b[0;34m'error'\u001b[0m\u001b[0;34m,\u001b[0m \u001b[0mComplexWarning\u001b[0m\u001b[0;34m)\u001b[0m\u001b[0;34m\u001b[0m\u001b[0;34m\u001b[0m\u001b[0m\n\u001b[0;32m--> 496\u001b[0;31m                 \u001b[0marray\u001b[0m \u001b[0;34m=\u001b[0m \u001b[0mnp\u001b[0m\u001b[0;34m.\u001b[0m\u001b[0masarray\u001b[0m\u001b[0;34m(\u001b[0m\u001b[0marray\u001b[0m\u001b[0;34m,\u001b[0m \u001b[0mdtype\u001b[0m\u001b[0;34m=\u001b[0m\u001b[0mdtype\u001b[0m\u001b[0;34m,\u001b[0m \u001b[0morder\u001b[0m\u001b[0;34m=\u001b[0m\u001b[0morder\u001b[0m\u001b[0;34m)\u001b[0m\u001b[0;34m\u001b[0m\u001b[0;34m\u001b[0m\u001b[0m\n\u001b[0m\u001b[1;32m    497\u001b[0m             \u001b[0;32mexcept\u001b[0m \u001b[0mComplexWarning\u001b[0m\u001b[0;34m:\u001b[0m\u001b[0;34m\u001b[0m\u001b[0;34m\u001b[0m\u001b[0m\n\u001b[1;32m    498\u001b[0m                 raise ValueError(\"Complex data not supported\\n\"\n",
      "\u001b[0;32m~/anaconda3/lib/python3.6/site-packages/numpy/core/numeric.py\u001b[0m in \u001b[0;36masarray\u001b[0;34m(a, dtype, order)\u001b[0m\n\u001b[1;32m    536\u001b[0m \u001b[0;34m\u001b[0m\u001b[0m\n\u001b[1;32m    537\u001b[0m     \"\"\"\n\u001b[0;32m--> 538\u001b[0;31m     \u001b[0;32mreturn\u001b[0m \u001b[0marray\u001b[0m\u001b[0;34m(\u001b[0m\u001b[0ma\u001b[0m\u001b[0;34m,\u001b[0m \u001b[0mdtype\u001b[0m\u001b[0;34m,\u001b[0m \u001b[0mcopy\u001b[0m\u001b[0;34m=\u001b[0m\u001b[0;32mFalse\u001b[0m\u001b[0;34m,\u001b[0m \u001b[0morder\u001b[0m\u001b[0;34m=\u001b[0m\u001b[0morder\u001b[0m\u001b[0;34m)\u001b[0m\u001b[0;34m\u001b[0m\u001b[0;34m\u001b[0m\u001b[0m\n\u001b[0m\u001b[1;32m    539\u001b[0m \u001b[0;34m\u001b[0m\u001b[0m\n\u001b[1;32m    540\u001b[0m \u001b[0;34m\u001b[0m\u001b[0m\n",
      "\u001b[0;31mValueError\u001b[0m: could not convert string to float: 'Doubles is a common street food of Trinidadian origin. It is a common breakfast item and snack of locals made with two baras (flat fried dough) filled with curry channa (curried chickpeas). Doubles was first created in Fairfield, Princes Town by Emamool Deen (a.k.a. Mamudeen).\\n\\nSee also\\nCuisine of Trinidad and Tobago\\n\\nReferences\\nExternal links\\nThe Origin of Trinidad\\nDoubles Recipe'"
     ]
    }
   ],
   "source": [
    "from sklearn.cluster import KMeans # import from sklearn\n",
    "k_means = KMeans(n_clusters=3) # Must set number of clusters at initialization time!\n",
    "k_means.fit(df_corpus2) # Run the clustering algorithm\n",
    "cluster_assignments = k_means.predict(df_corpus2)"
   ]
  },
  {
   "cell_type": "code",
   "execution_count": null,
   "metadata": {},
   "outputs": [],
   "source": []
  },
  {
   "cell_type": "code",
   "execution_count": null,
   "metadata": {},
   "outputs": [],
   "source": []
  },
  {
   "cell_type": "code",
   "execution_count": null,
   "metadata": {},
   "outputs": [],
   "source": []
  },
  {
   "cell_type": "code",
   "execution_count": null,
   "metadata": {},
   "outputs": [],
   "source": []
  },
  {
   "cell_type": "code",
   "execution_count": null,
   "metadata": {},
   "outputs": [],
   "source": []
  },
  {
   "cell_type": "code",
   "execution_count": null,
   "metadata": {},
   "outputs": [],
   "source": []
  },
  {
   "cell_type": "code",
   "execution_count": null,
   "metadata": {},
   "outputs": [],
   "source": []
  },
  {
   "cell_type": "code",
   "execution_count": null,
   "metadata": {},
   "outputs": [],
   "source": []
  },
  {
   "cell_type": "code",
   "execution_count": null,
   "metadata": {},
   "outputs": [],
   "source": []
  },
  {
   "cell_type": "code",
   "execution_count": null,
   "metadata": {},
   "outputs": [],
   "source": []
  },
  {
   "cell_type": "code",
   "execution_count": 48,
   "metadata": {},
   "outputs": [],
   "source": [
    "vec = TfidfVectorizer(stop_words='english', max_features=10)"
   ]
  },
  {
   "cell_type": "code",
   "execution_count": 49,
   "metadata": {},
   "outputs": [],
   "source": [
    "vec = vec.fit(df_corpus2['content'])"
   ]
  },
  {
   "cell_type": "code",
   "execution_count": 50,
   "metadata": {},
   "outputs": [],
   "source": [
    "#vec.vocabulary_"
   ]
  },
  {
   "cell_type": "code",
   "execution_count": 51,
   "metadata": {},
   "outputs": [],
   "source": [
    "corpus2_vectors = vec.transform(df_corpus2['content']).toarray()"
   ]
  },
  {
   "cell_type": "code",
   "execution_count": 52,
   "metadata": {},
   "outputs": [],
   "source": [
    "user_doc = \"A watermelon is a type of edible fruit, they are 92% water. About 6% of a watermelon is sugar, which makes it very sweet. There are many different types of watermelon. Some have a green rind on the outside and a red-pink flesh on the inside, with brown seeds. Some can have yellow flesh, and some can be seedless. The green rind on the outside is not usually eaten, though it can be used as a vegetable. It can also be stewed or pickled. Most watermelons are oblong or spherical. In Japan, watermelons are grown in different shapes. Many people like to eat watermelon in the summer because the fruit is cool and refreshing. Watermelons are a great source of vitamin A, vitamin C, vitamin B6 and vitamin B1. They also contain potassium, magnesium, carotenoid antioxidant, and lycopene. Watermelons are fruits that come from a vine-like plant.\""
   ]
  },
  {
   "cell_type": "code",
   "execution_count": 53,
   "metadata": {},
   "outputs": [],
   "source": [
    "user_doc_vector = vec.transform([user_doc]).toarray()"
   ]
  },
  {
   "cell_type": "code",
   "execution_count": 54,
   "metadata": {},
   "outputs": [
    {
     "data": {
      "text/plain": [
       "array([[0.        , 0.        , 0.        , 0.        , 0.        ,\n",
       "        0.72840959, 0.        , 0.        , 0.68514193, 0.        ]])"
      ]
     },
     "execution_count": 54,
     "metadata": {},
     "output_type": "execute_result"
    }
   ],
   "source": [
    "user_doc_vector"
   ]
  },
  {
   "cell_type": "code",
   "execution_count": 55,
   "metadata": {},
   "outputs": [],
   "source": [
    "distances = cdist(user_doc_vector,\n",
    "                  corpus2_vectors,\n",
    "                  metric='cosine')[0]"
   ]
  },
  {
   "cell_type": "code",
   "execution_count": 56,
   "metadata": {},
   "outputs": [
    {
     "data": {
      "text/plain": [
       "(14216,)"
      ]
     },
     "execution_count": 56,
     "metadata": {},
     "output_type": "execute_result"
    }
   ],
   "source": [
    "distances.shape"
   ]
  },
  {
   "cell_type": "code",
   "execution_count": 57,
   "metadata": {},
   "outputs": [],
   "source": [
    "ranking = np.argsort(distances)"
   ]
  },
  {
   "cell_type": "code",
   "execution_count": 58,
   "metadata": {},
   "outputs": [
    {
     "data": {
      "text/plain": [
       "(14216,)"
      ]
     },
     "execution_count": 58,
     "metadata": {},
     "output_type": "execute_result"
    }
   ],
   "source": [
    "ranking.shape"
   ]
  },
  {
   "cell_type": "code",
   "execution_count": 59,
   "metadata": {},
   "outputs": [
    {
     "data": {
      "text/plain": [
       "array([ 3879,  7216,  8986,  1943, 11400, 10636,  9629,  8609,  5384,\n",
       "        1488])"
      ]
     },
     "execution_count": 59,
     "metadata": {},
     "output_type": "execute_result"
    }
   ],
   "source": [
    "top_ten = ranking[:10]\n",
    "top_ten"
   ]
  },
  {
   "cell_type": "code",
   "execution_count": 60,
   "metadata": {},
   "outputs": [
    {
     "data": {
      "text/plain": [
       "array([0., 0., 0., 0., 0., 0., 0., 0., 0., 0.])"
      ]
     },
     "execution_count": 60,
     "metadata": {},
     "output_type": "execute_result"
    }
   ],
   "source": [
    "distances[top_ten]"
   ]
  },
  {
   "cell_type": "markdown",
   "metadata": {},
   "source": [
    "## Second Model "
   ]
  },
  {
   "cell_type": "code",
   "execution_count": 74,
   "metadata": {},
   "outputs": [],
   "source": [
    "import textstat\n",
    "import operator\n",
    "import wikipedia\n",
    "import wikipediaapi\n",
    "\n",
    "def give_harder_level(text):\n",
    "    \"\"\"\n",
    "    Takes in text and returns a harder level read\n",
    "    \"\"\"\n",
    "    ##find all the articles that are easier than this article \n",
    "    all_harder_text = []\n",
    "    input_score = textstat.flesch_kincaid_grade(text)\n",
    "    for i in range(len(df_corpus2['score'])):\n",
    "        if df_corpus2['score'][i] > input_score:\n",
    "            all_harder_text.append(df_corpus2['content'][i])\n",
    "    \n",
    "    vec = TfidfVectorizer(stop_words='english', max_features=2000)\n",
    "    vec = vec.fit(all_harder_text)\n",
    "    corpus2_vectors = vec.transform(all_harder_text).toarray()\n",
    "    user_doc = text\n",
    "    user_doc_vector = vec.transform([user_doc]).toarray()    \n",
    "    distances = cdist(user_doc_vector,\n",
    "                  corpus2_vectors,\n",
    "                  metric='cosine')[0]\n",
    "    ranking = np.argsort(distances)\n",
    "    top = ranking[0]\n",
    "    best_match = df_corpus2['content'][top]\n",
    "        \n",
    "    print(distances[top])\n",
    "    return (best_match)"
   ]
  },
  {
   "cell_type": "code",
   "execution_count": 77,
   "metadata": {},
   "outputs": [],
   "source": [
    "sample = \"A watermelon is a type of edible fruit.\""
   ]
  },
  {
   "cell_type": "code",
   "execution_count": 78,
   "metadata": {},
   "outputs": [
    {
     "name": "stdout",
     "output_type": "stream",
     "text": [
      "0.19034598889396925\n"
     ]
    },
    {
     "data": {
      "text/plain": [
       "'Throughout its history, the United Kingdom has been a major producer and source of musical creation, drawing its artistic basis from the history of the United Kingdom, from church music, Western culture and the ancient and traditional folk music and instrumentation of England, Scotland, Northern Ireland and Wales.\\nIn parts the 20th century, influences from the music of the United States became dominant in popular music. Following this was the explosion of the British Invasion, while subsequent notable movements in British music include the new wave of British heavy metal and Britpop. The United Kingdom has one of the world\\'s largest music industries today, with many British musicians having influenced modern music.\\n\\nBackground\\nEarly music\\nMusic in the British Isles, from the earliest recorded times until the Baroque and the rise of recognisably modern classical music, was a diverse and rich culture, including sacred and secular music and ranging from the popular to the elite. Each of the major nations of England, Ireland, Scotland and Wales retained unique forms of music and of instrumentation, but British music was highly influenced by continental developments, while British composers made an important contribution to many of the major movements in early music in Europe, including the polyphony of the Ars Nova and laid some of the foundations of later national and international classical music. Musicians from the British Isles also developed some distinctive forms of music, including Celtic chant, the Contenance Angloise, the rota, polyphonic votive antiphons and the carol in the medieval era.\\nChurch music and religious music were profoundly affected by the Protestant Reformation which affected Britain from the 16th century, which curtailed events associated with British music and forced the development of distinctive national music, worship and belief. English madrigals, lute ayres and masques in the Renaissance era led particularly to English language opera developed in the early Baroque period of the later seventeenth century. In contrast, court music of the kingdoms of England, Scotland and Ireland, although having unique elements remained much more integrated into wider European culture.\\n\\nBaroque music\\nThe Baroque era in music, between the early music of the Medieval and Renaissance periods and the development of fully fledged and formalised orchestral classical music in the second half of the eighteenth century, was characterised by more elaborate musical ornamentation, changes in musical notation, new instrumental playing techniques and the rise of new genres such as opera. Although the term Baroque is conventionally used for European music from about 1600, its full effects were not felt in Britain until after 1660, delayed by native trends and developments in music, religious and cultural differences from many European countries and the disruption to court music caused by the Wars of the Three Kingdoms and Interregnum. Under the restored Stuart monarchy the court became once again a centre of musical patronage, but royal interest in music tended to be less significant as the seventeenth century progressed, to be revived again under the House of Hanover.British chamber and orchestral music drew inspiration from continental Europe as it developed into modern classical music. The Baroque era in British music can be seen as one of an interaction of national and international trends, sometimes absorbing continental fashions and practices and sometimes attempting, as in the creation of ballad opera, to produce an indigenous tradition. However, arguably the most significant British composer of the era, George Frideric Handel, was a naturalised German, who helped integrate British and continental music and define the future of the classical music of the United Kingdom that would be officially formed in 1801.\\n\\nClassical music\\nMusical composition, performance and training in the United Kingdom inherited European classical traditions of the eighteenth century (above all, in Britain, from the example of Handel) and saw a great expansion during the nineteenth century. Romantic nationalism encouraged clear national identities and sensibilities within the countries of the United Kingdom towards the end of the nineteenth century, producing many composers and musicians of note and drawing on the folk tradition. These traditions, including the cultural strands drawn from the United Kingdom\\'s constituent nations and provinces, continued to evolve in distinctive ways through the work of such composers as Arthur Sullivan, Gustav Holst, Edward Elgar, Hubert Parry, Ralph Vaughan Williams and Benjamin Britten.  Notable living English classical composers include Harrison Birtwistle, Michael Nyman, James MacMillan, Peter Maxwell Davies, Jeremy Peyton Jones, Gavin Bryars, and Andrew Poppy.\\n\\nTimeline of British classical music, and its preceding forms\\nFolk music\\nEach of the four countries of the United Kingdom has its own diverse and distinctive folk music forms. Folk music flourished until the era of industrialisation when it began to be replaced by new forms of popular music, including music hall and brass bands. Realisation of this led to three folk revivals, one in the late-19th century, one in the mid-20th century and one at the start of the 21st century which keeps folk music as an important sub-culture within society.\\n\\nEnglish folk music\\nEngland has a long and diverse history of folk music dating back at least to the medieval period and including many forms of music, song and dance. Through three periods of revival from the late nineteenth century much of the tradition has been preserved and continues to be practiced. It led to the creation of a number of fusions with other forms of music that produced subgenres such as British folk rock, folk punk and folk metal and continues to thrive nationally and in regional scenes, particularly in areas such as Northumbria and Cornwall.\\n\\nNorthern Irish music\\nIreland, including Northern Ireland, has vibrant folk traditions. The popularity of traditional instruments such as fiddles has remained throughout the centuries even as analogues in Great Britain died out. Perhaps the most famous modern musician from Northern Ireland influenced by folk tradition is Van Morrison.\\n\\nScottish folk music\\nScottish folk music includes many kinds of songs, including ballads and laments, sung by a single singer with accompaniment by bagpipes, fiddles or harps. Traditional dances include waltzes, reels, strathspeys and jigs. Alongside the other areas of the United Kingdom, Scotland underwent a roots revival in the 1960s. Cathy-Ann McPhee and Jeannie Robertson were the heroes of this revival, which inspired some revolutions in band formats by groups like The Clutha, The Whistlebinkies, The Boys of the Lough and the Incredible String Band.\\n\\nWelsh folk music\\nWales is a Celtic country that features folk music played at twmpathau (communal dances) and gwyl werin (music festivals). Welsh music also includes male voice choirs and songs accompanied by a harp. Having long been subordinate to English culture, Welsh musicians in the late 20th century had to reconstruct traditional music when a roots revival began. This revival began in the late 1970s and achieved some mainstream success in the UK in the 80s with performers like Robin Huw Bowen, Moniars and Gwerinos.\\n\\nEarly British popular music\\nIn the sense of commercial music enjoyed by the people, British popular music can be seen to originate in the sixteenth and seventeenth centuries with the arrival of the broadside ballad, which were sold cheaply and in great numbers until the nineteenth century. Further technological, economic and social changes led to new forms of music in the 20th century, including the brass band, which produced a popular and communal form of classical music. Similarly, the music hall sprang up to cater for the entertainment of new urban societies, adapting existing forms of music to produce popular songs and acts. In the 1930s the influence of American Jazz led to the creation of British dance bands, who provided a social and popular music that began to dominate social occasions and the radio airwaves.\\n\\nModern British popular music\\nForms of popular music, including folk music, jazz, rapping/hip hop, pop and rock music, have particularly flourished in Britain since the twentieth century. Britain has influenced popular music disproportionately to its size, due to its linguistic and cultural links with many countries, particularly the United States and many of its former colonies like Australia, South Africa, and Canada, and its capacity for invention, innovation and fusion, which has led to the development of, or participation in, many of the major trends in popular music. In the early-20th century, influences from the United States became most dominant in popular music, with young performers producing their own versions of American music, including rock n\\' roll from the late 1950s and developing a parallel music scene. This is particularly true since the early 1960s when the British Invasion, led by The Beatles, helped to secure British performers a major place in development of pop and rock music. Since then, rock music and popular music contributed to a British-American collaboration, with trans-Atlantic genres being exchanged and exported to one another, where they tended to be adapted and turned into new movements, only to be exported back again. Genres originating in or radically developed by British musicians include blues rock, heavy metal, progressive rock, ska, hard rock, punk rock, Bhangra, British folk rock, folk punk, acid jazz, trip hop, shoegaze, drum and bass, goth rock, grime, Britpop, Industrial and dubstep.\\n\\nSee also\\nCulture of the United Kingdom\\nList of music festivals in the United Kingdom\\n\\nNotes\\nReferences\\nMthembu-Salter, Gregory and Peter Dalton. \"Lovers and Poets -- Babylon Sounds\". 2000. In Broughton, Simon and Ellingham, Mark with McConnachie, James and Duane, Orla (Ed.), World Music, Vol. 2: Latin & North America, Caribbean, India, Asia and Pacific, pp 457–462. Rough Guides Ltd, Penguin Books. ISBN 1-85828-636-0\\nRitu, DJ. \"One Way Ticket to British Asia\". 2000. In Broughton, Simon and Ellingham, Mark with McConnachie, James and Duane, Orla (Ed.), World Music, Vol. 1: Africa, Europe and the Middle East, pp 83–90. Rough Guides Ltd, Penguin Books. ISBN 1-85828-636-0\\nLiudmila Kovnatskaya. English music in the 20th century. Sources and periods of development. Moscow: Sovietsky Kompozitor, 1986. 216 pp.\\n\\nExternal links\\n‹See Tfd›(in French) Audio clips: Traditional music of the United Kingdom. Musée d\\'ethnographie de Genève. Accessed November 25, 2010.\\nsome traditional sea shanties'"
      ]
     },
     "execution_count": 78,
     "metadata": {},
     "output_type": "execute_result"
    }
   ],
   "source": [
    "give_harder_level(sample)"
   ]
  },
  {
   "cell_type": "code",
   "execution_count": null,
   "metadata": {},
   "outputs": [],
   "source": []
  }
 ],
 "metadata": {
  "kernelspec": {
   "display_name": "Python 3",
   "language": "python",
   "name": "python3"
  },
  "language_info": {
   "codemirror_mode": {
    "name": "ipython",
    "version": 3
   },
   "file_extension": ".py",
   "mimetype": "text/x-python",
   "name": "python",
   "nbconvert_exporter": "python",
   "pygments_lexer": "ipython3",
   "version": "3.6.8"
  }
 },
 "nbformat": 4,
 "nbformat_minor": 2
}
