{
 "cells": [
  {
   "cell_type": "code",
   "execution_count": 13,
   "metadata": {},
   "outputs": [],
   "source": [
    "import json\n",
    "import requests\n",
    "import numpy as np \n",
    "import pandas as pd\n",
    "\n",
    "def get_keys(path):\n",
    "    with open(path) as f:\n",
    "        return json.load(f)\n",
    "\n",
    "# NOTE: please change the file path to be your root directory; not Cristian's :) \n",
    "keys = get_keys(\"/Users/sherzyang/.secrets/medium_api.json\")\n",
    "\n",
    "client_id = keys['client_id']\n",
    "api_key = keys['api_key']"
   ]
  },
  {
   "cell_type": "code",
   "execution_count": 19,
   "metadata": {},
   "outputs": [
    {
     "name": "stdout",
     "output_type": "stream",
     "text": [
      "<Response [401]>\n",
      "<class 'str'>\n",
      "{\"errors\":[{\"message\":\"Token was invalid.\",\"code\":6003}]}\n"
     ]
    }
   ],
   "source": [
    "import requests\n",
    "\n",
    "term = 'sherzyang'\n",
    "SEARCH_LIMIT = 1\n",
    "\n",
    "url = 'https://api.medium.com/v1/me'\n",
    "\n",
    "#GET /v1/me HTTP/1.1\n",
    "\n",
    "    \n",
    "headers = {\n",
    "        'Authorization':'Bearer {}'.format(api_key)\n",
    "    }\n",
    "\n",
    "url_params = {\n",
    "                'term': term.replace(' ', '+'),\n",
    "                'limit': SEARCH_LIMIT\n",
    "            }\n",
    "response = requests.get(url, headers=headers, params=url_params)\n",
    "print(response)\n",
    "print(type(response.text))\n",
    "print(response.text[:1000])\n"
   ]
  },
  {
   "cell_type": "code",
   "execution_count": null,
   "metadata": {},
   "outputs": [],
   "source": [
    "https://medium.com/m/oauth/authorize?client_id={{clientId}}\n",
    "    &scope=basicProfile,publishPost\n",
    "    &state={{state}}\n",
    "    &response_type=code\n",
    "    &redirect_uri={{redirectUri}}"
   ]
  }
 ],
 "metadata": {
  "kernelspec": {
   "display_name": "Python 3",
   "language": "python",
   "name": "python3"
  },
  "language_info": {
   "codemirror_mode": {
    "name": "ipython",
    "version": 3
   },
   "file_extension": ".py",
   "mimetype": "text/x-python",
   "name": "python",
   "nbconvert_exporter": "python",
   "pygments_lexer": "ipython3",
   "version": "3.6.8"
  }
 },
 "nbformat": 4,
 "nbformat_minor": 2
}
