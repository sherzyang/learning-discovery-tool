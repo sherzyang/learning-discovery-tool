{
 "cells": [
  {
   "cell_type": "markdown",
   "metadata": {},
   "source": [
    "## Load Files and Vectorize "
   ]
  },
  {
   "cell_type": "code",
   "execution_count": 1,
   "metadata": {},
   "outputs": [],
   "source": [
    "import os\n",
    "import numpy as np\n",
    "import pandas as pd\n",
    "import pickle\n",
    "import textstat\n",
    "from sklearn.feature_extraction.text import TfidfVectorizer\n",
    "from scipy.spatial.distance import cosine, cdist"
   ]
  },
  {
   "cell_type": "code",
   "execution_count": 2,
   "metadata": {},
   "outputs": [],
   "source": [
    "with open(r\"data/df_corpus2.pkl\", \"rb\") as input_file:\n",
    "    df_corpus2 = pickle.load(input_file)"
   ]
  },
  {
   "cell_type": "code",
   "execution_count": 3,
   "metadata": {},
   "outputs": [],
   "source": [
    "with open(r\"data/df_best_category.pkl\", \"rb\") as input_file:\n",
    "    df_best_category = pickle.load(input_file)"
   ]
  },
  {
   "cell_type": "code",
   "execution_count": 4,
   "metadata": {},
   "outputs": [],
   "source": [
    "with open (r\"data/dictionary.pkl\", \"rb\") as input_file: \n",
    "    dictionary = pickle.load(input_file)"
   ]
  },
  {
   "cell_type": "code",
   "execution_count": 5,
   "metadata": {},
   "outputs": [],
   "source": [
    "with open (r\"data/lda_model_1.pkl\", \"rb\") as input_file:\n",
    "    lda_model_1 = pickle.load(input_file)"
   ]
  },
  {
   "cell_type": "code",
   "execution_count": 6,
   "metadata": {},
   "outputs": [],
   "source": [
    "with open(r\"data/df_best_category.pkl\", 'rb') as input_file:\n",
    "      df_best_category = pickle.load(input_file)"
   ]
  },
  {
   "cell_type": "code",
   "execution_count": 42,
   "metadata": {},
   "outputs": [
    {
     "data": {
      "text/html": [
       "<div>\n",
       "<style scoped>\n",
       "    .dataframe tbody tr th:only-of-type {\n",
       "        vertical-align: middle;\n",
       "    }\n",
       "\n",
       "    .dataframe tbody tr th {\n",
       "        vertical-align: top;\n",
       "    }\n",
       "\n",
       "    .dataframe thead th {\n",
       "        text-align: right;\n",
       "    }\n",
       "</style>\n",
       "<table border=\"1\" class=\"dataframe\">\n",
       "  <thead>\n",
       "    <tr style=\"text-align: right;\">\n",
       "      <th></th>\n",
       "      <th>category</th>\n",
       "      <th>article_index</th>\n",
       "    </tr>\n",
       "  </thead>\n",
       "  <tbody>\n",
       "    <tr>\n",
       "      <th>0</th>\n",
       "      <td>2</td>\n",
       "      <td>0</td>\n",
       "    </tr>\n",
       "    <tr>\n",
       "      <th>1</th>\n",
       "      <td>5</td>\n",
       "      <td>1</td>\n",
       "    </tr>\n",
       "    <tr>\n",
       "      <th>2</th>\n",
       "      <td>5</td>\n",
       "      <td>2</td>\n",
       "    </tr>\n",
       "    <tr>\n",
       "      <th>3</th>\n",
       "      <td>4</td>\n",
       "      <td>3</td>\n",
       "    </tr>\n",
       "    <tr>\n",
       "      <th>4</th>\n",
       "      <td>6</td>\n",
       "      <td>4</td>\n",
       "    </tr>\n",
       "  </tbody>\n",
       "</table>\n",
       "</div>"
      ],
      "text/plain": [
       "   category  article_index\n",
       "0         2              0\n",
       "1         5              1\n",
       "2         5              2\n",
       "3         4              3\n",
       "4         6              4"
      ]
     },
     "execution_count": 42,
     "metadata": {},
     "output_type": "execute_result"
    }
   ],
   "source": [
    "df_best_category.head()"
   ]
  },
  {
   "cell_type": "markdown",
   "metadata": {},
   "source": [
    "## Third Model "
   ]
  },
  {
   "cell_type": "code",
   "execution_count": 290,
   "metadata": {},
   "outputs": [],
   "source": [
    "import textstat\n",
    "import operator\n",
    "import gensim\n",
    "from gensim.utils import simple_preprocess\n",
    "from gensim.parsing.preprocessing import STOPWORDS\n",
    "from nltk.stem import WordNetLemmatizer, SnowballStemmer\n",
    "from nltk.stem.porter import *\n",
    "import numpy as np\n",
    "from operator import itemgetter"
   ]
  },
  {
   "cell_type": "code",
   "execution_count": 291,
   "metadata": {},
   "outputs": [],
   "source": [
    "lemmatizer = WordNetLemmatizer()\n",
    "\n",
    "def lemmatize_stemming(text, lemmatizer=lemmatizer):\n",
    "    return lemmatizer.lemmatize(text, pos='v')"
   ]
  },
  {
   "cell_type": "code",
   "execution_count": 292,
   "metadata": {},
   "outputs": [],
   "source": [
    "def preprocess(text):\n",
    "    result = []\n",
    "    for token in gensim.utils.simple_preprocess(text):\n",
    "        if token not in gensim.parsing.preprocessing.STOPWORDS and len(token) > 3:\n",
    "            result.append(lemmatize_stemming(token))\n",
    "    return result"
   ]
  },
  {
   "cell_type": "code",
   "execution_count": 293,
   "metadata": {},
   "outputs": [],
   "source": [
    "def give_harder_level(text, vectorizer=vectorizer):\n",
    "    \"\"\"\n",
    "    Takes in text and returns a harder level read\n",
    "    \"\"\"\n",
    "    unseen_document = str(text)\n",
    "    dictionary.filter_extremes(no_below=15, no_above=0.5, keep_n=100000)\n",
    "    bow_vector = dictionary.doc2bow(preprocess(unseen_document))\n",
    "    text_topics = lda_model_1[bow_vector]\n",
    "    topic_group = max(text_topics,key=itemgetter(1))[0]\n",
    "    \n",
    "    category_df = df_best_category.loc[df_best_category['category'] == topic_group] \n",
    "    \n",
    "    ##find all the articles that are easier than this article \n",
    "#     all_harder_text = []\n",
    "#     input_score = textstat.flesch_kincaid_grade(text)\n",
    "#     for i in range(len(df_corpus2['score'])):\n",
    "#         if df_corpus2['score'][i] > input_score:\n",
    "#             all_harder_text.append(df_corpus2['content'][i])\n",
    "    \n",
    "    all_harder_text = []\n",
    "    \n",
    "    for i in category_df['article_index']: \n",
    "        temp = df_corpus2['content'][i]\n",
    "        all_harder_text.append(temp)\n",
    "        \n",
    "    vec = TfidfVectorizer(stop_words='english', max_features=2000)\n",
    "    vec = vec.fit(all_harder_text)\n",
    "    corpus2_vectors = vec.transform(all_harder_text).toarray()\n",
    "    user_doc = text\n",
    "    user_doc_vector = vec.transform([user_doc]).toarray() \n",
    "    #user_doc_vector_short = np.argsort(user_doc_vector)\n",
    "    \n",
    "    distances = cdist(user_doc_vector,\n",
    "                  corpus2_vectors,\n",
    "                  metric='cosine')[0]\n",
    "    ranking = np.argsort(distances)\n",
    "    top = ranking[0]\n",
    "    best_match = df_corpus2['content'][top]\n",
    "        \n",
    "    print(distances[top])\n",
    "    return (best_match)"
   ]
  },
  {
   "cell_type": "code",
   "execution_count": 294,
   "metadata": {},
   "outputs": [],
   "source": [
    "sample = \"Wine is an alcoholic drink made from fermented grapes.[1] Yeast consumes the sugar in the grapes and converts it to ethanol, carbon dioxide, and heat. Different varieties of grapes and strains of yeasts produce different styles of wine. These variations result from the complex interactions between the biochemical development of the grape, the reactions involved in fermentation, the terroir, and the production process. Many countries enact legal appellations intended to define styles and qualities of wine. These typically restrict the geographical origin and permitted varieties of grapes, as well as other aspects of wine production. Wines not made from grapes include rice wine and fruit wines such as plum, cherry, pomegranate, currant and elderberry.\""
   ]
  },
  {
   "cell_type": "code",
   "execution_count": 295,
   "metadata": {},
   "outputs": [
    {
     "name": "stdout",
     "output_type": "stream",
     "text": [
      "0.3362925132672765\n"
     ]
    },
    {
     "data": {
      "text/plain": [
       "\"Hallmark Movies Now (formerly called Feeln and originally SpiritClips) is an on-demand streaming video service that offers family-friendly movies, documentaries and short films. The company was founded in 2007 by Academy Award-winning producer Robert N. Fried. Hallmark Movies Now is owned by Hallmark Cards and based out of Los Angeles.\\n\\nHistory\\nHallmark Movies Now was founded in 2007 as SpiritClips. The company was started by Robert N. Fried, a film producer and studio executive who has produced movies such as Rudy and Hoosiers. Fried created SpiritClips as a collection of family-friendly and inspirational films.In April 2012, SpiritClips was acquired by Hallmark Cards, the largest greeting card manufacturer in the United States. Prior to the acquisition, SpiritClips had been working with Hallmark as the official provider for Hallmark's Hall of Fame series of inspirational films. In September 2014, the company was rebranded as Feeln. In October 2017, the service was rebranded as Hallmark Movies Now.\\n\\nOperations\\nHallmark Movies Now is an on-demand video streaming service similar to Netflix that provides movies, documentaries, and short films that are suitable for all audiences, specifically families. Hallmark Movies Now also edits films that do not have content suitable for all ages to have a PG rating, similar to how films are edited to be shown on cable TV. Hallmark Movies Now provides original short films, documentaries, and Hallmark movies.\\nHallmark first released the app for Android and iOS under the name feeln but has been renamed to Hallmark Movies Now. It is also on the Internet and through applications on Roku, Samsung TV, Apple TV, Sony Opera, and Android TV.\\n\\nUpcoming original programming\\nTelevision\\n\\n\\n== References ==\""
      ]
     },
     "execution_count": 295,
     "metadata": {},
     "output_type": "execute_result"
    }
   ],
   "source": [
    "give_harder_level(sample)"
   ]
  },
  {
   "cell_type": "markdown",
   "metadata": {},
   "source": [
    "# Experiment"
   ]
  },
  {
   "cell_type": "code",
   "execution_count": 82,
   "metadata": {},
   "outputs": [
    {
     "data": {
      "text/html": [
       "<div>\n",
       "<style scoped>\n",
       "    .dataframe tbody tr th:only-of-type {\n",
       "        vertical-align: middle;\n",
       "    }\n",
       "\n",
       "    .dataframe tbody tr th {\n",
       "        vertical-align: top;\n",
       "    }\n",
       "\n",
       "    .dataframe thead th {\n",
       "        text-align: right;\n",
       "    }\n",
       "</style>\n",
       "<table border=\"1\" class=\"dataframe\">\n",
       "  <thead>\n",
       "    <tr style=\"text-align: right;\">\n",
       "      <th></th>\n",
       "      <th>content</th>\n",
       "      <th>score</th>\n",
       "    </tr>\n",
       "  </thead>\n",
       "  <tbody>\n",
       "    <tr>\n",
       "      <th>0</th>\n",
       "      <td>Nature Reviews Nephrology (before 2009, Nature...</td>\n",
       "      <td>20.6</td>\n",
       "    </tr>\n",
       "    <tr>\n",
       "      <th>1</th>\n",
       "      <td>Food blogging represents a complex interweavin...</td>\n",
       "      <td>13.6</td>\n",
       "    </tr>\n",
       "    <tr>\n",
       "      <th>2</th>\n",
       "      <td>The International Motorcycle Shows are a serie...</td>\n",
       "      <td>13.3</td>\n",
       "    </tr>\n",
       "    <tr>\n",
       "      <th>3</th>\n",
       "      <td>Education in Ancient Greece was vastly \"democr...</td>\n",
       "      <td>11.3</td>\n",
       "    </tr>\n",
       "    <tr>\n",
       "      <th>4</th>\n",
       "      <td>Rural economics is the study of rural economie...</td>\n",
       "      <td>12.5</td>\n",
       "    </tr>\n",
       "  </tbody>\n",
       "</table>\n",
       "</div>"
      ],
      "text/plain": [
       "                                             content  score\n",
       "0  Nature Reviews Nephrology (before 2009, Nature...   20.6\n",
       "1  Food blogging represents a complex interweavin...   13.6\n",
       "2  The International Motorcycle Shows are a serie...   13.3\n",
       "3  Education in Ancient Greece was vastly \"democr...   11.3\n",
       "4  Rural economics is the study of rural economie...   12.5"
      ]
     },
     "execution_count": 82,
     "metadata": {},
     "output_type": "execute_result"
    }
   ],
   "source": [
    "df_corpus2.head()"
   ]
  },
  {
   "cell_type": "code",
   "execution_count": 125,
   "metadata": {},
   "outputs": [],
   "source": [
    "n_features = 2000"
   ]
  },
  {
   "cell_type": "code",
   "execution_count": 126,
   "metadata": {},
   "outputs": [],
   "source": [
    "# vectorizer = TfidfVectorizer(max_features=n_features, stop_words='english')"
   ]
  },
  {
   "cell_type": "code",
   "execution_count": 127,
   "metadata": {},
   "outputs": [],
   "source": [
    "# vectorizer.fit(df_corpus2['content'])\n",
    "# corpus_vectors = vectorizer.transform(df_corpus2['content'])"
   ]
  },
  {
   "cell_type": "code",
   "execution_count": 128,
   "metadata": {},
   "outputs": [],
   "source": [
    "# with open('data/vectorizer.pkl', 'wb') as f:\n",
    "#     pickle.dump(vectorizer, f)\n",
    "    \n",
    "# with open('data/corpus_vectors.pkl', 'wb') as f:\n",
    "#     pickle.dump(corpus_vectors, f)"
   ]
  },
  {
   "cell_type": "code",
   "execution_count": 8,
   "metadata": {},
   "outputs": [],
   "source": [
    "def load_vectorizer(pickle_file='data/vectorizer.pkl'):\n",
    "    \"\"\"Loads the trained TF/IDF vectorizer.\"\"\"\n",
    "    with open(pickle_file, 'rb') as f:\n",
    "        return pickle.load(f)\n",
    "    \n",
    "def load_corpus_vectors(pickle_file='data/corpus_vectors.pkl'):\n",
    "    \"\"\"Loads the corpus vectors.\"\"\"\n",
    "    with open(pickle_file, 'rb') as f:\n",
    "        return pickle.load(f)"
   ]
  },
  {
   "cell_type": "code",
   "execution_count": 9,
   "metadata": {},
   "outputs": [],
   "source": [
    "vec = load_vectorizer()\n",
    "corpus_vectors = load_corpus_vectors().toarray()"
   ]
  },
  {
   "cell_type": "code",
   "execution_count": 10,
   "metadata": {},
   "outputs": [],
   "source": [
    "sample2 = \"\"\"The overwhelming majority of scientific knowledge is published as text, which is difficult to analyse by either traditional statistical analysis or modern machine learning methods. By contrast, the main source of machine-interpretable data for the materials research community has come from structured property databases1,2, which encompass only a small fraction of the knowledge present in the research literature. Beyond property values, publications contain valuable knowledge regarding the connections and relationships between data items as interpreted by the authors. To improve the identification and use of this knowledge, several studies have focused on the retrieval of information from scientific literature using supervised natural language processing3,4,5,6,7,8,9,10, which requires large hand-labelled datasets for training. Here we show that materials science knowledge present in the published literature can be efficiently encoded as information-dense word embeddings11,12,13 (vector representations of words) without human labelling or supervision. Without any explicit insertion of chemical knowledge, these embeddings capture complex materials science concepts such as the underlying structure of the periodic table and structure–property relationships in materials. Furthermore, we demonstrate that an unsupervised method can recommend materials for functional applications several years before their discovery. This suggests that latent knowledge regarding future discoveries is to a large extent embedded in past publications. Our findings highlight the possibility of extracting knowledge and relationships from the massive body of scientific literature in a collective manner, and point towards a generalized approach to the mining of scientific literature.\n",
    "\n",
    "\"\"\""
   ]
  },
  {
   "cell_type": "code",
   "execution_count": 11,
   "metadata": {},
   "outputs": [],
   "source": [
    "sample_vector = vec.transform([sample2]).toarray()"
   ]
  },
  {
   "cell_type": "code",
   "execution_count": 12,
   "metadata": {},
   "outputs": [
    {
     "data": {
      "text/plain": [
       "array([[0.        , 0.04854106, 0.        , ..., 0.        , 0.        ,\n",
       "        0.        ]])"
      ]
     },
     "execution_count": 12,
     "metadata": {},
     "output_type": "execute_result"
    }
   ],
   "source": [
    "sample_vector"
   ]
  },
  {
   "cell_type": "code",
   "execution_count": 13,
   "metadata": {},
   "outputs": [],
   "source": [
    "feature_ranking = np.argsort(sample_vector[0])[::-1]"
   ]
  },
  {
   "cell_type": "code",
   "execution_count": 14,
   "metadata": {},
   "outputs": [
    {
     "data": {
      "text/plain": [
       "array([1043, 1160, 1105, 1634, 1464, 1540, 1129, 1478, 1530,  525, 1774,\n",
       "        972, 1418, 1479, 1632, 1057, 1565,  375,  822, 1016])"
      ]
     },
     "execution_count": 14,
     "metadata": {},
     "output_type": "execute_result"
    }
   ],
   "source": [
    "feature_ranking[:20]"
   ]
  },
  {
   "cell_type": "code",
   "execution_count": 15,
   "metadata": {},
   "outputs": [],
   "source": [
    "def get_vocab_arr(vec):\n",
    "    n_features = len(vec.vocabulary_)\n",
    "    vocab_arr = np.empty(n_features, dtype=object)\n",
    "    for word, idx in vec.vocabulary_.items():\n",
    "        vocab_arr[idx] = word\n",
    "    return vocab_arr"
   ]
  },
  {
   "cell_type": "code",
   "execution_count": 16,
   "metadata": {},
   "outputs": [
    {
     "data": {
      "text/plain": [
       "array(['knowledge', 'materials', 'literature', 'scientific', 'property',\n",
       "       'relationships', 'machine', 'publications', 'regarding', 'data',\n",
       "       'structure', 'information', 'present', 'published', 'science',\n",
       "       'large', 'research', 'chemical', 'functional', 'items'],\n",
       "      dtype=object)"
      ]
     },
     "execution_count": 16,
     "metadata": {},
     "output_type": "execute_result"
    }
   ],
   "source": [
    "vocab_arr = get_vocab_arr(vec)\n",
    "vocab_arr[feature_ranking[:20]]"
   ]
  },
  {
   "cell_type": "code",
   "execution_count": 17,
   "metadata": {},
   "outputs": [],
   "source": [
    "\n",
    "def get_top_k_vector(vector, feature_ranking, k=20):\n",
    "    \"\"\"Return the top k vector according to feature_ranking.\"\"\"\n",
    "    return vector[:, feature_ranking[:k]]\n",
    "    "
   ]
  },
  {
   "cell_type": "code",
   "execution_count": 18,
   "metadata": {},
   "outputs": [
    {
     "data": {
      "text/plain": [
       "((1, 2000), (14216, 2000))"
      ]
     },
     "execution_count": 18,
     "metadata": {},
     "output_type": "execute_result"
    }
   ],
   "source": [
    "sample_vector.shape, corpus_vectors.shape"
   ]
  },
  {
   "cell_type": "code",
   "execution_count": 19,
   "metadata": {},
   "outputs": [
    {
     "data": {
      "text/plain": [
       "((1, 20), (14216, 20))"
      ]
     },
     "execution_count": 19,
     "metadata": {},
     "output_type": "execute_result"
    }
   ],
   "source": [
    "(\n",
    "    get_top_k_vector(sample_vector, feature_ranking).shape,\n",
    "    get_top_k_vector(corpus_vectors, feature_ranking).shape\n",
    ")"
   ]
  },
  {
   "cell_type": "code",
   "execution_count": 20,
   "metadata": {},
   "outputs": [],
   "source": [
    "distances = cdist(\n",
    "    get_top_k_vector(sample_vector, feature_ranking),\n",
    "    get_top_k_vector(corpus_vectors, feature_ranking),\n",
    ")"
   ]
  },
  {
   "cell_type": "code",
   "execution_count": 21,
   "metadata": {},
   "outputs": [
    {
     "data": {
      "text/plain": [
       "array([[0.48112503, 0.38004914, 0.3022274 , 0.24705762, 0.22184728,\n",
       "        0.21975153, 0.1666513 , 0.14229918, 0.14204404, 0.12707356,\n",
       "        0.12040253, 0.10665622, 0.10262172, 0.10155444, 0.10123808,\n",
       "        0.09654214, 0.09598864, 0.08716042, 0.08672557, 0.08236192]])"
      ]
     },
     "execution_count": 21,
     "metadata": {},
     "output_type": "execute_result"
    }
   ],
   "source": [
    "get_top_k_vector(sample_vector, feature_ranking)"
   ]
  },
  {
   "cell_type": "code",
   "execution_count": 22,
   "metadata": {},
   "outputs": [],
   "source": [
    "nearest_article_idxs = np.argsort(distances)"
   ]
  },
  {
   "cell_type": "code",
   "execution_count": 23,
   "metadata": {},
   "outputs": [
    {
     "data": {
      "text/plain": [
       "(1, 14216)"
      ]
     },
     "execution_count": 23,
     "metadata": {},
     "output_type": "execute_result"
    }
   ],
   "source": [
    "nearest_article_idxs.shape"
   ]
  },
  {
   "cell_type": "code",
   "execution_count": 24,
   "metadata": {},
   "outputs": [
    {
     "data": {
      "text/plain": [
       "2762"
      ]
     },
     "execution_count": 24,
     "metadata": {},
     "output_type": "execute_result"
    }
   ],
   "source": [
    "nearest_article_idxs[0, 0]"
   ]
  },
  {
   "cell_type": "code",
   "execution_count": 25,
   "metadata": {},
   "outputs": [
    {
     "data": {
      "text/plain": [
       "array([0.89863915, 0.89513509, 0.89863915, ..., 0.87572626, 0.88134487,\n",
       "       0.89863915])"
      ]
     },
     "execution_count": 25,
     "metadata": {},
     "output_type": "execute_result"
    }
   ],
   "source": [
    "distances[0]"
   ]
  },
  {
   "cell_type": "code",
   "execution_count": 26,
   "metadata": {},
   "outputs": [],
   "source": [
    "nearest_articles = df_corpus2.loc[nearest_article_idxs[0], :]"
   ]
  },
  {
   "cell_type": "code",
   "execution_count": 27,
   "metadata": {},
   "outputs": [
    {
     "data": {
      "text/html": [
       "<div>\n",
       "<style scoped>\n",
       "    .dataframe tbody tr th:only-of-type {\n",
       "        vertical-align: middle;\n",
       "    }\n",
       "\n",
       "    .dataframe tbody tr th {\n",
       "        vertical-align: top;\n",
       "    }\n",
       "\n",
       "    .dataframe thead th {\n",
       "        text-align: right;\n",
       "    }\n",
       "</style>\n",
       "<table border=\"1\" class=\"dataframe\">\n",
       "  <thead>\n",
       "    <tr style=\"text-align: right;\">\n",
       "      <th></th>\n",
       "      <th>content</th>\n",
       "      <th>score</th>\n",
       "    </tr>\n",
       "  </thead>\n",
       "  <tbody>\n",
       "    <tr>\n",
       "      <th>2762</th>\n",
       "      <td>The economics of science aims to understand th...</td>\n",
       "      <td>16.0</td>\n",
       "    </tr>\n",
       "    <tr>\n",
       "      <th>10687</th>\n",
       "      <td>Constructivist epistemology is a branch in phi...</td>\n",
       "      <td>15.8</td>\n",
       "    </tr>\n",
       "    <tr>\n",
       "      <th>12084</th>\n",
       "      <td>GRAKN.AI is an open-source, distributed knowle...</td>\n",
       "      <td>15.1</td>\n",
       "    </tr>\n",
       "    <tr>\n",
       "      <th>3353</th>\n",
       "      <td>Bloom's taxonomy is a set of three hierarchica...</td>\n",
       "      <td>16.6</td>\n",
       "    </tr>\n",
       "    <tr>\n",
       "      <th>11571</th>\n",
       "      <td>In philosophy, empiricism is a theory that sta...</td>\n",
       "      <td>21.7</td>\n",
       "    </tr>\n",
       "    <tr>\n",
       "      <th>6768</th>\n",
       "      <td>In epistemology, and more specifically, the so...</td>\n",
       "      <td>22.1</td>\n",
       "    </tr>\n",
       "    <tr>\n",
       "      <th>5502</th>\n",
       "      <td>Robin Wall Kimmerer (also credited as Robin W....</td>\n",
       "      <td>14.9</td>\n",
       "    </tr>\n",
       "    <tr>\n",
       "      <th>7833</th>\n",
       "      <td>Intuition is the ability to acquire knowledge ...</td>\n",
       "      <td>20.6</td>\n",
       "    </tr>\n",
       "    <tr>\n",
       "      <th>13337</th>\n",
       "      <td>Metacognition is \"cognition about cognition\", ...</td>\n",
       "      <td>16.3</td>\n",
       "    </tr>\n",
       "    <tr>\n",
       "      <th>7670</th>\n",
       "      <td>An inquiry is any process that has the aim of ...</td>\n",
       "      <td>29.9</td>\n",
       "    </tr>\n",
       "    <tr>\n",
       "      <th>3948</th>\n",
       "      <td>The sociology of scientific knowledge (SSK) is...</td>\n",
       "      <td>14.8</td>\n",
       "    </tr>\n",
       "    <tr>\n",
       "      <th>9688</th>\n",
       "      <td>Ancient Monuments of the Mississippi Valley (f...</td>\n",
       "      <td>14.1</td>\n",
       "    </tr>\n",
       "    <tr>\n",
       "      <th>7784</th>\n",
       "      <td>Philosophical skepticism (UK spelling: sceptic...</td>\n",
       "      <td>16.1</td>\n",
       "    </tr>\n",
       "    <tr>\n",
       "      <th>533</th>\n",
       "      <td>The Social Construction of Reality is a 1966 b...</td>\n",
       "      <td>21.9</td>\n",
       "    </tr>\n",
       "    <tr>\n",
       "      <th>8896</th>\n",
       "      <td>The following outline is provided as an overvi...</td>\n",
       "      <td>18.3</td>\n",
       "    </tr>\n",
       "    <tr>\n",
       "      <th>14148</th>\n",
       "      <td>Postmodernism is a broad movement that develop...</td>\n",
       "      <td>21.6</td>\n",
       "    </tr>\n",
       "    <tr>\n",
       "      <th>6908</th>\n",
       "      <td>In philosophy, rationalism is the epistemologi...</td>\n",
       "      <td>15.5</td>\n",
       "    </tr>\n",
       "    <tr>\n",
       "      <th>8213</th>\n",
       "      <td>Learning Theory describe how students absorb, ...</td>\n",
       "      <td>15.8</td>\n",
       "    </tr>\n",
       "    <tr>\n",
       "      <th>14021</th>\n",
       "      <td>In the culture of the Māori of New Zealand, a ...</td>\n",
       "      <td>14.2</td>\n",
       "    </tr>\n",
       "    <tr>\n",
       "      <th>14094</th>\n",
       "      <td>Universalism, in human geography, signals the ...</td>\n",
       "      <td>21.3</td>\n",
       "    </tr>\n",
       "    <tr>\n",
       "      <th>12220</th>\n",
       "      <td>Wisdom, sapience, or sagacity is the ability t...</td>\n",
       "      <td>15.7</td>\n",
       "    </tr>\n",
       "    <tr>\n",
       "      <th>8577</th>\n",
       "      <td>Obscurantism ( and ) is the practice of delibe...</td>\n",
       "      <td>22.5</td>\n",
       "    </tr>\n",
       "    <tr>\n",
       "      <th>2850</th>\n",
       "      <td>The Latin phrases a priori (lit. \"from the ear...</td>\n",
       "      <td>14.2</td>\n",
       "    </tr>\n",
       "    <tr>\n",
       "      <th>1846</th>\n",
       "      <td>Objectivism is a philosophical system develope...</td>\n",
       "      <td>15.5</td>\n",
       "    </tr>\n",
       "    <tr>\n",
       "      <th>4909</th>\n",
       "      <td>A semantic network, or frame network is a know...</td>\n",
       "      <td>14.4</td>\n",
       "    </tr>\n",
       "    <tr>\n",
       "      <th>14110</th>\n",
       "      <td>Skepticism (American English) or scepticism (B...</td>\n",
       "      <td>13.8</td>\n",
       "    </tr>\n",
       "    <tr>\n",
       "      <th>11258</th>\n",
       "      <td>Intelligence in Nature: An Inquiry into Knowle...</td>\n",
       "      <td>18.5</td>\n",
       "    </tr>\n",
       "    <tr>\n",
       "      <th>3951</th>\n",
       "      <td>Speed learning is a collection of methods of l...</td>\n",
       "      <td>16.8</td>\n",
       "    </tr>\n",
       "    <tr>\n",
       "      <th>658</th>\n",
       "      <td>An integrated collaboration environment (ICE) ...</td>\n",
       "      <td>16.8</td>\n",
       "    </tr>\n",
       "    <tr>\n",
       "      <th>102</th>\n",
       "      <td>The Age of Enlightenment (also known as the Ag...</td>\n",
       "      <td>15.8</td>\n",
       "    </tr>\n",
       "    <tr>\n",
       "      <th>...</th>\n",
       "      <td>...</td>\n",
       "      <td>...</td>\n",
       "    </tr>\n",
       "    <tr>\n",
       "      <th>12273</th>\n",
       "      <td>Property is the ownership of land, resources, ...</td>\n",
       "      <td>38.0</td>\n",
       "    </tr>\n",
       "    <tr>\n",
       "      <th>10115</th>\n",
       "      <td>In computer science, functional programming is...</td>\n",
       "      <td>16.5</td>\n",
       "    </tr>\n",
       "    <tr>\n",
       "      <th>5293</th>\n",
       "      <td>The history of science and technology (HST) is...</td>\n",
       "      <td>17.3</td>\n",
       "    </tr>\n",
       "    <tr>\n",
       "      <th>3402</th>\n",
       "      <td>Popular science (also called pop-science or po...</td>\n",
       "      <td>44.3</td>\n",
       "    </tr>\n",
       "    <tr>\n",
       "      <th>11804</th>\n",
       "      <td>A database is an organized collection of data,...</td>\n",
       "      <td>15.6</td>\n",
       "    </tr>\n",
       "    <tr>\n",
       "      <th>2439</th>\n",
       "      <td>This is a list of European literatures.\\nThe l...</td>\n",
       "      <td>37.9</td>\n",
       "    </tr>\n",
       "    <tr>\n",
       "      <th>9453</th>\n",
       "      <td>Francophone literature is literature written i...</td>\n",
       "      <td>25.9</td>\n",
       "    </tr>\n",
       "    <tr>\n",
       "      <th>489</th>\n",
       "      <td>The Centre for the Philosophy of Nature and Sc...</td>\n",
       "      <td>15.1</td>\n",
       "    </tr>\n",
       "    <tr>\n",
       "      <th>11765</th>\n",
       "      <td>The Association for Information Science and Te...</td>\n",
       "      <td>26.3</td>\n",
       "    </tr>\n",
       "    <tr>\n",
       "      <th>2451</th>\n",
       "      <td>The Society for Social Studies of Science (4S)...</td>\n",
       "      <td>18.4</td>\n",
       "    </tr>\n",
       "    <tr>\n",
       "      <th>6126</th>\n",
       "      <td>Science education is the field concerned with ...</td>\n",
       "      <td>17.7</td>\n",
       "    </tr>\n",
       "    <tr>\n",
       "      <th>6387</th>\n",
       "      <td>This page gives a chronological list of years ...</td>\n",
       "      <td>32.4</td>\n",
       "    </tr>\n",
       "    <tr>\n",
       "      <th>12115</th>\n",
       "      <td>The term \"South Asian literature\" refers to th...</td>\n",
       "      <td>21.0</td>\n",
       "    </tr>\n",
       "    <tr>\n",
       "      <th>6384</th>\n",
       "      <td>Research Councils UK (2002 – 2018), sometimes ...</td>\n",
       "      <td>19.2</td>\n",
       "    </tr>\n",
       "    <tr>\n",
       "      <th>2319</th>\n",
       "      <td>In contract theory and economics, information ...</td>\n",
       "      <td>15.7</td>\n",
       "    </tr>\n",
       "    <tr>\n",
       "      <th>11080</th>\n",
       "      <td>Globalize is a cross-platform JavaScript libra...</td>\n",
       "      <td>12.4</td>\n",
       "    </tr>\n",
       "    <tr>\n",
       "      <th>13621</th>\n",
       "      <td>Educational research refers to the systematic ...</td>\n",
       "      <td>16.5</td>\n",
       "    </tr>\n",
       "    <tr>\n",
       "      <th>224</th>\n",
       "      <td>Science is a systematic enterprise that builds...</td>\n",
       "      <td>43.3</td>\n",
       "    </tr>\n",
       "    <tr>\n",
       "      <th>9484</th>\n",
       "      <td>Information science is a field primarily conce...</td>\n",
       "      <td>17.4</td>\n",
       "    </tr>\n",
       "    <tr>\n",
       "      <th>4895</th>\n",
       "      <td>Slavic literature refers to the literature in ...</td>\n",
       "      <td>31.1</td>\n",
       "    </tr>\n",
       "    <tr>\n",
       "      <th>1164</th>\n",
       "      <td>This is a list of common chemical compounds wi...</td>\n",
       "      <td>11.7</td>\n",
       "    </tr>\n",
       "    <tr>\n",
       "      <th>8111</th>\n",
       "      <td>A chemical disaster is the unintentional relea...</td>\n",
       "      <td>20.6</td>\n",
       "    </tr>\n",
       "    <tr>\n",
       "      <th>13756</th>\n",
       "      <td>A science museum is a museum devoted primarily...</td>\n",
       "      <td>17.4</td>\n",
       "    </tr>\n",
       "    <tr>\n",
       "      <th>12240</th>\n",
       "      <td>A data model (or datamodel) is an abstract mod...</td>\n",
       "      <td>15.8</td>\n",
       "    </tr>\n",
       "    <tr>\n",
       "      <th>6572</th>\n",
       "      <td>Information economics or the economics of info...</td>\n",
       "      <td>15.4</td>\n",
       "    </tr>\n",
       "    <tr>\n",
       "      <th>11038</th>\n",
       "      <td>Information history may refer to the history o...</td>\n",
       "      <td>17.1</td>\n",
       "    </tr>\n",
       "    <tr>\n",
       "      <th>10389</th>\n",
       "      <td>In computer science, a collection or container...</td>\n",
       "      <td>16.9</td>\n",
       "    </tr>\n",
       "    <tr>\n",
       "      <th>12572</th>\n",
       "      <td>Information is the resolution of uncertainty; ...</td>\n",
       "      <td>14.9</td>\n",
       "    </tr>\n",
       "    <tr>\n",
       "      <th>8130</th>\n",
       "      <td>Data science is a multi-disciplinary field tha...</td>\n",
       "      <td>18.4</td>\n",
       "    </tr>\n",
       "    <tr>\n",
       "      <th>3526</th>\n",
       "      <td>In software engineering and systems engineerin...</td>\n",
       "      <td>18.2</td>\n",
       "    </tr>\n",
       "  </tbody>\n",
       "</table>\n",
       "<p>14216 rows × 2 columns</p>\n",
       "</div>"
      ],
      "text/plain": [
       "                                                 content  score\n",
       "2762   The economics of science aims to understand th...   16.0\n",
       "10687  Constructivist epistemology is a branch in phi...   15.8\n",
       "12084  GRAKN.AI is an open-source, distributed knowle...   15.1\n",
       "3353   Bloom's taxonomy is a set of three hierarchica...   16.6\n",
       "11571  In philosophy, empiricism is a theory that sta...   21.7\n",
       "6768   In epistemology, and more specifically, the so...   22.1\n",
       "5502   Robin Wall Kimmerer (also credited as Robin W....   14.9\n",
       "7833   Intuition is the ability to acquire knowledge ...   20.6\n",
       "13337  Metacognition is \"cognition about cognition\", ...   16.3\n",
       "7670   An inquiry is any process that has the aim of ...   29.9\n",
       "3948   The sociology of scientific knowledge (SSK) is...   14.8\n",
       "9688   Ancient Monuments of the Mississippi Valley (f...   14.1\n",
       "7784   Philosophical skepticism (UK spelling: sceptic...   16.1\n",
       "533    The Social Construction of Reality is a 1966 b...   21.9\n",
       "8896   The following outline is provided as an overvi...   18.3\n",
       "14148  Postmodernism is a broad movement that develop...   21.6\n",
       "6908   In philosophy, rationalism is the epistemologi...   15.5\n",
       "8213   Learning Theory describe how students absorb, ...   15.8\n",
       "14021  In the culture of the Māori of New Zealand, a ...   14.2\n",
       "14094  Universalism, in human geography, signals the ...   21.3\n",
       "12220  Wisdom, sapience, or sagacity is the ability t...   15.7\n",
       "8577   Obscurantism ( and ) is the practice of delibe...   22.5\n",
       "2850   The Latin phrases a priori (lit. \"from the ear...   14.2\n",
       "1846   Objectivism is a philosophical system develope...   15.5\n",
       "4909   A semantic network, or frame network is a know...   14.4\n",
       "14110  Skepticism (American English) or scepticism (B...   13.8\n",
       "11258  Intelligence in Nature: An Inquiry into Knowle...   18.5\n",
       "3951   Speed learning is a collection of methods of l...   16.8\n",
       "658    An integrated collaboration environment (ICE) ...   16.8\n",
       "102    The Age of Enlightenment (also known as the Ag...   15.8\n",
       "...                                                  ...    ...\n",
       "12273  Property is the ownership of land, resources, ...   38.0\n",
       "10115  In computer science, functional programming is...   16.5\n",
       "5293   The history of science and technology (HST) is...   17.3\n",
       "3402   Popular science (also called pop-science or po...   44.3\n",
       "11804  A database is an organized collection of data,...   15.6\n",
       "2439   This is a list of European literatures.\\nThe l...   37.9\n",
       "9453   Francophone literature is literature written i...   25.9\n",
       "489    The Centre for the Philosophy of Nature and Sc...   15.1\n",
       "11765  The Association for Information Science and Te...   26.3\n",
       "2451   The Society for Social Studies of Science (4S)...   18.4\n",
       "6126   Science education is the field concerned with ...   17.7\n",
       "6387   This page gives a chronological list of years ...   32.4\n",
       "12115  The term \"South Asian literature\" refers to th...   21.0\n",
       "6384   Research Councils UK (2002 – 2018), sometimes ...   19.2\n",
       "2319   In contract theory and economics, information ...   15.7\n",
       "11080  Globalize is a cross-platform JavaScript libra...   12.4\n",
       "13621  Educational research refers to the systematic ...   16.5\n",
       "224    Science is a systematic enterprise that builds...   43.3\n",
       "9484   Information science is a field primarily conce...   17.4\n",
       "4895   Slavic literature refers to the literature in ...   31.1\n",
       "1164   This is a list of common chemical compounds wi...   11.7\n",
       "8111   A chemical disaster is the unintentional relea...   20.6\n",
       "13756  A science museum is a museum devoted primarily...   17.4\n",
       "12240  A data model (or datamodel) is an abstract mod...   15.8\n",
       "6572   Information economics or the economics of info...   15.4\n",
       "11038  Information history may refer to the history o...   17.1\n",
       "10389  In computer science, a collection or container...   16.9\n",
       "12572  Information is the resolution of uncertainty; ...   14.9\n",
       "8130   Data science is a multi-disciplinary field tha...   18.4\n",
       "3526   In software engineering and systems engineerin...   18.2\n",
       "\n",
       "[14216 rows x 2 columns]"
      ]
     },
     "execution_count": 27,
     "metadata": {},
     "output_type": "execute_result"
    }
   ],
   "source": [
    "nearest_articles"
   ]
  },
  {
   "cell_type": "code",
   "execution_count": 332,
   "metadata": {},
   "outputs": [
    {
     "data": {
      "text/plain": [
       "'The end of history is a political and philosophical concept that supposes that a particular political, economic, or social system may develop that would constitute the end-point of humanity\\'s sociocultural evolution and the final form of human government. \\nEnd of history or The End of History may also refer to:\\n\\n\"The End of History?\", 1989 essay by Francis Fukuyama on the political and philosophical concept, published in The National Interest\\nThe End of History and the Last Man, 1992 political book by Fukuyama expanding on his 1989 essay\\nThe End of History (album), a 2006 album by Fionn Regan\\nEnd-of-history illusion, a psychological illusion that one will not undergo significant developmental changes in the future\\nThe End of History, a 55% ABV beer made by the BrewDog brewery and packaged inside small stuffed animals\\nNorte, the End of History, 2013 Filipino drama film\\n\\nSee also\\nEnd of the world (disambiguation)'"
      ]
     },
     "execution_count": 332,
     "metadata": {},
     "output_type": "execute_result"
    }
   ],
   "source": [
    "nearest_articles.loc[1664, 'content']"
   ]
  },
  {
   "cell_type": "code",
   "execution_count": null,
   "metadata": {},
   "outputs": [],
   "source": []
  }
 ],
 "metadata": {
  "kernelspec": {
   "display_name": "Python 3",
   "language": "python",
   "name": "python3"
  },
  "language_info": {
   "codemirror_mode": {
    "name": "ipython",
    "version": 3
   },
   "file_extension": ".py",
   "mimetype": "text/x-python",
   "name": "python",
   "nbconvert_exporter": "python",
   "pygments_lexer": "ipython3",
   "version": "3.6.8"
  }
 },
 "nbformat": 4,
 "nbformat_minor": 2
}
