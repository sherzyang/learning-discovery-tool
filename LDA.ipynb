{
 "cells": [
  {
   "cell_type": "markdown",
   "metadata": {},
   "source": [
    "## Load Files and Vectorize "
   ]
  },
  {
   "cell_type": "code",
   "execution_count": 2,
   "metadata": {},
   "outputs": [],
   "source": [
    "import os\n",
    "import numpy as np\n",
    "import pandas as pd\n",
    "import pickle\n",
    "from sklearn.feature_extraction.text import TfidfVectorizer\n",
    "from scipy.spatial.distance import cosine, cdist"
   ]
  },
  {
   "cell_type": "code",
   "execution_count": 3,
   "metadata": {},
   "outputs": [],
   "source": [
    "with open(r\"data/df_corpus2.pkl\", \"rb\") as input_file:\n",
    "    df_corpus2 = pickle.load(input_file)"
   ]
  },
  {
   "cell_type": "code",
   "execution_count": 4,
   "metadata": {},
   "outputs": [
    {
     "data": {
      "text/html": [
       "<div>\n",
       "<style scoped>\n",
       "    .dataframe tbody tr th:only-of-type {\n",
       "        vertical-align: middle;\n",
       "    }\n",
       "\n",
       "    .dataframe tbody tr th {\n",
       "        vertical-align: top;\n",
       "    }\n",
       "\n",
       "    .dataframe thead th {\n",
       "        text-align: right;\n",
       "    }\n",
       "</style>\n",
       "<table border=\"1\" class=\"dataframe\">\n",
       "  <thead>\n",
       "    <tr style=\"text-align: right;\">\n",
       "      <th></th>\n",
       "      <th>content</th>\n",
       "      <th>score</th>\n",
       "    </tr>\n",
       "  </thead>\n",
       "  <tbody>\n",
       "    <tr>\n",
       "      <th>0</th>\n",
       "      <td>Nature Reviews Nephrology (before 2009, Nature...</td>\n",
       "      <td>20.6</td>\n",
       "    </tr>\n",
       "    <tr>\n",
       "      <th>1</th>\n",
       "      <td>Food blogging represents a complex interweavin...</td>\n",
       "      <td>13.6</td>\n",
       "    </tr>\n",
       "    <tr>\n",
       "      <th>2</th>\n",
       "      <td>The International Motorcycle Shows are a serie...</td>\n",
       "      <td>13.3</td>\n",
       "    </tr>\n",
       "    <tr>\n",
       "      <th>3</th>\n",
       "      <td>Education in Ancient Greece was vastly \"democr...</td>\n",
       "      <td>11.3</td>\n",
       "    </tr>\n",
       "    <tr>\n",
       "      <th>4</th>\n",
       "      <td>Rural economics is the study of rural economie...</td>\n",
       "      <td>12.5</td>\n",
       "    </tr>\n",
       "  </tbody>\n",
       "</table>\n",
       "</div>"
      ],
      "text/plain": [
       "                                             content  score\n",
       "0  Nature Reviews Nephrology (before 2009, Nature...   20.6\n",
       "1  Food blogging represents a complex interweavin...   13.6\n",
       "2  The International Motorcycle Shows are a serie...   13.3\n",
       "3  Education in Ancient Greece was vastly \"democr...   11.3\n",
       "4  Rural economics is the study of rural economie...   12.5"
      ]
     },
     "execution_count": 4,
     "metadata": {},
     "output_type": "execute_result"
    }
   ],
   "source": [
    "df_corpus2.head()"
   ]
  },
  {
   "cell_type": "markdown",
   "metadata": {},
   "source": [
    "## Data Preprocessing"
   ]
  },
  {
   "cell_type": "code",
   "execution_count": 9,
   "metadata": {},
   "outputs": [],
   "source": [
    "#! pip install gensim"
   ]
  },
  {
   "cell_type": "code",
   "execution_count": 10,
   "metadata": {},
   "outputs": [
    {
     "name": "stderr",
     "output_type": "stream",
     "text": [
      "[nltk_data] Downloading package wordnet to\n",
      "[nltk_data]     /Users/sherzyang/nltk_data...\n",
      "[nltk_data]   Package wordnet is already up-to-date!\n"
     ]
    },
    {
     "data": {
      "text/plain": [
       "True"
      ]
     },
     "execution_count": 10,
     "metadata": {},
     "output_type": "execute_result"
    }
   ],
   "source": [
    "import gensim\n",
    "from gensim.utils import simple_preprocess\n",
    "from gensim.parsing.preprocessing import STOPWORDS\n",
    "from nltk.stem import WordNetLemmatizer, SnowballStemmer\n",
    "from nltk.stem.porter import *\n",
    "import numpy as np\n",
    "np.random.seed(2018)\n",
    "import nltk\n",
    "nltk.download('wordnet')"
   ]
  },
  {
   "cell_type": "code",
   "execution_count": 11,
   "metadata": {},
   "outputs": [],
   "source": [
    "def lemmatize_stemming(text):\n",
    "    return WordNetLemmatizer().lemmatize(text, pos='v')\n",
    "def preprocess(text):\n",
    "    result = []\n",
    "    for token in gensim.utils.simple_preprocess(text):\n",
    "        if token not in gensim.parsing.preprocessing.STOPWORDS and len(token) > 3:\n",
    "            result.append(lemmatize_stemming(token))\n",
    "    return result"
   ]
  },
  {
   "cell_type": "code",
   "execution_count": 12,
   "metadata": {},
   "outputs": [],
   "source": [
    "processed_docs = df_corpus2['content'].map(preprocess)\n",
    "#processed_docs[:10]"
   ]
  },
  {
   "cell_type": "code",
   "execution_count": 13,
   "metadata": {},
   "outputs": [],
   "source": [
    "# import pickle\n",
    "# with open('data/processed_docs_lda.pkl', 'wb') as f:\n",
    "#     pickle.dump(processed_docs, f)"
   ]
  },
  {
   "cell_type": "code",
   "execution_count": null,
   "metadata": {},
   "outputs": [],
   "source": [
    "with open(r\"data/processed_docs_lda.pkl\", \"rb\") as input_file:\n",
    "    df_corpus2 = pickle.load(input_file)"
   ]
  },
  {
   "cell_type": "code",
   "execution_count": 14,
   "metadata": {},
   "outputs": [
    {
     "name": "stdout",
     "output_type": "stream",
     "text": [
      "0 adult\n",
      "1 apply\n",
      "2 cancer\n",
      "3 child\n",
      "4 chronic\n",
      "5 citation\n",
      "6 clinical\n",
      "7 coverage\n",
      "8 diagnosis\n",
      "9 dialysis\n",
      "10 disorder\n"
     ]
    }
   ],
   "source": [
    "dictionary = gensim.corpora.Dictionary(processed_docs)\n",
    "count = 0\n",
    "for k, v in dictionary.iteritems():\n",
    "    print(k, v)\n",
    "    count += 1\n",
    "    if count > 10:\n",
    "        break"
   ]
  },
  {
   "cell_type": "code",
   "execution_count": 15,
   "metadata": {},
   "outputs": [],
   "source": [
    "dictionary.filter_extremes(no_below=15, no_above=0.5, keep_n=100000)"
   ]
  },
  {
   "cell_type": "code",
   "execution_count": 16,
   "metadata": {},
   "outputs": [],
   "source": [
    "bow_corpus = [dictionary.doc2bow(doc) for doc in processed_docs]\n"
   ]
  },
  {
   "cell_type": "code",
   "execution_count": 17,
   "metadata": {},
   "outputs": [
    {
     "name": "stdout",
     "output_type": "stream",
     "text": [
      "[(0, 0.11463756621225898),\n",
      " (1, 0.05765586532617539),\n",
      " (2, 0.13892712182502004),\n",
      " (3, 0.09102312571345948),\n",
      " (4, 0.1579255683226295),\n",
      " (5, 0.15342950456468332),\n",
      " (6, 0.12687624510705903),\n",
      " (7, 0.13979034449587607),\n",
      " (8, 0.15698604788106313),\n",
      " (9, 0.11687015539050881),\n",
      " (10, 0.19033509306520321),\n",
      " (11, 0.0714941413459945),\n",
      " (12, 0.10949456875642996),\n",
      " (13, 0.15330801836500396),\n",
      " (14, 0.2324912851948214),\n",
      " (15, 0.2429152820827657),\n",
      " (16, 0.07326354021919622),\n",
      " (17, 0.10778082117698098),\n",
      " (18, 0.1918594902864103),\n",
      " (19, 0.24513212262921247),\n",
      " (20, 0.13877712452498228),\n",
      " (21, 0.20848419321557235),\n",
      " (22, 0.09049542779379403),\n",
      " (23, 0.27958124452493754),\n",
      " (24, 0.18772634012563447),\n",
      " (25, 0.10850653149179024),\n",
      " (26, 0.16206489016436754),\n",
      " (27, 0.05663309758786264),\n",
      " (28, 0.1465052227617137),\n",
      " (29, 0.05518954915829813),\n",
      " (30, 0.2653244279611047),\n",
      " (31, 0.11564191336679187),\n",
      " (32, 0.2139591889419809),\n",
      " (33, 0.32931380435014446),\n",
      " (34, 0.17846492643608908),\n",
      " (35, 0.09913014119814909)]\n"
     ]
    }
   ],
   "source": [
    "from gensim import corpora, models\n",
    "tfidf = models.TfidfModel(bow_corpus)\n",
    "corpus_tfidf = tfidf[bow_corpus]\n",
    "from pprint import pprint\n",
    "for doc in corpus_tfidf:\n",
    "    pprint(doc)\n",
    "    break"
   ]
  },
  {
   "cell_type": "code",
   "execution_count": 18,
   "metadata": {},
   "outputs": [],
   "source": [
    "lda_model = gensim.models.LdaMulticore(bow_corpus, num_topics=10, id2word=dictionary, passes=2, workers=2)"
   ]
  },
  {
   "cell_type": "code",
   "execution_count": 19,
   "metadata": {},
   "outputs": [
    {
     "name": "stdout",
     "output_type": "stream",
     "text": [
      "Topic: 0 \n",
      "Words: 0.007*\"century\" + 0.007*\"literature\" + 0.006*\"write\" + 0.004*\"book\" + 0.004*\"displaystyle\" + 0.004*\"bear\" + 0.003*\"ancient\" + 0.003*\"roman\" + 0.003*\"form\" + 0.003*\"museum\"\n",
      "Topic: 1 \n",
      "Words: 0.006*\"self\" + 0.006*\"music\" + 0.006*\"culture\" + 0.006*\"people\" + 0.005*\"health\" + 0.004*\"psychology\" + 0.004*\"group\" + 0.003*\"study\" + 0.003*\"social\" + 0.003*\"form\"\n",
      "Topic: 2 \n",
      "Words: 0.007*\"social\" + 0.006*\"study\" + 0.005*\"theory\" + 0.004*\"science\" + 0.004*\"human\" + 0.004*\"philosophy\" + 0.004*\"self\" + 0.004*\"research\" + 0.003*\"society\" + 0.003*\"people\"\n",
      "Topic: 3 \n",
      "Words: 0.006*\"film\" + 0.006*\"series\" + 0.005*\"star\" + 0.004*\"television\" + 0.004*\"american\" + 0.003*\"award\" + 0.003*\"music\" + 0.003*\"show\" + 0.003*\"release\" + 0.003*\"season\"\n",
      "Topic: 4 \n",
      "Words: 0.009*\"university\" + 0.007*\"program\" + 0.007*\"engineer\" + 0.005*\"school\" + 0.005*\"technology\" + 0.005*\"science\" + 0.004*\"college\" + 0.004*\"education\" + 0.004*\"research\" + 0.004*\"institute\"\n",
      "Topic: 5 \n",
      "Words: 0.008*\"food\" + 0.006*\"company\" + 0.005*\"market\" + 0.004*\"drink\" + 0.004*\"finance\" + 0.004*\"service\" + 0.003*\"world\" + 0.003*\"unite\" + 0.003*\"financial\" + 0.003*\"bank\"\n",
      "Topic: 6 \n",
      "Words: 0.004*\"government\" + 0.004*\"century\" + 0.004*\"unite\" + 0.003*\"people\" + 0.003*\"world\" + 0.003*\"city\" + 0.003*\"economic\" + 0.003*\"empire\" + 0.003*\"south\" + 0.003*\"force\"\n",
      "Topic: 7 \n",
      "Words: 0.019*\"language\" + 0.016*\"film\" + 0.007*\"languages\" + 0.005*\"write\" + 0.005*\"word\" + 0.005*\"speak\" + 0.004*\"form\" + 0.004*\"english\" + 0.003*\"century\" + 0.003*\"people\"\n",
      "Topic: 8 \n",
      "Words: 0.008*\"road\" + 0.007*\"county\" + 0.006*\"city\" + 0.005*\"highway\" + 0.004*\"north\" + 0.004*\"miles\" + 0.004*\"route\" + 0.004*\"south\" + 0.003*\"line\" + 0.003*\"east\"\n",
      "Topic: 9 \n",
      "Words: 0.016*\"music\" + 0.004*\"record\" + 0.004*\"number\" + 0.003*\"release\" + 0.003*\"group\" + 0.003*\"rock\" + 0.003*\"album\" + 0.003*\"band\" + 0.003*\"begin\" + 0.003*\"displaystyle\"\n"
     ]
    }
   ],
   "source": [
    "for idx, topic in lda_model.print_topics(-1):\n",
    "    print('Topic: {} \\nWords: {}'.format(idx, topic))"
   ]
  },
  {
   "cell_type": "code",
   "execution_count": 20,
   "metadata": {},
   "outputs": [
    {
     "name": "stdout",
     "output_type": "stream",
     "text": [
      "Topic: 0 Word: 0.002*\"film\" + 0.001*\"language\" + 0.001*\"actors\" + 0.001*\"nepal\" + 0.001*\"list\" + 0.001*\"drink\" + 0.001*\"movies\" + 0.001*\"bear\" + 0.001*\"music\" + 0.001*\"hindi\"\n",
      "Topic: 1 Word: 0.003*\"music\" + 0.002*\"finance\" + 0.002*\"university\" + 0.001*\"journal\" + 0.001*\"engineer\" + 0.001*\"sciences\" + 0.001*\"global\" + 0.001*\"program\" + 0.001*\"science\" + 0.001*\"technology\"\n",
      "Topic: 2 Word: 0.002*\"self\" + 0.002*\"social\" + 0.002*\"behavior\" + 0.002*\"theory\" + 0.002*\"psychology\" + 0.002*\"economics\" + 0.002*\"displaystyle\" + 0.001*\"model\" + 0.001*\"market\" + 0.001*\"study\"\n",
      "Topic: 3 Word: 0.001*\"music\" + 0.001*\"food\" + 0.001*\"social\" + 0.001*\"museum\" + 0.001*\"science\" + 0.001*\"cities\" + 0.001*\"university\" + 0.001*\"anthropology\" + 0.001*\"album\" + 0.001*\"sciences\"\n",
      "Topic: 4 Word: 0.003*\"journal\" + 0.002*\"transportation\" + 0.002*\"environment\" + 0.002*\"psychology\" + 0.002*\"science\" + 0.002*\"department\" + 0.002*\"index\" + 0.002*\"finance\" + 0.002*\"philosophy\" + 0.001*\"nature\"\n",
      "Topic: 5 Word: 0.005*\"music\" + 0.004*\"film\" + 0.003*\"album\" + 0.003*\"award\" + 0.002*\"actor\" + 0.002*\"actors\" + 0.002*\"finance\" + 0.002*\"release\" + 0.002*\"song\" + 0.002*\"band\"\n",
      "Topic: 6 Word: 0.001*\"finance\" + 0.001*\"cities\" + 0.001*\"science\" + 0.001*\"university\" + 0.001*\"language\" + 0.001*\"list\" + 0.001*\"engineer\" + 0.001*\"global\" + 0.001*\"century\" + 0.001*\"city\"\n",
      "Topic: 7 Word: 0.002*\"museum\" + 0.002*\"cities\" + 0.002*\"century\" + 0.002*\"city\" + 0.001*\"ancient\" + 0.001*\"anthropology\" + 0.001*\"university\" + 0.001*\"culture\" + 0.001*\"population\" + 0.001*\"south\"\n",
      "Topic: 8 Word: 0.004*\"film\" + 0.003*\"language\" + 0.002*\"music\" + 0.002*\"drink\" + 0.002*\"movies\" + 0.002*\"channel\" + 0.002*\"television\" + 0.002*\"company\" + 0.002*\"game\" + 0.002*\"languages\"\n",
      "Topic: 9 Word: 0.002*\"food\" + 0.002*\"university\" + 0.002*\"engineer\" + 0.002*\"science\" + 0.002*\"literature\" + 0.002*\"sciences\" + 0.001*\"anthropology\" + 0.001*\"economics\" + 0.001*\"technology\" + 0.001*\"ministry\"\n"
     ]
    }
   ],
   "source": [
    "lda_model_tfidf = gensim.models.LdaMulticore(corpus_tfidf, num_topics=10, id2word=dictionary, passes=2, workers=4)\n",
    "for idx, topic in lda_model_tfidf.print_topics(-1):\n",
    "    print('Topic: {} Word: {}'.format(idx, topic))"
   ]
  },
  {
   "cell_type": "code",
   "execution_count": 21,
   "metadata": {},
   "outputs": [],
   "source": [
    "#processed_docs[4310]\n"
   ]
  },
  {
   "cell_type": "code",
   "execution_count": 22,
   "metadata": {},
   "outputs": [
    {
     "name": "stdout",
     "output_type": "stream",
     "text": [
      "\n",
      "Score: 0.5158300399780273\t \n",
      "Topic: 0.007*\"social\" + 0.006*\"study\" + 0.005*\"theory\" + 0.004*\"science\" + 0.004*\"human\" + 0.004*\"philosophy\" + 0.004*\"self\" + 0.004*\"research\" + 0.003*\"society\" + 0.003*\"people\"\n",
      "\n",
      "Score: 0.31248170137405396\t \n",
      "Topic: 0.004*\"government\" + 0.004*\"century\" + 0.004*\"unite\" + 0.003*\"people\" + 0.003*\"world\" + 0.003*\"city\" + 0.003*\"economic\" + 0.003*\"empire\" + 0.003*\"south\" + 0.003*\"force\"\n",
      "\n",
      "Score: 0.0725770965218544\t \n",
      "Topic: 0.009*\"university\" + 0.007*\"program\" + 0.007*\"engineer\" + 0.005*\"school\" + 0.005*\"technology\" + 0.005*\"science\" + 0.004*\"college\" + 0.004*\"education\" + 0.004*\"research\" + 0.004*\"institute\"\n",
      "\n",
      "Score: 0.06361857056617737\t \n",
      "Topic: 0.008*\"food\" + 0.006*\"company\" + 0.005*\"market\" + 0.004*\"drink\" + 0.004*\"finance\" + 0.004*\"service\" + 0.003*\"world\" + 0.003*\"unite\" + 0.003*\"financial\" + 0.003*\"bank\"\n",
      "\n",
      "Score: 0.03517885133624077\t \n",
      "Topic: 0.006*\"self\" + 0.006*\"music\" + 0.006*\"culture\" + 0.006*\"people\" + 0.005*\"health\" + 0.004*\"psychology\" + 0.004*\"group\" + 0.003*\"study\" + 0.003*\"social\" + 0.003*\"form\"\n"
     ]
    }
   ],
   "source": [
    "#performance evaluation for BOW\n",
    "for index, score in sorted(lda_model[bow_corpus[4310]], key=lambda tup: -1*tup[1]):\n",
    "    print(\"\\nScore: {}\\t \\nTopic: {}\".format(score, lda_model.print_topic(index, 10)))"
   ]
  },
  {
   "cell_type": "code",
   "execution_count": 23,
   "metadata": {},
   "outputs": [
    {
     "name": "stdout",
     "output_type": "stream",
     "text": [
      "\n",
      "Score: 0.756618857383728\t \n",
      "Topic: 0.002*\"self\" + 0.002*\"social\" + 0.002*\"behavior\" + 0.002*\"theory\" + 0.002*\"psychology\" + 0.002*\"economics\" + 0.002*\"displaystyle\" + 0.001*\"model\" + 0.001*\"market\" + 0.001*\"study\"\n",
      "\n",
      "Score: 0.1328658163547516\t \n",
      "Topic: 0.002*\"food\" + 0.002*\"university\" + 0.002*\"engineer\" + 0.002*\"science\" + 0.002*\"literature\" + 0.002*\"sciences\" + 0.001*\"anthropology\" + 0.001*\"economics\" + 0.001*\"technology\" + 0.001*\"ministry\"\n",
      "\n",
      "Score: 0.11007410287857056\t \n",
      "Topic: 0.002*\"museum\" + 0.002*\"cities\" + 0.002*\"century\" + 0.002*\"city\" + 0.001*\"ancient\" + 0.001*\"anthropology\" + 0.001*\"university\" + 0.001*\"culture\" + 0.001*\"population\" + 0.001*\"south\"\n"
     ]
    }
   ],
   "source": [
    "#performance evaluation for TFIDF\n",
    "for index, score in sorted(lda_model_tfidf[bow_corpus[4310]], key=lambda tup: -1*tup[1]):\n",
    "    print(\"\\nScore: {}\\t \\nTopic: {}\".format(score, lda_model_tfidf.print_topic(index, 10)))"
   ]
  },
  {
   "cell_type": "code",
   "execution_count": null,
   "metadata": {},
   "outputs": [],
   "source": []
  },
  {
   "cell_type": "code",
   "execution_count": 35,
   "metadata": {},
   "outputs": [
    {
     "name": "stdout",
     "output_type": "stream",
     "text": [
      "Score: 0.819762110710144\t Topic: 0.006*\"film\" + 0.006*\"series\" + 0.005*\"star\" + 0.004*\"television\" + 0.004*\"american\"\n",
      "Score: 0.020032105967402458\t Topic: 0.008*\"food\" + 0.006*\"company\" + 0.005*\"market\" + 0.004*\"drink\" + 0.004*\"finance\"\n",
      "Score: 0.020026806741952896\t Topic: 0.016*\"music\" + 0.004*\"record\" + 0.004*\"number\" + 0.003*\"release\" + 0.003*\"group\"\n",
      "Score: 0.020026497542858124\t Topic: 0.008*\"road\" + 0.007*\"county\" + 0.006*\"city\" + 0.005*\"highway\" + 0.004*\"north\"\n",
      "Score: 0.02002619579434395\t Topic: 0.019*\"language\" + 0.016*\"film\" + 0.007*\"languages\" + 0.005*\"write\" + 0.005*\"word\"\n",
      "Score: 0.02002609707415104\t Topic: 0.007*\"century\" + 0.007*\"literature\" + 0.006*\"write\" + 0.004*\"book\" + 0.004*\"displaystyle\"\n",
      "Score: 0.020025933161377907\t Topic: 0.006*\"self\" + 0.006*\"music\" + 0.006*\"culture\" + 0.006*\"people\" + 0.005*\"health\"\n",
      "Score: 0.02002512291073799\t Topic: 0.007*\"social\" + 0.006*\"study\" + 0.005*\"theory\" + 0.004*\"science\" + 0.004*\"human\"\n",
      "Score: 0.02002478763461113\t Topic: 0.009*\"university\" + 0.007*\"program\" + 0.007*\"engineer\" + 0.005*\"school\" + 0.005*\"technology\"\n",
      "Score: 0.02002430334687233\t Topic: 0.004*\"government\" + 0.004*\"century\" + 0.004*\"unite\" + 0.003*\"people\" + 0.003*\"world\"\n"
     ]
    }
   ],
   "source": [
    "unseen_document = 'Glossier is a makeup brand that every girl loves.'\n",
    "bow_vector = dictionary.doc2bow(preprocess(unseen_document))\n",
    "for index, score in sorted(lda_model[bow_vector], key=lambda tup: -1*tup[1]):\n",
    "    print(\"Score: {}\\t Topic: {}\".format(score, lda_model.print_topic(index, 5)))"
   ]
  },
  {
   "cell_type": "code",
   "execution_count": 36,
   "metadata": {},
   "outputs": [
    {
     "data": {
      "text/plain": [
       "[(0, 0.02002611),\n",
       " (1, 0.020025944),\n",
       " (2, 0.020025136),\n",
       " (3, 0.8197604),\n",
       " (4, 0.020024799),\n",
       " (5, 0.020033775),\n",
       " (6, 0.020024315),\n",
       " (7, 0.020026209),\n",
       " (8, 0.02002651),\n",
       " (9, 0.02002682)]"
      ]
     },
     "execution_count": 36,
     "metadata": {},
     "output_type": "execute_result"
    }
   ],
   "source": [
    "lda_model"
   ]
  },
  {
   "cell_type": "code",
   "execution_count": 37,
   "metadata": {},
   "outputs": [],
   "source": [
    "# with open(\"data/lda_model_1.pkl\", 'wb') as f:\n",
    "#      pickle.dump(lda_model, f)"
   ]
  },
  {
   "cell_type": "code",
   "execution_count": 39,
   "metadata": {},
   "outputs": [],
   "source": [
    "with open(r\"data/lda_model_1.pkl\", \"rb\") as input_file:\n",
    "    lda_model_1 = pickle.load(input_file)"
   ]
  },
  {
   "cell_type": "code",
   "execution_count": null,
   "metadata": {},
   "outputs": [],
   "source": []
  },
  {
   "cell_type": "code",
   "execution_count": null,
   "metadata": {},
   "outputs": [],
   "source": [
    "unseen_document = 'Glossier is a makeup brand that every girl loves.'\n",
    "bow_vector = dictionary.doc2bow(preprocess(unseen_document))"
   ]
  },
  {
   "cell_type": "code",
   "execution_count": 68,
   "metadata": {},
   "outputs": [],
   "source": [
    "def get_aggregate_score(lda_model, bow_corpus, i=0):\n",
    "    \"\"\"\n",
    "    Get the score for topics from wikipedia\n",
    "    \"\"\"\n",
    "\n",
    "    lda_all_docs = []   \n",
    "    \n",
    "    for i in range(len(bow_corpus)):\n",
    "        article = lda_model[bow_corpus[i]]\n",
    "    \n",
    "        if len(article) != 10:\n",
    "            indices = []\n",
    "            for item in article:\n",
    "                indices.append(item[0])\n",
    "            for index in list(range(10)):\n",
    "                if index not in indices:\n",
    "                    article.append((index, 0))\n",
    "        \n",
    "        lda_all_docs.append([i,article])\n",
    "\n",
    "\n",
    "    return lda_all_docs"
   ]
  },
  {
   "cell_type": "code",
   "execution_count": 69,
   "metadata": {},
   "outputs": [],
   "source": [
    "aggregate_scores_mod1 = get_aggregate_score(lda_model, bow_corpus, i=0)"
   ]
  },
  {
   "cell_type": "code",
   "execution_count": 70,
   "metadata": {},
   "outputs": [],
   "source": [
    "topics_df = pd.DataFrame(aggregate_scores_mod1)"
   ]
  },
  {
   "cell_type": "code",
   "execution_count": 71,
   "metadata": {},
   "outputs": [
    {
     "data": {
      "text/html": [
       "<div>\n",
       "<style scoped>\n",
       "    .dataframe tbody tr th:only-of-type {\n",
       "        vertical-align: middle;\n",
       "    }\n",
       "\n",
       "    .dataframe tbody tr th {\n",
       "        vertical-align: top;\n",
       "    }\n",
       "\n",
       "    .dataframe thead th {\n",
       "        text-align: right;\n",
       "    }\n",
       "</style>\n",
       "<table border=\"1\" class=\"dataframe\">\n",
       "  <thead>\n",
       "    <tr style=\"text-align: right;\">\n",
       "      <th></th>\n",
       "      <th>0</th>\n",
       "      <th>1</th>\n",
       "    </tr>\n",
       "  </thead>\n",
       "  <tbody>\n",
       "    <tr>\n",
       "      <th>0</th>\n",
       "      <td>0</td>\n",
       "      <td>[(1, 0.34407565), (2, 0.6388408), (0, 0), (3, ...</td>\n",
       "    </tr>\n",
       "    <tr>\n",
       "      <th>1</th>\n",
       "      <td>1</td>\n",
       "      <td>[(2, 0.04269844), (3, 0.14525636), (5, 0.80569...</td>\n",
       "    </tr>\n",
       "    <tr>\n",
       "      <th>2</th>\n",
       "      <td>2</td>\n",
       "      <td>[(3, 0.23120733), (5, 0.7549764), (0, 0), (1, ...</td>\n",
       "    </tr>\n",
       "    <tr>\n",
       "      <th>3</th>\n",
       "      <td>3</td>\n",
       "      <td>[(0, 0.21230577), (1, 0.03643345), (2, 0.34926...</td>\n",
       "    </tr>\n",
       "    <tr>\n",
       "      <th>4</th>\n",
       "      <td>4</td>\n",
       "      <td>[(2, 0.27511144), (4, 0.040314987), (5, 0.0807...</td>\n",
       "    </tr>\n",
       "  </tbody>\n",
       "</table>\n",
       "</div>"
      ],
      "text/plain": [
       "   0                                                  1\n",
       "0  0  [(1, 0.34407565), (2, 0.6388408), (0, 0), (3, ...\n",
       "1  1  [(2, 0.04269844), (3, 0.14525636), (5, 0.80569...\n",
       "2  2  [(3, 0.23120733), (5, 0.7549764), (0, 0), (1, ...\n",
       "3  3  [(0, 0.21230577), (1, 0.03643345), (2, 0.34926...\n",
       "4  4  [(2, 0.27511144), (4, 0.040314987), (5, 0.0807..."
      ]
     },
     "execution_count": 71,
     "metadata": {},
     "output_type": "execute_result"
    }
   ],
   "source": [
    "topics_df.head()"
   ]
  },
  {
   "cell_type": "code",
   "execution_count": null,
   "metadata": {},
   "outputs": [],
   "source": []
  }
 ],
 "metadata": {
  "kernelspec": {
   "display_name": "Python 3",
   "language": "python",
   "name": "python3"
  },
  "language_info": {
   "codemirror_mode": {
    "name": "ipython",
    "version": 3
   },
   "file_extension": ".py",
   "mimetype": "text/x-python",
   "name": "python",
   "nbconvert_exporter": "python",
   "pygments_lexer": "ipython3",
   "version": "3.6.8"
  }
 },
 "nbformat": 4,
 "nbformat_minor": 2
}
