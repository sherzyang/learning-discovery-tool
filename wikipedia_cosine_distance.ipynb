{
 "cells": [
  {
   "cell_type": "code",
   "execution_count": 6,
   "metadata": {},
   "outputs": [],
   "source": [
    "from wiki_dump_reader import Cleaner, iterate\n",
    "\n",
    "corpus = []\n",
    "cleaner = Cleaner()\n",
    "for title, text in iterate('data/enwiki-latest-pages-articles.xml'):\n",
    "    text = cleaner.clean_text(text)\n",
    "    cleaned_text, links = cleaner.build_links(text)\n",
    "    corpus.append(cleaned_text)\n"
   ]
  },
  {
   "cell_type": "code",
   "execution_count": 10,
   "metadata": {},
   "outputs": [],
   "source": [
    "long_text = []\n",
    "for i in corpus:\n",
    "    if len(i) > 100:\n",
    "        long_text.append(i)\n",
    "    "
   ]
  },
  {
   "cell_type": "code",
   "execution_count": 19,
   "metadata": {},
   "outputs": [],
   "source": [
    "long_text_count = len(long_text)"
   ]
  },
  {
   "cell_type": "code",
   "execution_count": 26,
   "metadata": {},
   "outputs": [
    {
     "name": "stderr",
     "output_type": "stream",
     "text": [
      "[nltk_data] Downloading package wordnet to\n",
      "[nltk_data]     /Users/sherzyang/nltk_data...\n",
      "[nltk_data]   Package wordnet is already up-to-date!\n"
     ]
    },
    {
     "data": {
      "text/plain": [
       "True"
      ]
     },
     "execution_count": 26,
     "metadata": {},
     "output_type": "execute_result"
    }
   ],
   "source": [
    "import gensim\n",
    "from gensim.utils import simple_preprocess\n",
    "from gensim.parsing.preprocessing import STOPWORDS\n",
    "from nltk.stem import WordNetLemmatizer, SnowballStemmer\n",
    "from nltk.stem.porter import *\n",
    "import numpy as np\n",
    "np.random.seed(2018)\n",
    "import nltk\n",
    "nltk.download('wordnet')"
   ]
  },
  {
   "cell_type": "code",
   "execution_count": 27,
   "metadata": {},
   "outputs": [],
   "source": [
    "docs = long_text"
   ]
  },
  {
   "cell_type": "code",
   "execution_count": 28,
   "metadata": {},
   "outputs": [],
   "source": [
    "def lemmatize_stemming(text):\n",
    "    return WordNetLemmatizer().lemmatize(text, pos='v')\n",
    "\n",
    "def preprocess(text):\n",
    "    result = []\n",
    "    for token in gensim.utils.simple_preprocess(text):\n",
    "        if token not in gensim.parsing.preprocessing.STOPWORDS and len(token) > 3:\n",
    "            result.append(lemmatize_stemming(token))\n",
    "    return result"
   ]
  },
  {
   "cell_type": "code",
   "execution_count": 30,
   "metadata": {},
   "outputs": [
    {
     "name": "stdout",
     "output_type": "stream",
     "text": [
      "['Louis', 'J.', 'Russell', '(circa', '1912–1973)', 'was', 'an', 'agent', 'of', 'the', 'Federal', 'Bureau', 'of', 'Investigation', '(FBI),', 'senior', 'investigator', 'of', 'the', 'House', 'Un-American', 'Activities', 'Committee', '(HUAC),', 'and', 'private', 'detective.\\n==Background==\\nLouis', 'James', 'Russell', 'graduated', 'from', 'the', 'Catholic', 'University', 'of', 'America.\\n==Career==\\nIn', '1935,', 'Russell', 'joined', 'the', 'FBI', 'as', 'an', 'agent.\\n===HUAC===\\nIn', '1945,', 'Russell', 'joined', 'HUAC', 'as', 'an', 'investigator.', '', 'Robert', 'E.', 'Stripling', 'has', 'Russell', 'testify', 'on', 'what', 'he', 'knew', 'about', 'Gerhart', 'Eisler', 'and', 'Hollywood', 'industry', 'people.', '', 'He', 'also', 'testified', 'about', 'Leon', 'Josephson', 'and', 'Alexander', 'Koral.', '', 'By', '1948,', 'Russell', 'was', 'a', 'HUAC', 'senior', 'investigator', 'in', 'the', 'Hiss-Chambers', 'case.', '', 'In', 'his', 'memoir', 'Six', 'Crises,', 'Richard', 'Nixon', 'recalled', 'that', 'Russell', 'restrained', 'Hiss', 'when', 'it', 'seemed', 'Hiss', 'was', 'about', 'to', 'strike', 'Chambers.', '', 'Russell', 'served', 'under', 'Robert', 'E.', 'Stripling', 'and', 'his', 'successor', 'Frank', 'S.', 'Tavenner', 'Jr..', '', 'He', 'helped', 'uncover', 'evidence', 'of', 'Soviet', 'spy', 'rings', 'and', 'leaks', 'of', 'atomic', 'secrets', 'and', 'materials', 'to', 'the', 'Soviet', 'Union.', '', 'In', '1952,', 'he', 'helped', 'try', 'to', 'find', 'Communist', 'influence', 'in', 'the', 'motion', 'picture', 'industry.\\nIn', 'January', '1954,', 'Russell', 'was', 'dismissed', 'by', 'committee', 'chair,', 'Representative', 'Harold', 'H.', 'Velde.', '', 'Russell', 'had', 'borrowed', '$300', 'from', 'actor', 'Edward', 'G.', 'Robinson.', '', 'In', '1956,', 'Russell', 'was', 'rehired', 'and', 'remained', 'with', 'HUAC', 'for', 'a', 'decade.\\n===Private', 'detective===\\nIn', '1966,', 'Russell', 'became', 'a', 'private', 'investigator.\\nTo', 'undermine', 'the', 'credibility', 'of', 'investigative', 'report', 'Jack', 'Anderson,', 'the', '', 'Richard', 'M.', 'Nixon', 'campaign', 'hired', 'Russell', '\"to', 'spy\"', 'on', 'him.', '', 'In', 'return', 'for', 'leads,', 'Anderson', 'gave', 'Russell', 'odd', 'jobs', 'for', 'the', '\"Washington', 'Merry-Go-Round,\"', 'enabling', 'Russell', 'to', 'send', 'information', 'back', 'to', 'the', 'campaign,', 'whose', 'director', 'of', 'security', 'was', 'James', 'W.', 'McCord\\nIn', '1971,', 'Russell', 'was', 'working', 'for', 'General', 'Security', 'Services,', 'Inc.', '(GSS),', 'a', 'security', 'guard', 'service', 'whose', 'clients', 'included', 'the', 'Watergate', 'offices.', '', 'After', 'the', 'Watergate', 'break-in', 'in', '1972,', 'James', 'W.', 'McCord', 'Jr.', '\"refused', 'to', 'discuss', 'Russell', 'under', 'any', 'circumstances', 'and...', 'would', 'not', 'discuss', 'Watergate', 'with', 'any', 'writer', 'who', 'so', 'much', 'as', 'expressed', 'interest', 'in', 'Lou', 'Russell.\"\\nFrom', 'June', '20', 'to', 'July', '2,', '1973,', 'Russell', 'was', 'working', 'for', 'a', 'detective', 'agency', 'that', 'was', 'helping', 'George', 'Herbert', 'Walker', 'Bush', '(then', 'chairman', 'of', 'the', 'Republican', 'National', 'Committee)', 'prepare', 'for', 'a', 'press', 'conference.\\nAccording', 'to', 'attorney', 'Gerald', 'Alch,', 'McCord', 'hired', '\"an', 'old', 'associate', 'of', 'his\"', '(Russell)', 'to', 'his', 'company', 'Security', 'International,', 'Inc.', '', 'Bob', 'Smith,', 'aide', 'and', 'office', 'manager', 'to', 'attorney', 'Bernard', 'Fensterwald', 'recounted', 'that', 'McCord', 'had', 'obtained', 'a', 'contract', 'to', 'provide', 'security', 'to', 'the', 'Republican', 'National', 'Committee.', 'Unable', 'to', 'cash', \"McCord's\", 'checks,', 'Russell', 'brought', 'some', 'dozen', 'checks', 'over', 'time', 'to', 'Fensterwald’s', 'office', 'at', 'the', '\"Committee', 'to', 'Investigate', 'Assassinations\"', 'or', 'CTIA', '(1520', '16th', 'Street', 'NW,', 'Washington', 'DC', '20036),', 'which', 'Fensterwald', 'would', 'cash.', '', 'During', 'the', 'Watergate', 'break-in,', 'Russell', 'was', 'checked', 'into', 'a', 'Howard', \"Johnson's\", 'Motel', 'across', 'from', 'Watergate.\\n==Personal', 'life', 'and', 'death==\\nAuthor', 'Jim', 'Hougan', 'characterized', 'Russell', 'as', 'an', 'alcoholic', 'and', 'womanizer.\\nRussell', 'died', 'age', '61', 'on', 'July', '2,', '1973,', 'in', 'Washington,', 'DC,', 'after', 'a', 'heart', 'attack.\\n==Legacy==\\nIn', '1984,', 'Jim', 'Hougan', 'wrote', 'a', 'book', 'called', 'Secret', 'Agenda:', 'Watergate,', 'Deep', 'Throat,', 'and', 'the', 'CIA', 'that', 'started', 'originally', 'about', 'Russell.\\n==See', 'also==\\nJ.', 'Edgar', 'Hoover\\nWilliam', 'C.', 'Sullivan\\nManhattan', 'Project\\nAlger', 'Hiss\\nWhittaker', 'Chambers\\n==References==\\n==External', 'links==\\nArchive.org:', '1947', 'HUAC', 'Testimony', 'of', 'Louis', 'J.', 'Russell', '(pp.', '296-305,', '341-342)\\nArchive.org:', '1950', 'HUAC', 'Testimony', 'of', 'Louis', 'J.', 'Russell', '(pp.', '902-907)\\nNixon', 'Library:', '', 'Guide', 'to', 'the', 'Congressional', 'Papers', '(1947-1950)\\nCIA:', '1952', 'HUAC', 'Testimony', 'of', 'Walter', 'Bedell', 'Smith]]\\n1973', 'deaths\\nFBI', 'agents\\nCatholic', 'University', 'of', 'America', 'alumni']\n",
      "\n",
      "\n",
      " tokenized and lemmatized document: \n",
      "['louis', 'russell', 'circa', 'agent', 'federal', 'bureau', 'investigation', 'senior', 'investigator', 'house', 'american', 'activities', 'committee', 'huac', 'private', 'detective', 'background', 'louis', 'jam', 'russell', 'graduate', 'catholic', 'university', 'america', 'career', 'russell', 'join', 'agent', 'huac', 'russell', 'join', 'huac', 'investigator', 'robert', 'stripling', 'russell', 'testify', 'know', 'gerhart', 'eisler', 'hollywood', 'industry', 'people', 'testify', 'leon', 'josephson', 'alexander', 'koral', 'russell', 'huac', 'senior', 'investigator', 'hiss', 'chamber', 'case', 'memoir', 'crises', 'richard', 'nixon', 'recall', 'russell', 'restrain', 'hiss', 'hiss', 'strike', 'chamber', 'russell', 'serve', 'robert', 'stripling', 'successor', 'frank', 'tavenner', 'help', 'uncover', 'evidence', 'soviet', 'ring', 'leak', 'atomic', 'secrets', 'materials', 'soviet', 'union', 'help', 'communist', 'influence', 'motion', 'picture', 'industry', 'january', 'russell', 'dismiss', 'committee', 'chair', 'representative', 'harold', 'velde', 'russell', 'borrow', 'actor', 'edward', 'robinson', 'russell', 'rehired', 'remain', 'huac', 'decade', 'private', 'detective', 'russell', 'private', 'investigator', 'undermine', 'credibility', 'investigative', 'report', 'jack', 'anderson', 'richard', 'nixon', 'campaign', 'hire', 'russell', 'return', 'lead', 'anderson', 'give', 'russell', 'job', 'washington', 'merry', 'round', 'enable', 'russell', 'send', 'information', 'campaign', 'director', 'security', 'jam', 'mccord', 'russell', 'work', 'general', 'security', 'service', 'security', 'guard', 'service', 'clients', 'include', 'watergate', 'offices', 'watergate', 'break', 'jam', 'mccord', 'refuse', 'discuss', 'russell', 'circumstances', 'discuss', 'watergate', 'writer', 'express', 'russell', 'june', 'july', 'russell', 'work', 'detective', 'agency', 'help', 'george', 'herbert', 'walker', 'bush', 'chairman', 'republican', 'national', 'committee', 'prepare', 'press', 'conference', 'accord', 'attorney', 'gerald', 'alch', 'mccord', 'hire', 'associate', 'russell', 'company', 'security', 'international', 'smith', 'aide', 'office', 'manager', 'attorney', 'bernard', 'fensterwald', 'recount', 'mccord', 'obtain', 'contract', 'provide', 'security', 'republican', 'national', 'committee', 'unable', 'cash', 'mccord', 'check', 'russell', 'bring', 'dozen', 'check', 'time', 'fensterwald', 'office', 'committee', 'investigate', 'assassinations', 'ctia', 'street', 'washington', 'fensterwald', 'cash', 'watergate', 'break', 'russell', 'check', 'howard', 'johnson', 'motel', 'watergate', 'personal', 'life', 'death', 'author', 'hougan', 'characterize', 'russell', 'alcoholic', 'womanizer', 'russell', 'die', 'july', 'washington', 'heart', 'attack', 'legacy', 'hougan', 'write', 'book', 'call', 'secret', 'agenda', 'watergate', 'deep', 'throat', 'start', 'originally', 'russell', 'edgar', 'hoover', 'william', 'sullivan', 'manhattan', 'project', 'alger', 'hiss', 'whittaker', 'chamber', 'reference', 'external', 'link', 'archive', 'huac', 'testimony', 'louis', 'russell', 'archive', 'huac', 'testimony', 'louis', 'russell', 'nixon', 'library', 'guide', 'congressional', 'paper', 'huac', 'testimony', 'walter', 'bedell', 'smith', 'deaths', 'agents', 'catholic', 'university', 'america', 'alumni']\n"
     ]
    }
   ],
   "source": [
    "words = []\n",
    "for word in docs[0].split(' '):\n",
    "    words.append(word)\n",
    "print(words)\n",
    "print('\\n\\n tokenized and lemmatized document: ')\n",
    "print(preprocess(docs[0]))"
   ]
  },
  {
   "cell_type": "code",
   "execution_count": 31,
   "metadata": {},
   "outputs": [],
   "source": [
    "processed_docs = list(map(lambda x: preprocess(x), docs))"
   ]
  },
  {
   "cell_type": "code",
   "execution_count": 33,
   "metadata": {},
   "outputs": [
    {
     "data": {
      "text/plain": [
       "['louis',\n",
       " 'russell',\n",
       " 'circa',\n",
       " 'agent',\n",
       " 'federal',\n",
       " 'bureau',\n",
       " 'investigation',\n",
       " 'senior',\n",
       " 'investigator',\n",
       " 'house',\n",
       " 'american',\n",
       " 'activities',\n",
       " 'committee',\n",
       " 'huac',\n",
       " 'private',\n",
       " 'detective',\n",
       " 'background',\n",
       " 'louis',\n",
       " 'jam',\n",
       " 'russell',\n",
       " 'graduate',\n",
       " 'catholic',\n",
       " 'university',\n",
       " 'america',\n",
       " 'career',\n",
       " 'russell',\n",
       " 'join',\n",
       " 'agent',\n",
       " 'huac',\n",
       " 'russell',\n",
       " 'join',\n",
       " 'huac',\n",
       " 'investigator',\n",
       " 'robert',\n",
       " 'stripling',\n",
       " 'russell',\n",
       " 'testify',\n",
       " 'know',\n",
       " 'gerhart',\n",
       " 'eisler',\n",
       " 'hollywood',\n",
       " 'industry',\n",
       " 'people',\n",
       " 'testify',\n",
       " 'leon',\n",
       " 'josephson',\n",
       " 'alexander',\n",
       " 'koral',\n",
       " 'russell',\n",
       " 'huac',\n",
       " 'senior',\n",
       " 'investigator',\n",
       " 'hiss',\n",
       " 'chamber',\n",
       " 'case',\n",
       " 'memoir',\n",
       " 'crises',\n",
       " 'richard',\n",
       " 'nixon',\n",
       " 'recall',\n",
       " 'russell',\n",
       " 'restrain',\n",
       " 'hiss',\n",
       " 'hiss',\n",
       " 'strike',\n",
       " 'chamber',\n",
       " 'russell',\n",
       " 'serve',\n",
       " 'robert',\n",
       " 'stripling',\n",
       " 'successor',\n",
       " 'frank',\n",
       " 'tavenner',\n",
       " 'help',\n",
       " 'uncover',\n",
       " 'evidence',\n",
       " 'soviet',\n",
       " 'ring',\n",
       " 'leak',\n",
       " 'atomic',\n",
       " 'secrets',\n",
       " 'materials',\n",
       " 'soviet',\n",
       " 'union',\n",
       " 'help',\n",
       " 'communist',\n",
       " 'influence',\n",
       " 'motion',\n",
       " 'picture',\n",
       " 'industry',\n",
       " 'january',\n",
       " 'russell',\n",
       " 'dismiss',\n",
       " 'committee',\n",
       " 'chair',\n",
       " 'representative',\n",
       " 'harold',\n",
       " 'velde',\n",
       " 'russell',\n",
       " 'borrow',\n",
       " 'actor',\n",
       " 'edward',\n",
       " 'robinson',\n",
       " 'russell',\n",
       " 'rehired',\n",
       " 'remain',\n",
       " 'huac',\n",
       " 'decade',\n",
       " 'private',\n",
       " 'detective',\n",
       " 'russell',\n",
       " 'private',\n",
       " 'investigator',\n",
       " 'undermine',\n",
       " 'credibility',\n",
       " 'investigative',\n",
       " 'report',\n",
       " 'jack',\n",
       " 'anderson',\n",
       " 'richard',\n",
       " 'nixon',\n",
       " 'campaign',\n",
       " 'hire',\n",
       " 'russell',\n",
       " 'return',\n",
       " 'lead',\n",
       " 'anderson',\n",
       " 'give',\n",
       " 'russell',\n",
       " 'job',\n",
       " 'washington',\n",
       " 'merry',\n",
       " 'round',\n",
       " 'enable',\n",
       " 'russell',\n",
       " 'send',\n",
       " 'information',\n",
       " 'campaign',\n",
       " 'director',\n",
       " 'security',\n",
       " 'jam',\n",
       " 'mccord',\n",
       " 'russell',\n",
       " 'work',\n",
       " 'general',\n",
       " 'security',\n",
       " 'service',\n",
       " 'security',\n",
       " 'guard',\n",
       " 'service',\n",
       " 'clients',\n",
       " 'include',\n",
       " 'watergate',\n",
       " 'offices',\n",
       " 'watergate',\n",
       " 'break',\n",
       " 'jam',\n",
       " 'mccord',\n",
       " 'refuse',\n",
       " 'discuss',\n",
       " 'russell',\n",
       " 'circumstances',\n",
       " 'discuss',\n",
       " 'watergate',\n",
       " 'writer',\n",
       " 'express',\n",
       " 'russell',\n",
       " 'june',\n",
       " 'july',\n",
       " 'russell',\n",
       " 'work',\n",
       " 'detective',\n",
       " 'agency',\n",
       " 'help',\n",
       " 'george',\n",
       " 'herbert',\n",
       " 'walker',\n",
       " 'bush',\n",
       " 'chairman',\n",
       " 'republican',\n",
       " 'national',\n",
       " 'committee',\n",
       " 'prepare',\n",
       " 'press',\n",
       " 'conference',\n",
       " 'accord',\n",
       " 'attorney',\n",
       " 'gerald',\n",
       " 'alch',\n",
       " 'mccord',\n",
       " 'hire',\n",
       " 'associate',\n",
       " 'russell',\n",
       " 'company',\n",
       " 'security',\n",
       " 'international',\n",
       " 'smith',\n",
       " 'aide',\n",
       " 'office',\n",
       " 'manager',\n",
       " 'attorney',\n",
       " 'bernard',\n",
       " 'fensterwald',\n",
       " 'recount',\n",
       " 'mccord',\n",
       " 'obtain',\n",
       " 'contract',\n",
       " 'provide',\n",
       " 'security',\n",
       " 'republican',\n",
       " 'national',\n",
       " 'committee',\n",
       " 'unable',\n",
       " 'cash',\n",
       " 'mccord',\n",
       " 'check',\n",
       " 'russell',\n",
       " 'bring',\n",
       " 'dozen',\n",
       " 'check',\n",
       " 'time',\n",
       " 'fensterwald',\n",
       " 'office',\n",
       " 'committee',\n",
       " 'investigate',\n",
       " 'assassinations',\n",
       " 'ctia',\n",
       " 'street',\n",
       " 'washington',\n",
       " 'fensterwald',\n",
       " 'cash',\n",
       " 'watergate',\n",
       " 'break',\n",
       " 'russell',\n",
       " 'check',\n",
       " 'howard',\n",
       " 'johnson',\n",
       " 'motel',\n",
       " 'watergate',\n",
       " 'personal',\n",
       " 'life',\n",
       " 'death',\n",
       " 'author',\n",
       " 'hougan',\n",
       " 'characterize',\n",
       " 'russell',\n",
       " 'alcoholic',\n",
       " 'womanizer',\n",
       " 'russell',\n",
       " 'die',\n",
       " 'july',\n",
       " 'washington',\n",
       " 'heart',\n",
       " 'attack',\n",
       " 'legacy',\n",
       " 'hougan',\n",
       " 'write',\n",
       " 'book',\n",
       " 'call',\n",
       " 'secret',\n",
       " 'agenda',\n",
       " 'watergate',\n",
       " 'deep',\n",
       " 'throat',\n",
       " 'start',\n",
       " 'originally',\n",
       " 'russell',\n",
       " 'edgar',\n",
       " 'hoover',\n",
       " 'william',\n",
       " 'sullivan',\n",
       " 'manhattan',\n",
       " 'project',\n",
       " 'alger',\n",
       " 'hiss',\n",
       " 'whittaker',\n",
       " 'chamber',\n",
       " 'reference',\n",
       " 'external',\n",
       " 'link',\n",
       " 'archive',\n",
       " 'huac',\n",
       " 'testimony',\n",
       " 'louis',\n",
       " 'russell',\n",
       " 'archive',\n",
       " 'huac',\n",
       " 'testimony',\n",
       " 'louis',\n",
       " 'russell',\n",
       " 'nixon',\n",
       " 'library',\n",
       " 'guide',\n",
       " 'congressional',\n",
       " 'paper',\n",
       " 'huac',\n",
       " 'testimony',\n",
       " 'walter',\n",
       " 'bedell',\n",
       " 'smith',\n",
       " 'deaths',\n",
       " 'agents',\n",
       " 'catholic',\n",
       " 'university',\n",
       " 'america',\n",
       " 'alumni']"
      ]
     },
     "execution_count": 33,
     "metadata": {},
     "output_type": "execute_result"
    }
   ],
   "source": [
    "processed_docs[0]"
   ]
  },
  {
   "cell_type": "code",
   "execution_count": 35,
   "metadata": {},
   "outputs": [],
   "source": [
    "model = gensim.models.Word2Vec(processed_docs, sg=1, size=300)"
   ]
  },
  {
   "cell_type": "code",
   "execution_count": 36,
   "metadata": {},
   "outputs": [
    {
     "data": {
      "text/plain": [
       "(5457951, 6129805)"
      ]
     },
     "execution_count": 36,
     "metadata": {},
     "output_type": "execute_result"
    }
   ],
   "source": [
    "model.train(processed_docs, total_examples=model.corpus_count, epochs=model.epochs)"
   ]
  },
  {
   "cell_type": "code",
   "execution_count": 49,
   "metadata": {},
   "outputs": [
    {
     "data": {
      "text/plain": [
       "array([-9.81059298e-02, -6.91821158e-01, -2.46642426e-01, -2.22326577e-01,\n",
       "       -4.92409885e-01, -3.85475159e-01,  3.42481136e-02, -2.45452181e-01,\n",
       "       -4.58141416e-01,  6.68944716e-02, -5.21295249e-01,  1.50516033e-01,\n",
       "       -3.16557795e-01,  3.24165761e-01, -5.97610325e-03, -5.07653400e-04,\n",
       "       -4.66246158e-01,  6.36523902e-01, -4.52402160e-02,  7.91394264e-02,\n",
       "        1.51088968e-01, -1.90057620e-01,  1.01990677e-01, -3.86648387e-01,\n",
       "       -1.57071173e-01, -4.80020106e-01, -7.86904991e-02,  6.81762546e-02,\n",
       "        2.70840913e-01,  3.69889468e-01,  2.06944779e-01, -7.42651802e-03,\n",
       "       -1.39621198e-01,  1.19895615e-01, -6.43485069e-01, -2.80525416e-01,\n",
       "        3.75350028e-01, -2.94419192e-02,  5.38157150e-02,  3.11746806e-01,\n",
       "       -6.65112510e-02, -2.36569628e-01,  5.36643684e-01, -1.05947042e-02,\n",
       "       -3.09464216e-01, -2.11250279e-02, -1.43378511e-01,  1.73313484e-01,\n",
       "        2.30040282e-01, -7.05367327e-02, -3.70694160e-01,  2.71392595e-02,\n",
       "       -4.97811615e-01, -9.39885378e-02,  1.88339695e-01,  2.71532744e-01,\n",
       "       -3.78488600e-01, -1.32055014e-01,  2.11352572e-01, -1.86857283e-01,\n",
       "       -3.27469915e-01, -1.75778344e-01,  1.92534328e-01, -1.56802773e-01,\n",
       "       -3.02974023e-02,  2.61795729e-01,  2.21921816e-01, -1.10290974e-01,\n",
       "        2.75122494e-01,  3.75083625e-01,  2.87098348e-01,  1.62038565e-01,\n",
       "        2.21507728e-01, -1.29381508e-01, -1.65775090e-01, -1.95261866e-01,\n",
       "        3.10428381e-01, -1.68621510e-01,  3.31542850e-01,  1.91402793e-01,\n",
       "       -3.52907687e-01,  1.32218763e-01, -2.37240881e-01,  1.24167435e-01,\n",
       "        2.18229130e-01,  1.76286459e-01,  2.56185383e-01, -7.65433788e-01,\n",
       "        3.00221682e-01,  3.75564396e-02, -2.15278752e-02, -6.02934659e-02,\n",
       "        1.38604388e-01, -3.91995907e-01, -2.86332309e-01, -9.56697464e-02,\n",
       "       -7.80744255e-02, -4.80797887e-01, -2.58387744e-01,  1.09351806e-01,\n",
       "       -1.30515173e-02, -1.46635905e-01, -1.07740462e-01,  4.70665187e-01,\n",
       "       -2.14568585e-01, -1.08549736e-01, -1.41097084e-01, -3.09637576e-01,\n",
       "        3.75370264e-01, -2.92857647e-01,  2.14412063e-01,  1.58619601e-03,\n",
       "        1.15699219e-02,  8.47349700e-04,  2.25926489e-02,  2.64479131e-01,\n",
       "        9.90971476e-02,  1.17615342e-01, -3.40143532e-01, -2.01808810e-02,\n",
       "        9.11314934e-02,  6.81727156e-02,  6.41180128e-02,  5.71712777e-02,\n",
       "        3.79801333e-01, -4.04377997e-01,  8.29057917e-02,  1.95977673e-01,\n",
       "       -4.70311821e-01, -3.84278029e-01, -1.19538829e-01,  2.32026204e-02,\n",
       "       -2.02837318e-01, -6.65186465e-01, -1.21588580e-01,  1.04424812e-01,\n",
       "        4.67537254e-01,  3.18135396e-02,  4.41405386e-01,  4.02915984e-01,\n",
       "       -6.07388258e-01, -6.13201559e-01, -1.54697463e-01, -8.51545706e-02,\n",
       "       -3.15807432e-01, -3.75691026e-01, -5.07976897e-02,  1.03363842e-01,\n",
       "       -3.65917653e-01,  3.82505864e-01,  2.27710485e-01,  4.12890017e-01,\n",
       "        2.67723769e-01,  2.78881401e-01,  1.48522062e-03, -1.02984533e-03,\n",
       "       -2.19055325e-01,  1.27423063e-01,  7.85121143e-01, -1.66205451e-01,\n",
       "       -4.33223993e-01, -5.10723352e-01, -1.22391015e-01, -1.30651698e-01,\n",
       "        7.56857097e-02, -6.71154380e-01, -4.77162868e-01, -3.27625304e-01,\n",
       "       -1.10222802e-01, -1.96088389e-01, -2.08972454e-01,  4.90975201e-01,\n",
       "       -1.83810085e-01,  3.03125102e-02, -6.41311944e-01, -9.48902965e-02,\n",
       "       -2.88953632e-01,  4.54544097e-01, -1.14250183e-01, -2.25063518e-01,\n",
       "        4.66294020e-01, -3.38120759e-02,  7.28146613e-01, -1.25929296e-01,\n",
       "        1.16700493e-01,  8.86702538e-02, -3.05349499e-01, -2.47422382e-01,\n",
       "        2.64598191e-01,  2.22927146e-02,  8.85083601e-02, -4.54217196e-02,\n",
       "       -5.04891127e-02, -4.32310812e-03,  2.13679463e-01,  1.17213018e-01,\n",
       "        4.22109589e-02,  1.87395643e-02, -2.56307781e-01, -7.04266652e-02,\n",
       "        2.76474595e-01,  4.29512203e-01,  2.52777904e-01,  2.42948547e-01,\n",
       "        1.72216848e-01, -5.10392368e-01, -4.16412711e-01, -6.56241253e-02,\n",
       "        4.18200269e-02,  6.99798018e-02, -3.65820348e-01,  4.22134027e-02,\n",
       "        4.64385867e-01, -1.79409176e-01,  7.13507235e-02, -1.76076487e-01,\n",
       "       -5.69640286e-02, -7.83871040e-02,  1.85286641e-01, -4.12820615e-02,\n",
       "       -1.44454718e-01,  4.53326583e-01,  2.06796989e-01, -1.52963519e-01,\n",
       "        2.48846024e-01,  1.24502666e-01, -1.40182599e-01,  4.43206459e-01,\n",
       "        4.50648889e-02,  4.52261090e-01, -2.61378646e-01,  1.05176434e-01,\n",
       "        1.02973513e-01,  1.09842807e-01,  2.04406962e-01,  1.76975146e-01,\n",
       "       -2.16308758e-01,  2.71169931e-01,  1.00377873e-01, -9.31829140e-02,\n",
       "        3.26089293e-01, -2.36745074e-01, -2.46701762e-01, -1.49010107e-01,\n",
       "       -3.30254406e-01,  4.21735555e-01, -7.22177774e-02,  3.03765625e-01,\n",
       "       -2.05041319e-01,  3.34313780e-01, -1.63339034e-01,  4.57873106e-01,\n",
       "        2.08273828e-01, -1.92118660e-01,  8.78754258e-02, -2.12936237e-01,\n",
       "        5.00662804e-01, -4.99924749e-01, -1.79177746e-01, -3.11406344e-01,\n",
       "        5.01430571e-01, -4.50076209e-03,  5.27153835e-02,  2.15076819e-01,\n",
       "       -2.57210940e-01,  9.57921818e-02, -9.13996771e-02,  2.44510472e-01,\n",
       "       -3.43922265e-02,  4.68392998e-01,  2.86378339e-02, -1.86295599e-01,\n",
       "       -1.38011485e-01,  1.95975021e-01,  4.54785258e-01,  1.65085867e-02,\n",
       "        3.59296262e-01,  3.00298445e-02,  2.06330076e-01, -4.59268987e-02,\n",
       "       -2.86562443e-01, -2.53459305e-01, -4.42525357e-01, -4.64590222e-01,\n",
       "       -7.04164565e-01, -2.40634143e-01, -1.81070417e-02, -6.22223973e-01,\n",
       "       -3.04559678e-01,  5.68357050e-01,  2.67947465e-02,  1.21756501e-01,\n",
       "       -5.76832771e-01,  2.50433654e-01,  3.38561922e-01,  9.12758037e-02,\n",
       "       -2.00572699e-01,  6.83016106e-02,  2.58517474e-01,  3.38795781e-01],\n",
       "      dtype=float32)"
      ]
     },
     "execution_count": 49,
     "metadata": {},
     "output_type": "execute_result"
    }
   ],
   "source": [
    "model.wv['paris']"
   ]
  },
  {
   "cell_type": "code",
   "execution_count": 54,
   "metadata": {},
   "outputs": [
    {
     "data": {
      "text/plain": [
       "0.5680741"
      ]
     },
     "execution_count": 54,
     "metadata": {},
     "output_type": "execute_result"
    }
   ],
   "source": [
    "model.wv.similarity('paris','france')"
   ]
  },
  {
   "cell_type": "code",
   "execution_count": null,
   "metadata": {},
   "outputs": [],
   "source": []
  },
  {
   "cell_type": "code",
   "execution_count": 286,
   "metadata": {},
   "outputs": [],
   "source": [
    "import textstat\n",
    "#[textstat.flesch_kincaid_grade(doc) for doc in docs]"
   ]
  },
  {
   "cell_type": "code",
   "execution_count": 287,
   "metadata": {},
   "outputs": [
    {
     "data": {
      "text/plain": [
       "14.6"
      ]
     },
     "execution_count": 287,
     "metadata": {},
     "output_type": "execute_result"
    }
   ],
   "source": [
    "textstat.flesch_kincaid_grade(sample_text)"
   ]
  },
  {
   "cell_type": "code",
   "execution_count": 231,
   "metadata": {},
   "outputs": [],
   "source": [
    "#MODEL #1 \n",
    "four = []\n",
    "three = []\n",
    "two = []\n",
    "one = []\n",
    "for row in vec['tfidf_score']:\n",
    "    if row > 0.110191: \n",
    "        four.append(row)\n",
    "    elif 0.110191 >= row > 0.059553:\n",
    "        three.append(row)\n",
    "    elif 0.032652 < row <= 0.059553:\n",
    "        two.append(row)\n",
    "    elif row <= 0.032652:\n",
    "        one.append(row)\n",
    "        "
   ]
  },
  {
   "cell_type": "code",
   "execution_count": 232,
   "metadata": {},
   "outputs": [
    {
     "name": "stdout",
     "output_type": "stream",
     "text": [
      "len_one:135846 , len_two:135844 , len_three:135843 , len_four:135844\n"
     ]
    }
   ],
   "source": [
    "#MODEL #1 \n",
    "print(\"len_one:\" + str(len(one)) + \" , len_two:\" + str(len(two)) \n",
    "      + \" , len_three:\" + str(len(three)) + \" , len_four:\" + str(len(four)))"
   ]
  },
  {
   "cell_type": "code",
   "execution_count": null,
   "metadata": {},
   "outputs": [],
   "source": []
  }
 ],
 "metadata": {
  "kernelspec": {
   "display_name": "Python 3",
   "language": "python",
   "name": "python3"
  },
  "language_info": {
   "codemirror_mode": {
    "name": "ipython",
    "version": 3
   },
   "file_extension": ".py",
   "mimetype": "text/x-python",
   "name": "python",
   "nbconvert_exporter": "python",
   "pygments_lexer": "ipython3",
   "version": "3.7.3"
  }
 },
 "nbformat": 4,
 "nbformat_minor": 2
}
