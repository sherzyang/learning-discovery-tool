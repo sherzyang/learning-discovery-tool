{
 "cells": [
  {
   "cell_type": "code",
   "execution_count": 13,
   "metadata": {},
   "outputs": [
    {
     "name": "stdout",
     "output_type": "stream",
     "text": [
      "bzip2: Output file data/simplewiki-20190220-pages-articles-multistream.xml already exists.\r\n"
     ]
    }
   ],
   "source": [
    "! bzip2 -dk 'data/simplewiki-20190220-pages-articles-multistream.xml.bz2'"
   ]
  },
  {
   "cell_type": "code",
   "execution_count": 1,
   "metadata": {},
   "outputs": [],
   "source": [
    "from bs4 import BeautifulSoup"
   ]
  },
  {
   "cell_type": "code",
   "execution_count": 18,
   "metadata": {},
   "outputs": [],
   "source": [
    "def load_pages(file_name):\n",
    "    file_name = 'data/simplewiki-20190220-pages-articles-multistream.xml'\n",
    "    in_page = False\n",
    "    page_lines = None\n",
    "\n",
    "    with open (file_name) as f:\n",
    "        for line in f:\n",
    "            if line.strip() == '<page>':\n",
    "                in_page = True\n",
    "                page_lines = []\n",
    "            if in_page: \n",
    "                page_lines.append(line)\n",
    "            if line.strip() == '</page>':\n",
    "                in_page = False\n",
    "        yield ''.join(page_lines)"
   ]
  },
  {
   "cell_type": "code",
   "execution_count": 20,
   "metadata": {},
   "outputs": [
    {
     "data": {
      "text/plain": [
       "<generator object load_pages at 0x113bb3d00>"
      ]
     },
     "execution_count": 20,
     "metadata": {},
     "output_type": "execute_result"
    }
   ],
   "source": [
    "load_pages('data/simplewiki-20190220-pages-articles-multistream.xml')"
   ]
  },
  {
   "cell_type": "code",
   "execution_count": 21,
   "metadata": {},
   "outputs": [],
   "source": [
    "def load_page_details(file_name='data/simplewiki-20190220-pages-articles-multistream.xml'):\n",
    "    for page in load_pages(file_name):\n",
    "        soup = BeautifulSoup(page)\n",
    "        output = {}\n",
    "        output['title'] = soup.select_one('title').text\n",
    "        texts = soup.select('text')\n",
    "        if len(texts) > 0:\n",
    "            output['text'] = texts[0]\n",
    "        yield output"
   ]
  },
  {
   "cell_type": "code",
   "execution_count": 22,
   "metadata": {
    "scrolled": true
   },
   "outputs": [
    {
     "data": {
      "text/plain": [
       "{'title': 'Pecados y milagros',\n",
       " 'text': <text xml:space=\"preserve\">#REDIRECT [[Pecados y Milagros]]</text>}"
      ]
     },
     "execution_count": 22,
     "metadata": {},
     "output_type": "execute_result"
    }
   ],
   "source": [
    "next(iter(load_page_details()))"
   ]
  },
  {
   "cell_type": "code",
   "execution_count": 23,
   "metadata": {},
   "outputs": [],
   "source": [
    "import pymongo"
   ]
  },
  {
   "cell_type": "code",
   "execution_count": 26,
   "metadata": {},
   "outputs": [],
   "source": [
    "from pymongo import MongoClient\n",
    "\n",
    "mc = pymongo.MongoClient()\n",
    "db = mc['wikicache']\n",
    "simple_articles = db['simple_articles']"
   ]
  },
  {
   "cell_type": "code",
   "execution_count": 27,
   "metadata": {},
   "outputs": [],
   "source": [
    "simple_articles.find_one()\n"
   ]
  }
 ],
 "metadata": {
  "kernelspec": {
   "display_name": "Python 3",
   "language": "python",
   "name": "python3"
  },
  "language_info": {
   "codemirror_mode": {
    "name": "ipython",
    "version": 3
   },
   "file_extension": ".py",
   "mimetype": "text/x-python",
   "name": "python",
   "nbconvert_exporter": "python",
   "pygments_lexer": "ipython3",
   "version": "3.6.8"
  }
 },
 "nbformat": 4,
 "nbformat_minor": 2
}
