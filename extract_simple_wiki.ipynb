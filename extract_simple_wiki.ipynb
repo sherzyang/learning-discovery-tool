{
 "cells": [
  {
   "cell_type": "code",
   "execution_count": 3,
   "metadata": {},
   "outputs": [],
   "source": [
    "from bs4 import BeautifulSoup"
   ]
  },
  {
   "cell_type": "code",
   "execution_count": 4,
   "metadata": {},
   "outputs": [],
   "source": [
    "def load_pages(file_name='data/enwiki-latest-pages-articles.xml'):\n",
    "    file_name = 'data/enwiki-latest-pages-articles.xml'\n",
    "    in_page = False\n",
    "    page_lines = None\n",
    "\n",
    "    with open (file_name) as f:\n",
    "        for line in f:\n",
    "            if line.strip() == '<page>':\n",
    "                in_page = True\n",
    "                page_lines = []\n",
    "            if in_page: \n",
    "                page_lines.append(line)\n",
    "            if line.strip() == '</page>':\n",
    "                in_page = False\n",
    "        yield ''.join(page_lines)"
   ]
  },
  {
   "cell_type": "code",
   "execution_count": 2,
   "metadata": {},
   "outputs": [
    {
     "data": {
      "text/plain": [
       "'  <page>\\n    <title>File:Go North West logo.png</title>\\n    <ns>6</ns>\\n    <id>60822712</id>\\n    <revision>\\n      <id>898104976</id>\\n      <timestamp>2019-05-21T12:14:11Z</timestamp>\\n      <contributor>\\n        <username>Nowell87</username>\\n        <id>25998033</id>\\n      </contributor>\\n      <comment>Uploading a non-free logo using [[Wikipedia:File_Upload_Wizard|File Upload Wizard]]</comment>\\n      <model>wikitext</model>\\n      <format>text/x-wiki</format>\\n      <text xml:space=\"preserve\">==Summary==\\n{{Non-free use rationale 2\\n|Description = Go North West operator logo.\\n|Source = https://www.gonorthwest.co.uk/\\n|Article = Go North West\\n|Purpose = to serve as the primary means of visual identification at the top of the article dedicated to the entity in question.\\n|Replaceability = n.a.\\n|Minimality = Used to demonstrate the company logo and branding.\\n|Commercial = n.a.\\n}}\\n\\n==Licensing==\\n{{Non-free logo}}</text>\\n      <sha1>t7pfdd76rup23l5ydub1drsf21p2m5q</sha1>\\n    </revision>\\n  </page>\\n'"
      ]
     },
     "execution_count": 2,
     "metadata": {},
     "output_type": "execute_result"
    }
   ],
   "source": [
    "load_pages()"
   ]
  },
  {
   "cell_type": "code",
   "execution_count": 9,
   "metadata": {},
   "outputs": [],
   "source": [
    "def load_page_details(file_name='data/enwiki-latest-pages-articles.xml'):\n",
    "    for page in load_pages(file_name):\n",
    "        soup = BeautifulSoup(page)\n",
    "        output = {}\n",
    "        output['title'] = soup.select_one('title').text\n",
    "        texts = soup.select('text')\n",
    "        if len(texts) > 0:\n",
    "            output['text'] = texts[0]\n",
    "        yield output"
   ]
  },
  {
   "cell_type": "code",
   "execution_count": 10,
   "metadata": {},
   "outputs": [
    {
     "data": {
      "text/plain": [
       "{'title': 'File:Go North West logo.png',\n",
       " 'text': <text xml:space=\"preserve\">==Summary==\n",
       " {{Non-free use rationale 2\n",
       " |Description = Go North West operator logo.\n",
       " |Source = https://www.gonorthwest.co.uk/\n",
       " |Article = Go North West\n",
       " |Purpose = to serve as the primary means of visual identification at the top of the article dedicated to the entity in question.\n",
       " |Replaceability = n.a.\n",
       " |Minimality = Used to demonstrate the company logo and branding.\n",
       " |Commercial = n.a.\n",
       " }}\n",
       " \n",
       " ==Licensing==\n",
       " {{Non-free logo}}</text>}"
      ]
     },
     "execution_count": 10,
     "metadata": {},
     "output_type": "execute_result"
    }
   ],
   "source": [
    "next(iter(load_page_details()))"
   ]
  },
  {
   "cell_type": "code",
   "execution_count": null,
   "metadata": {},
   "outputs": [],
   "source": []
  }
 ],
 "metadata": {
  "kernelspec": {
   "display_name": "Python 3",
   "language": "python",
   "name": "python3"
  },
  "language_info": {
   "codemirror_mode": {
    "name": "ipython",
    "version": 3
   },
   "file_extension": ".py",
   "mimetype": "text/x-python",
   "name": "python",
   "nbconvert_exporter": "python",
   "pygments_lexer": "ipython3",
   "version": "3.6.8"
  }
 },
 "nbformat": 4,
 "nbformat_minor": 2
}
