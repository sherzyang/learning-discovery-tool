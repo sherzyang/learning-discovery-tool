{
 "cells": [
  {
   "cell_type": "code",
   "execution_count": 13,
   "metadata": {},
   "outputs": [
    {
     "name": "stdout",
     "output_type": "stream",
     "text": [
      "bzip2: Output file data/simplewiki-20190220-pages-articles-multistream.xml already exists.\r\n"
     ]
    }
   ],
   "source": [
    "! bzip2 -dk 'data/simplewiki-20190220-pages-articles-multistream.xml.bz2'"
   ]
  },
  {
   "cell_type": "code",
   "execution_count": 3,
   "metadata": {},
   "outputs": [],
   "source": [
    "from bs4 import BeautifulSoup"
   ]
  },
  {
   "cell_type": "code",
   "execution_count": 4,
   "metadata": {},
   "outputs": [],
   "source": [
    "def load_pages(file_name='data/simplewiki-20190220-pages-articles-multistream.xml.bz2.1'):\n",
    "    file_name = 'data/enwiki-latest-pages-articles.xml'\n",
    "    in_page = False\n",
    "    page_lines = None\n",
    "\n",
    "    with open (file_name) as f:\n",
    "        for line in f:\n",
    "            if line.strip() == '<page>':\n",
    "                in_page = True\n",
    "                page_lines = []\n",
    "            if in_page: \n",
    "                page_lines.append(line)\n",
    "            if line.strip() == '</page>':\n",
    "                in_page = False\n",
    "        yield ''.join(page_lines)"
   ]
  },
  {
   "cell_type": "code",
   "execution_count": 2,
   "metadata": {},
   "outputs": [
    {
     "data": {
      "text/plain": [
       "'  <page>\\n    <title>File:Go North West logo.png</title>\\n    <ns>6</ns>\\n    <id>60822712</id>\\n    <revision>\\n      <id>898104976</id>\\n      <timestamp>2019-05-21T12:14:11Z</timestamp>\\n      <contributor>\\n        <username>Nowell87</username>\\n        <id>25998033</id>\\n      </contributor>\\n      <comment>Uploading a non-free logo using [[Wikipedia:File_Upload_Wizard|File Upload Wizard]]</comment>\\n      <model>wikitext</model>\\n      <format>text/x-wiki</format>\\n      <text xml:space=\"preserve\">==Summary==\\n{{Non-free use rationale 2\\n|Description = Go North West operator logo.\\n|Source = https://www.gonorthwest.co.uk/\\n|Article = Go North West\\n|Purpose = to serve as the primary means of visual identification at the top of the article dedicated to the entity in question.\\n|Replaceability = n.a.\\n|Minimality = Used to demonstrate the company logo and branding.\\n|Commercial = n.a.\\n}}\\n\\n==Licensing==\\n{{Non-free logo}}</text>\\n      <sha1>t7pfdd76rup23l5ydub1drsf21p2m5q</sha1>\\n    </revision>\\n  </page>\\n'"
      ]
     },
     "execution_count": 2,
     "metadata": {},
     "output_type": "execute_result"
    }
   ],
   "source": [
    "load_pages()"
   ]
  },
  {
   "cell_type": "code",
   "execution_count": 9,
   "metadata": {},
   "outputs": [],
   "source": [
    "def load_page_details(file_name='data/simplewiki-20190220-pages-articles-multistream.xml.bz2.1'):\n",
    "    for page in load_pages(file_name):\n",
    "        soup = BeautifulSoup(page)\n",
    "        output = {}\n",
    "        output['title'] = soup.select_one('title').text\n",
    "        texts = soup.select('text')\n",
    "        if len(texts) > 0:\n",
    "            output['text'] = texts[0]\n",
    "        yield output"
   ]
  },
  {
   "cell_type": "code",
   "execution_count": 10,
   "metadata": {
    "scrolled": true
   },
   "outputs": [
    {
     "data": {
      "text/plain": [
       "{'title': 'File:Go North West logo.png',\n",
       " 'text': <text xml:space=\"preserve\">==Summary==\n",
       " {{Non-free use rationale 2\n",
       " |Description = Go North West operator logo.\n",
       " |Source = https://www.gonorthwest.co.uk/\n",
       " |Article = Go North West\n",
       " |Purpose = to serve as the primary means of visual identification at the top of the article dedicated to the entity in question.\n",
       " |Replaceability = n.a.\n",
       " |Minimality = Used to demonstrate the company logo and branding.\n",
       " |Commercial = n.a.\n",
       " }}\n",
       " \n",
       " ==Licensing==\n",
       " {{Non-free logo}}</text>}"
      ]
     },
     "execution_count": 10,
     "metadata": {},
     "output_type": "execute_result"
    }
   ],
   "source": [
    "next(iter(load_page_details()))"
   ]
  },
  {
   "cell_type": "code",
   "execution_count": 16,
   "metadata": {},
   "outputs": [],
   "source": [
    "import pymongo"
   ]
  },
  {
   "cell_type": "code",
   "execution_count": 32,
   "metadata": {},
   "outputs": [],
   "source": [
    "from pymongo import MongoClient\n",
    "\n",
    "mc = pymongo.MongoClient()\n",
    "db = mc['wikicache']\n",
    "articles = db['articles']"
   ]
  },
  {
   "cell_type": "code",
   "execution_count": 35,
   "metadata": {},
   "outputs": [
    {
     "data": {
      "text/plain": [
       "{'_id': ObjectId('5d1fc2f4258b4b335c5b2093'),\n",
       " 'title': 'Avans University of Applied Sciences',\n",
       " 'text': \"Avans University of Applied Sciences (Dutch: Avans Hogeschool) is a high-ranked Dutch vocational university. It is located in three cities: Breda, 's-Hertogenbosch, and Tilburg. The school has 30,000 students studying 40 courses in 18 institutes. There are 2,900 employees.\\nAvans University of Applied Sciences itself was founded on January 1, 2004, as a union of Hogeschool 's-Hertogenbosch and Hogeschool Brabant in Tilburg, Breda, and Etten-Leur. Hogeschool Brabant itself was a union from 1988 of Hogeschool West-Brabant (Etten-Leur and Breda) and Hogeschool Midden-Brabant (Tilburg). The oldest branch of Avans University of Applied Sciences is the Kunstacademie in 's-Hertogenbosch, which was founded on October 1, 1812.\\n\\nRecognition\\nAvans University of Applied Sciences is declared by an independent research from the Keuzegids HBO as the best major University of Applied Sciences in the Netherlands in 2010, 2011, 2012, 2013, 2015, 2016, 2017, 2018 and 2019.\\n\\nEnglish studies\\nBachelor's (4 years) Environmental Science for Sustainable Energy and Technology, in Breda\\nIndustrial Engineering and Management, in Breda\\nInternational Business and Languages, in 's-Hertogenbosch\\nInternational Business and Management Studies, in Breda\\nInternational Financial Management, in BredaMaster's Master of Animation, in Breda\\nMaster of Fine Art, in Breda\\nMaster of Graphic Design, in Breda\\nMaster of Photography, in BredaAnd has plenty of other courses (exchange) to offer, for example, courses like Biobased Energy, Environmental Geography, Global Business & Career, International Business, International Sales, etc.\\n\\nReferences\\nExternal links\\n‹See Tfd›(in English) Official website\\n‹See Tfd›(in English) Website for Students in Breda\",\n",
       " 'summary': \"Avans University of Applied Sciences (Dutch: Avans Hogeschool) is a high-ranked Dutch vocational university. It is located in three cities: Breda, 's-Hertogenbosch, and Tilburg. The school has 30,000 students studying 40 courses in 18 institutes. There are 2,900 employees.\\nAvans University of Applied Sciences itself was founded on January 1, 2004, as a union of Hogeschool 's-Hertogenbosch and Hogeschool Brabant in Tilburg, Breda, and Etten-Leur. Hogeschool Brabant itself was a union from 1988 of Hogeschool West-Brabant (Etten-Leur and Breda) and Hogeschool Midden-Brabant (Tilburg). The oldest branch of Avans University of Applied Sciences is the Kunstacademie in 's-Hertogenbosch, which was founded on October 1, 1812.\",\n",
       " 'url': 'https://en.wikipedia.org/wiki/Avans_University_of_Applied_Sciences'}"
      ]
     },
     "execution_count": 35,
     "metadata": {},
     "output_type": "execute_result"
    }
   ],
   "source": [
    "articles.find_one()\n"
   ]
  },
  {
   "cell_type": "code",
   "execution_count": 26,
   "metadata": {},
   "outputs": [],
   "source": [
    "\n",
    "def _connect_mongo(host, port, username, password, db):\n",
    "    \"\"\"Making a connection to mongo \"\"\"\n",
    "\n",
    "    if username and password:\n",
    "        mongo_uri = 'mongodb://%s:%s@%s:%s/%s' % (username, password, host, port, db)\n",
    "        conn = MongoClient(mongo_uri)\n",
    "    else:\n",
    "        conn = MongoClient(host, port)\n",
    "\n",
    "\n",
    "    return conn[db]\n",
    "\n",
    "\n",
    "def read_mongo(db, collection, query={}, host='localhost', port=27017, username=None, password=None, no_id=True):\n",
    "    \"\"\" Read from Mongo and Store into DataFrame \"\"\"\n",
    "\n",
    "    # Connect to MongoDB\n",
    "    db = _connect_mongo(host=host, port=port, username=username, password=password, db=db)\n",
    "\n",
    "    # Make a query to the specific DB and Collection\n",
    "    cursor = db[collection].find(query)\n",
    "\n",
    "    # Expand the cursor and construct the DataFrame\n",
    "    df =  pd.DataFrame(list(cursor))\n",
    "\n",
    "    # Delete the _id\n",
    "    if no_id:\n",
    "        del df['_id']\n",
    "\n",
    "    return df"
   ]
  },
  {
   "cell_type": "code",
   "execution_count": 27,
   "metadata": {},
   "outputs": [
    {
     "ename": "TypeError",
     "evalue": "name must be an instance of str",
     "output_type": "error",
     "traceback": [
      "\u001b[0;31m---------------------------------------------------------------------------\u001b[0m",
      "\u001b[0;31mTypeError\u001b[0m                                 Traceback (most recent call last)",
      "\u001b[0;32m<ipython-input-27-03e845f5330f>\u001b[0m in \u001b[0;36m<module>\u001b[0;34m\u001b[0m\n\u001b[0;32m----> 1\u001b[0;31m \u001b[0mread_mongo\u001b[0m\u001b[0;34m(\u001b[0m\u001b[0mdb\u001b[0m\u001b[0;34m,\u001b[0m \u001b[0marticles\u001b[0m\u001b[0;34m,\u001b[0m \u001b[0mquery\u001b[0m\u001b[0;34m=\u001b[0m\u001b[0;34m{\u001b[0m\u001b[0;34m}\u001b[0m\u001b[0;34m,\u001b[0m \u001b[0mhost\u001b[0m\u001b[0;34m=\u001b[0m\u001b[0;34m'localhost'\u001b[0m\u001b[0;34m,\u001b[0m \u001b[0mport\u001b[0m\u001b[0;34m=\u001b[0m\u001b[0;36m27017\u001b[0m\u001b[0;34m,\u001b[0m \u001b[0musername\u001b[0m\u001b[0;34m=\u001b[0m\u001b[0;32mNone\u001b[0m\u001b[0;34m,\u001b[0m \u001b[0mpassword\u001b[0m\u001b[0;34m=\u001b[0m\u001b[0;32mNone\u001b[0m\u001b[0;34m,\u001b[0m \u001b[0mno_id\u001b[0m\u001b[0;34m=\u001b[0m\u001b[0;32mTrue\u001b[0m\u001b[0;34m)\u001b[0m\u001b[0;34m\u001b[0m\u001b[0;34m\u001b[0m\u001b[0m\n\u001b[0m",
      "\u001b[0;32m<ipython-input-26-11d9be16281a>\u001b[0m in \u001b[0;36mread_mongo\u001b[0;34m(db, collection, query, host, port, username, password, no_id)\u001b[0m\n\u001b[1;32m     17\u001b[0m \u001b[0;34m\u001b[0m\u001b[0m\n\u001b[1;32m     18\u001b[0m     \u001b[0;31m# Connect to MongoDB\u001b[0m\u001b[0;34m\u001b[0m\u001b[0;34m\u001b[0m\u001b[0;34m\u001b[0m\u001b[0m\n\u001b[0;32m---> 19\u001b[0;31m     \u001b[0mdb\u001b[0m \u001b[0;34m=\u001b[0m \u001b[0m_connect_mongo\u001b[0m\u001b[0;34m(\u001b[0m\u001b[0mhost\u001b[0m\u001b[0;34m=\u001b[0m\u001b[0mhost\u001b[0m\u001b[0;34m,\u001b[0m \u001b[0mport\u001b[0m\u001b[0;34m=\u001b[0m\u001b[0mport\u001b[0m\u001b[0;34m,\u001b[0m \u001b[0musername\u001b[0m\u001b[0;34m=\u001b[0m\u001b[0musername\u001b[0m\u001b[0;34m,\u001b[0m \u001b[0mpassword\u001b[0m\u001b[0;34m=\u001b[0m\u001b[0mpassword\u001b[0m\u001b[0;34m,\u001b[0m \u001b[0mdb\u001b[0m\u001b[0;34m=\u001b[0m\u001b[0mdb\u001b[0m\u001b[0;34m)\u001b[0m\u001b[0;34m\u001b[0m\u001b[0;34m\u001b[0m\u001b[0m\n\u001b[0m\u001b[1;32m     20\u001b[0m \u001b[0;34m\u001b[0m\u001b[0m\n\u001b[1;32m     21\u001b[0m     \u001b[0;31m# Make a query to the specific DB and Collection\u001b[0m\u001b[0;34m\u001b[0m\u001b[0;34m\u001b[0m\u001b[0;34m\u001b[0m\u001b[0m\n",
      "\u001b[0;32m<ipython-input-26-11d9be16281a>\u001b[0m in \u001b[0;36m_connect_mongo\u001b[0;34m(host, port, username, password, db)\u001b[0m\n\u001b[1;32m     10\u001b[0m \u001b[0;34m\u001b[0m\u001b[0m\n\u001b[1;32m     11\u001b[0m \u001b[0;34m\u001b[0m\u001b[0m\n\u001b[0;32m---> 12\u001b[0;31m     \u001b[0;32mreturn\u001b[0m \u001b[0mconn\u001b[0m\u001b[0;34m[\u001b[0m\u001b[0mdb\u001b[0m\u001b[0;34m]\u001b[0m\u001b[0;34m\u001b[0m\u001b[0;34m\u001b[0m\u001b[0m\n\u001b[0m\u001b[1;32m     13\u001b[0m \u001b[0;34m\u001b[0m\u001b[0m\n\u001b[1;32m     14\u001b[0m \u001b[0;34m\u001b[0m\u001b[0m\n",
      "\u001b[0;32m~/anaconda3/lib/python3.6/site-packages/pymongo/mongo_client.py\u001b[0m in \u001b[0;36m__getitem__\u001b[0;34m(self, name)\u001b[0m\n\u001b[1;32m   1353\u001b[0m           \u001b[0;34m-\u001b[0m\u001b[0;31m \u001b[0m\u001b[0;31m`\u001b[0m\u001b[0mname\u001b[0m\u001b[0;31m`\u001b[0m\u001b[0;34m:\u001b[0m \u001b[0mthe\u001b[0m \u001b[0mname\u001b[0m \u001b[0mof\u001b[0m \u001b[0mthe\u001b[0m \u001b[0mdatabase\u001b[0m \u001b[0mto\u001b[0m \u001b[0mget\u001b[0m\u001b[0;34m\u001b[0m\u001b[0;34m\u001b[0m\u001b[0m\n\u001b[1;32m   1354\u001b[0m         \"\"\"\n\u001b[0;32m-> 1355\u001b[0;31m         \u001b[0;32mreturn\u001b[0m \u001b[0mdatabase\u001b[0m\u001b[0;34m.\u001b[0m\u001b[0mDatabase\u001b[0m\u001b[0;34m(\u001b[0m\u001b[0mself\u001b[0m\u001b[0;34m,\u001b[0m \u001b[0mname\u001b[0m\u001b[0;34m)\u001b[0m\u001b[0;34m\u001b[0m\u001b[0;34m\u001b[0m\u001b[0m\n\u001b[0m\u001b[1;32m   1356\u001b[0m \u001b[0;34m\u001b[0m\u001b[0m\n\u001b[1;32m   1357\u001b[0m     \u001b[0;32mdef\u001b[0m \u001b[0mclose_cursor\u001b[0m\u001b[0;34m(\u001b[0m\u001b[0mself\u001b[0m\u001b[0;34m,\u001b[0m \u001b[0mcursor_id\u001b[0m\u001b[0;34m,\u001b[0m \u001b[0maddress\u001b[0m\u001b[0;34m=\u001b[0m\u001b[0;32mNone\u001b[0m\u001b[0;34m)\u001b[0m\u001b[0;34m:\u001b[0m\u001b[0;34m\u001b[0m\u001b[0;34m\u001b[0m\u001b[0m\n",
      "\u001b[0;32m~/anaconda3/lib/python3.6/site-packages/pymongo/database.py\u001b[0m in \u001b[0;36m__init__\u001b[0;34m(self, client, name, codec_options, read_preference, write_concern, read_concern)\u001b[0m\n\u001b[1;32m    105\u001b[0m         \u001b[0;32mif\u001b[0m \u001b[0;32mnot\u001b[0m \u001b[0misinstance\u001b[0m\u001b[0;34m(\u001b[0m\u001b[0mname\u001b[0m\u001b[0;34m,\u001b[0m \u001b[0mstring_type\u001b[0m\u001b[0;34m)\u001b[0m\u001b[0;34m:\u001b[0m\u001b[0;34m\u001b[0m\u001b[0;34m\u001b[0m\u001b[0m\n\u001b[1;32m    106\u001b[0m             raise TypeError(\"name must be an instance \"\n\u001b[0;32m--> 107\u001b[0;31m                             \"of %s\" % (string_type.__name__,))\n\u001b[0m\u001b[1;32m    108\u001b[0m \u001b[0;34m\u001b[0m\u001b[0m\n\u001b[1;32m    109\u001b[0m         \u001b[0;32mif\u001b[0m \u001b[0mname\u001b[0m \u001b[0;34m!=\u001b[0m \u001b[0;34m'$external'\u001b[0m\u001b[0;34m:\u001b[0m\u001b[0;34m\u001b[0m\u001b[0;34m\u001b[0m\u001b[0m\n",
      "\u001b[0;31mTypeError\u001b[0m: name must be an instance of str"
     ]
    }
   ],
   "source": [
    "read_mongo(db, articles, query={}, host='localhost', port=27017, username=None, password=None, no_id=True)"
   ]
  },
  {
   "cell_type": "code",
   "execution_count": null,
   "metadata": {},
   "outputs": [],
   "source": []
  }
 ],
 "metadata": {
  "kernelspec": {
   "display_name": "Python 3",
   "language": "python",
   "name": "python3"
  },
  "language_info": {
   "codemirror_mode": {
    "name": "ipython",
    "version": 3
   },
   "file_extension": ".py",
   "mimetype": "text/x-python",
   "name": "python",
   "nbconvert_exporter": "python",
   "pygments_lexer": "ipython3",
   "version": "3.6.8"
  }
 },
 "nbformat": 4,
 "nbformat_minor": 2
}
