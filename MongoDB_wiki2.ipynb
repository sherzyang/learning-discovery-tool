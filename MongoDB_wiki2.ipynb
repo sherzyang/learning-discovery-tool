{
 "cells": [
  {
   "cell_type": "code",
   "execution_count": 31,
   "metadata": {},
   "outputs": [],
   "source": [
    "import pickle\n",
    "with open(r\"data/df_corpus2.pkl\", \"rb\") as input_file:\n",
    "    df_corpus2 = pickle.load(input_file)"
   ]
  },
  {
   "cell_type": "code",
   "execution_count": 40,
   "metadata": {},
   "outputs": [],
   "source": [
    "df_corpus2 = df_corpus2.reset_index()"
   ]
  },
  {
   "cell_type": "code",
   "execution_count": 47,
   "metadata": {},
   "outputs": [
    {
     "data": {
      "text/html": [
       "<div>\n",
       "<style scoped>\n",
       "    .dataframe tbody tr th:only-of-type {\n",
       "        vertical-align: middle;\n",
       "    }\n",
       "\n",
       "    .dataframe tbody tr th {\n",
       "        vertical-align: top;\n",
       "    }\n",
       "\n",
       "    .dataframe thead th {\n",
       "        text-align: right;\n",
       "    }\n",
       "</style>\n",
       "<table border=\"1\" class=\"dataframe\">\n",
       "  <thead>\n",
       "    <tr style=\"text-align: right;\">\n",
       "      <th></th>\n",
       "      <th>index</th>\n",
       "      <th>content</th>\n",
       "      <th>score</th>\n",
       "    </tr>\n",
       "  </thead>\n",
       "  <tbody>\n",
       "    <tr>\n",
       "      <th>0</th>\n",
       "      <td>0</td>\n",
       "      <td>Nature Reviews Nephrology (before 2009, Nature...</td>\n",
       "      <td>20.6</td>\n",
       "    </tr>\n",
       "    <tr>\n",
       "      <th>1</th>\n",
       "      <td>1</td>\n",
       "      <td>Food blogging represents a complex interweavin...</td>\n",
       "      <td>13.6</td>\n",
       "    </tr>\n",
       "    <tr>\n",
       "      <th>2</th>\n",
       "      <td>2</td>\n",
       "      <td>The International Motorcycle Shows are a serie...</td>\n",
       "      <td>13.3</td>\n",
       "    </tr>\n",
       "    <tr>\n",
       "      <th>3</th>\n",
       "      <td>3</td>\n",
       "      <td>Education in Ancient Greece was vastly \"democr...</td>\n",
       "      <td>11.3</td>\n",
       "    </tr>\n",
       "    <tr>\n",
       "      <th>4</th>\n",
       "      <td>4</td>\n",
       "      <td>Rural economics is the study of rural economie...</td>\n",
       "      <td>12.5</td>\n",
       "    </tr>\n",
       "  </tbody>\n",
       "</table>\n",
       "</div>"
      ],
      "text/plain": [
       "   index                                            content  score\n",
       "0      0  Nature Reviews Nephrology (before 2009, Nature...   20.6\n",
       "1      1  Food blogging represents a complex interweavin...   13.6\n",
       "2      2  The International Motorcycle Shows are a serie...   13.3\n",
       "3      3  Education in Ancient Greece was vastly \"democr...   11.3\n",
       "4      4  Rural economics is the study of rural economie...   12.5"
      ]
     },
     "execution_count": 47,
     "metadata": {},
     "output_type": "execute_result"
    }
   ],
   "source": [
    "df_corpus2.head()"
   ]
  },
  {
   "cell_type": "code",
   "execution_count": 48,
   "metadata": {},
   "outputs": [],
   "source": [
    "import pymongo\n",
    "mc = pymongo.MongoClient()\n",
    "db = mc['wikicontent']"
   ]
  },
  {
   "cell_type": "code",
   "execution_count": 49,
   "metadata": {},
   "outputs": [],
   "source": [
    "collection = db['df_corpus2']"
   ]
  },
  {
   "cell_type": "code",
   "execution_count": 50,
   "metadata": {},
   "outputs": [],
   "source": [
    "data = df_corpus2.to_dict(orient='records')  \n"
   ]
  },
  {
   "cell_type": "code",
   "execution_count": 51,
   "metadata": {},
   "outputs": [
    {
     "data": {
      "text/plain": [
       "<pymongo.results.InsertManyResult at 0x108c61308>"
      ]
     },
     "execution_count": 51,
     "metadata": {},
     "output_type": "execute_result"
    }
   ],
   "source": [
    "collection.insert_many(data)"
   ]
  },
  {
   "cell_type": "code",
   "execution_count": 52,
   "metadata": {},
   "outputs": [
    {
     "data": {
      "text/plain": [
       "{'_id': ObjectId('5d1a820e987a42fe94d02b62'),\n",
       " 'index': 0,\n",
       " 'content': 'Nature Reviews Nephrology (before 2009, Nature Clinical Practice Nephrology) is a peer-reviewed medical journal for nephrologists.\\nCoverage includes prevention, diagnosis, and treatment of disorders of the kidney in the adult and child, including hypertension, infection/inflammation, dialysis/chronic uremia, renal failure, transplantation, applied physiology, epidemiology, pathology, immunology, cancer, and genetics.\\nIndexed by ISI Nature Reviews Nephrology received an impact factor of 12.146 as reported in the 2016 Journal Citation Reports by Thomson Reuters.\\n\\nReferences\\nExternal links\\nNature Reviews Nephrology\\nNature Reviews',\n",
       " 'score': 20.6}"
      ]
     },
     "execution_count": 52,
     "metadata": {},
     "output_type": "execute_result"
    }
   ],
   "source": [
    "collection.find_one()"
   ]
  },
  {
   "cell_type": "code",
   "execution_count": 39,
   "metadata": {},
   "outputs": [
    {
     "data": {
      "text/plain": [
       "{'_id': ObjectId('5d1a8098987a42fe94cfbc50'),\n",
       " 'content': 'Nature Reviews Nephrology (before 2009, Nature Clinical Practice Nephrology) is a peer-reviewed medical journal for nephrologists.\\nCoverage includes prevention, diagnosis, and treatment of disorders of the kidney in the adult and child, including hypertension, infection/inflammation, dialysis/chronic uremia, renal failure, transplantation, applied physiology, epidemiology, pathology, immunology, cancer, and genetics.\\nIndexed by ISI Nature Reviews Nephrology received an impact factor of 12.146 as reported in the 2016 Journal Citation Reports by Thomson Reuters.\\n\\nReferences\\nExternal links\\nNature Reviews Nephrology\\nNature Reviews',\n",
       " 'score': 20.6}"
      ]
     },
     "execution_count": 39,
     "metadata": {},
     "output_type": "execute_result"
    }
   ],
   "source": [
    "#for x in collection.find() print x"
   ]
  },
  {
   "cell_type": "code",
   "execution_count": 23,
   "metadata": {},
   "outputs": [],
   "source": [
    "#dictOfWords = { i : collected_articles[i] for i in range(len(collected_articles) ) }"
   ]
  },
  {
   "cell_type": "code",
   "execution_count": null,
   "metadata": {},
   "outputs": [],
   "source": []
  },
  {
   "cell_type": "code",
   "execution_count": null,
   "metadata": {},
   "outputs": [],
   "source": []
  },
  {
   "cell_type": "code",
   "execution_count": null,
   "metadata": {},
   "outputs": [],
   "source": []
  }
 ],
 "metadata": {
  "kernelspec": {
   "display_name": "Python 3",
   "language": "python",
   "name": "python3"
  },
  "language_info": {
   "codemirror_mode": {
    "name": "ipython",
    "version": 3
   },
   "file_extension": ".py",
   "mimetype": "text/x-python",
   "name": "python",
   "nbconvert_exporter": "python",
   "pygments_lexer": "ipython3",
   "version": "3.6.8"
  }
 },
 "nbformat": 4,
 "nbformat_minor": 2
}
