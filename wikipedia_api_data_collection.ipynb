{
 "cells": [
  {
   "cell_type": "code",
   "execution_count": 17,
   "metadata": {},
   "outputs": [],
   "source": [
    "import wikipedia\n",
    "import wikipediaapi"
   ]
  },
  {
   "cell_type": "markdown",
   "metadata": {},
   "source": [
    "Art and culture\n",
    "Geography and places\n",
    "Health and fitness\n",
    "History and events\n",
    "Mathematics and abstractions\n",
    "Natural sciences and nature\n",
    "People and self\n",
    "Philosophy and thinking\n",
    "Religion and spirituality\n",
    "Social sciences and society\n",
    "Technology and applied sciences"
   ]
  },
  {
   "cell_type": "code",
   "execution_count": 18,
   "metadata": {},
   "outputs": [],
   "source": [
    "# drink_list = wikipedia.search(\"drink\", results=1000)\n",
    "# food_list = wikipedia.search(\"food\", results=1000)\n",
    "# ancient_list = wikipedia.search(\"ancient\", results=1000)\n",
    "# transportation_list = wikipedia.search(\"transportation\", results=1000)\n",
    "# shows_list = wikipedia.search(\"shows\", results=1000)\n",
    "# music_list = wikipedia.search(\"music\", results=1000)\n",
    "# actors_list = wikipedia.search(\"actors\", results=1000)\n",
    "# movies_list = wikipedia.search(\"movies\", results=1000)\n",
    "# finance_list = wikipedia.search(\"finance\", results=1000)\n",
    "# #\n",
    "# language_list = wikipedia.search(\"language\", results=1000)\n",
    "# nature_list = wikipedia.search(\"nature\", results=1000)\n",
    "# environment_list = wikipedia.search(\"environment\", results=1000)\n",
    "# history_list = wikipedia.search(\"history\", results=1000)\n",
    "# econ_list = wikipedia.search(\"economics\", results=1000)\n",
    "# nature_list = wikipedia.search(\"nature\", results=1000)\n",
    "# lit_list = wikipedia.search(\"literature\", results=1000)\n",
    "# psych_list = wikipedia.search(\"psychology\", results=1000)\n",
    "# behavioral = wikipedia.search(\"behavioral\", results=1000)\n",
    "# global_list = wikipedia.search(\"global\", results=1000)\n",
    "# cities_list = wikipedia.search(\"cities\", results=1000)\n",
    "# anthropology = wikipedia.search(\"anthropology\", results=1000)\n",
    "# #\n",
    "# art_culture = wikipedia.search(\"art culture\", results=1000)\n",
    "# geo_places = wikipedia.search(\"geography places\", results=1000)\n",
    "# health_fit = wikipedia.search(\"health fitness\", results=1000)\n",
    "# history_events = wikipedia.search(\"history events\", results=1000)\n",
    "# math = wikipedia.search(\"mathematics abstractions\", results=1000)\n",
    "# natural_science = wikipedia.search(\"natural sciences nature\", results=1000)\n",
    "# people_self = wikipedia.search(\"people self\", results=1000)\n",
    "# philosophy = wikipedia.search(\"philosophy thinking\", results=1000)\n",
    "# religion = wikipedia.search(\"religion spirituality\", results=1000)\n",
    "# social_society = wikipedia.search(\"social sciences society\", results=1000)\n",
    "# tech = wikipedia.search(\"technology applied sciences\", results=1000)"
   ]
  },
  {
   "cell_type": "code",
   "execution_count": 19,
   "metadata": {},
   "outputs": [],
   "source": [
    "# all_articles = (art_culture + geo_places + health_fit + history_events + \n",
    "#                 math + natural_science + people_self + philosophy + religion\n",
    "#                 + social_society + tech + anthropology + cities_list + global_list\n",
    "#                 + behavioral + psych_list + lit_list + nature_list + econ_list \n",
    "#                 + history_list + environment_list + nature_list + language_list\n",
    "#                 + finance_list + movies_list + actors_list + music_list + shows_list\n",
    "#                 + transportation_list + ancient_list + food_list + drink_list)"
   ]
  },
  {
   "cell_type": "code",
   "execution_count": 20,
   "metadata": {},
   "outputs": [],
   "source": [
    "# all_articles_unique = list(set(all_articles))"
   ]
  },
  {
   "cell_type": "code",
   "execution_count": 21,
   "metadata": {},
   "outputs": [],
   "source": [
    "# import pickle\n",
    "# with open('data/unique_articles.pkl', 'wb') as f:\n",
    "#     pickle.dump(all_articles_unique, f)"
   ]
  },
  {
   "cell_type": "code",
   "execution_count": 22,
   "metadata": {},
   "outputs": [],
   "source": [
    "def collect_articles():\n",
    "    docs2_long_text = []\n",
    "    wiki_wiki = wikipediaapi.Wikipedia(\n",
    "        language='en',\n",
    "        extract_format=wikipediaapi.ExtractFormat.WIKI) \n",
    "    for i in range(len(all_articles_unique)):\n",
    "        temp = wiki_wiki.page(all_articles_unique[i])\n",
    "        if len(temp.text) > 300:\n",
    "            docs2_long_text.append(temp.text)\n",
    "        else: \n",
    "            continue\n",
    "    return docs2_long_text"
   ]
  },
  {
   "cell_type": "code",
   "execution_count": 27,
   "metadata": {},
   "outputs": [],
   "source": [
    "# all_collected_articles = collect_articles()"
   ]
  },
  {
   "cell_type": "code",
   "execution_count": 23,
   "metadata": {},
   "outputs": [],
   "source": [
    "# import pickle\n",
    "# with open('data/collected_articles.pkl', 'wb') as f:\n",
    "#     pickle.dump(all_collected_articles, f)"
   ]
  },
  {
   "cell_type": "code",
   "execution_count": 28,
   "metadata": {},
   "outputs": [],
   "source": [
    "with open(r\"data/collected_articles.pkl\", \"rb\") as input_file:\n",
    "    collected_articles = pickle.load(input_file)"
   ]
  },
  {
   "cell_type": "code",
   "execution_count": 29,
   "metadata": {},
   "outputs": [],
   "source": [
    "import pandas as pd\n",
    "df_corpus2 = pd.DataFrame()"
   ]
  },
  {
   "cell_type": "code",
   "execution_count": 30,
   "metadata": {},
   "outputs": [],
   "source": [
    "df_corpus2['content'] = pd.Series(collected_articles)"
   ]
  },
  {
   "cell_type": "code",
   "execution_count": 31,
   "metadata": {},
   "outputs": [
    {
     "name": "stdout",
     "output_type": "stream",
     "text": [
      "Requirement already satisfied: textstat in /Users/sherzyang/anaconda3/lib/python3.6/site-packages (0.5.6)\r\n",
      "Requirement already satisfied: pyphen in /Users/sherzyang/anaconda3/lib/python3.6/site-packages (from textstat) (0.9.5)\r\n",
      "Requirement already satisfied: repoze.lru in /Users/sherzyang/anaconda3/lib/python3.6/site-packages (from textstat) (0.7)\r\n"
     ]
    }
   ],
   "source": [
    "! pip install textstat"
   ]
  },
  {
   "cell_type": "code",
   "execution_count": 32,
   "metadata": {},
   "outputs": [],
   "source": [
    "import textstat"
   ]
  },
  {
   "cell_type": "code",
   "execution_count": 33,
   "metadata": {},
   "outputs": [],
   "source": [
    "complexity = [textstat.flesch_kincaid_grade(doc) for doc in collected_articles]"
   ]
  },
  {
   "cell_type": "code",
   "execution_count": 34,
   "metadata": {},
   "outputs": [],
   "source": [
    "df_corpus2['score'] = pd.Series(complexity)"
   ]
  },
  {
   "cell_type": "code",
   "execution_count": 35,
   "metadata": {},
   "outputs": [],
   "source": [
    "import pickle\n",
    "with open('data/df_corpus2.pkl', 'wb') as f:\n",
    "    pickle.dump(df_corpus2, f)"
   ]
  },
  {
   "cell_type": "markdown",
   "metadata": {},
   "source": [
    "## Load Files and Vectorize "
   ]
  },
  {
   "cell_type": "code",
   "execution_count": 36,
   "metadata": {},
   "outputs": [],
   "source": [
    "import os\n",
    "import numpy as np\n",
    "import pandas as pd\n",
    "import pickle\n",
    "from sklearn.feature_extraction.text import TfidfVectorizer\n",
    "from scipy.spatial.distance import cosine, cdist"
   ]
  },
  {
   "cell_type": "code",
   "execution_count": 47,
   "metadata": {},
   "outputs": [],
   "source": [
    "with open(r\"data/df_corpus2.pkl\", \"rb\") as input_file:\n",
    "    df_corpus2 = pickle.load(input_file)"
   ]
  },
  {
   "cell_type": "code",
   "execution_count": 48,
   "metadata": {},
   "outputs": [],
   "source": [
    "vec = TfidfVectorizer(stop_words='english', max_features=10)"
   ]
  },
  {
   "cell_type": "code",
   "execution_count": 49,
   "metadata": {},
   "outputs": [],
   "source": [
    "vec = vec.fit(df_corpus2['content'])"
   ]
  },
  {
   "cell_type": "code",
   "execution_count": 50,
   "metadata": {},
   "outputs": [],
   "source": [
    "#vec.vocabulary_"
   ]
  },
  {
   "cell_type": "code",
   "execution_count": 51,
   "metadata": {},
   "outputs": [],
   "source": [
    "corpus2_vectors = vec.transform(df_corpus2['content']).toarray()"
   ]
  },
  {
   "cell_type": "code",
   "execution_count": 52,
   "metadata": {},
   "outputs": [],
   "source": [
    "user_doc = \"A watermelon is a type of edible fruit, they are 92% water. About 6% of a watermelon is sugar, which makes it very sweet. There are many different types of watermelon. Some have a green rind on the outside and a red-pink flesh on the inside, with brown seeds. Some can have yellow flesh, and some can be seedless. The green rind on the outside is not usually eaten, though it can be used as a vegetable. It can also be stewed or pickled. Most watermelons are oblong or spherical. In Japan, watermelons are grown in different shapes. Many people like to eat watermelon in the summer because the fruit is cool and refreshing. Watermelons are a great source of vitamin A, vitamin C, vitamin B6 and vitamin B1. They also contain potassium, magnesium, carotenoid antioxidant, and lycopene. Watermelons are fruits that come from a vine-like plant.\""
   ]
  },
  {
   "cell_type": "code",
   "execution_count": 53,
   "metadata": {},
   "outputs": [],
   "source": [
    "user_doc_vector = vec.transform([user_doc]).toarray()"
   ]
  },
  {
   "cell_type": "code",
   "execution_count": 54,
   "metadata": {},
   "outputs": [
    {
     "data": {
      "text/plain": [
       "array([[0.        , 0.        , 0.        , 0.        , 0.        ,\n",
       "        0.72840959, 0.        , 0.        , 0.68514193, 0.        ]])"
      ]
     },
     "execution_count": 54,
     "metadata": {},
     "output_type": "execute_result"
    }
   ],
   "source": [
    "user_doc_vector"
   ]
  },
  {
   "cell_type": "code",
   "execution_count": 55,
   "metadata": {},
   "outputs": [],
   "source": [
    "distances = cdist(user_doc_vector,\n",
    "                  corpus2_vectors,\n",
    "                  metric='cosine')[0]"
   ]
  },
  {
   "cell_type": "code",
   "execution_count": 56,
   "metadata": {},
   "outputs": [
    {
     "data": {
      "text/plain": [
       "(14216,)"
      ]
     },
     "execution_count": 56,
     "metadata": {},
     "output_type": "execute_result"
    }
   ],
   "source": [
    "distances.shape"
   ]
  },
  {
   "cell_type": "code",
   "execution_count": 57,
   "metadata": {},
   "outputs": [],
   "source": [
    "ranking = np.argsort(distances)"
   ]
  },
  {
   "cell_type": "code",
   "execution_count": 58,
   "metadata": {},
   "outputs": [
    {
     "data": {
      "text/plain": [
       "(14216,)"
      ]
     },
     "execution_count": 58,
     "metadata": {},
     "output_type": "execute_result"
    }
   ],
   "source": [
    "ranking.shape"
   ]
  },
  {
   "cell_type": "code",
   "execution_count": 59,
   "metadata": {},
   "outputs": [
    {
     "data": {
      "text/plain": [
       "array([ 3879,  7216,  8986,  1943, 11400, 10636,  9629,  8609,  5384,\n",
       "        1488])"
      ]
     },
     "execution_count": 59,
     "metadata": {},
     "output_type": "execute_result"
    }
   ],
   "source": [
    "top_ten = ranking[:10]\n",
    "top_ten"
   ]
  },
  {
   "cell_type": "code",
   "execution_count": 60,
   "metadata": {},
   "outputs": [
    {
     "data": {
      "text/plain": [
       "array([0., 0., 0., 0., 0., 0., 0., 0., 0., 0.])"
      ]
     },
     "execution_count": 60,
     "metadata": {},
     "output_type": "execute_result"
    }
   ],
   "source": [
    "distances[top_ten]"
   ]
  },
  {
   "cell_type": "code",
   "execution_count": 61,
   "metadata": {},
   "outputs": [
    {
     "data": {
      "text/plain": [
       "3879     With a climate as varied and extreme as India,...\n",
       "7216     International finance (also referred to as int...\n",
       "8986     A pakudos is a visual motif used by the Mangya...\n",
       "1943     Construct (psychology), also hypothetical cons...\n",
       "11400    The epicanthic fold is the skin fold of the up...\n",
       "10636    Chuan (Chinese: 串, Dungan: Чўан, pinyin: chuàn...\n",
       "9629     Global Village Tech Park is a software technol...\n",
       "8609     Tejuíno is a cold beverage made from fermented...\n",
       "5384     Gens was used by Lewis H. Morgan (in Ancient S...\n",
       "1488     \"Natural Science\" is a song by the Canadian ro...\n",
       "10581    Argument to moderation (Latin: argumentum ad t...\n",
       "8306     Burgess may refer to:\\n\\nPeople\\nBurgess (name...\n",
       "11978    Trust for Nature is a not-for-profit organisat...\n",
       "7376     Kochi is a city in the Indian state of Kerala....\n",
       "7953     A self-directed Individual Retirement Account ...\n",
       "6197     Vets Prevail, is a veteran-created online ment...\n",
       "13135    Humans of some cultures eat octopus. The arms ...\n",
       "3660     Anam Cara is a phrase that refers to the Celti...\n",
       "12933    Geographical features are naturally-created fe...\n",
       "10337    The Johari window is a technique that helps pe...\n",
       "13278    Chinta (Sanskrit: चिन्ता) in Hindu philosophy ...\n",
       "7205     Quantitative analysis of behavior is the appli...\n",
       "3499     Thai tea is a Thai drink made from tea, milk a...\n",
       "4408     Paya is a traditional food from the Indian Sub...\n",
       "2417     Common goods are defined in economics as goods...\n",
       "2111     Ikigai (生き甲斐, pronounced [ikiɡai]) is a Japane...\n",
       "10943    A substitute good is a good that can be used i...\n",
       "5471     The 2009 Collier Township shooting, also refer...\n",
       "12954    A showreel (also known as a demo reel or sizzl...\n",
       "3148     A somatic symptom disorder, formerly known as ...\n",
       "                               ...                        \n",
       "8910     Handia  (Also handi or hadiya) is a rice beer ...\n",
       "8919     The Department of Housing, Planning and Local ...\n",
       "8920     The Nature of the Beast is the ninth studio al...\n",
       "8924     This is a list of living actors from the Golde...\n",
       "8926     Drevlyans Nature Reserve (Ukrainian: Древлянсь...\n",
       "8927     Nature Chemistry is a monthly peer-reviewed sc...\n",
       "8935     College of Science and Technology - University...\n",
       "8792     The Australian Journal of Anthropology is a pe...\n",
       "8559     Addictive Behaviors is a monthly peer-reviewed...\n",
       "8747     The Ministry of Finance of Yugoslavia refers t...\n",
       "8744     Prestegårdsskogen Nature Reserve (Norwegian: P...\n",
       "8594     Movies With Manings was a Canadian movie telev...\n",
       "8596     Bruce Kent Bateman is an American movie produc...\n",
       "8615     This is a list of colleges and universities in...\n",
       "8616     Cordial may refer to:\\nFood and drink:\\n\\nLiqu...\n",
       "8632     Lauren Christine German (born November 29, 197...\n",
       "8643     Yemen Chronicle: An Anthropology of War and Me...\n",
       "8644     Ketan Mulmuley is a professor in the Departmen...\n",
       "8654     Pharmacology Biochemistry and Behavior is a mo...\n",
       "8670     Ozark Actors Theatre is an Equity theater comp...\n",
       "8674     The Ministry of Environment (Portuguese: Minis...\n",
       "8677     For the most populous cities in North America,...\n",
       "8680     Attack of the Movies 3D is a rail shooter for ...\n",
       "8682     Zeekoevlei is a major freshwater lake on the C...\n",
       "8701     Turner Classic Movies, a movie-oriented networ...\n",
       "8711     Beshtash Nature Park is a nature park in Talas...\n",
       "8720     National nature reserves in Suffolk, England a...\n",
       "8733     Eli Global is a multinational corporation base...\n",
       "8745     Rain City may refer to the following cities:\\n...\n",
       "14215    Doubles is a common street food of Trinidadian...\n",
       "Name: content, Length: 14216, dtype: object"
      ]
     },
     "execution_count": 61,
     "metadata": {},
     "output_type": "execute_result"
    }
   ],
   "source": [
    "df_corpus2.loc[ranking, 'content']"
   ]
  },
  {
   "cell_type": "markdown",
   "metadata": {},
   "source": [
    "## Second Model "
   ]
  },
  {
   "cell_type": "code",
   "execution_count": 110,
   "metadata": {},
   "outputs": [],
   "source": [
    "import textstat\n",
    "import operator\n",
    "import wikipedia\n",
    "import wikipediaapi\n",
    "\n",
    "def give_harder_level(text):\n",
    "    \"\"\"\n",
    "    Takes in text and returns a harder level read\n",
    "    \"\"\"\n",
    "    ##find all the articles that are easier than this article \n",
    "    all_harder_text = []\n",
    "    input_score = textstat.flesch_kincaid_grade(text)\n",
    "    for i in range(len(df_corpus2['score'])):\n",
    "        if df_corpus2['score'][i] > input_score:\n",
    "            all_harder_text.append(df_corpus2['content'][i])\n",
    "    \n",
    "    vec = TfidfVectorizer(stop_words='english', max_features=2000)\n",
    "    vec = vec.fit(all_harder_text)\n",
    "    corpus2_vectors = vec.transform(all_harder_text).toarray()\n",
    "    user_doc = text\n",
    "    user_doc_vector = vec.transform([user_doc]).toarray() \n",
    "    user_doc_vector_short = np.argsort(user_doc_vector)[-25:]\n",
    "    distances = cdist(user_doc_vector_short,\n",
    "                  corpus2_vectors[-25:],\n",
    "                  metric='cosine')[0]\n",
    "    ranking = np.argsort(distances)\n",
    "    top = ranking[0]\n",
    "    best_match = df_corpus2['content'][top]\n",
    "        \n",
    "    print(distances[top])\n",
    "    return (best_match)"
   ]
  },
  {
   "cell_type": "code",
   "execution_count": 113,
   "metadata": {},
   "outputs": [],
   "source": [
    "sample = \"fruit\""
   ]
  },
  {
   "cell_type": "code",
   "execution_count": 114,
   "metadata": {},
   "outputs": [
    {
     "name": "stdout",
     "output_type": "stream",
     "text": [
      "0.6837722769838963\n"
     ]
    },
    {
     "data": {
      "text/plain": [
       "'Social conservatism is the belief that society is built upon a fragile network of relationships which need to be upheld through duty, traditional values and established institutions. This can include moral issues. Social conservatism is generally skeptical of social change, and believes in maintaining the status quo concerning social issues such as family life, sexual relations, and patriotism.Social conservatism encompasses a range of what may be thought of as reactionary positions on social issues. It developed as a reaction to what was perceived as dangerous tendencies within the liberal movements toward political radicalism and a wholesale rejection of \"traditional values\". In North America, since the mid to late 20th century, social conservatism arose as a response to federal action on social issues—such as LGBT rights and abortion—which members perceived as a threat to conservative values. Social conservatives also value the influence of religion in the public square, thus supporting state Churches or accommodationism, while opposing secularism and state atheism.\\n\\nSocial conservatism and other ideological views\\nThere is no necessary link between social and fiscal conservatism; some social conservatives such as George W. Bush and Michael Gerson are otherwise apolitical, centrist or liberal on economic and fiscal issues. Social conservatives may sometimes support economic intervention where the intervention serves moral or cultural aims. Many social conservatives support a balance between fair trade and a free market. This concern for material welfare, like advocacy of traditional mores, will often have a basis in religion. Examples include the Christian Social Union of Bavaria, the Family First Party and Katter\\'s Australian Party, and the communitarian movement in the United States.\\nThere is more overlap between social conservatism and paleoconservatism, in that they both have respect for traditional social forms.The term social conservatism is not to be confused with an economically interventionist conservatism, where conservative ideas are combined with keynesian economics and a welfare state, which is practised by some european conservatives, e.g. One-nation conservatism in Britain or Gaullism in France.\\n\\nSocial conservatism in different countries\\nIslamic world\\nMost Muslim countries are socially and morally conservative (such as Sudan, Malaysia and Gambia) due to their interpretation of Islamic law also known as Shariah.\\nArab world\\n\\nThe Arab world has been historically conservative in social and moral issues due to the strong influence of Islam. All Arab countries have strong censorship laws against illicit and immoral content.\\nArab States of the Persian Gulf\\n\\nSaudi Arabia is the home of Islam and its two holy shrines, the king\\'s (Salman bin Abdulaziz Al Saud) title is \"Custodian of the Two Holy Mosques\". Saudi Arabia\\'s role in the Islamic world enforces it to adhere to strict interpretation of Islam, of which it follows the most strict madhab of Islamic jurisprudence imam Hanbal.\\n\\nIndia\\nHindu social conservatism\\n\\nHindu social conservatism in India in the twenty first century has developed into an influential movement. Represented in the political arena by the right-leaning Bharatiya Janata Party and far-right wing Shiv Sena. Hindu social conservatism, also known as the Hindutva movement, is spearheaded by the voluntary non-governmental organisation Rashtriya Swayamsevak Sangh. The core philosophy of this ideology is nativism and sees Hinduism as a national identity rather than a religious one. Due to an inclination towards nativism, much of its platform is based on the belief that Islamic and Christian denominations in India are the result of occupations, and therefore these groups should not receive concessions from the state.In terms of political positions, Hindu social conservatives in India seek to institutionalise a Uniform Civil Code (which is also a directive under Article 44 of the Constitution of India) for members of all religions, over the current scheme of different personal laws for different religions. For instance, polygamy is legal for Muslims in India but not Hindus.\\nMuslim social conservatism\\n\\nThere are several socially conservative Muslim organisations in India, ranging from groups such as the Indian Union Muslim League which aim to promote the preservation of Indian Muslim culture as a part of the nation\\'s identity and history, to radical organisations such as the Mujahadeen and Lakshar-E-Taiba which aim to eradicate all other religions in South Asia.\\n\\nCanada\\nIn Canada, social conservatism, though widespread, is not as prominent in the public sphere as in the United States. It is prevalent in all areas of the country but is seen as being more prominent in rural areas. It is also a significant influence on the ideological and political culture of the provinces of Saskatchewan, Alberta, and British Columbia as they were largely settled by American immigrants in the 19th century. \\nCompared to social conservatism in the United States, social conservatism has not been as influential in Canada. The main reason is that the neoliberal or neoconservative style of politics as promoted by leaders such as former Liberal Party of Canada Prime Minister Paul Martin and Former Conservative Party of Canada Prime Minister Stephen Harper have focused on economic conservatism, with little or no emphasis on moral or social conservatism. Without a specific, large political party behind them, social conservatives have divided their votes and can be found in all political parties.Social conservatives often felt that they were being sidelined by officials in the Progressive Conservative Party of Canada and its leadership of so-called \"Red Tories\" for the last half of the twentieth century and therefore many eventually made their political home with parties such as the Social Credit Party of Canada and the Reform Party of Canada. Despite the Reform Party being dominated by social conservatives, leader Preston Manning, seeking greater national support for the party, was reluctant for the party to wholly embrace socially conservative values. This led to his deposition as leader of the party (now called Canadian Alliance) in favor of social conservative Stockwell Day. The party\\'s successor, the Conservative Party of Canada, despite having a number of socially conservative members and cabinet ministers, has chosen so far not to focus on socially conservative issues in its platform. This was most recently exemplified on two occasions in 2012 when the current Conservative Party of Canada declared they had no intention to repeal same-sex marriage or abortion laws.\\n\\nSouth Africa\\nSocial conservatism had a huge place in Apartheid South Africa ruled by the National Party. Television in South Africa was not introduced until 1976 out of fear that it would reduce the influence of Afrikaans.  Pornography, gambling and other activities that were deemed undesirable were severely restricted. The majority of businesses were forbidden from doing business on Sunday. Abortion was illegal, except in case of rape, and danger to the mother\\'s life.  Sex education was also restricted.Despite the legalisation of same-sex marriage and polygamy, in modern-day South Africa, the population remains socially conservative on issues such as homosexuality with 80% of the population against homosexuality.\\n\\nUnited States\\nSocial conservatism in the United States is a right-wing political ideology that opposes social progressivism. It is centered on the preservation of what adherents often call \\'traditional\\' or \\'family values\\', though the accepted aims of the movement often vary amongst the organisations it comprises, making it hard to generalise about ideological preferences. There are, however, a number of general principles to which at least a majority of social conservatives adhere, such as opposition to abortion and opposition to same-sex marriage.\\nThe Republican Party is the largest political party with socially conservative ideals incorporated into its platform. Other socially conservative parties include the Constitution Party and the Prohibition Party.\\nSocial conservatives are strongest in the South, where they are a mainstream political force with aspirations to translate those ideals using the party platform nationally. In recent decades, the supporters of social conservatism played a major role in the political coalitions of Ronald Reagan and George W. Bush.\\n\\nList of social conservative political parties\\nAlbania\\nRed and Black Alliance\\nConservative Party\\nDemocratic Party of Albania\\nChristian Democrats\\n\\nArgentina\\nChristian Democratic Party\\n\\nAustralia\\nLiberal Party of Australia\\nNational Party of Australia\\nPauline Hanson\\'s One Nation\\nAustralia First Party\\nDemocratic Labour Party\\nChristian Democratic Party\\nAustralian Christians\\nKatter\\'s Australian Party\\nAustralian Conservatives\\n\\nAustria\\nChristian Party of Austria\\nAlliance for the Future of Austria\\nFreedom Party of Austria\\nAustrian People\\'s Party\\n\\nBangladesh\\nJamaat-e-Islami Bangladesh\\n\\nBelgium\\nVlaams Belang\\nVlaams Blok\\nCentre démocrate humaniste\\nChristen-Democratisch en Vlaams\\nChristlich Soziale Partei\\nChristian Social Party\\nCatholic Party\\n\\nBosnia and Herzegovina\\nAlliance of Independent Social Democrats\\n\\nBrazil\\nBrazilian Republican Party\\nPatriota\\nSocial Christian Party\\nSocial Liberal Party\\n\\nCroatia\\nCroatian Christian Democratic Party\\nCroatian Party of Rights\\nCroatian Growth\\n\\nCanada\\nConservative Party of Canada\\nChristian Heritage Party of Canada\\nAlliance of the North\\nPro-Life Alberta Political Association\\nReform Party of Alberta\\nUnited Conservative Party\\n\\nColombia\\nColombian Conservative Party\\n\\nCosta Rica\\nCosta Rican Renewal Party\\nNational Restoration Party\\nChristian Democratic Alliance\\n\\nCzech Republic\\nChristian and Democratic Union – Czechoslovak People\\'s Party\\nFreedom and Direct Democracy\\nCoalition for Republic – Republican Party of Czechoslovakia\\nNational Democracy\\nCivic Democratic Party (factions)\\n\\nDenmark\\nDanish People\\'s Party\\nChristian Democratic Party\\n\\nFaroe Islands\\nCentre Party\\n\\nFinland\\nChristian Democrats\\nTrue Finns\\n\\nFrance\\nA number of The Republicans members in France as considered socially conservative, including the Christian Democratic Party, LR affiliate\\nMovement for France\\nNational Front\\nNational Republican Movement\\nCoalition pour la Vie et la Famille\\n\\nGermany\\nAlternative für Deutschland\\nDeutsche Zentrumspartei (ZENTRUM) (German Centre Party)\\nBündnis C – Christen für Deutschland (\"Alliance C – Christians for Germany\")\\nFamilien-Partei Deutschlands (Family Party of Germany)\\nGerman Social Union\\nThe Republicans\\nChristian Social Union in Bavaria\\nChristian Democratic Union\\n\\nGreece\\nNew Democracy\\nPopular Orthodox Rally\\nIndependent Greeks\\nGolden Dawn\\n\\nHungary\\nJobbik\\nHungarian Justice and Life Party\\nFidesz\\nChristian Democratic People\\'s Party (Hungary)\\nThe Homeland Not For Sale Movement Party\\n\\nIceland\\nPeople\\'s Party\\nIcelandic National Front\\n\\nIndia\\nBharatiya Janata Party\\nShiv Sena\\n\\nIndonesia\\nPartai Demokrat\\n\\nIran\\nCombatant Clergy Association\\nIslamic Society of Engineers\\n\\nIreland\\nCatholic Democrats (Ireland)\\nChristian Solidarity Party\\nFamily Solidarity\\nNational Party\\nRenua Ireland\\n\\nNorthern Ireland\\nDemocratic Unionist Party\\nTraditional Unionist Voice\\nUlster Unionist Party\\n\\nIsrael\\nShas\\nUnited Torah Judaism\\nManhigut Yehudit\\nThe Jewish Home - HaBayit HaYehudi\\nUnited Arab List\\n\\nItaly\\nThe People of Family  (Il Popolo della Famiglia)\\nChristian Italy  (Italia Cristiana)\\nMilitia Christi - Political Catholic Movement (Militia Christi - Movimento Politico Cattolico)\\nUnion of the Centre\\nLega Nord\\nBrothers of Italy\\nNational Movement for Sovereignty\\nDiventerà Bellissima\\nDie Freiheitlichen\\nCitizens\\' Union for South Tyrol\\nForza Italia\\nForza Italia (2013)\\n\\nJapan\\nLiberal Democratic Party\\nPeople\\'s New Party\\nNew Party Nippon\\nNew Komeito Party\\n\\nLiechtenstein\\nChristian-Social People\\'s Party\\nPatriotic Union\\nThe Independents\\n\\nLuxembourg\\nChristian Social People\\'s Party\\nAlternative Democratic Reform Party\\n\\nMalaysia\\nUnited Malays National Organization (UMNO)\\nMalaysian United Indigenous Party\\n\\nMexico\\nSocial Encounter Party\\nNational Action Party\\n\\nMoldova\\nParty of Socialists of the Republic of Moldova\\n\\nNetherlands\\nChristianUnion\\nReformed Political Party\\n\\nNew Zealand\\nConservative Party of New Zealand\\nNew Zealand First\\n\\nNigeria\\nPeople\\'s Democratic Party\\nAll Nigeria Peoples Party\\nAfrican Action Congress\\n\\nNorway\\nChristian Democratic Party\\nThe Christians Party\\nChristian Unity Party\\nProgress Party\\n\\nPakistan\\nJamaat-e-Islami\\nPakistan Tehreek-e-Insaf\\nMuslim League (Pakistan)\\nJamiat Ulema-e-Islam\\n\\nParaguay\\nColorado Party (Paraguay)\\n\\nPhilippines\\nUnited Nationalist Alliance\\nPwersa ng Masang Pilipino\\nBagumbayan–Volunteers for a New Philippines\\nNational Unity Party\\nAng Kapatiran\\nNacionalista Party\\nKilusang Bagong Lipunan\\nPartido para sa Demokratikong Reporma\\nPDP-Laban\\n\\nPeru\\nFuerza Popular\\nChristian People\\'s Party\\n\\nPoland\\nLaw and Justice\\nRight Wing of the Republic\\nSolidary Poland\\nLeague of Polish Families\\nCongress of the New Right\\nThe Republicans\\n\\nPortugal\\nDemocratic and Social Center - People\\'s Party\\n\\nRomania\\nSocial Democratic Party\\n\\nRussia\\nUnited Russia\\nLDPR\\nRussian Party of Pensioners for Social Justice\\n\\nSlovakia\\nChristian Democratic Movement\\nDirection – Social Democracy\\nNetwork\\nOrdinary People and Independent Personalities\\nSlovak National Party\\nWe Are Family\\nKotleba – People\\'s Party Our Slovakia\\n\\nSlovenia\\nSlovenian Democratic Party\\nSlovenian National Party\\nNew Slovenia\\n\\nSpain\\nPeople\\'s Party\\nVox\\n\\nSerbia\\nDveri\\n\\nSouth Africa\\nFreedom Front Plus\\nAfrican Christian Democratic Party\\n\\nSouth Korea\\nLiberty Korea Party\\nChristian Liberal Party\\n\\nSweden\\nSweden Democrats\\nChristian Values Party (Sweden)\\nAlternative for Sweden\\nChristian Democrats\\n\\nSwitzerland\\nEvangelical People\\'s Party of Switzerland\\nFederal Democratic Union of Switzerland\\nSwiss Democrats\\nSwiss People\\'s Party\\nChristian Democratic People\\'s Party of Switzerland\\n\\nTurkey\\nJustice and Development Party\\nFelicity Party\\nGreat Union Party\\nMotherland Party\\n\\nUnited Kingdom\\nChristian Democratic Party\\nChristian Party\\nChristian Peoples Alliance\\nUK Independence Party (Social conservative and Libertarian factions)\\nBritish Union & Sovereignty Party\\n\\nNorthern Ireland only\\nDemocratic Unionist Party\\nUlster Unionist Party\\nTraditional Unionist Voice\\nAontú\\n\\nUnited States\\nRepublican Party\\nConservative Party of New York State\\nConstitution Party\\nProhibition Party\\nAmerican Solidarity Party\\nIndependent American Party\\n\\nSocial conservative factions of political parties\\nChristian Democratic Party (The Republicans)\\nBlue Labour (Labour Party)\\nCornerstone Group (Conservative Party)\\nHouse Freedom Caucus (Republican Party)\\nRepublican Study Committee (Republican Party)\\nBlue Dog Coalition (Democratic Party)\\nPaleoconservatism\\nTraditionalist conservatism\\nSocial conservatism in Canada\\nSocial conservatism in the United States\\nPro-life movement\\nFamily values\\n\\nSee also\\nChristian right\\nSocial inertia: the prevention of social change\\nSocial liberalism\\nVictorian morality\\n\\nReferences\\nBibliography\\nHeywood, Andrew (2017). Political Ideologies: An Introduction. Palgrave Macmillan. ISBN 1-137-60604-5.\\n\\nFurther reading\\nCarlson, Allan, The Family in America: Searching for Social Harmony in the Industrial Age (2003) ISBN 0-7658-0536-7\\nCarlson, Allan, Family Questions: Reflections on the American Social Crisis (1991) ISBN 1-56000-555-6\\nFleming, Thomas, The Politics of Human Nature, (1988) ISBN 1-56000-693-5\\nGallagher, Maggie, The Abolition of Marriage: How We Destroy Lasting Love (1996) ISBN 0-89526-464-1\\nHimmelfarb, Gertrude, The De-moralization Of Society (1996) ISBN 0-679-76490-9\\nHitchens, Peter, The Abolition of Britain. (1999) ISBN 0-7043-8117-6\\nJones, E. Michael, Degenerate Moderns: Modernity As Rationalized Sexual Misbehavior. (1993) ISBN 0-89870-447-2\\nKirk, Russell, The Conservative Mind, 7th Ed. (2001) ISBN 0-89526-171-5\\nMagnet, Myron, Modern Sex: Liberation and Its Discontents (2001) ISBN 1-56663-384-2\\nMedved, Diane and Dan Quayle, The American Family: Discovering the Values That Make Us Strong (1997) ISBN 0-06-092810-7\\nSobran, Joseph, Single Issues: Essays on the Crucial Social Questions (1983) ISBN 1-199-24333-7.'"
      ]
     },
     "execution_count": 114,
     "metadata": {},
     "output_type": "execute_result"
    }
   ],
   "source": [
    "give_harder_level(sample)"
   ]
  },
  {
   "cell_type": "code",
   "execution_count": null,
   "metadata": {},
   "outputs": [],
   "source": []
  }
 ],
 "metadata": {
  "kernelspec": {
   "display_name": "Python 3",
   "language": "python",
   "name": "python3"
  },
  "language_info": {
   "codemirror_mode": {
    "name": "ipython",
    "version": 3
   },
   "file_extension": ".py",
   "mimetype": "text/x-python",
   "name": "python",
   "nbconvert_exporter": "python",
   "pygments_lexer": "ipython3",
   "version": "3.6.8"
  }
 },
 "nbformat": 4,
 "nbformat_minor": 2
}
