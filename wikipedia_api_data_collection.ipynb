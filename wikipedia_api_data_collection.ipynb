{
 "cells": [
  {
   "cell_type": "code",
   "execution_count": 6,
   "metadata": {},
   "outputs": [],
   "source": [
    "import wikipedia\n",
    "import wikipediaapi"
   ]
  },
  {
   "cell_type": "markdown",
   "metadata": {},
   "source": [
    "Art and culture\n",
    "Geography and places\n",
    "Health and fitness\n",
    "History and events\n",
    "Mathematics and abstractions\n",
    "Natural sciences and nature\n",
    "People and self\n",
    "Philosophy and thinking\n",
    "Religion and spirituality\n",
    "Social sciences and society\n",
    "Technology and applied sciences"
   ]
  },
  {
   "cell_type": "code",
   "execution_count": 7,
   "metadata": {},
   "outputs": [],
   "source": [
    "drink_list = wikipedia.search(\"drink\", results=1000)\n",
    "food_list = wikipedia.search(\"food\", results=1000)\n",
    "ancient_list = wikipedia.search(\"ancient\", results=1000)\n",
    "transportation_list = wikipedia.search(\"transportation\", results=1000)\n",
    "shows_list = wikipedia.search(\"shows\", results=1000)\n",
    "music_list = wikipedia.search(\"music\", results=1000)\n",
    "actors_list = wikipedia.search(\"actors\", results=1000)\n",
    "movies_list = wikipedia.search(\"movies\", results=1000)\n",
    "finance_list = wikipedia.search(\"finance\", results=1000)\n",
    "##\n",
    "language_list = wikipedia.search(\"language\", results=1000)\n",
    "nature_list = wikipedia.search(\"nature\", results=1000)\n",
    "environment_list = wikipedia.search(\"environment\", results=1000)\n",
    "history_list = wikipedia.search(\"history\", results=1000)\n",
    "econ_list = wikipedia.search(\"economics\", results=1000)\n",
    "nature_list = wikipedia.search(\"nature\", results=1000)\n",
    "lit_list = wikipedia.search(\"literature\", results=1000)\n",
    "psych_list = wikipedia.search(\"psychology\", results=1000)\n",
    "behavioral = wikipedia.search(\"behavioral\", results=1000)\n",
    "global_list = wikipedia.search(\"global\", results=1000)\n",
    "cities_list = wikipedia.search(\"cities\", results=1000)\n",
    "anthropology = wikipedia.search(\"anthropology\", results=1000)\n",
    "##\n",
    "art_culture = wikipedia.search(\"art culture\", results=1000)\n",
    "geo_places = wikipedia.search(\"geography places\", results=1000)\n",
    "health_fit = wikipedia.search(\"health fitness\", results=1000)\n",
    "history_events = wikipedia.search(\"history events\", results=1000)\n",
    "math = wikipedia.search(\"mathematics abstractions\", results=1000)\n",
    "natural_science = wikipedia.search(\"natural sciences nature\", results=1000)\n",
    "people_self = wikipedia.search(\"people self\", results=1000)\n",
    "philosophy = wikipedia.search(\"philosophy thinking\", results=1000)\n",
    "religion = wikipedia.search(\"religion spirituality\", results=1000)\n",
    "social_society = wikipedia.search(\"social sciences society\", results=1000)\n",
    "tech = wikipedia.search(\"technology applied sciences\", results=1000)"
   ]
  },
  {
   "cell_type": "code",
   "execution_count": 8,
   "metadata": {},
   "outputs": [],
   "source": [
    "all_articles = (art_culture + geo_places + health_fit + history_events + \n",
    "                math + natural_science + people_self + philosophy + religion\n",
    "                + social_society + tech + anthropology + cities_list + global_list\n",
    "                + behavioral + psych_list + lit_list + nature_list + econ_list \n",
    "                + history_list + environment_list + nature_list + language_list\n",
    "                + finance_list + movies_list + actors_list + music_list + shows_list\n",
    "                + transportation_list + ancient_list + food_list + drink_list)"
   ]
  },
  {
   "cell_type": "code",
   "execution_count": 9,
   "metadata": {},
   "outputs": [],
   "source": [
    "all_articles_unique = list(set(all_articles))"
   ]
  },
  {
   "cell_type": "code",
   "execution_count": 10,
   "metadata": {},
   "outputs": [],
   "source": [
    "import pickle\n",
    "with open('unique_articles.pkl', 'wb') as f:\n",
    "    pickle.dump(all_articles_unique, f)"
   ]
  },
  {
   "cell_type": "code",
   "execution_count": 21,
   "metadata": {},
   "outputs": [],
   "source": [
    "def collect_articles():\n",
    "    docs2_long_text = []\n",
    "    wiki_wiki = wikipediaapi.Wikipedia(\n",
    "        language='en',\n",
    "        extract_format=wikipediaapi.ExtractFormat.WIKI) \n",
    "    for i in range(len(all_articles_unique)):\n",
    "        temp = wiki_wiki.page(all_articles_unique[i])\n",
    "        if len(temp.text) > 300:\n",
    "            docs2_long_text.append(temp.text)\n",
    "        else: \n",
    "            continue\n",
    "    return docs2_long_text"
   ]
  },
  {
   "cell_type": "code",
   "execution_count": 22,
   "metadata": {},
   "outputs": [],
   "source": [
    "all_collected_articles = collect_articles()"
   ]
  },
  {
   "cell_type": "code",
   "execution_count": 23,
   "metadata": {},
   "outputs": [],
   "source": [
    "import pickle\n",
    "with open('collected_articles.pkl', 'wb') as f:\n",
    "    pickle.dump(all_collected_articles, f)"
   ]
  },
  {
   "cell_type": "code",
   "execution_count": 24,
   "metadata": {},
   "outputs": [],
   "source": [
    "import pandas as pd\n",
    "df_corpus2 = pd.DataFrame()"
   ]
  },
  {
   "cell_type": "code",
   "execution_count": 25,
   "metadata": {},
   "outputs": [],
   "source": [
    "df_corpus2['content'] = pd.Series(all_collected_articles)"
   ]
  },
  {
   "cell_type": "code",
   "execution_count": 28,
   "metadata": {},
   "outputs": [
    {
     "name": "stdout",
     "output_type": "stream",
     "text": [
      "Collecting textstat\n",
      "  Using cached https://files.pythonhosted.org/packages/66/73/97bb64c89d6f2b24be6ad76007823e19b4c32ed4d484420b3ec6892ac440/textstat-0.5.6-py3-none-any.whl\n",
      "Collecting repoze.lru (from textstat)\n",
      "  Using cached https://files.pythonhosted.org/packages/b0/30/6cc0c95f0b59ad4b3b9163bff7cdcf793cc96fac64cf398ff26271f5cf5e/repoze.lru-0.7-py3-none-any.whl\n",
      "Collecting pyphen (from textstat)\n",
      "  Using cached https://files.pythonhosted.org/packages/15/82/08a3629dce8d1f3d91db843bb36d4d7db6b6269d5067259613a0d5c8a9db/Pyphen-0.9.5-py2.py3-none-any.whl\n",
      "Installing collected packages: repoze.lru, pyphen, textstat\n",
      "Successfully installed pyphen-0.9.5 repoze.lru-0.7 textstat-0.5.6\n"
     ]
    }
   ],
   "source": [
    "! pip install textstat"
   ]
  },
  {
   "cell_type": "code",
   "execution_count": 29,
   "metadata": {},
   "outputs": [],
   "source": [
    "import textstat"
   ]
  },
  {
   "cell_type": "code",
   "execution_count": 30,
   "metadata": {},
   "outputs": [],
   "source": [
    "complexity = [textstat.flesch_kincaid_grade(doc) for doc in all_collected_articles]"
   ]
  },
  {
   "cell_type": "code",
   "execution_count": 31,
   "metadata": {},
   "outputs": [],
   "source": [
    "df_corpus2['score'] = pd.Series(complexity)"
   ]
  },
  {
   "cell_type": "code",
   "execution_count": 33,
   "metadata": {},
   "outputs": [],
   "source": [
    "with open('df_corpus2.pkl', 'wb') as f:\n",
    "    pickle.dump(df_corpus2, f)"
   ]
  },
  {
   "cell_type": "markdown",
   "metadata": {},
   "source": [
    "## Load Files and Vectorize "
   ]
  },
  {
   "cell_type": "code",
   "execution_count": 39,
   "metadata": {},
   "outputs": [],
   "source": [
    "import os\n",
    "import numpy as np\n",
    "import pandas as pd\n",
    "import pickle\n",
    "from sklearn.feature_extraction.text import TfidfVectorizer\n",
    "from scipy.spatial.distance import cosine, cdist"
   ]
  },
  {
   "cell_type": "code",
   "execution_count": 41,
   "metadata": {},
   "outputs": [],
   "source": [
    "with open(r\"df_corpus2.pkl\", \"rb\") as input_file:\n",
    "    df_corpus2 = pickle.load(input_file)"
   ]
  },
  {
   "cell_type": "code",
   "execution_count": 42,
   "metadata": {},
   "outputs": [],
   "source": [
    "vec = TfidfVectorizer(stop_words='english', max_features=2000)"
   ]
  },
  {
   "cell_type": "code",
   "execution_count": 43,
   "metadata": {},
   "outputs": [],
   "source": [
    "vec = vec.fit(df_corpus2['content'])"
   ]
  },
  {
   "cell_type": "code",
   "execution_count": 45,
   "metadata": {},
   "outputs": [],
   "source": [
    "#vec.vocabulary_"
   ]
  },
  {
   "cell_type": "code",
   "execution_count": 46,
   "metadata": {},
   "outputs": [],
   "source": [
    "corpus2_vectors = vec.transform(df_corpus2['content']).toarray()"
   ]
  },
  {
   "cell_type": "code",
   "execution_count": 47,
   "metadata": {},
   "outputs": [],
   "source": [
    "user_doc = \"A watermelon is a type of edible fruit, they are 92% water. About 6% of a watermelon is sugar, which makes it very sweet. There are many different types of watermelon. Some have a green rind on the outside and a red-pink flesh on the inside, with brown seeds. Some can have yellow flesh, and some can be seedless. The green rind on the outside is not usually eaten, though it can be used as a vegetable. It can also be stewed or pickled. Most watermelons are oblong or spherical. In Japan, watermelons are grown in different shapes. Many people like to eat watermelon in the summer because the fruit is cool and refreshing. Watermelons are a great source of vitamin A, vitamin C, vitamin B6 and vitamin B1. They also contain potassium, magnesium, carotenoid antioxidant, and lycopene. Watermelons are fruits that come from a vine-like plant.\""
   ]
  },
  {
   "cell_type": "code",
   "execution_count": 48,
   "metadata": {},
   "outputs": [],
   "source": [
    "user_doc_vector = vec.transform([user_doc]).toarray()"
   ]
  },
  {
   "cell_type": "code",
   "execution_count": 49,
   "metadata": {},
   "outputs": [
    {
     "data": {
      "text/plain": [
       "array([[0., 0., 0., ..., 0., 0., 0.]])"
      ]
     },
     "execution_count": 49,
     "metadata": {},
     "output_type": "execute_result"
    }
   ],
   "source": [
    "user_doc_vector"
   ]
  },
  {
   "cell_type": "code",
   "execution_count": 50,
   "metadata": {},
   "outputs": [],
   "source": [
    "distances = cdist(user_doc_vector,\n",
    "                  corpus2_vectors,\n",
    "                  metric='cosine')[0]"
   ]
  },
  {
   "cell_type": "code",
   "execution_count": 51,
   "metadata": {},
   "outputs": [
    {
     "data": {
      "text/plain": [
       "(14216,)"
      ]
     },
     "execution_count": 51,
     "metadata": {},
     "output_type": "execute_result"
    }
   ],
   "source": [
    "distances.shape"
   ]
  },
  {
   "cell_type": "code",
   "execution_count": 52,
   "metadata": {},
   "outputs": [],
   "source": [
    "ranking = np.argsort(distances)"
   ]
  },
  {
   "cell_type": "code",
   "execution_count": 53,
   "metadata": {},
   "outputs": [
    {
     "data": {
      "text/plain": [
       "(14216,)"
      ]
     },
     "execution_count": 53,
     "metadata": {},
     "output_type": "execute_result"
    }
   ],
   "source": [
    "ranking.shape"
   ]
  },
  {
   "cell_type": "code",
   "execution_count": 54,
   "metadata": {},
   "outputs": [
    {
     "data": {
      "text/plain": [
       "array([ 9761,  4036, 13028,  8170,  2029,  7052, 12517,  7038,   233,\n",
       "        5636])"
      ]
     },
     "execution_count": 54,
     "metadata": {},
     "output_type": "execute_result"
    }
   ],
   "source": [
    "top_ten = ranking[:10]\n",
    "top_ten"
   ]
  },
  {
   "cell_type": "code",
   "execution_count": 55,
   "metadata": {},
   "outputs": [
    {
     "data": {
      "text/plain": [
       "array([0.6431534 , 0.67301318, 0.67374923, 0.67489732, 0.68369456,\n",
       "       0.70282575, 0.70369595, 0.70818457, 0.70850181, 0.72808566])"
      ]
     },
     "execution_count": 55,
     "metadata": {},
     "output_type": "execute_result"
    }
   ],
   "source": [
    "distances[top_ten]"
   ]
  },
  {
   "cell_type": "code",
   "execution_count": 56,
   "metadata": {},
   "outputs": [
    {
     "data": {
      "text/plain": [
       "9761     Grass jelly, or leaf jelly, is a jelly-like de...\n",
       "4036     Nate Green is an American author, writer, mark...\n",
       "13028    Brown sugar is a sucrose sugar product with a ...\n",
       "8170     Squash (also known as cordial in British Engli...\n",
       "2029     Icing, or frosting, is a sweet, often creamy g...\n",
       "7052     The green economy is defined as economy that a...\n",
       "12517    Tea is an aromatic beverage commonly prepared ...\n",
       "7038     Traditional ginger beer is a naturally sweeten...\n",
       "233      Sugar is the generic name for sweet-tasting, s...\n",
       "5636     Green River is a bright green, lime-flavored s...\n",
       "6248     Global Green USA is the U.S. arm of Green Cros...\n",
       "11693    Cream soda (also known as creme soda) is a swe...\n",
       "1714     Mojito (; Spanish: [moˈxito]) is a traditional...\n",
       "5530     Chaas (gu:છાશ, hi:छाछ) is a dahi (yogurt)-base...\n",
       "6242     Ginger ale is a carbonated soft drink flavoure...\n",
       "7301     Bubble tea (also known as pearl milk tea, bubb...\n",
       "7714     A \"fizz\" is a mixed drink variation on the old...\n",
       "4556     Avena is a beverage prepared with stewed oatme...\n",
       "13281    Korean Natural Farming (KNF) takes advantage o...\n",
       "13710    Robinsons is an English fruit drink brand owne...\n",
       "576      Microbial art, agar art, or germ art is artwor...\n",
       "5567     Sharbat, shorbot, serbat or sherbet  (pronounc...\n",
       "9496     Ramune (ラムネ) (Japanese pronunciation: [ɾamɯne]...\n",
       "3783     Sprite Zero Sugar is a colorless, lemon-lime s...\n",
       "4840     Flour is a powder made by grinding raw grains,...\n",
       "10772    Niebieskie Źródła Nature Reserve (lit. Blue Sp...\n",
       "11020    The Pepsi-Cola Made with Real Sugar, formerly ...\n",
       "5908     This is a list of lemon dishes and drinks, in ...\n",
       "6314     Excretion is a process by which metabolic wast...\n",
       "4997     Tonic water (or Indian tonic water) is a carbo...\n",
       "                               ...                        \n",
       "7789     The Experimental Psychology Society (EPS) is a...\n",
       "7785     North India, according to the Geological Surve...\n",
       "7767     There are a number of higher education institu...\n",
       "7756     Billy Johnstone (born 15 June 1959) is an Aust...\n",
       "7748     The Interim Union Budget of India for the year...\n",
       "7746     This list is a subsection of the List of membe...\n",
       "7742     Complexity theory (or complexity science) is t...\n",
       "7739     Shandong University of Finance and Economics (...\n",
       "7732     Orthotes (Greek: ὀρθότης \"rightness\") is a Gre...\n",
       "7806     Frank Thomson \"Tom\" Leighton (born 1956) is th...\n",
       "8086     The Music Works (Korean: 뮤직웍스; simply known as...\n",
       "7807     Open Environment Corporation (OEC) was founded...\n",
       "7810     Brother Nature is a 2016 American comedy film ...\n",
       "7899     Finance House PJSC (FH) (Arabic: دار التمويل‎)...\n",
       "7892     This is a list of cities and/or their metropol...\n",
       "7890     HDFC Bank Limited is an Indian banking and fin...\n",
       "7875     This is a timeline of Spanish history, compris...\n",
       "7864     Municipalities in Nepal are cities and towns m...\n",
       "7857     Global Health College is a for-profit nursing ...\n",
       "7855     Quantum Psychology: How Brain Software Program...\n",
       "7845     The Greatest Event in Television History is a ...\n",
       "7841     Crowe Global, previously Crowe Horwath Interna...\n",
       "7839     This is a list of television programs broadcas...\n",
       "7828     Affiliated Foods is a grocery wholesaler. It w...\n",
       "7825     This is a list of the most populous municipali...\n",
       "7823     Roy Wagner (October 2, 1938 – September 10, 20...\n",
       "7820     The Minister for Finance is an appointment in ...\n",
       "7814     Kunstformen der Natur (known in English as Art...\n",
       "7808     The JCC, Jaeneung Culture Center, is a multi p...\n",
       "14215    Doubles is a common street food of Trinidadian...\n",
       "Name: content, Length: 14216, dtype: object"
      ]
     },
     "execution_count": 56,
     "metadata": {},
     "output_type": "execute_result"
    }
   ],
   "source": [
    "df_corpus2.loc[ranking, 'content']"
   ]
  },
  {
   "cell_type": "markdown",
   "metadata": {},
   "source": [
    "## Second Model "
   ]
  },
  {
   "cell_type": "code",
   "execution_count": 70,
   "metadata": {},
   "outputs": [],
   "source": [
    "import textstat\n",
    "import operator\n",
    "\n",
    "def give_harder_level(text):\n",
    "    \"\"\"\n",
    "    Takes in text and returns an easier level read\n",
    "    \"\"\"\n",
    "    ##find all the articles that are easier than this article \n",
    "    all_harder_text = []\n",
    "    input_score = textstat.flesch_kincaid_grade(text)\n",
    "    for i in range(len(df_corpus2['score'])):\n",
    "        if df_corpus2['score'][i] > input_score:\n",
    "            all_harder_text.append(df_corpus2['content'][i])\n",
    "    \n",
    "    vec = TfidfVectorizer(stop_words='english', max_features=2000)\n",
    "    vec = vec.fit(all_harder_text)\n",
    "    corpus2_vectors = vec.transform(all_harder_text).toarray()\n",
    "    user_doc = text\n",
    "    user_doc_vector = vec.transform([user_doc]).toarray()    \n",
    "    distances = cdist(user_doc_vector,\n",
    "                  corpus2_vectors,\n",
    "                  metric='cosine')[0]\n",
    "    ranking = np.argsort(distances)\n",
    "    top_ten = ranking[:5]\n",
    "    \n",
    "    best_matches = []\n",
    "    for i in top_ten:\n",
    "        temp = df_corpus2['content'][i]\n",
    "        best_match.append(temp)\n",
    "        \n",
    "    print(distances[top_ten])\n",
    "    return (best_matches)"
   ]
  },
  {
   "cell_type": "code",
   "execution_count": 73,
   "metadata": {},
   "outputs": [],
   "source": [
    "sample = \"Statistics involves math.\""
   ]
  },
  {
   "cell_type": "code",
   "execution_count": 74,
   "metadata": {},
   "outputs": [
    {
     "name": "stdout",
     "output_type": "stream",
     "text": [
      "[0.37440306 0.52521238 0.61830424 0.6586793  0.70057984]\n"
     ]
    },
    {
     "data": {
      "text/plain": [
       "['The Animation Show of Shows is a traveling selection of the year\\'s best animated short films, curated and presented by Acme Filmworks founder, Ron Diamond. It began in 1998 with the aim of showing the most original, funny, intelligent short animated films from all over the world and presenting them at the major animation studios in order to inspire their animators and directors. Since 2007, some of the films are being published on DVDs.\\n\\nFilms included in the Shows\\n1st Annual Animation Show of Shows • 1999\\nVillage of Idiots by Eugene Fedorenka and Rose Newlove \\nMy Grandmother Ironed the King\\'s Shirts by Torill Kove \\n3 Misses by Paul Driessen \\nWhen the Day Breaks by Wendy Tilby and Amanda Forbis\\n\\n2nd Annual Animation Show of Shows • 2000\\nFather and Daughter by Michael Dudok de Wit \\nLa Pista by Gianluigi Toccafondo\\nRun of the Mill by Borge Ring\\nCrime and Punishment by Piotr Dumała\\n\\n3rd Annual Animation Show of Shows • 2001\\nRadio Umanak by Marie José van der Linden\\nA Hunting Lesson by Jacques Drouin\\nBlack Soul by Martine Chartrand\\nAria by Pjotr Sapegin\\n\\n4th Annual Animation Show of Shows • 2002\\nFlux by Chris Hinton\\nFrom the 104th Floor by Serguei Bassine\\nHasta Los Huesos by René Castillo\\nMt. Head by Kōji Yamamura\\nThe Rise & Fall of the Legendary Anglobilly Feverson by Rosto\\nAunt Luisa by Tim Miller\\n\\n5th Annual Animation Show of Shows • 2003\\nFast Film by Virgil Widrich\\nCameras Take Five by Steven Woloshen\\nFalling in Love Again by Munro Ferguson\\nCar Craze by Evert de Beijer\\nNibbles by Chris Hinton\\nThe Toll Collector by Rachel Johnson\\nHarvie Krumpet by Adam Elliot \\nDestino by Dominique Monféry\\n2D or Not 2D by Paul Driessen\\n\\n6th Annual Animation Show of Shows • 2004\\nGet in the Car by Greg Holfeld\\nLorenzo by Mike Gabriel\\nSuite for Freedom by Aleksandra Korejwo, Caroline Leaf, Luc Perez\\nThe Man Without a Shadow by Georges Schwizgebel\\nThe Revolution of the Crabs by Arthur de Pins\\nRyan by Chris Landreth\\n\\n7th Annual Animation Show of Shows • 2005\\nAt The Quinte Hotel by Bruce Alcock\\nCity Paradise by Gaëlle Denis\\nFallen by Peter Kaboth\\nThe Fan and the Flower by Bill Plympton\\nJona/Tomberry by Rosto\\nLife in Transition by John Dilworth\\nMorir de Amor by Gil Alkabetz\\nOne Man Band by Andrew Jimenez, Mark Andrews\\nOvertime by Oury Atlan, Thibaut Berland and Damien Ferrie\\n\\n8th Annual Animation Show of Shows • 2006\\nQuien Engana No Gana by Rajiv Eipe, Kaustubh Ray\\nThe Danish Poet by Torill Kove \\nA Gentlemen’s Duel by Francisco Ruiz and Sean McNally\\nMy Love by Alexandr Petrov\\nShipwrecked by Frodo Kuipers\\nNo Time for Nuts by Chris Renaud, Michael Thurmeier\\nTragic Story With Happy Ending by Regina Passoa\\nLifted by Gary Rydstrom\\n\\n9th Annual Animation Show of Shows • 2007\\nJohn and Karen by Matthew Walker \\nForgetfulness by Julian Grey \\nI Met The Walrus by Josh Raskin \\nMadame Tutli-Putli by Chris Lavis and Maciek Szczerbowski \\nSome Friends He Made: Molotov Alva Meets the Hobo King by Douglas Gayeton \\nUjbaz Izbeniki Has Lost His Soul by Neil Jack \\nLa Memoria Dei Cani by Simone Massi \\nThe Pearce Sisters by Luis Cook \\nHow to Hook Up Your Home Theater by Kevin Deters, Stevie Wermers-Skelton \\nEn Tus Brazos by Fx Goby, Edouard Jouret and Matthieu Landour \\nThe Irresistible Smile by Ami Lindholm \\nBeton by Ariel Belinco and Michael Faust \\nAdministrators by Roman Klochkov \\nt.o.m. by Dan Gray and Tom Brown \\nÉletvonal by Tomek Ducki \\nCamera Obscura by Matthieu Buchalski, Jean-Michel Drechsler and Thierry Onillon\\n\\n10th Annual Animation Show of Shows • 2008\\nKeith Reynolds Can’t Make It Tonight by Felix Massie\\nLa Maison en Petits Cubes by Kunio Katō \\nKudan by Taku Kimura \\nA Mouse\\'s Tale by Benjamin Renner \\nI Slept with Cookie Monster by Kara Nasdor-Jones \\nFranz Kafka’s A Country Doctor by Kōji Yamamura \\nGlago\\'s Guest by Chris Williams \\nHot Seat by Janet Perlman \\nPresto by Doug Sweetland \\nSkhizein by Jeremy Clapin \\nKJFG No.5 by Alexey Alexeev\\n\\n11th Annual Animation Show of Shows • 2009\\nPhotograph of Jesus by Laurie Hill \\nThe Da Vinci Time Code by Gil Alkabetz \\nVolgens de Vogels by Linde Faas \\nSanta: The Fascist Years by Bill Plympton \\nNuvole, Mani by Simone Massi \\nEl Empleo by Santiago \"Bou\" Grasso \\nThe Spine by Chris Landreth \\nChick by Michal Socha \\nPartly Cloudy by Peter Sohn \\nRunaway by Cordell Barker\\n\\n12th Annual Animation Show of Shows • 2010\\nCoyote Falls, Matthew O\\'Callaghan \\nLuis, Cristóbal León, Niles Atallah and Joaquín Cociña\\nTick Tock Tale, Dean Wellins \\nLove & Theft, Andreas Hykade\\nThe Silence Beneath The Bark, Joanna Lurie\\nThe Cow Who Wanted To Be a Hamburger, Bill Plympton\\nMaska, Quay Brothers\\nJean Francois, Tom Haugomat & Bruno Mangyoku\\nGaleria, Robert Prouch\\nThe Lost Thing, Shaun Tan & Andrew Ruhemann\\n\\n13th Annual Animation Show of Shows • 2011\\nLa Luna by Enrico Casarosa \\nMobile by Verena Fels \\nPaths of Hate by Damian Nenow \\nSchlaf (Sleep) by Claudius Gentinetta and Frank Braun \\nWild Life by Amanda Forbis and Wendy Tilby \\nLuminaris by Juan Pablo Zaramella \\nRomance by Georges Schwitzgebel \\nThe Fantastic Flying Books of Mr. Morris Lessmore by William Joyce and Brandon Oldenburg \\nJourney to Cape Verde (Viagem a Cabo Verde) by José Miguel Ribeiro\\n\\n14th Annual Animation Show of Shows • 2012\\nPaperman by John Kahrs \\nThe Centrifuge Brain Project by Till Nowak \\nHere and the Great Elsewhere by Michele Lemieux \\nUna Furtiva Lagrima by Carlo Vogele \\nI Saw Mice Burying a Cat by Dmitry Geller \\nThe Case by Martin Zivocky \\n7596 Frames by Martin Georgiev \\nLe Taxidermiste by Dorianne Fibleuil, Paulin Cointot, and Maud Sertour \\nFlamingo Pride by Tomer Eshed \\nDaffy\\'s Rhapsody by Matt O\\'Callaghan \\nOh Willy! by Emma de Swaef and Marc James Roels \\nTentation by Loris Accaries, Marie Ayme, Claire Baudean, and Audrey Janvier \\nTram by Michaela Pavlatova\\n\\n15th Annual Animation Show of Shows • 2013\\nGet a Horse! by Lauren MacMullan \\nGloria Victoria by Theodore Ushev \\nBless You by David Barlow-Krelina \\nSubconscious Password by Chris Landreth \\nThe Blue Umbrella by Saschka Unseld \\nDrunker Than a Skunk by Bill Plympton \\nInternational Fathers Day by Edmunds Jansons \\nHome Sweet Home by Alejandrio Diaz, Pierre Clanet, Romain Mazevet and Stephane Paccolat \\nMy Mom is an Airplane! by Yula Aronova \\nMadly in Love by Ikue Sugidono \\nNana Bobo by Andrea Cristofaro, Valentina Del Miglio, Francesco Nicolo Mereu and Lucas Wild do Vale\\nRequiem for Romance by Jonathan Ng \\nMarcel, King of Tevruen by Tom Schroeder \\nAscension by Caroline Domergue, Florian Vecchione, Martin de Coudenhove and Thomas Bourdis\\n\\n16th Annual Animation Show of Shows • 2014\\nFeast by Patrick Osborne \\nBang Bang! by Julien Bisaro \\nMarilyn Myller by Mikey Please \\nLava by James Murphy \\nMe and My Moulton by Torill Kove \\n365 by Greg and Myles McLeod \\nWe Can\\'t Live Without Cosmos by Konstantin Bronzit \\nDuet by Glen Keane \\nHunger by Petra Zlonoga \\nThe Bigger Picture by Daisy Jacobs \\nHipopotamy by Piotr Dumała\\n\\n17th Annual Animation Show of Shows • 2015\\nThe Story of Percival Pilts by Janette Goodey and John Lewis \\nTant de Forets by Geoffrey Godet and Burcu Sankur \\nSnowfall by Connor Whelan \\nBallad of Holland Island House by Lynn Tomlinson \\nBehind the Trees by Amanda Palmer and Avi Ofer \\nWe Can\\'t Live Without Cosmos by Konstantin Bronzit \\nMessages Dans L\\'Air by Isabel Favez \\nStripy by Babak and Behnoud Nekooei \\nAscension by Thomas Bourdis, Martin de Coudenhove, Caroline Domergue, Colin Laubry, and Florian Vecchione \\nIn the Time of March Madness by Melissa Johnson and Robertino Zambrano \\nWorld of Tomorrow by Don Hertzfeldt\\n\\n18th Annual Animation Show of Shows • 2016\\nStems by Ainslie Hendersen of Scotland \\nShift by Cecilia Puglesi and Yijun Liu of U.S. \\nPearl by Patrick Osborne of the U.S. \\nCrin-crin by Iris Alexandre of Belgium \\nMirror by Chris Ware, John Kuramoto, Ira Glass of U.S. \\nLast summer in the garden by bekky O’Neil of Canada \\nWaiting for the New Year by Vladimir Leschiov of Latvia \\nPiper by Alan Barillaro of U.S. \\nBøygen by Kristian Pedersen of Norway \\nAfternoon Class by Seoro Oh of Korea \\nAbout a Mother by Dina Velikovskaya of Russia \\nExploozy by Joshua Gunn, Trevor Piecham, and John McGowan of U.S. \\nInner Workings by Leo Matsuda of U.S. \\nCorpus by Marc Héricher of France \\nBlue by Daniela Sherer of Israel \\nManoman by Simon Cartwright of England \\nAll Their Shades by Chloé Alliez of Belgium\\n\\n19th Annual Animation Show of Show • 2018\\nCan You Do It-Quentin Baillieux, France \\nTiny Big-Lia Bertels, Belgium \\nNext Door- Pete Docter, U.S.\\nThe Alan Dimension-Jac Clinch, U.K.\\nBeautiful Like Elsewhere-Elise Simard, Canada \\nHangman- Paul Julian and Les Goldman, U.S.\\nThe Battle of San Romano- Georges Schwizgebel, Switzerland \\nGokurosama-Clémentine Frère, Aurore Gal, Yukiko Meignien, Anna Mertz, Robin Migliorelli & Romain Salvini, France \\nDear Basketball-Glen Keane, U.S.\\nIsland-Max Mörtl and Robert Löbel, Germany \\nUnsatisfying-Parallel Studio, France \\nMy Burden-Niki Lindroth von Bahr, Sweden \\nLes Abeilles Domestiques (Domestic Bees)-Alexanne Desrosiers, Canada \\nOur Wonderful Nature: The Common Chameleon- Tomer Eshed, Germany \\nCasino-Steven Woloshen, Canada \\nEverything-David O\\'Reilly, U.S.\\n\\nFilms included on DVD\\nBox Set 1\\nGopher Broke by Jeff Fowler \\nThe Hill Farm by Mark Baker  \\nThe Fan and the Flower by Bill Plympton \\nAstronauts by Matthew Walker \\nDas Rad by Chris Stenner, Heidi Wittlinger and Arvid Uibel \\nSki Jumping Pairs by Riichiro Mashima \\nCity Paradise by Gaëlle Denis \\nAnijam by Marv Newland \\nCar Craze by Evert de Beijer \\nJolly Roger by Mark Baker \\nMorir de Amor by Gil Alkabetz \\nCameras Take Five by Steven Woloshen \\nHilary by Anthony Hodgson \\nLe Foto Dello Scandalo by Daniele Lunghini and Diego Zuelli \\nFast Film by Virgil Widrich \\nA Gentlemen’s Duel by Francisco Ruiz and Sean McNally \\nLife in Transition by John Dilworth \\nThe Revolution of the Crabs by Arthur de Pins\\n\\nBox Set 2\\nBadgered by Sharon Colman \\nSwamp by Gil Alkabetz \\nNibbles by Chris Hinton \\nStrange Invaders by Cordell Barker \\nRun of the Mill by Borge Ring \\nFalling in Love Again by Munro Ferguson \\nHasta Los Huesos by René Castillo \\nFallen by Peter Kaboth \\nCrime and Punishment by Piotr Dumała\\nGet in the Car by Greg Holfeld \\nAunt Luisa by Tim Miller \\nThe Toll Collector by Rachel Johnson \\nRyan by Chris Landreth \\nEat by Bill Plympton \\nFlux by Chris Hinton \\nMy Grandmother Ironed the King’s Shirts by Torill Kove \\nBlack Soul by Martine Chartrand \\nShipwrecked by Frodo Kuipers\\n\\nBox Set 3\\nFather and Daughter by Michael Dudok de Wit \\n3 Misses by Paul Driessen \\nFrom the 104th Floor by Serguei Bassine \\nWhen the Day Breaks by Wendy Tilby and Amanda Forbis \\nWhen Life Departs by Stefan Fjeldmark and Karsten Kiilerich \\nRadio Umanak by Marie José van der Linden \\nThe Monk And The Fish by Michael Dudok de Wit \\nA Hunting Lesson by Jacques Drouin \\n2D or Not 2D by Paul Driessen \\nBob\\'s Birthday by David Fine and Alison Snowden \\nAria by Pjotr Sapegin \\nGirl\\'s Night Out by Joanna Quinn \\nThe Cat Came Back by Cordell Barker \\nVillage of Idiots by Eugene Fedorenka and Rose Newlove \\nIn The Rough by Paul Taylor \\nMt. Head by Kōji Yamamura \\nThe Big Snit by Richard Condie \\nThe Man Without a Shadow by Georges Schwizgebel\\n\\nBox Set 4\\nKJFG No.5 by Alexey Alexeev \\nThe Sweater by Sheldon Cohen \\nWhen the Bats are Quiet by Fabio Lignini \\nSkhizein by Jeremy Clapin \\nGuard Dog by Bill Plympton \\nSome Friends He Made: Molotov Alva Meets the Hobo King by Douglas Gayeton \\nOktapodi by Julien Bocabeille, Francois-Xavier Chanioux, Olivier Delabarre, Theirry Marchand, Quen-tin Marmier and Emud Mokhberi \\nBeton by Ariel Belinco and Michael Faust \\nLa Memoria Dei Cani by Simone Massi \\nA Mouse\\'s Tale by Benjamin Renner \\nBlackfly by Chris Hinton \\nEn tus Brazos by Francois Xavier Goby, Edouard Jouret and Matthieu Landour \\nOvertime by Oury Atlan, Thibaut Berland and Damien Ferrie \\nThe Da Vinci Time Code by Gil Alkabetz \\nSanta: The Fascist Years by Bill Plympton \\nFrank Film by Frank Mouris \\nThe Wallet by Vincent Bierrewaerts \\nt.o.m. by Dan Gray and Tom Brown\\n\\nBox Set 5\\nMadagascar, Carnet de Voyage by Bastien Dubois \\nUjbaz Izbeniki Has Lost His Soul by Neil Jack \\nGranny O’Grimm’s Sleeping Beauty by Nicky Phelan \\nQuest by Thomas Stellmach and Tyron Montgomery \\nAdministrators by Roman Klochkov \\nAt The Quinte Hotel by Bruce Alcock \\nHarvie Krumpet by Adam Elliot \\nCamera Obscura by Matthieu Buchalski, Jean-Michel Drechsler and Thierry Onillon \\nKeith Reynolds Can’t Make It Tonight by Felix Massie \\nLa Pista by Gianluigi Toccafondo \\nGeorge and Rosemary by David Fine and Alison Snowden \\nA Little Routine by George Griffin \\nThe Lady and The Reaper by Javier Recio Gracia \\nYour Face by Bill Plympton \\nBike Ride by Tom Schroeder \\nMadame Tutli-Putli by Chris Lavis and Maciek Szczerbowski \\nI Slept with Cookie Monster by Kara Nasdor-Jones \\nNuvole, Mani by Simone Massi\\n\\nBox Set 6\\nThe Danish Poet by Torill Kove \\nVolgens de Vogels by Linde Faas \\nVive La Rose by Bruce Alcock \\nEl Empleo by Santiago \"Bou\" Grasso \\nStrings by Wendy Tilby \\nEletvonal by Tomek Ducki \\nChick by Michal Socha \\nRunaway by Cordell Barker \\nHen His Wife by Igor Kovalyov \\nJohn and Karen by Matthew Walker \\nSandburg’s Arithmetic by Lynn Smith \\nAt The Ends Of The Earth by Konstantin Bronzit \\nI Met The Walrus by Josh Raskin \\nThe Irresistible Smile by Ami Lindholm \\nTragic Story With Happy Ending by Regina Passoa \\nThe Pearce Sisters by Luis Cook \\nThe Spine by Chris Landreth \\nFifty Percent Grey by Ruairí Robinson\\n\\nBox Set 7\\nThe Fantastic Flying Books of Mr. Morris Lessmore by William Joyce and Brandon Oldenburg \\nThe Village by Mark Baker \\nBitzbutz by Gil Alkabetz \\nThe Centrifuge Brain Project by Till Nowak \\nThe God by Konstantin Bronzit \\nCrossroads (Die Kreuzung) by Raimund Krumme \\nGaleria by Robert Proch \\nUna Furtiva Lagrima by Carlo Vogele \\nNo Room for Gerold by Daniel Nocke \\nThis Way Up by Alan Smith & Adam Foulkes \\nJourney to Cape Verde by José Miguel Ribeiro\\nLa Taxidermiste by Antoine Robert \\nCrac! by Frédéric Back \\n Dimanche (Sunday) by Patrick Doyon \\nThe Silence Beneath the Bark by Joanna Lurie \\nSinna Mann (Angry Man) by Anita Killi \\nFiumana (Flood) by Julia Gromskaya \\nRope Dance by Raimund Krumme\\n\\nBox Set 8\\nThe Lost Thing by Shaun Tan and Andrew Ruhemann \\nLavatory Lovestory by Konstantin Bronzit \\nMaestro by Geza M. Toth \\nThe Cow Who Wanted to Be a Hamburger by Bill Plympton \\nGuard Dog Global Jam by Bill Plympton \\nRomance by Georges Schwizgebel \\nPaths of Hate by Damian Nenow \\nDivers in the Rain by Olga Pärn and Priit Pärn \\nThe Renter by Jason Carpenter \\nLuminaris by Juan Pablo Zaramella \\nRubicon by Gil Alkabetz \\nFlamingo Pride by Tomer Eshed \\nHere and the Great Elsewhere by Michãle Lemieux \\nThe Street by Caroline Leaf\\nThe Mysterious Geographic Explorations of Jasper Morello by Anthony Lucas \\nLogorama by The French collective H5 (Francois Alaux, Hervã de Crãcy, Ludovic Houplain) \\nRing of Fire by Andreas Hykade \\nTentation by Loris Accaries, Marie Ayme, Claire Baudean and Audrey Janvier\\n\\nBox Set 9\\nLa Maison en Petits Cubes by Kunio Kato \\nHot Stuff by Zlatko Grgic \\nZoologic by Nicole Mitchell \\nLet\\'s Pollute by Geefwee Boedoe \\nThe Case by Martin Zivocky \\nEsterhazy by Izabela Plucinska \\nWild Life by Wendy Tilby and Amanda Forbis \\nMuybridge\\'s Strings by Koji Yamamura \\nAndrei Svislotskiy by Igor Kovalyov \\nThe Man Who Planted Trees by Frédéric Back \\nEvery Child by Eugene Fedorenko \\nMobile by Verena Fels \\nFrench Roast by Fabrice O. Joubert \\nJean-François by Tom Haugomat and Bruno Mangyoku \\nPassage by Raimund Krumme \\n7596 Frames by Martin Georgiev \\nLove and Theft by Andreas Hykade \\nSchlaf (Sleep) by Claudius Gentinetta and Frank Braun\\n\\nGiants\\' First Steps\\nShades of Sherlock Holmes by Ron Clements\\nNext Door, Palm Springs & Winter by Pete Docter\\nGood Old Fashioned Cartoon Violence & For Sale by Eric Goldberg\\nJack and the Beanstalk by Nick Park\\nTime for Love by Carlos Saldana\\nFun with Father by Chris Sanders\\nEarly works of Henry Selick\\nThe Strange Case of Mr. Donnybrook\\'s Boredom and Mariner Man (with the voice of Bill Scott on the latter) by David Silverman\\nA Story and Somewhere in the Artic by Andrew Stanton\\nEarly works of Kirk Wise, John Musker and Kevin Lima\\nA Birthday by Brenda Chapman\\nFrannie\\'s Christmas by Mike Mitchell \\nEarly works of Chris Wedge\\n\\nReferences\\nExternal links\\nAnimation Show of Shows Website\\nAcmeAnimation\\'s Channel at YouTube\\nAnimation Show of Shows Amazon Store',\n",
       " \"El Sayed Badreya (Arabic: سيد بدرية\\u200e) is an Egyptian American actor. He was born in 1957 in Port Said, Egypt.\\nHe has had many roles in movies and television. He appeared in AmericanEast, Iron Man, Cargo, and The Dictator.  He also provided motion capture and voice work for the pirate Rameses in Uncharted 3: Drake's Deception.\\n\\nFilmography\\nReferences\\nExternal links\\nSayed Badreya on IMDb\",\n",
       " 'In mathematics, global analysis, also called analysis on manifolds, is the study of the global and topological properties of differential equations on manifolds and vector bundles.  Global analysis uses techniques in infinite-dimensional manifold theory and topological spaces of mappings to classify behaviors of differential equations, particularly nonlinear differential equations. These spaces can include singularities and hence catastrophe theory is a part of global analysis. Optimization problems, such as finding geodesics on Riemannian manifolds, can be solved using differential equations so that the calculus of variations overlaps with global analysis. Global analysis finds application in physics in the study of dynamical systems and topological quantum field theory.\\n\\nJournals\\nAnnals of Global Analysis and Geometry\\nThe Journal of Geometric Analysis\\n\\nSee also\\nAtiyah–Singer index theorem\\nGeometric analysis\\nLie groupoid\\nPseudogroup\\nMorse theory\\nStructural stability\\nHarmonic map\\n\\nReferences\\nFurther reading\\n\\nMathematics 241A: Introduction to Global Analysis',\n",
       " \"In economics, the economics of location is the study of strategies used by firms in a monopolistically competitive environment in determining where to locate. Unlike a product differentiation strategy, where firms make their products different in order to attract customers, an economics of location strategy is consistent with firms producing similar or identical products.\\n\\nSee also\\nHotelling's law\",\n",
       " 'The \\'I\\' and the \\'me\\' are terms central to the social philosophy of George Herbert Mead, one of the key influences on the development of the branch of sociology called symbolic interactionism. The terms refer to the psychology of the individual, where in Mead\\'s understanding, the \"me\" is the socialized aspect of the person, and the \"I\" is the active aspect of the person.One might usefully \\'compare Mead\\'s \"I\" and \"me\", respectively, with Sartre\\'s \"choice\" and \"the situation\". But Mead himself matched up the \"me\" with Freud\\'s \"censor\", and the \"I\" with his \"ego\"; and this is psychologically apt.\\n\\nCharacteristics\\nThe \"Me\" is what is learned in interaction with others and (more generally) with the environment: other people\\'s attitudes, once internalized in the self, constitute the Me. This includes both knowledge about that environment (including society), but also about who the person is: their sense of self. \"What the individual is for himself is not something that he invented. It is what his significant others have come to ...treat him as being.\" This is because people learn to see who they are (man or woman, old or young, etc.) by observing the responses of others themselves or their actions. If others respond to a person as (for instance) a woman, the person develops a sense of herself indeed as a woman.\\nAt the same time, \\'the \"Me\" disciplines the \"I\" by holding it back from breaking the law of the community\\'. It is thus very close to the way in a man Freud\\'s \\'ego-censor, the conscience...arose from the critical influence of his parents (conveyed to him by the medium of the voice), to whom were added, as time went on, those who trained and taught him and the innumerable and indefinable host of all the other people in his environment—his fellow-men—and public opinion\\'. It is \\'the attitude of the other in one\\'s own organism, as controlling the thing that he is going to do\\'.By contrast, \\'the \"I\" is the response of the individual to the attitude of the community\\'. The \"I\" acts creatively, though within the context of the me. Mead notes that \"It is only after we have acted that we know what we have done...what we have said.\" People, he argues, are not automatons; Mead states that \"the \"I\" reacts to the self which arises though the taking of the attitude of others.\" They do not blindly follow rules. They construct a response on the basis of what they have learned, the \"me\". Mead highlighted accordingly those values that attach particularly to the \"I\" rather than to the me, \"...which cannot be calculated and which involve a reconstruction of the society, and so of the \\'me\\' which belongs to that society.\" Taken together, the \"I\" and the \"me\" form the person or the self in Mead\\'s social philosophy. According to Mead, there would be no possibility of personality without both the \"I\" and the \"Me\".\\n\\nFusion\\nMead explored what he called \\'the fusion of the \"I\" and the \"me\" in the attitudes of religion, patriotism, and team work\\', noting what he called the \"peculiar sense of exaltation\" that belongs to them. He also considered that \\'the idea of the fusion of the \"I\" and the \"me\" gives a very adequate explanation of this exaltation...in the aesthetic experience\\'.In everyday life, however, \\'a complete fusion of the \"I\" and the \"me\" may not be a good thing...it is a dynamic sort of balance between the \"I\" and the \"me\" that is required\\'.\\n\\nConventionality\\nWhen there is a predominance of the \"me\" in the personality, \\'we speak of a person as a conventional individual; his ideas are exactly the same as those of his neighbours; he is hardly more than a \"me\" under the circumstances\\'—\"...the shallow, brittle, conformist kind of personality...\" that is \"all persona, with its excessive concern for what people think.\" The alternative—and in many ways Mead\\'s ideal—was the person who has a definite personality, who replies to the organized attitude in a way that makes a significant difference. With such a person, the I is the most important phase of the experience.\\n\\nDissociation\\nMead recognised that it is normal for an individual to have \\'all sorts of selves answering to all sorts of different social reactions\\', but also that it was possible for \\'a tendency to break up the personality\\' to appear: \\'Two separate \"me\\'s\" and \"I\\'s\", two different selves, result...the phenomenon of dissociation of personality\\'.\\n\\nLiterary examples\\nWalt Whitman \\'marks off the impulsive \"I\", the natural, existential aspect of the self, from critical sanction. It is the cultured self, the \"me\", in Mead\\'s terms, that needs re-mediation\\'.\\n\\nSee also\\n\\n\\n== References ==']"
      ]
     },
     "execution_count": 74,
     "metadata": {},
     "output_type": "execute_result"
    }
   ],
   "source": [
    "give_harder_level(sample)"
   ]
  },
  {
   "cell_type": "code",
   "execution_count": null,
   "metadata": {},
   "outputs": [],
   "source": []
  }
 ],
 "metadata": {
  "kernelspec": {
   "display_name": "Python 3",
   "language": "python",
   "name": "python3"
  },
  "language_info": {
   "codemirror_mode": {
    "name": "ipython",
    "version": 3
   },
   "file_extension": ".py",
   "mimetype": "text/x-python",
   "name": "python",
   "nbconvert_exporter": "python",
   "pygments_lexer": "ipython3",
   "version": "3.6.8"
  }
 },
 "nbformat": 4,
 "nbformat_minor": 2
}
