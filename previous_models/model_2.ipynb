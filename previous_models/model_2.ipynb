{
 "cells": [
  {
   "cell_type": "markdown",
   "metadata": {},
   "source": [
    "## Load Files and Vectorize "
   ]
  },
  {
   "cell_type": "code",
   "execution_count": 4,
   "metadata": {},
   "outputs": [],
   "source": [
    "import os\n",
    "import numpy as np\n",
    "import pandas as pd\n",
    "import pickle\n",
    "from sklearn.feature_extraction.text import TfidfVectorizer\n",
    "from scipy.spatial.distance import cosine, cdist"
   ]
  },
  {
   "cell_type": "code",
   "execution_count": 5,
   "metadata": {},
   "outputs": [],
   "source": [
    "with open(r\"data/df_corpus2.pkl\", \"rb\") as input_file:\n",
    "    df_corpus2 = pickle.load(input_file)"
   ]
  },
  {
   "cell_type": "code",
   "execution_count": 48,
   "metadata": {},
   "outputs": [],
   "source": [
    "vec = TfidfVectorizer(stop_words='english', max_features=10)"
   ]
  },
  {
   "cell_type": "code",
   "execution_count": 49,
   "metadata": {},
   "outputs": [],
   "source": [
    "vec = vec.fit(df_corpus2['content'])"
   ]
  },
  {
   "cell_type": "code",
   "execution_count": 50,
   "metadata": {},
   "outputs": [],
   "source": [
    "#vec.vocabulary_"
   ]
  },
  {
   "cell_type": "code",
   "execution_count": 51,
   "metadata": {},
   "outputs": [],
   "source": [
    "corpus2_vectors = vec.transform(df_corpus2['content']).toarray()"
   ]
  },
  {
   "cell_type": "code",
   "execution_count": 52,
   "metadata": {},
   "outputs": [],
   "source": [
    "user_doc = \"A watermelon is a type of edible fruit, they are 92% water. About 6% of a watermelon is sugar, which makes it very sweet. There are many different types of watermelon. Some have a green rind on the outside and a red-pink flesh on the inside, with brown seeds. Some can have yellow flesh, and some can be seedless. The green rind on the outside is not usually eaten, though it can be used as a vegetable. It can also be stewed or pickled. Most watermelons are oblong or spherical. In Japan, watermelons are grown in different shapes. Many people like to eat watermelon in the summer because the fruit is cool and refreshing. Watermelons are a great source of vitamin A, vitamin C, vitamin B6 and vitamin B1. They also contain potassium, magnesium, carotenoid antioxidant, and lycopene. Watermelons are fruits that come from a vine-like plant.\""
   ]
  },
  {
   "cell_type": "code",
   "execution_count": 53,
   "metadata": {},
   "outputs": [],
   "source": [
    "user_doc_vector = vec.transform([user_doc]).toarray()"
   ]
  },
  {
   "cell_type": "code",
   "execution_count": 54,
   "metadata": {},
   "outputs": [
    {
     "data": {
      "text/plain": [
       "array([[0.        , 0.        , 0.        , 0.        , 0.        ,\n",
       "        0.72840959, 0.        , 0.        , 0.68514193, 0.        ]])"
      ]
     },
     "execution_count": 54,
     "metadata": {},
     "output_type": "execute_result"
    }
   ],
   "source": [
    "user_doc_vector"
   ]
  },
  {
   "cell_type": "code",
   "execution_count": 55,
   "metadata": {},
   "outputs": [],
   "source": [
    "distances = cdist(user_doc_vector,\n",
    "                  corpus2_vectors,\n",
    "                  metric='cosine')[0]"
   ]
  },
  {
   "cell_type": "code",
   "execution_count": 56,
   "metadata": {},
   "outputs": [
    {
     "data": {
      "text/plain": [
       "(14216,)"
      ]
     },
     "execution_count": 56,
     "metadata": {},
     "output_type": "execute_result"
    }
   ],
   "source": [
    "distances.shape"
   ]
  },
  {
   "cell_type": "code",
   "execution_count": 57,
   "metadata": {},
   "outputs": [],
   "source": [
    "ranking = np.argsort(distances)"
   ]
  },
  {
   "cell_type": "code",
   "execution_count": 58,
   "metadata": {},
   "outputs": [
    {
     "data": {
      "text/plain": [
       "(14216,)"
      ]
     },
     "execution_count": 58,
     "metadata": {},
     "output_type": "execute_result"
    }
   ],
   "source": [
    "ranking.shape"
   ]
  },
  {
   "cell_type": "code",
   "execution_count": 59,
   "metadata": {},
   "outputs": [
    {
     "data": {
      "text/plain": [
       "array([ 3879,  7216,  8986,  1943, 11400, 10636,  9629,  8609,  5384,\n",
       "        1488])"
      ]
     },
     "execution_count": 59,
     "metadata": {},
     "output_type": "execute_result"
    }
   ],
   "source": [
    "top_ten = ranking[:10]\n",
    "top_ten"
   ]
  },
  {
   "cell_type": "code",
   "execution_count": 60,
   "metadata": {},
   "outputs": [
    {
     "data": {
      "text/plain": [
       "array([0., 0., 0., 0., 0., 0., 0., 0., 0., 0.])"
      ]
     },
     "execution_count": 60,
     "metadata": {},
     "output_type": "execute_result"
    }
   ],
   "source": [
    "distances[top_ten]"
   ]
  },
  {
   "cell_type": "code",
   "execution_count": 61,
   "metadata": {},
   "outputs": [
    {
     "data": {
      "text/plain": [
       "3879     With a climate as varied and extreme as India,...\n",
       "7216     International finance (also referred to as int...\n",
       "8986     A pakudos is a visual motif used by the Mangya...\n",
       "1943     Construct (psychology), also hypothetical cons...\n",
       "11400    The epicanthic fold is the skin fold of the up...\n",
       "10636    Chuan (Chinese: 串, Dungan: Чўан, pinyin: chuàn...\n",
       "9629     Global Village Tech Park is a software technol...\n",
       "8609     Tejuíno is a cold beverage made from fermented...\n",
       "5384     Gens was used by Lewis H. Morgan (in Ancient S...\n",
       "1488     \"Natural Science\" is a song by the Canadian ro...\n",
       "10581    Argument to moderation (Latin: argumentum ad t...\n",
       "8306     Burgess may refer to:\\n\\nPeople\\nBurgess (name...\n",
       "11978    Trust for Nature is a not-for-profit organisat...\n",
       "7376     Kochi is a city in the Indian state of Kerala....\n",
       "7953     A self-directed Individual Retirement Account ...\n",
       "6197     Vets Prevail, is a veteran-created online ment...\n",
       "13135    Humans of some cultures eat octopus. The arms ...\n",
       "3660     Anam Cara is a phrase that refers to the Celti...\n",
       "12933    Geographical features are naturally-created fe...\n",
       "10337    The Johari window is a technique that helps pe...\n",
       "13278    Chinta (Sanskrit: चिन्ता) in Hindu philosophy ...\n",
       "7205     Quantitative analysis of behavior is the appli...\n",
       "3499     Thai tea is a Thai drink made from tea, milk a...\n",
       "4408     Paya is a traditional food from the Indian Sub...\n",
       "2417     Common goods are defined in economics as goods...\n",
       "2111     Ikigai (生き甲斐, pronounced [ikiɡai]) is a Japane...\n",
       "10943    A substitute good is a good that can be used i...\n",
       "5471     The 2009 Collier Township shooting, also refer...\n",
       "12954    A showreel (also known as a demo reel or sizzl...\n",
       "3148     A somatic symptom disorder, formerly known as ...\n",
       "                               ...                        \n",
       "8910     Handia  (Also handi or hadiya) is a rice beer ...\n",
       "8919     The Department of Housing, Planning and Local ...\n",
       "8920     The Nature of the Beast is the ninth studio al...\n",
       "8924     This is a list of living actors from the Golde...\n",
       "8926     Drevlyans Nature Reserve (Ukrainian: Древлянсь...\n",
       "8927     Nature Chemistry is a monthly peer-reviewed sc...\n",
       "8935     College of Science and Technology - University...\n",
       "8792     The Australian Journal of Anthropology is a pe...\n",
       "8559     Addictive Behaviors is a monthly peer-reviewed...\n",
       "8747     The Ministry of Finance of Yugoslavia refers t...\n",
       "8744     Prestegårdsskogen Nature Reserve (Norwegian: P...\n",
       "8594     Movies With Manings was a Canadian movie telev...\n",
       "8596     Bruce Kent Bateman is an American movie produc...\n",
       "8615     This is a list of colleges and universities in...\n",
       "8616     Cordial may refer to:\\nFood and drink:\\n\\nLiqu...\n",
       "8632     Lauren Christine German (born November 29, 197...\n",
       "8643     Yemen Chronicle: An Anthropology of War and Me...\n",
       "8644     Ketan Mulmuley is a professor in the Departmen...\n",
       "8654     Pharmacology Biochemistry and Behavior is a mo...\n",
       "8670     Ozark Actors Theatre is an Equity theater comp...\n",
       "8674     The Ministry of Environment (Portuguese: Minis...\n",
       "8677     For the most populous cities in North America,...\n",
       "8680     Attack of the Movies 3D is a rail shooter for ...\n",
       "8682     Zeekoevlei is a major freshwater lake on the C...\n",
       "8701     Turner Classic Movies, a movie-oriented networ...\n",
       "8711     Beshtash Nature Park is a nature park in Talas...\n",
       "8720     National nature reserves in Suffolk, England a...\n",
       "8733     Eli Global is a multinational corporation base...\n",
       "8745     Rain City may refer to the following cities:\\n...\n",
       "14215    Doubles is a common street food of Trinidadian...\n",
       "Name: content, Length: 14216, dtype: object"
      ]
     },
     "execution_count": 61,
     "metadata": {},
     "output_type": "execute_result"
    }
   ],
   "source": [
    "df_corpus2.loc[ranking, 'content']"
   ]
  },
  {
   "cell_type": "markdown",
   "metadata": {},
   "source": [
    "## Second Model "
   ]
  },
  {
   "cell_type": "code",
   "execution_count": 10,
   "metadata": {},
   "outputs": [],
   "source": [
    "import textstat\n",
    "import operator\n",
    "import wikipedia\n",
    "import wikipediaapi\n",
    "\n",
    "def give_harder_level(text):\n",
    "    \"\"\"\n",
    "    Takes in text and returns a harder level read\n",
    "    \"\"\"\n",
    "    ##find all the articles that are easier than this article \n",
    "    all_harder_text = []\n",
    "    input_score = textstat.flesch_kincaid_grade(text)\n",
    "    for i in range(len(df_corpus2['score'])):\n",
    "        if df_corpus2['score'][i] > input_score:\n",
    "            all_harder_text.append(df_corpus2['content'][i])\n",
    "    \n",
    "    vec = TfidfVectorizer(stop_words='english', max_features=2000)\n",
    "    vec = vec.fit(all_harder_text)\n",
    "    corpus2_vectors = vec.transform(all_harder_text).toarray()\n",
    "    user_doc = text\n",
    "    user_doc_vector = vec.transform([user_doc]).toarray() \n",
    "    user_doc_vector_short = np.argsort(user_doc_vector)[-25:]\n",
    "    distances = cdist(user_doc_vector_short,\n",
    "                  corpus2_vectors[-25:],\n",
    "                  metric='cosine')[0]\n",
    "    ranking = np.argsort(distances)\n",
    "    top = ranking[0]\n",
    "    best_match = df_corpus2['content'][top]\n",
    "        \n",
    "    print(distances[top])\n",
    "    return (best_match)"
   ]
  },
  {
   "cell_type": "code",
   "execution_count": 11,
   "metadata": {},
   "outputs": [],
   "source": [
    "sample = \"On one level, this is a business dispute that highlights tensions in the music industry (both intractably ancient and very current). When Swift signed her six-album deal that furnished Big Machine with rights to her masters, she was partaking in a classic arrangement for new artists: handing over future control of music in exchange for start-up promotional, recording, and distribution help. As she’s risen to megastardom, she’s chafed at that arrangement the same way that many successful musicians have chafed at not having ownership of their work. Prince, who famously protested Warner Bros. Records in 1993 by writing the word slave on his cheek, struck a deal for his own back catalog at great cost in 2014. Paul McCartney preached for years about the importance of artists owning music—and one person he preached to, Michael Jackson, ended up buying the rights to the Beatles’ catalog from under him. West himself recently filed suit to gain control of his own masters.\""
   ]
  },
  {
   "cell_type": "code",
   "execution_count": 12,
   "metadata": {},
   "outputs": [
    {
     "name": "stdout",
     "output_type": "stream",
     "text": [
      "0.6822204939076502\n"
     ]
    },
    {
     "data": {
      "text/plain": [
       "'Value or values may refer to:\\n\\nValue (philosophy),\\nValue (ethics) it may be described as treating actions themselves as abstract objects, putting value to them\\nValues (Western philosophy) expands the notion of value beyond that of ethics, but limited to Western sources\\nSocial imaginary is the set of values, institutions, laws, and symbols common to a particular social group\\nValue (economics), a measure of the benefit that may be gained from goods or service\\nTheory of value (economics), the study of the concept of economic value\\nValue (marketing), the difference between a customer\\'s evaluation of benefits and costs\\nValue investing, an investment paradigm\\n\\nOther uses\\nValue, also known as lightness or tone, a representation of variation in the perception of a color or color space\\'s brightness\\nValue (computer science), an expression that implies no (further) (mathematical) processing; a \"normal form\"\\nValue (mathematics), a property such as number assigned to or calculated for a variable, constant or expression\\nValue (semiotics), the significance, purpose and/or meaning of a symbol as determined or affected by other symbols\\nNote value, the relative duration of a musical note\\nValues (political party), a defunct New Zealand environmentalist political party\\n\\nSee also\\nInstrumental and intrinsic value\\nValue theory, a range of approaches to understanding how, why, and to what degree people value things'"
      ]
     },
     "execution_count": 12,
     "metadata": {},
     "output_type": "execute_result"
    }
   ],
   "source": [
    "give_harder_level(sample)"
   ]
  },
  {
   "cell_type": "code",
   "execution_count": null,
   "metadata": {},
   "outputs": [],
   "source": []
  }
 ],
 "metadata": {
  "kernelspec": {
   "display_name": "Python 3",
   "language": "python",
   "name": "python3"
  },
  "language_info": {
   "codemirror_mode": {
    "name": "ipython",
    "version": 3
   },
   "file_extension": ".py",
   "mimetype": "text/x-python",
   "name": "python",
   "nbconvert_exporter": "python",
   "pygments_lexer": "ipython3",
   "version": "3.6.8"
  }
 },
 "nbformat": 4,
 "nbformat_minor": 2
}
