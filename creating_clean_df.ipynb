{
 "cells": [
  {
   "cell_type": "markdown",
   "metadata": {},
   "source": [
    "## Clean_df creation"
   ]
  },
  {
   "cell_type": "code",
   "execution_count": 1,
   "metadata": {},
   "outputs": [],
   "source": [
    "import pickle\n",
    "import os\n",
    "import requests\n",
    "from flask import Flask, request, render_template, jsonify\n",
    "\n",
    "import numpy as np\n",
    "import pandas as pd\n",
    "import textstat\n",
    "from sklearn.feature_extraction.text import TfidfVectorizer\n",
    "from scipy.spatial.distance import cosine, cdist\n",
    "\n",
    "import gensim\n",
    "import operator\n",
    "from operator import itemgetter"
   ]
  },
  {
   "cell_type": "code",
   "execution_count": 2,
   "metadata": {},
   "outputs": [],
   "source": [
    "import pymongo\n",
    "from pymongo import MongoClient\n",
    "\n",
    "mc = pymongo.MongoClient()\n",
    "db = mc['wikicache']\n",
    "articles = db['articles']"
   ]
  },
  {
   "cell_type": "code",
   "execution_count": 3,
   "metadata": {},
   "outputs": [],
   "source": [
    "data = list(articles.find())\n",
    "clean_df = pd.DataFrame(data)\n"
   ]
  },
  {
   "cell_type": "code",
   "execution_count": 4,
   "metadata": {
    "scrolled": true
   },
   "outputs": [
    {
     "data": {
      "text/html": [
       "<div>\n",
       "<style scoped>\n",
       "    .dataframe tbody tr th:only-of-type {\n",
       "        vertical-align: middle;\n",
       "    }\n",
       "\n",
       "    .dataframe tbody tr th {\n",
       "        vertical-align: top;\n",
       "    }\n",
       "\n",
       "    .dataframe thead th {\n",
       "        text-align: right;\n",
       "    }\n",
       "</style>\n",
       "<table border=\"1\" class=\"dataframe\">\n",
       "  <thead>\n",
       "    <tr style=\"text-align: right;\">\n",
       "      <th></th>\n",
       "      <th>_id</th>\n",
       "      <th>summary</th>\n",
       "      <th>text</th>\n",
       "      <th>title</th>\n",
       "      <th>url</th>\n",
       "    </tr>\n",
       "  </thead>\n",
       "  <tbody>\n",
       "    <tr>\n",
       "      <th>0</th>\n",
       "      <td>5d1fc2f4258b4b335c5b2093</td>\n",
       "      <td>Avans University of Applied Sciences (Dutch: A...</td>\n",
       "      <td>Avans University of Applied Sciences (Dutch: A...</td>\n",
       "      <td>Avans University of Applied Sciences</td>\n",
       "      <td>https://en.wikipedia.org/wiki/Avans_University...</td>\n",
       "    </tr>\n",
       "    <tr>\n",
       "      <th>1</th>\n",
       "      <td>5d1fc2f5258b4b335c5b2094</td>\n",
       "      <td>Guy de Lussigny (30 August 1929 in Cambrai, no...</td>\n",
       "      <td>Guy de Lussigny (30 August 1929 in Cambrai, no...</td>\n",
       "      <td>Guy de Lussigny</td>\n",
       "      <td>https://en.wikipedia.org/wiki/Guy_de_Lussigny</td>\n",
       "    </tr>\n",
       "    <tr>\n",
       "      <th>2</th>\n",
       "      <td>5d1fc2f6258b4b335c5b2095</td>\n",
       "      <td>In literature, a trope is a common plot conven...</td>\n",
       "      <td>In literature, a trope is a common plot conven...</td>\n",
       "      <td>Trope (literature)</td>\n",
       "      <td>https://en.wikipedia.org/wiki/Trope_(literature)</td>\n",
       "    </tr>\n",
       "    <tr>\n",
       "      <th>3</th>\n",
       "      <td>5d1fc2f6258b4b335c5b2096</td>\n",
       "      <td>The Global Television Network (more commonly c...</td>\n",
       "      <td>The Global Television Network (more commonly c...</td>\n",
       "      <td>Global Television Network</td>\n",
       "      <td>https://en.wikipedia.org/wiki/Global_Televisio...</td>\n",
       "    </tr>\n",
       "    <tr>\n",
       "      <th>4</th>\n",
       "      <td>5d1fc2f7258b4b335c5b2097</td>\n",
       "      <td>Nickelodeon Guts (stylized as Nickelodeon GUTS...</td>\n",
       "      <td>Nickelodeon Guts (stylized as Nickelodeon GUTS...</td>\n",
       "      <td>Nickelodeon Guts</td>\n",
       "      <td>https://en.wikipedia.org/wiki/Nickelodeon_Guts</td>\n",
       "    </tr>\n",
       "  </tbody>\n",
       "</table>\n",
       "</div>"
      ],
      "text/plain": [
       "                        _id  \\\n",
       "0  5d1fc2f4258b4b335c5b2093   \n",
       "1  5d1fc2f5258b4b335c5b2094   \n",
       "2  5d1fc2f6258b4b335c5b2095   \n",
       "3  5d1fc2f6258b4b335c5b2096   \n",
       "4  5d1fc2f7258b4b335c5b2097   \n",
       "\n",
       "                                             summary  \\\n",
       "0  Avans University of Applied Sciences (Dutch: A...   \n",
       "1  Guy de Lussigny (30 August 1929 in Cambrai, no...   \n",
       "2  In literature, a trope is a common plot conven...   \n",
       "3  The Global Television Network (more commonly c...   \n",
       "4  Nickelodeon Guts (stylized as Nickelodeon GUTS...   \n",
       "\n",
       "                                                text  \\\n",
       "0  Avans University of Applied Sciences (Dutch: A...   \n",
       "1  Guy de Lussigny (30 August 1929 in Cambrai, no...   \n",
       "2  In literature, a trope is a common plot conven...   \n",
       "3  The Global Television Network (more commonly c...   \n",
       "4  Nickelodeon Guts (stylized as Nickelodeon GUTS...   \n",
       "\n",
       "                                  title  \\\n",
       "0  Avans University of Applied Sciences   \n",
       "1                       Guy de Lussigny   \n",
       "2                    Trope (literature)   \n",
       "3             Global Television Network   \n",
       "4                      Nickelodeon Guts   \n",
       "\n",
       "                                                 url  \n",
       "0  https://en.wikipedia.org/wiki/Avans_University...  \n",
       "1      https://en.wikipedia.org/wiki/Guy_de_Lussigny  \n",
       "2   https://en.wikipedia.org/wiki/Trope_(literature)  \n",
       "3  https://en.wikipedia.org/wiki/Global_Televisio...  \n",
       "4     https://en.wikipedia.org/wiki/Nickelodeon_Guts  "
      ]
     },
     "execution_count": 4,
     "metadata": {},
     "output_type": "execute_result"
    }
   ],
   "source": [
    "clean_df.head()"
   ]
  },
  {
   "cell_type": "code",
   "execution_count": 5,
   "metadata": {},
   "outputs": [
    {
     "data": {
      "text/plain": [
       "11978"
      ]
     },
     "execution_count": 5,
     "metadata": {},
     "output_type": "execute_result"
    }
   ],
   "source": [
    "len(clean_df['text'])"
   ]
  },
  {
   "cell_type": "code",
   "execution_count": 6,
   "metadata": {},
   "outputs": [],
   "source": [
    "n_features = 2000\n",
    "vectorizer = TfidfVectorizer(max_features=n_features, stop_words='english')\n"
   ]
  },
  {
   "cell_type": "code",
   "execution_count": 7,
   "metadata": {},
   "outputs": [
    {
     "data": {
      "text/plain": [
       "TfidfVectorizer(analyzer='word', binary=False, decode_error='strict',\n",
       "                dtype=<class 'numpy.float64'>, encoding='utf-8',\n",
       "                input='content', lowercase=True, max_df=1.0, max_features=2000,\n",
       "                min_df=1, ngram_range=(1, 1), norm='l2', preprocessor=None,\n",
       "                smooth_idf=True, stop_words='english', strip_accents=None,\n",
       "                sublinear_tf=False, token_pattern='(?u)\\\\b\\\\w\\\\w+\\\\b',\n",
       "                tokenizer=None, use_idf=True, vocabulary=None)"
      ]
     },
     "execution_count": 7,
     "metadata": {},
     "output_type": "execute_result"
    }
   ],
   "source": [
    "vectorizer.fit(clean_df['text'])"
   ]
  },
  {
   "cell_type": "code",
   "execution_count": 11,
   "metadata": {},
   "outputs": [],
   "source": [
    "with open('data/vectorizer.pkl', 'wb') as f:\n",
    "    pickle.dump(vectorizer, f)"
   ]
  },
  {
   "cell_type": "code",
   "execution_count": 8,
   "metadata": {},
   "outputs": [
    {
     "data": {
      "text/plain": [
       "2000"
      ]
     },
     "execution_count": 8,
     "metadata": {},
     "output_type": "execute_result"
    }
   ],
   "source": [
    "len(vectorizer.vocabulary_)"
   ]
  },
  {
   "cell_type": "code",
   "execution_count": 9,
   "metadata": {},
   "outputs": [],
   "source": [
    "corpus_vectors = vectorizer.transform(clean_df['text']).toarray()"
   ]
  },
  {
   "cell_type": "code",
   "execution_count": 10,
   "metadata": {},
   "outputs": [],
   "source": [
    "with open('data/corpus_vectors.pkl', 'wb') as f:\n",
    "     pickle.dump(corpus_vectors, f)"
   ]
  },
  {
   "cell_type": "code",
   "execution_count": 33,
   "metadata": {},
   "outputs": [],
   "source": [
    "clean_text = clean_df['text'].tolist()"
   ]
  },
  {
   "cell_type": "code",
   "execution_count": 38,
   "metadata": {},
   "outputs": [
    {
     "data": {
      "text/plain": [
       "11978"
      ]
     },
     "execution_count": 38,
     "metadata": {},
     "output_type": "execute_result"
    }
   ],
   "source": [
    "len(clean_text)"
   ]
  },
  {
   "cell_type": "code",
   "execution_count": 40,
   "metadata": {},
   "outputs": [],
   "source": [
    "complexity = [textstat.flesch_kincaid_grade(doc) for doc in clean_text]"
   ]
  },
  {
   "cell_type": "code",
   "execution_count": 42,
   "metadata": {},
   "outputs": [],
   "source": [
    "clean_df['score'] = pd.Series(complexity)"
   ]
  },
  {
   "cell_type": "code",
   "execution_count": 43,
   "metadata": {},
   "outputs": [
    {
     "data": {
      "text/html": [
       "<div>\n",
       "<style scoped>\n",
       "    .dataframe tbody tr th:only-of-type {\n",
       "        vertical-align: middle;\n",
       "    }\n",
       "\n",
       "    .dataframe tbody tr th {\n",
       "        vertical-align: top;\n",
       "    }\n",
       "\n",
       "    .dataframe thead th {\n",
       "        text-align: right;\n",
       "    }\n",
       "</style>\n",
       "<table border=\"1\" class=\"dataframe\">\n",
       "  <thead>\n",
       "    <tr style=\"text-align: right;\">\n",
       "      <th></th>\n",
       "      <th>_id</th>\n",
       "      <th>summary</th>\n",
       "      <th>text</th>\n",
       "      <th>title</th>\n",
       "      <th>url</th>\n",
       "      <th>score</th>\n",
       "    </tr>\n",
       "  </thead>\n",
       "  <tbody>\n",
       "    <tr>\n",
       "      <th>0</th>\n",
       "      <td>5d1fc2f4258b4b335c5b2093</td>\n",
       "      <td>Avans University of Applied Sciences (Dutch: A...</td>\n",
       "      <td>Avans University of Applied Sciences (Dutch: A...</td>\n",
       "      <td>Avans University of Applied Sciences</td>\n",
       "      <td>https://en.wikipedia.org/wiki/Avans_University...</td>\n",
       "      <td>18.0</td>\n",
       "    </tr>\n",
       "    <tr>\n",
       "      <th>1</th>\n",
       "      <td>5d1fc2f5258b4b335c5b2094</td>\n",
       "      <td>Guy de Lussigny (30 August 1929 in Cambrai, no...</td>\n",
       "      <td>Guy de Lussigny (30 August 1929 in Cambrai, no...</td>\n",
       "      <td>Guy de Lussigny</td>\n",
       "      <td>https://en.wikipedia.org/wiki/Guy_de_Lussigny</td>\n",
       "      <td>25.1</td>\n",
       "    </tr>\n",
       "    <tr>\n",
       "      <th>2</th>\n",
       "      <td>5d1fc2f6258b4b335c5b2095</td>\n",
       "      <td>In literature, a trope is a common plot conven...</td>\n",
       "      <td>In literature, a trope is a common plot conven...</td>\n",
       "      <td>Trope (literature)</td>\n",
       "      <td>https://en.wikipedia.org/wiki/Trope_(literature)</td>\n",
       "      <td>16.6</td>\n",
       "    </tr>\n",
       "    <tr>\n",
       "      <th>3</th>\n",
       "      <td>5d1fc2f6258b4b335c5b2096</td>\n",
       "      <td>The Global Television Network (more commonly c...</td>\n",
       "      <td>The Global Television Network (more commonly c...</td>\n",
       "      <td>Global Television Network</td>\n",
       "      <td>https://en.wikipedia.org/wiki/Global_Televisio...</td>\n",
       "      <td>15.0</td>\n",
       "    </tr>\n",
       "    <tr>\n",
       "      <th>4</th>\n",
       "      <td>5d1fc2f7258b4b335c5b2097</td>\n",
       "      <td>Nickelodeon Guts (stylized as Nickelodeon GUTS...</td>\n",
       "      <td>Nickelodeon Guts (stylized as Nickelodeon GUTS...</td>\n",
       "      <td>Nickelodeon Guts</td>\n",
       "      <td>https://en.wikipedia.org/wiki/Nickelodeon_Guts</td>\n",
       "      <td>14.4</td>\n",
       "    </tr>\n",
       "  </tbody>\n",
       "</table>\n",
       "</div>"
      ],
      "text/plain": [
       "                        _id  \\\n",
       "0  5d1fc2f4258b4b335c5b2093   \n",
       "1  5d1fc2f5258b4b335c5b2094   \n",
       "2  5d1fc2f6258b4b335c5b2095   \n",
       "3  5d1fc2f6258b4b335c5b2096   \n",
       "4  5d1fc2f7258b4b335c5b2097   \n",
       "\n",
       "                                             summary  \\\n",
       "0  Avans University of Applied Sciences (Dutch: A...   \n",
       "1  Guy de Lussigny (30 August 1929 in Cambrai, no...   \n",
       "2  In literature, a trope is a common plot conven...   \n",
       "3  The Global Television Network (more commonly c...   \n",
       "4  Nickelodeon Guts (stylized as Nickelodeon GUTS...   \n",
       "\n",
       "                                                text  \\\n",
       "0  Avans University of Applied Sciences (Dutch: A...   \n",
       "1  Guy de Lussigny (30 August 1929 in Cambrai, no...   \n",
       "2  In literature, a trope is a common plot conven...   \n",
       "3  The Global Television Network (more commonly c...   \n",
       "4  Nickelodeon Guts (stylized as Nickelodeon GUTS...   \n",
       "\n",
       "                                  title  \\\n",
       "0  Avans University of Applied Sciences   \n",
       "1                       Guy de Lussigny   \n",
       "2                    Trope (literature)   \n",
       "3             Global Television Network   \n",
       "4                      Nickelodeon Guts   \n",
       "\n",
       "                                                 url  score  \n",
       "0  https://en.wikipedia.org/wiki/Avans_University...   18.0  \n",
       "1      https://en.wikipedia.org/wiki/Guy_de_Lussigny   25.1  \n",
       "2   https://en.wikipedia.org/wiki/Trope_(literature)   16.6  \n",
       "3  https://en.wikipedia.org/wiki/Global_Televisio...   15.0  \n",
       "4     https://en.wikipedia.org/wiki/Nickelodeon_Guts   14.4  "
      ]
     },
     "execution_count": 43,
     "metadata": {},
     "output_type": "execute_result"
    }
   ],
   "source": [
    "clean_df.head()"
   ]
  },
  {
   "cell_type": "code",
   "execution_count": 44,
   "metadata": {},
   "outputs": [],
   "source": [
    "# with open('data/clean_df.pkl', 'wb') as f:\n",
    "#     pickle.dump(clean_df, f)"
   ]
  },
  {
   "cell_type": "code",
   "execution_count": null,
   "metadata": {},
   "outputs": [],
   "source": []
  }
 ],
 "metadata": {
  "kernelspec": {
   "display_name": "Python 3",
   "language": "python",
   "name": "python3"
  },
  "language_info": {
   "codemirror_mode": {
    "name": "ipython",
    "version": 3
   },
   "file_extension": ".py",
   "mimetype": "text/x-python",
   "name": "python",
   "nbconvert_exporter": "python",
   "pygments_lexer": "ipython3",
   "version": "3.6.8"
  }
 },
 "nbformat": 4,
 "nbformat_minor": 2
}
